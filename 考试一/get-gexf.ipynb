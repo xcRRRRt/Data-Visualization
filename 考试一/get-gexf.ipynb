{
 "cells": [
  {
   "cell_type": "code",
   "execution_count": 6,
   "metadata": {},
   "outputs": [],
   "source": [
    "import jieba\n",
    "import jieba.posseg as pseg\n",
    "import re\n",
    "import networkx as nx\n",
    "import time"
   ]
  },
  {
   "cell_type": "code",
   "execution_count": 7,
   "metadata": {},
   "outputs": [],
   "source": [
    "start_time = time.time()"
   ]
  },
  {
   "cell_type": "markdown",
   "metadata": {},
   "source": [
    "## 读取自定义词典"
   ]
  },
  {
   "cell_type": "code",
   "execution_count": 8,
   "metadata": {},
   "outputs": [],
   "source": [
    "jieba.load_userdict(\"names.txt\")"
   ]
  },
  {
   "cell_type": "markdown",
   "metadata": {},
   "source": [
    "## 获取词频最高的词，和每个段落出现的词"
   ]
  },
  {
   "cell_type": "code",
   "execution_count": 9,
   "metadata": {},
   "outputs": [],
   "source": [
    "word_class = [\"nr\", \"nz\", \"ns\"]"
   ]
  },
  {
   "cell_type": "code",
   "execution_count": 10,
   "metadata": {},
   "outputs": [
    {
     "name": "stdout",
     "output_type": "stream",
     "text": [
      "['郭靖', '黄蓉', '欧阳锋', '洪七公', '黄药师', '武功', '周伯通', '丘处机', '欧阳克', '梅超风', '柯镇恶', '裘千仞', '杨康', '铁木真', '成吉思汗', '完颜洪烈', '朱聪', '穆念慈', '完颜康', '蒙古', '陆冠英', '彭连虎', '拖雷', '杨铁心', '梁子翁', '江南', '王处一', '桃花岛', '靖哥哥', '包惜弱', '华筝', '黄蓉笑', '傻姑', '韩小莹', '韩宝驹', '丐帮', '老顽童', '侯通海', '马钰', '沙通天', '郭靖心', '明白', '黄老邪', '鲁有脚', '程瑶迦', '哲别', '尹志平', '全金发', '师哥', '陆庄主']\n"
     ]
    }
   ],
   "source": [
    "words_dict = {} # 词频统计 {词：词频}\n",
    "words_lines = []    # 每个段落出现的词 [[词1，词2，...], [...], [...]]\n",
    "maxn = 50\n",
    "\n",
    "with open(\"射雕英雄传.txt\", \"r\") as file:\n",
    "    # 获取词频最高的角色姓名\n",
    "    for line in file:   \n",
    "        text = re.sub(r\"[^\\u4e00-\\u9fa5]\", \"\", line)    # 去除非中文字符\n",
    "        words = pseg.cut(text.strip())\n",
    "        for word, flag in words:\n",
    "            if len(word) > 1 and flag in word_class:    # 长度大于1且为人名、地名、机构名\n",
    "                # print(word)\n",
    "                words_dict[word] = words_dict.get(word, 0) + 1\n",
    "    \n",
    "    # 按照词频排序\n",
    "    words_dict = dict(sorted(words_dict.items(), key=lambda x:x[1], reverse=True))\n",
    "    top_words = list(words_dict.keys())[:maxn] # 取50个词\n",
    "    print(top_words)\n",
    "\n",
    "    # 获取每个段落里出现的词\n",
    "    file.seek(0)    # 文件指针回到开头\n",
    "    for line in file:   # 遍历每一段\n",
    "        words_line = [] # 每一段出现的词\n",
    "        text = re.sub(r\"[^\\u4e00-\\u9fa5]\", \"\", line)    \n",
    "        words = pseg.cut(text.strip())\n",
    "        for word, flag in words:\n",
    "            if len(word) > 1 and word in top_words: \n",
    "                words_line.append(word)\n",
    "        if len(words_line) == 0:\n",
    "            continue\n",
    "        words_line = list(set(words_line))\n",
    "        # print(words_line)\n",
    "        words_lines.append(words_line)  \n"
   ]
  },
  {
   "cell_type": "code",
   "execution_count": 11,
   "metadata": {},
   "outputs": [
    {
     "data": {
      "text/plain": [
       "['郭靖',\n",
       " '黄蓉',\n",
       " '欧阳锋',\n",
       " '洪七公',\n",
       " '黄药师',\n",
       " '武功',\n",
       " '周伯通',\n",
       " '丘处机',\n",
       " '欧阳克',\n",
       " '梅超风',\n",
       " '柯镇恶',\n",
       " '裘千仞',\n",
       " '杨康',\n",
       " '铁木真',\n",
       " '成吉思汗',\n",
       " '完颜洪烈',\n",
       " '朱聪',\n",
       " '穆念慈',\n",
       " '完颜康',\n",
       " '蒙古',\n",
       " '陆冠英',\n",
       " '彭连虎',\n",
       " '拖雷',\n",
       " '杨铁心',\n",
       " '梁子翁',\n",
       " '江南',\n",
       " '王处一',\n",
       " '桃花岛',\n",
       " '靖哥哥',\n",
       " '包惜弱',\n",
       " '华筝',\n",
       " '黄蓉笑',\n",
       " '傻姑',\n",
       " '韩小莹',\n",
       " '韩宝驹',\n",
       " '丐帮',\n",
       " '老顽童',\n",
       " '侯通海',\n",
       " '马钰',\n",
       " '沙通天',\n",
       " '郭靖心',\n",
       " '明白',\n",
       " '黄老邪',\n",
       " '鲁有脚',\n",
       " '程瑶迦',\n",
       " '哲别',\n",
       " '尹志平',\n",
       " '全金发',\n",
       " '师哥',\n",
       " '陆庄主']"
      ]
     },
     "execution_count": 11,
     "metadata": {},
     "output_type": "execute_result"
    }
   ],
   "source": [
    "top_words"
   ]
  },
  {
   "cell_type": "markdown",
   "metadata": {},
   "source": [
    "## 获取共现矩阵"
   ]
  },
  {
   "cell_type": "code",
   "execution_count": 12,
   "metadata": {},
   "outputs": [],
   "source": [
    "def get_cocurrence_matrix(words_lines, maxn, top_words):\n",
    "    \"\"\"\n",
    "    获取共现矩阵\n",
    "    :params words_lines: 每个段落出现的词 [[词1，词2，...], [...], [...]]\n",
    "    :params maxn: 词频最高的词的数量\n",
    "    :params top_words: 词频最高的词\n",
    "    :return: 共现矩阵   matrix[word_a][word_b] = 词a和词b共现的次数\n",
    "    \"\"\"\n",
    "    co_matrix = np.zeros((maxn, maxn))\n",
    "    for words_line in words_lines:\n",
    "        for i in range(len(words_line)-1):\n",
    "            for j in range(i+1,len(words_line)):\n",
    "                word_a = words_line[i]\n",
    "                word_b = words_line[j]\n",
    "                row_index = top_words.index(word_a)\n",
    "                colunm_index = top_words.index(word_b)\n",
    "                # print(row_index,colunm_index)\n",
    "                co_matrix[row_index, colunm_index] += 1\n",
    "    return co_matrix"
   ]
  },
  {
   "cell_type": "code",
   "execution_count": 13,
   "metadata": {},
   "outputs": [],
   "source": [
    "co_matrix = get_cocurrence_matrix(words_lines=words_lines, maxn=maxn, top_words=top_words)"
   ]
  },
  {
   "cell_type": "markdown",
   "metadata": {},
   "source": [
    "## 获取无向图"
   ]
  },
  {
   "cell_type": "code",
   "execution_count": 14,
   "metadata": {},
   "outputs": [],
   "source": [
    "def get_graph(co_matrix,top_words):\n",
    "    \"\"\"\n",
    "    获取图\n",
    "    :params co_matrix: 共现矩阵\n",
    "    :params top_words: 词频最高的词\n",
    "    :return: 图\n",
    "    \"\"\"\n",
    "    graph = nx.Graph()\n",
    "    graph.add_nodes_from(top_words)\n",
    "\n",
    "    for i in range(len(top_words)-1):\n",
    "        for j in range(i+1, len(top_words)):\n",
    "            weight = co_matrix[i, j] + co_matrix[j, i]\n",
    "            if weight > 0: \n",
    "                graph.add_edge(top_words[i], top_words[j], weight=weight) \n",
    "\n",
    "    return graph          "
   ]
  },
  {
   "cell_type": "code",
   "execution_count": 15,
   "metadata": {},
   "outputs": [],
   "source": [
    "graph = get_graph(co_matrix, top_words)"
   ]
  },
  {
   "cell_type": "markdown",
   "metadata": {},
   "source": [
    "## 保存为gexf文件"
   ]
  },
  {
   "cell_type": "code",
   "execution_count": 16,
   "metadata": {},
   "outputs": [],
   "source": [
    "nx.write_gexf(graph, \"射雕英雄传.gexf\")"
   ]
  },
  {
   "cell_type": "code",
   "execution_count": 17,
   "metadata": {},
   "outputs": [
    {
     "name": "stdout",
     "output_type": "stream",
     "text": [
      "运行时间：85.73619675636292s"
     ]
    }
   ],
   "source": [
    "print(\"运行时间：\", end=\"\")\n",
    "print(time.time() - start_time, end=\"s\")"
   ]
  },
  {
   "cell_type": "code",
   "execution_count": null,
   "metadata": {},
   "outputs": [],
   "source": []
  }
 ],
 "metadata": {
  "kernelspec": {
   "display_name": "py39",
   "language": "python",
   "name": "python3"
  },
  "language_info": {
   "codemirror_mode": {
    "name": "ipython",
    "version": 3
   },
   "file_extension": ".py",
   "mimetype": "text/x-python",
   "name": "python",
   "nbconvert_exporter": "python",
   "pygments_lexer": "ipython3",
   "version": "3.9.16"
  },
  "orig_nbformat": 4
 },
 "nbformat": 4,
 "nbformat_minor": 2
}
