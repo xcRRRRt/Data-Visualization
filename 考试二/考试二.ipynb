{
 "cells": [
  {
   "cell_type": "code",
   "execution_count": 220,
   "metadata": {},
   "outputs": [],
   "source": [
    "import pandas as pd"
   ]
  },
  {
   "cell_type": "code",
   "execution_count": 221,
   "metadata": {},
   "outputs": [],
   "source": [
    "students_score_1 = pd.read_csv(\"students_score_1.csv\", encoding='gbk')\n",
    "students_score_2 = pd.read_csv(\"students_score_2.csv\", encoding='gbk')"
   ]
  },
  {
   "cell_type": "code",
   "execution_count": 222,
   "metadata": {},
   "outputs": [
    {
     "name": "stdout",
     "output_type": "stream",
     "text": [
      "<class 'pandas.core.frame.DataFrame'>\n",
      "RangeIndex: 40 entries, 0 to 39\n",
      "Data columns (total 12 columns):\n",
      " #   Column  Non-Null Count  Dtype \n",
      "---  ------  --------------  ----- \n",
      " 0   姓名      40 non-null     object\n",
      " 1   性别      40 non-null     object\n",
      " 2   学号      40 non-null     int64 \n",
      " 3   文学      40 non-null     int64 \n",
      " 4   政治      40 non-null     int64 \n",
      " 5   军事学     40 non-null     int64 \n",
      " 6   管理学     40 non-null     int64 \n",
      " 7   工程学     40 non-null     int64 \n",
      " 8   哲学      40 non-null     int64 \n",
      " 9   体育      40 non-null     int64 \n",
      " 10  高等数学    40 non-null     int64 \n",
      " 11  礼仪课     40 non-null     int64 \n",
      "dtypes: int64(10), object(2)\n",
      "memory usage: 3.9+ KB\n"
     ]
    }
   ],
   "source": [
    "students_score_1.info()"
   ]
  },
  {
   "cell_type": "code",
   "execution_count": 223,
   "metadata": {},
   "outputs": [
    {
     "name": "stdout",
     "output_type": "stream",
     "text": [
      "<class 'pandas.core.frame.DataFrame'>\n",
      "RangeIndex: 40 entries, 0 to 39\n",
      "Data columns (total 11 columns):\n",
      " #   Column    Non-Null Count  Dtype  \n",
      "---  ------    --------------  -----  \n",
      " 0   姓名        40 non-null     object \n",
      " 1   性别        40 non-null     object \n",
      " 2   学号        40 non-null     int64  \n",
      " 3   大数据可视化    40 non-null     int64  \n",
      " 4   计算机组成原理   35 non-null     float64\n",
      " 5   推荐系统      40 non-null     int64  \n",
      " 6   Python编程  40 non-null     int64  \n",
      " 7   人工智能      40 non-null     int64  \n",
      " 8   机器学习导论    40 non-null     int64  \n",
      " 9   金融投资课程    35 non-null     float64\n",
      " 10  演讲与口才课程   40 non-null     int64  \n",
      "dtypes: float64(2), int64(7), object(2)\n",
      "memory usage: 3.6+ KB\n"
     ]
    }
   ],
   "source": [
    "students_score_2.info()"
   ]
  },
  {
   "cell_type": "code",
   "execution_count": 224,
   "metadata": {},
   "outputs": [
    {
     "data": {
      "text/html": [
       "<div>\n",
       "<style scoped>\n",
       "    .dataframe tbody tr th:only-of-type {\n",
       "        vertical-align: middle;\n",
       "    }\n",
       "\n",
       "    .dataframe tbody tr th {\n",
       "        vertical-align: top;\n",
       "    }\n",
       "\n",
       "    .dataframe thead th {\n",
       "        text-align: right;\n",
       "    }\n",
       "</style>\n",
       "<table border=\"1\" class=\"dataframe\">\n",
       "  <thead>\n",
       "    <tr style=\"text-align: right;\">\n",
       "      <th></th>\n",
       "      <th>姓名</th>\n",
       "      <th>性别</th>\n",
       "      <th>学号</th>\n",
       "      <th>文学</th>\n",
       "      <th>政治</th>\n",
       "      <th>军事学</th>\n",
       "      <th>管理学</th>\n",
       "      <th>工程学</th>\n",
       "      <th>哲学</th>\n",
       "      <th>体育</th>\n",
       "      <th>高等数学</th>\n",
       "      <th>礼仪课</th>\n",
       "    </tr>\n",
       "  </thead>\n",
       "  <tbody>\n",
       "    <tr>\n",
       "      <th>0</th>\n",
       "      <td>关羽</td>\n",
       "      <td>男</td>\n",
       "      <td>1031</td>\n",
       "      <td>96</td>\n",
       "      <td>98</td>\n",
       "      <td>93</td>\n",
       "      <td>80</td>\n",
       "      <td>75</td>\n",
       "      <td>76</td>\n",
       "      <td>78</td>\n",
       "      <td>81</td>\n",
       "      <td>96</td>\n",
       "    </tr>\n",
       "    <tr>\n",
       "      <th>1</th>\n",
       "      <td>刘备</td>\n",
       "      <td>男</td>\n",
       "      <td>1032</td>\n",
       "      <td>93</td>\n",
       "      <td>97</td>\n",
       "      <td>92</td>\n",
       "      <td>78</td>\n",
       "      <td>74</td>\n",
       "      <td>78</td>\n",
       "      <td>80</td>\n",
       "      <td>77</td>\n",
       "      <td>95</td>\n",
       "    </tr>\n",
       "    <tr>\n",
       "      <th>2</th>\n",
       "      <td>韩信</td>\n",
       "      <td>男</td>\n",
       "      <td>1033</td>\n",
       "      <td>89</td>\n",
       "      <td>96</td>\n",
       "      <td>97</td>\n",
       "      <td>79</td>\n",
       "      <td>76</td>\n",
       "      <td>77</td>\n",
       "      <td>84</td>\n",
       "      <td>80</td>\n",
       "      <td>93</td>\n",
       "    </tr>\n",
       "    <tr>\n",
       "      <th>3</th>\n",
       "      <td>张良</td>\n",
       "      <td>男</td>\n",
       "      <td>1034</td>\n",
       "      <td>85</td>\n",
       "      <td>75</td>\n",
       "      <td>93</td>\n",
       "      <td>80</td>\n",
       "      <td>76</td>\n",
       "      <td>75</td>\n",
       "      <td>74</td>\n",
       "      <td>82</td>\n",
       "      <td>75</td>\n",
       "    </tr>\n",
       "    <tr>\n",
       "      <th>4</th>\n",
       "      <td>刘秀</td>\n",
       "      <td>男</td>\n",
       "      <td>1035</td>\n",
       "      <td>95</td>\n",
       "      <td>97</td>\n",
       "      <td>92</td>\n",
       "      <td>82</td>\n",
       "      <td>84</td>\n",
       "      <td>79</td>\n",
       "      <td>81</td>\n",
       "      <td>92</td>\n",
       "      <td>85</td>\n",
       "    </tr>\n",
       "  </tbody>\n",
       "</table>\n",
       "</div>"
      ],
      "text/plain": [
       "   姓名 性别    学号  文学  政治  军事学  管理学  工程学  哲学  体育  高等数学  礼仪课\n",
       "0  关羽  男  1031  96  98   93   80   75  76  78    81   96\n",
       "1  刘备  男  1032  93  97   92   78   74  78  80    77   95\n",
       "2  韩信  男  1033  89  96   97   79   76  77  84    80   93\n",
       "3  张良  男  1034  85  75   93   80   76  75  74    82   75\n",
       "4  刘秀  男  1035  95  97   92   82   84  79  81    92   85"
      ]
     },
     "execution_count": 224,
     "metadata": {},
     "output_type": "execute_result"
    }
   ],
   "source": [
    "students_score_1.head()"
   ]
  },
  {
   "cell_type": "code",
   "execution_count": 225,
   "metadata": {},
   "outputs": [
    {
     "data": {
      "text/html": [
       "<div>\n",
       "<style scoped>\n",
       "    .dataframe tbody tr th:only-of-type {\n",
       "        vertical-align: middle;\n",
       "    }\n",
       "\n",
       "    .dataframe tbody tr th {\n",
       "        vertical-align: top;\n",
       "    }\n",
       "\n",
       "    .dataframe thead th {\n",
       "        text-align: right;\n",
       "    }\n",
       "</style>\n",
       "<table border=\"1\" class=\"dataframe\">\n",
       "  <thead>\n",
       "    <tr style=\"text-align: right;\">\n",
       "      <th></th>\n",
       "      <th>姓名</th>\n",
       "      <th>性别</th>\n",
       "      <th>学号</th>\n",
       "      <th>大数据可视化</th>\n",
       "      <th>计算机组成原理</th>\n",
       "      <th>推荐系统</th>\n",
       "      <th>Python编程</th>\n",
       "      <th>人工智能</th>\n",
       "      <th>机器学习导论</th>\n",
       "      <th>金融投资课程</th>\n",
       "      <th>演讲与口才课程</th>\n",
       "    </tr>\n",
       "  </thead>\n",
       "  <tbody>\n",
       "    <tr>\n",
       "      <th>0</th>\n",
       "      <td>关羽</td>\n",
       "      <td>男</td>\n",
       "      <td>1031</td>\n",
       "      <td>65</td>\n",
       "      <td>58.0</td>\n",
       "      <td>62</td>\n",
       "      <td>78</td>\n",
       "      <td>70</td>\n",
       "      <td>68</td>\n",
       "      <td>58.0</td>\n",
       "      <td>72</td>\n",
       "    </tr>\n",
       "    <tr>\n",
       "      <th>1</th>\n",
       "      <td>刘备</td>\n",
       "      <td>男</td>\n",
       "      <td>1032</td>\n",
       "      <td>70</td>\n",
       "      <td>65.0</td>\n",
       "      <td>75</td>\n",
       "      <td>80</td>\n",
       "      <td>75</td>\n",
       "      <td>78</td>\n",
       "      <td>70.0</td>\n",
       "      <td>75</td>\n",
       "    </tr>\n",
       "    <tr>\n",
       "      <th>2</th>\n",
       "      <td>韩信</td>\n",
       "      <td>男</td>\n",
       "      <td>1033</td>\n",
       "      <td>68</td>\n",
       "      <td>60.0</td>\n",
       "      <td>70</td>\n",
       "      <td>82</td>\n",
       "      <td>72</td>\n",
       "      <td>70</td>\n",
       "      <td>55.0</td>\n",
       "      <td>68</td>\n",
       "    </tr>\n",
       "    <tr>\n",
       "      <th>3</th>\n",
       "      <td>张良</td>\n",
       "      <td>男</td>\n",
       "      <td>1034</td>\n",
       "      <td>58</td>\n",
       "      <td>NaN</td>\n",
       "      <td>68</td>\n",
       "      <td>75</td>\n",
       "      <td>65</td>\n",
       "      <td>60</td>\n",
       "      <td>NaN</td>\n",
       "      <td>65</td>\n",
       "    </tr>\n",
       "    <tr>\n",
       "      <th>4</th>\n",
       "      <td>刘秀</td>\n",
       "      <td>男</td>\n",
       "      <td>1035</td>\n",
       "      <td>75</td>\n",
       "      <td>72.0</td>\n",
       "      <td>80</td>\n",
       "      <td>85</td>\n",
       "      <td>80</td>\n",
       "      <td>82</td>\n",
       "      <td>65.0</td>\n",
       "      <td>70</td>\n",
       "    </tr>\n",
       "  </tbody>\n",
       "</table>\n",
       "</div>"
      ],
      "text/plain": [
       "   姓名 性别    学号  大数据可视化  计算机组成原理  推荐系统  Python编程  人工智能  机器学习导论  金融投资课程  演讲与口才课程\n",
       "0  关羽  男  1031      65     58.0    62        78    70      68    58.0       72\n",
       "1  刘备  男  1032      70     65.0    75        80    75      78    70.0       75\n",
       "2  韩信  男  1033      68     60.0    70        82    72      70    55.0       68\n",
       "3  张良  男  1034      58      NaN    68        75    65      60     NaN       65\n",
       "4  刘秀  男  1035      75     72.0    80        85    80      82    65.0       70"
      ]
     },
     "execution_count": 225,
     "metadata": {},
     "output_type": "execute_result"
    }
   ],
   "source": [
    "students_score_2.head()"
   ]
  },
  {
   "cell_type": "markdown",
   "metadata": {},
   "source": [
    "### 将两张宽表转换为长表；"
   ]
  },
  {
   "cell_type": "code",
   "execution_count": 226,
   "metadata": {},
   "outputs": [
    {
     "data": {
      "text/html": [
       "<div>\n",
       "<style scoped>\n",
       "    .dataframe tbody tr th:only-of-type {\n",
       "        vertical-align: middle;\n",
       "    }\n",
       "\n",
       "    .dataframe tbody tr th {\n",
       "        vertical-align: top;\n",
       "    }\n",
       "\n",
       "    .dataframe thead th {\n",
       "        text-align: right;\n",
       "    }\n",
       "</style>\n",
       "<table border=\"1\" class=\"dataframe\">\n",
       "  <thead>\n",
       "    <tr style=\"text-align: right;\">\n",
       "      <th></th>\n",
       "      <th>学号</th>\n",
       "      <th>姓名</th>\n",
       "      <th>性别</th>\n",
       "      <th>科目</th>\n",
       "      <th>成绩</th>\n",
       "    </tr>\n",
       "  </thead>\n",
       "  <tbody>\n",
       "    <tr>\n",
       "      <th>0</th>\n",
       "      <td>1031</td>\n",
       "      <td>关羽</td>\n",
       "      <td>男</td>\n",
       "      <td>文学</td>\n",
       "      <td>96</td>\n",
       "    </tr>\n",
       "    <tr>\n",
       "      <th>1</th>\n",
       "      <td>1032</td>\n",
       "      <td>刘备</td>\n",
       "      <td>男</td>\n",
       "      <td>文学</td>\n",
       "      <td>93</td>\n",
       "    </tr>\n",
       "    <tr>\n",
       "      <th>2</th>\n",
       "      <td>1033</td>\n",
       "      <td>韩信</td>\n",
       "      <td>男</td>\n",
       "      <td>文学</td>\n",
       "      <td>89</td>\n",
       "    </tr>\n",
       "    <tr>\n",
       "      <th>3</th>\n",
       "      <td>1034</td>\n",
       "      <td>张良</td>\n",
       "      <td>男</td>\n",
       "      <td>文学</td>\n",
       "      <td>85</td>\n",
       "    </tr>\n",
       "    <tr>\n",
       "      <th>4</th>\n",
       "      <td>1035</td>\n",
       "      <td>刘秀</td>\n",
       "      <td>男</td>\n",
       "      <td>文学</td>\n",
       "      <td>95</td>\n",
       "    </tr>\n",
       "  </tbody>\n",
       "</table>\n",
       "</div>"
      ],
      "text/plain": [
       "     学号  姓名 性别  科目  成绩\n",
       "0  1031  关羽  男  文学  96\n",
       "1  1032  刘备  男  文学  93\n",
       "2  1033  韩信  男  文学  89\n",
       "3  1034  张良  男  文学  85\n",
       "4  1035  刘秀  男  文学  95"
      ]
     },
     "execution_count": 226,
     "metadata": {},
     "output_type": "execute_result"
    }
   ],
   "source": [
    "score_long1 = pd.melt(students_score_1, id_vars=['学号', '姓名', '性别'], value_vars=students_score_1.columns[3:]).rename(columns={'variable': '科目', 'value': '成绩'})\n",
    "score_long1.head()"
   ]
  },
  {
   "cell_type": "code",
   "execution_count": 227,
   "metadata": {},
   "outputs": [
    {
     "data": {
      "text/html": [
       "<div>\n",
       "<style scoped>\n",
       "    .dataframe tbody tr th:only-of-type {\n",
       "        vertical-align: middle;\n",
       "    }\n",
       "\n",
       "    .dataframe tbody tr th {\n",
       "        vertical-align: top;\n",
       "    }\n",
       "\n",
       "    .dataframe thead th {\n",
       "        text-align: right;\n",
       "    }\n",
       "</style>\n",
       "<table border=\"1\" class=\"dataframe\">\n",
       "  <thead>\n",
       "    <tr style=\"text-align: right;\">\n",
       "      <th></th>\n",
       "      <th>学号</th>\n",
       "      <th>姓名</th>\n",
       "      <th>性别</th>\n",
       "      <th>科目</th>\n",
       "      <th>成绩</th>\n",
       "    </tr>\n",
       "  </thead>\n",
       "  <tbody>\n",
       "    <tr>\n",
       "      <th>0</th>\n",
       "      <td>1031</td>\n",
       "      <td>关羽</td>\n",
       "      <td>男</td>\n",
       "      <td>大数据可视化</td>\n",
       "      <td>65.0</td>\n",
       "    </tr>\n",
       "    <tr>\n",
       "      <th>1</th>\n",
       "      <td>1032</td>\n",
       "      <td>刘备</td>\n",
       "      <td>男</td>\n",
       "      <td>大数据可视化</td>\n",
       "      <td>70.0</td>\n",
       "    </tr>\n",
       "    <tr>\n",
       "      <th>2</th>\n",
       "      <td>1033</td>\n",
       "      <td>韩信</td>\n",
       "      <td>男</td>\n",
       "      <td>大数据可视化</td>\n",
       "      <td>68.0</td>\n",
       "    </tr>\n",
       "    <tr>\n",
       "      <th>3</th>\n",
       "      <td>1034</td>\n",
       "      <td>张良</td>\n",
       "      <td>男</td>\n",
       "      <td>大数据可视化</td>\n",
       "      <td>58.0</td>\n",
       "    </tr>\n",
       "    <tr>\n",
       "      <th>4</th>\n",
       "      <td>1035</td>\n",
       "      <td>刘秀</td>\n",
       "      <td>男</td>\n",
       "      <td>大数据可视化</td>\n",
       "      <td>75.0</td>\n",
       "    </tr>\n",
       "  </tbody>\n",
       "</table>\n",
       "</div>"
      ],
      "text/plain": [
       "     学号  姓名 性别      科目    成绩\n",
       "0  1031  关羽  男  大数据可视化  65.0\n",
       "1  1032  刘备  男  大数据可视化  70.0\n",
       "2  1033  韩信  男  大数据可视化  68.0\n",
       "3  1034  张良  男  大数据可视化  58.0\n",
       "4  1035  刘秀  男  大数据可视化  75.0"
      ]
     },
     "execution_count": 227,
     "metadata": {},
     "output_type": "execute_result"
    }
   ],
   "source": [
    "score_long2 = pd.melt(students_score_2, id_vars=['学号', '姓名', '性别'], value_vars=students_score_2.columns[3:]).rename(columns={'variable': '科目', 'value': '成绩'})\n",
    "score_long2.head()"
   ]
  },
  {
   "cell_type": "markdown",
   "metadata": {},
   "source": [
    "### 将两张长表合并；"
   ]
  },
  {
   "cell_type": "code",
   "execution_count": 228,
   "metadata": {},
   "outputs": [
    {
     "name": "stdout",
     "output_type": "stream",
     "text": [
      "score_long1形状：(360, 5)\n",
      "score_long2形状：(320, 5)\n",
      "score_stack形状：(680, 5)\n"
     ]
    }
   ],
   "source": [
    "score_stack = pd.concat([score_long1, score_long2], axis=0, ignore_index=True)\n",
    "score_stack_all = score_stack.copy()\n",
    "print(f\"score_long1形状：{score_long1.shape}\")\n",
    "print(f\"score_long2形状：{score_long2.shape}\")\n",
    "print(f\"score_stack形状：{score_stack.shape}\")"
   ]
  },
  {
   "cell_type": "code",
   "execution_count": 229,
   "metadata": {},
   "outputs": [
    {
     "data": {
      "text/html": [
       "<div>\n",
       "<style scoped>\n",
       "    .dataframe tbody tr th:only-of-type {\n",
       "        vertical-align: middle;\n",
       "    }\n",
       "\n",
       "    .dataframe tbody tr th {\n",
       "        vertical-align: top;\n",
       "    }\n",
       "\n",
       "    .dataframe thead th {\n",
       "        text-align: right;\n",
       "    }\n",
       "</style>\n",
       "<table border=\"1\" class=\"dataframe\">\n",
       "  <thead>\n",
       "    <tr style=\"text-align: right;\">\n",
       "      <th></th>\n",
       "      <th>学号</th>\n",
       "      <th>姓名</th>\n",
       "      <th>性别</th>\n",
       "      <th>科目</th>\n",
       "      <th>成绩</th>\n",
       "    </tr>\n",
       "  </thead>\n",
       "  <tbody>\n",
       "    <tr>\n",
       "      <th>0</th>\n",
       "      <td>1031</td>\n",
       "      <td>关羽</td>\n",
       "      <td>男</td>\n",
       "      <td>文学</td>\n",
       "      <td>96.0</td>\n",
       "    </tr>\n",
       "    <tr>\n",
       "      <th>1</th>\n",
       "      <td>1032</td>\n",
       "      <td>刘备</td>\n",
       "      <td>男</td>\n",
       "      <td>文学</td>\n",
       "      <td>93.0</td>\n",
       "    </tr>\n",
       "    <tr>\n",
       "      <th>2</th>\n",
       "      <td>1033</td>\n",
       "      <td>韩信</td>\n",
       "      <td>男</td>\n",
       "      <td>文学</td>\n",
       "      <td>89.0</td>\n",
       "    </tr>\n",
       "    <tr>\n",
       "      <th>3</th>\n",
       "      <td>1034</td>\n",
       "      <td>张良</td>\n",
       "      <td>男</td>\n",
       "      <td>文学</td>\n",
       "      <td>85.0</td>\n",
       "    </tr>\n",
       "    <tr>\n",
       "      <th>4</th>\n",
       "      <td>1035</td>\n",
       "      <td>刘秀</td>\n",
       "      <td>男</td>\n",
       "      <td>文学</td>\n",
       "      <td>95.0</td>\n",
       "    </tr>\n",
       "  </tbody>\n",
       "</table>\n",
       "</div>"
      ],
      "text/plain": [
       "     学号  姓名 性别  科目    成绩\n",
       "0  1031  关羽  男  文学  96.0\n",
       "1  1032  刘备  男  文学  93.0\n",
       "2  1033  韩信  男  文学  89.0\n",
       "3  1034  张良  男  文学  85.0\n",
       "4  1035  刘秀  男  文学  95.0"
      ]
     },
     "execution_count": 229,
     "metadata": {},
     "output_type": "execute_result"
    }
   ],
   "source": [
    "score_stack.head()"
   ]
  },
  {
   "cell_type": "markdown",
   "metadata": {},
   "source": [
    "### 对各科目数据分别进行归一化，使各科目最高分为1，最低分为0，写出归一化公式；\n",
    "#### x' = (x - min(x)) / (max(x) - min(X))"
   ]
  },
  {
   "cell_type": "code",
   "execution_count": 230,
   "metadata": {},
   "outputs": [],
   "source": [
    "score_normalized = None\n",
    "for course, group in score_stack.groupby('科目'):\n",
    "    group['成绩'] = (group['成绩'] - group['成绩'].min()) / (group['成绩'].max() - group['成绩'].min())\n",
    "    # 叠加成绩\n",
    "    score_normalized = pd.concat([score_normalized, group], axis=0, ignore_index=True)"
   ]
  },
  {
   "cell_type": "code",
   "execution_count": 231,
   "metadata": {},
   "outputs": [
    {
     "data": {
      "text/html": [
       "<div>\n",
       "<style scoped>\n",
       "    .dataframe tbody tr th:only-of-type {\n",
       "        vertical-align: middle;\n",
       "    }\n",
       "\n",
       "    .dataframe tbody tr th {\n",
       "        vertical-align: top;\n",
       "    }\n",
       "\n",
       "    .dataframe thead th {\n",
       "        text-align: right;\n",
       "    }\n",
       "</style>\n",
       "<table border=\"1\" class=\"dataframe\">\n",
       "  <thead>\n",
       "    <tr style=\"text-align: right;\">\n",
       "      <th></th>\n",
       "      <th>学号</th>\n",
       "      <th>姓名</th>\n",
       "      <th>性别</th>\n",
       "      <th>科目</th>\n",
       "      <th>成绩</th>\n",
       "    </tr>\n",
       "  </thead>\n",
       "  <tbody>\n",
       "    <tr>\n",
       "      <th>0</th>\n",
       "      <td>1031</td>\n",
       "      <td>关羽</td>\n",
       "      <td>男</td>\n",
       "      <td>Python编程</td>\n",
       "      <td>0.565217</td>\n",
       "    </tr>\n",
       "    <tr>\n",
       "      <th>1</th>\n",
       "      <td>1032</td>\n",
       "      <td>刘备</td>\n",
       "      <td>男</td>\n",
       "      <td>Python编程</td>\n",
       "      <td>0.652174</td>\n",
       "    </tr>\n",
       "    <tr>\n",
       "      <th>2</th>\n",
       "      <td>1033</td>\n",
       "      <td>韩信</td>\n",
       "      <td>男</td>\n",
       "      <td>Python编程</td>\n",
       "      <td>0.739130</td>\n",
       "    </tr>\n",
       "    <tr>\n",
       "      <th>3</th>\n",
       "      <td>1034</td>\n",
       "      <td>张良</td>\n",
       "      <td>男</td>\n",
       "      <td>Python编程</td>\n",
       "      <td>0.434783</td>\n",
       "    </tr>\n",
       "    <tr>\n",
       "      <th>4</th>\n",
       "      <td>1035</td>\n",
       "      <td>刘秀</td>\n",
       "      <td>男</td>\n",
       "      <td>Python编程</td>\n",
       "      <td>0.869565</td>\n",
       "    </tr>\n",
       "  </tbody>\n",
       "</table>\n",
       "</div>"
      ],
      "text/plain": [
       "     学号  姓名 性别        科目        成绩\n",
       "0  1031  关羽  男  Python编程  0.565217\n",
       "1  1032  刘备  男  Python编程  0.652174\n",
       "2  1033  韩信  男  Python编程  0.739130\n",
       "3  1034  张良  男  Python编程  0.434783\n",
       "4  1035  刘秀  男  Python编程  0.869565"
      ]
     },
     "execution_count": 231,
     "metadata": {},
     "output_type": "execute_result"
    }
   ],
   "source": [
    "score_normalized.head()"
   ]
  },
  {
   "cell_type": "code",
   "execution_count": 232,
   "metadata": {},
   "outputs": [
    {
     "data": {
      "text/plain": [
       "学号        1031\n",
       "姓名          关羽\n",
       "性别           女\n",
       "科目    Python编程\n",
       "成绩         0.0\n",
       "dtype: object"
      ]
     },
     "execution_count": 232,
     "metadata": {},
     "output_type": "execute_result"
    }
   ],
   "source": [
    "score_normalized.min()"
   ]
  },
  {
   "cell_type": "code",
   "execution_count": 233,
   "metadata": {},
   "outputs": [
    {
     "data": {
      "text/plain": [
       "学号    2013\n",
       "姓名      鲁班\n",
       "性别       男\n",
       "科目    高等数学\n",
       "成绩     1.0\n",
       "dtype: object"
      ]
     },
     "execution_count": 233,
     "metadata": {},
     "output_type": "execute_result"
    }
   ],
   "source": [
    "score_normalized.max()"
   ]
  },
  {
   "cell_type": "markdown",
   "metadata": {},
   "source": [
    "### 利用Pandas自身可视化API和计算分析API完成下列任务；"
   ]
  },
  {
   "cell_type": "markdown",
   "metadata": {},
   "source": [
    "### 算出平均成绩最好的3名同学和他们的成绩，要求不能有缺考和挂科；"
   ]
  },
  {
   "cell_type": "code",
   "execution_count": 234,
   "metadata": {},
   "outputs": [
    {
     "data": {
      "text/html": [
       "<div>\n",
       "<style scoped>\n",
       "    .dataframe tbody tr th:only-of-type {\n",
       "        vertical-align: middle;\n",
       "    }\n",
       "\n",
       "    .dataframe tbody tr th {\n",
       "        vertical-align: top;\n",
       "    }\n",
       "\n",
       "    .dataframe thead th {\n",
       "        text-align: right;\n",
       "    }\n",
       "</style>\n",
       "<table border=\"1\" class=\"dataframe\">\n",
       "  <thead>\n",
       "    <tr style=\"text-align: right;\">\n",
       "      <th>科目</th>\n",
       "      <th>学号</th>\n",
       "      <th>姓名</th>\n",
       "      <th>性别</th>\n",
       "      <th>Python编程</th>\n",
       "      <th>人工智能</th>\n",
       "      <th>体育</th>\n",
       "      <th>军事学</th>\n",
       "      <th>哲学</th>\n",
       "      <th>大数据可视化</th>\n",
       "      <th>工程学</th>\n",
       "      <th>...</th>\n",
       "      <th>政治</th>\n",
       "      <th>文学</th>\n",
       "      <th>机器学习导论</th>\n",
       "      <th>演讲与口才课程</th>\n",
       "      <th>礼仪课</th>\n",
       "      <th>管理学</th>\n",
       "      <th>计算机组成原理</th>\n",
       "      <th>金融投资课程</th>\n",
       "      <th>高等数学</th>\n",
       "      <th>平均成绩</th>\n",
       "    </tr>\n",
       "  </thead>\n",
       "  <tbody>\n",
       "    <tr>\n",
       "      <th>26</th>\n",
       "      <td>1057</td>\n",
       "      <td>慈禧</td>\n",
       "      <td>女</td>\n",
       "      <td>88.0</td>\n",
       "      <td>85.0</td>\n",
       "      <td>87.0</td>\n",
       "      <td>97.0</td>\n",
       "      <td>79.0</td>\n",
       "      <td>80.0</td>\n",
       "      <td>85.0</td>\n",
       "      <td>...</td>\n",
       "      <td>99.0</td>\n",
       "      <td>95.0</td>\n",
       "      <td>85.0</td>\n",
       "      <td>92.0</td>\n",
       "      <td>96.0</td>\n",
       "      <td>90.0</td>\n",
       "      <td>82.0</td>\n",
       "      <td>80.0</td>\n",
       "      <td>93.0</td>\n",
       "      <td>87.823529</td>\n",
       "    </tr>\n",
       "    <tr>\n",
       "      <th>8</th>\n",
       "      <td>1039</td>\n",
       "      <td>赵匡胤</td>\n",
       "      <td>男</td>\n",
       "      <td>88.0</td>\n",
       "      <td>85.0</td>\n",
       "      <td>85.0</td>\n",
       "      <td>97.0</td>\n",
       "      <td>79.0</td>\n",
       "      <td>80.0</td>\n",
       "      <td>90.0</td>\n",
       "      <td>...</td>\n",
       "      <td>99.0</td>\n",
       "      <td>97.0</td>\n",
       "      <td>85.0</td>\n",
       "      <td>80.0</td>\n",
       "      <td>88.0</td>\n",
       "      <td>88.0</td>\n",
       "      <td>78.0</td>\n",
       "      <td>75.0</td>\n",
       "      <td>93.0</td>\n",
       "      <td>86.411765</td>\n",
       "    </tr>\n",
       "    <tr>\n",
       "      <th>21</th>\n",
       "      <td>1052</td>\n",
       "      <td>吕雉</td>\n",
       "      <td>女</td>\n",
       "      <td>85.0</td>\n",
       "      <td>80.0</td>\n",
       "      <td>83.0</td>\n",
       "      <td>93.0</td>\n",
       "      <td>75.0</td>\n",
       "      <td>78.0</td>\n",
       "      <td>80.0</td>\n",
       "      <td>...</td>\n",
       "      <td>98.0</td>\n",
       "      <td>93.0</td>\n",
       "      <td>75.0</td>\n",
       "      <td>95.0</td>\n",
       "      <td>98.0</td>\n",
       "      <td>82.0</td>\n",
       "      <td>80.0</td>\n",
       "      <td>75.0</td>\n",
       "      <td>84.0</td>\n",
       "      <td>84.058824</td>\n",
       "    </tr>\n",
       "  </tbody>\n",
       "</table>\n",
       "<p>3 rows × 21 columns</p>\n",
       "</div>"
      ],
      "text/plain": [
       "科目    学号   姓名 性别  Python编程  人工智能    体育   军事学    哲学  大数据可视化   工程学  ...    政治   \n",
       "26  1057   慈禧  女      88.0  85.0  87.0  97.0  79.0    80.0  85.0  ...  99.0  \\\n",
       "8   1039  赵匡胤  男      88.0  85.0  85.0  97.0  79.0    80.0  90.0  ...  99.0   \n",
       "21  1052   吕雉  女      85.0  80.0  83.0  93.0  75.0    78.0  80.0  ...  98.0   \n",
       "\n",
       "科目    文学  机器学习导论  演讲与口才课程   礼仪课   管理学  计算机组成原理  金融投资课程  高等数学       平均成绩  \n",
       "26  95.0    85.0     92.0  96.0  90.0     82.0    80.0  93.0  87.823529  \n",
       "8   97.0    85.0     80.0  88.0  88.0     78.0    75.0  93.0  86.411765  \n",
       "21  93.0    75.0     95.0  98.0  82.0     80.0    75.0  84.0  84.058824  \n",
       "\n",
       "[3 rows x 21 columns]"
      ]
     },
     "execution_count": 234,
     "metadata": {},
     "output_type": "execute_result"
    }
   ],
   "source": [
    "# 删除挂科的同学\n",
    "score_stack = score_stack[score_stack['成绩'] >= 60]\n",
    "# 转为宽表\n",
    "score_wide = score_stack.pivot_table(index=['学号', '姓名', '性别'], columns='科目', values='成绩').reset_index()\n",
    "# 删除有Nan的同学\n",
    "score_wide = score_wide.dropna()\n",
    "score_wide['平均成绩'] = score_wide.iloc[:, 3:].mean(axis=1)    # 计算平均成绩\n",
    "score_wide_sorted = score_wide.sort_values(by='平均成绩', ascending=False)  # 按平均成绩排序\n",
    "score_wide_sorted.head(3)"
   ]
  },
  {
   "cell_type": "code",
   "execution_count": 235,
   "metadata": {},
   "outputs": [
    {
     "data": {
      "text/html": [
       "<div>\n",
       "<style scoped>\n",
       "    .dataframe tbody tr th:only-of-type {\n",
       "        vertical-align: middle;\n",
       "    }\n",
       "\n",
       "    .dataframe tbody tr th {\n",
       "        vertical-align: top;\n",
       "    }\n",
       "\n",
       "    .dataframe thead th {\n",
       "        text-align: right;\n",
       "    }\n",
       "</style>\n",
       "<table border=\"1\" class=\"dataframe\">\n",
       "  <thead>\n",
       "    <tr style=\"text-align: right;\">\n",
       "      <th>科目</th>\n",
       "      <th>学号</th>\n",
       "      <th>姓名</th>\n",
       "      <th>性别</th>\n",
       "      <th>Python编程</th>\n",
       "      <th>人工智能</th>\n",
       "      <th>体育</th>\n",
       "      <th>平均成绩</th>\n",
       "    </tr>\n",
       "  </thead>\n",
       "  <tbody>\n",
       "    <tr>\n",
       "      <th>26</th>\n",
       "      <td>1057</td>\n",
       "      <td>慈禧</td>\n",
       "      <td>女</td>\n",
       "      <td>88.0</td>\n",
       "      <td>85.0</td>\n",
       "      <td>87.0</td>\n",
       "      <td>87.823529</td>\n",
       "    </tr>\n",
       "    <tr>\n",
       "      <th>8</th>\n",
       "      <td>1039</td>\n",
       "      <td>赵匡胤</td>\n",
       "      <td>男</td>\n",
       "      <td>88.0</td>\n",
       "      <td>85.0</td>\n",
       "      <td>85.0</td>\n",
       "      <td>86.411765</td>\n",
       "    </tr>\n",
       "    <tr>\n",
       "      <th>21</th>\n",
       "      <td>1052</td>\n",
       "      <td>吕雉</td>\n",
       "      <td>女</td>\n",
       "      <td>85.0</td>\n",
       "      <td>80.0</td>\n",
       "      <td>83.0</td>\n",
       "      <td>84.058824</td>\n",
       "    </tr>\n",
       "  </tbody>\n",
       "</table>\n",
       "</div>"
      ],
      "text/plain": [
       "科目    学号   姓名 性别  Python编程  人工智能    体育       平均成绩\n",
       "26  1057   慈禧  女      88.0  85.0  87.0  87.823529\n",
       "8   1039  赵匡胤  男      88.0  85.0  85.0  86.411765\n",
       "21  1052   吕雉  女      85.0  80.0  83.0  84.058824"
      ]
     },
     "execution_count": 235,
     "metadata": {},
     "output_type": "execute_result"
    }
   ],
   "source": [
    "# 取出前三名的前三列和最后一列\n",
    "score_wide_sorted.iloc[:3, [0, 1, 2, 3, 4, 5, -1]]"
   ]
  },
  {
   "cell_type": "markdown",
   "metadata": {},
   "source": [
    "### 画出各科目成绩分布的箱型图；"
   ]
  },
  {
   "cell_type": "code",
   "execution_count": 236,
   "metadata": {},
   "outputs": [
    {
     "data": {
      "image/png": "[encoded data removed]",
      "text/plain": [
       "<Figure size 1000x600 with 1 Axes>"
      ]
     },
     "metadata": {},
     "output_type": "display_data"
    }
   ],
   "source": [
    "import matplotlib.pyplot as plt\n",
    "from matplotlib import rcParams\n",
    "\n",
    "# 设置字体为SimHei显示中文\n",
    "rcParams['font.sans-serif'] = 'SimHei'\n",
    "# 设置图形大小\n",
    "plt.figure(figsize=(10, 6))\n",
    "\n",
    "score_wide[score_wide.columns[3:-1]].boxplot()  # 绘制箱型图\n",
    "plt.title('各科成绩箱型图')\n",
    "plt.xticks(rotation=45)  # 设置x轴标签旋转角度\n",
    "plt.show()"
   ]
  },
  {
   "cell_type": "markdown",
   "metadata": {},
   "source": [
    "### 画出所有成绩分布的直方图；"
   ]
  },
  {
   "cell_type": "code",
   "execution_count": 237,
   "metadata": {},
   "outputs": [
    {
     "data": {
      "image/png": "[encoded data removed]",
      "text/plain": [
       "<Figure size 640x480 with 1 Axes>"
      ]
     },
     "metadata": {},
     "output_type": "display_data"
    }
   ],
   "source": [
    "# 画出所有成绩分布的直方图\n",
    "score_stack_all['成绩'].hist(bins=20)\n",
    "plt.title('所有成绩分布直方图')\n",
    "plt.xlabel('成绩')\n",
    "plt.ylabel('频数')\n",
    "plt.show()"
   ]
  },
  {
   "cell_type": "markdown",
   "metadata": {},
   "source": [
    "### 基于分析选出各课程的课代表人选；"
   ]
  },
  {
   "cell_type": "code",
   "execution_count": 238,
   "metadata": {},
   "outputs": [
    {
     "name": "stdout",
     "output_type": "stream",
     "text": [
      "Python编程\n",
      "       学号   姓名 性别        科目    成绩\n",
      "488  1039  赵匡胤  男  Python编程  88.0\n",
      "506  1057   慈禧  女  Python编程  88.0\n",
      "\n",
      "人工智能\n",
      "       学号   姓名 性别    科目    成绩\n",
      "528  1039  赵匡胤  男  人工智能  85.0\n",
      "546  1057   慈禧  女  人工智能  85.0\n",
      "\n",
      "体育\n",
      "       学号  姓名 性别  科目    成绩\n",
      "269  2003  李白  男  体育  95.0\n",
      "\n",
      "军事学\n",
      "       学号  姓名 性别   科目    成绩\n",
      "112  2006  孙武  男  军事学  98.0\n",
      "\n",
      "哲学\n",
      "       学号   姓名 性别  科目    成绩\n",
      "233  2007  王阳明  男  哲学  98.0\n",
      "236  2010   朱熹  男  哲学  98.0\n",
      "\n",
      "大数据可视化\n",
      "       学号   姓名 性别      科目    成绩\n",
      "368  1039  赵匡胤  男  大数据可视化  80.0\n",
      "374  1045  李清照  女  大数据可视化  80.0\n",
      "386  1057   慈禧  女  大数据可视化  80.0\n",
      "\n",
      "工程学\n",
      "       学号  姓名 性别   科目    成绩\n",
      "191  2005  鲁班  男  工程学  95.0\n",
      "\n",
      "推荐系统\n",
      "       学号   姓名 性别    科目    成绩\n",
      "448  1039  赵匡胤  男  推荐系统  82.0\n",
      "\n",
      "政治\n",
      "      学号   姓名 性别  科目    成绩\n",
      "48  1039  赵匡胤  男  政治  99.0\n",
      "56  1047  朱元璋  男  政治  99.0\n",
      "66  1057   慈禧  女  政治  99.0\n",
      "\n",
      "文学\n",
      "      学号  姓名 性别  科目    成绩\n",
      "27  2001  孔子  男  文学  98.0\n",
      "\n",
      "机器学习导论\n",
      "       学号   姓名 性别      科目    成绩\n",
      "568  1039  赵匡胤  男  机器学习导论  85.0\n",
      "586  1057   慈禧  女  机器学习导论  85.0\n",
      "\n",
      "演讲与口才课程\n",
      "       学号   姓名 性别       科目    成绩\n",
      "661  1052   吕雉  女  演讲与口才课程  95.0\n",
      "679  2013  王昭君  女  演讲与口才课程  95.0\n",
      "\n",
      "礼仪课\n",
      "       学号  姓名 性别   科目    成绩\n",
      "341  1052  吕雉  女  礼仪课  98.0\n",
      "\n",
      "管理学\n",
      "       学号   姓名 性别   科目    成绩\n",
      "150  2004  诸葛亮  男  管理学  95.0\n",
      "\n",
      "计算机组成原理\n",
      "       学号  姓名 性别       科目    成绩\n",
      "426  1057  慈禧  女  计算机组成原理  82.0\n",
      "\n",
      "金融投资课程\n",
      "       学号  姓名 性别      科目    成绩\n",
      "619  1050  妲己  女  金融投资课程  80.0\n",
      "626  1057  慈禧  女  金融投资课程  80.0\n",
      "\n",
      "高等数学\n",
      "       学号   姓名 性别    科目    成绩\n",
      "288  1039  赵匡胤  男  高等数学  93.0\n",
      "302  1053  卫子夫  男  高等数学  93.0\n",
      "306  1057   慈禧  女  高等数学  93.0\n",
      "\n"
     ]
    }
   ],
   "source": [
    "# 求每一科成绩最高的学生\n",
    "for course, group in score_stack_all.groupby('科目'):\n",
    "    print(course)\n",
    "    print(group[group['成绩'] == group['成绩'].max()], end='\\n\\n')"
   ]
  },
  {
   "cell_type": "markdown",
   "metadata": {},
   "source": [
    "### 结合归一化之前的数据，用统计和可视化方法分析出最容易考的3门课，和最不容易考的3们课。"
   ]
  },
  {
   "cell_type": "code",
   "execution_count": 239,
   "metadata": {},
   "outputs": [],
   "source": [
    "mean_df = score_stack_all.groupby('科目')['成绩'].agg(['mean']).sort_values(by='mean', ascending=False)"
   ]
  },
  {
   "cell_type": "code",
   "execution_count": 242,
   "metadata": {},
   "outputs": [
    {
     "data": {
      "image/png": "[encoded data removed]",
      "text/plain": [
       "<Figure size 1000x600 with 1 Axes>"
      ]
     },
     "metadata": {},
     "output_type": "display_data"
    }
   ],
   "source": [
    "mean_df.plot(kind='bar', figsize=(10, 6))\n",
    "plt.title('各科平均成绩')\n",
    "plt.xticks(rotation=45)\n",
    "plt.show()"
   ]
  },
  {
   "cell_type": "code",
   "execution_count": 241,
   "metadata": {},
   "outputs": [
    {
     "data": {
      "text/plain": [
       "(       mean\n",
       " 科目         \n",
       " 文学   91.075\n",
       " 政治   90.200\n",
       " 军事学  86.400,\n",
       "               mean\n",
       " 科目                \n",
       " 大数据可视化   69.175000\n",
       " 计算机组成原理  69.000000\n",
       " 金融投资课程   67.028571)"
      ]
     },
     "execution_count": 241,
     "metadata": {},
     "output_type": "execute_result"
    }
   ],
   "source": [
    "mean_df.head(3), mean_df.tail(3)"
   ]
  },
  {
   "cell_type": "code",
   "execution_count": null,
   "metadata": {},
   "outputs": [],
   "source": []
  }
 ],
 "metadata": {
  "kernelspec": {
   "display_name": "py39",
   "language": "python",
   "name": "python3"
  },
  "language_info": {
   "codemirror_mode": {
    "name": "ipython",
    "version": 3
   },
   "file_extension": ".py",
   "mimetype": "text/x-python",
   "name": "python",
   "nbconvert_exporter": "python",
   "pygments_lexer": "ipython3",
   "version": "3.9.16"
  }
 },
 "nbformat": 4,
 "nbformat_minor": 2
}
