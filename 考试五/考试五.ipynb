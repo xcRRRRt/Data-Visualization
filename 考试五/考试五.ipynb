{
 "cells": [
  {
   "cell_type": "code",
   "execution_count": 2,
   "metadata": {},
   "outputs": [],
   "source": [
    "import yfinance as yf\n",
    "import pandas as pd\n",
    "\n",
    "# 输入公司的股票代码\n",
    "ticker_symbol = \"AAPL\"  # 以苹果公司为例\n",
    "\n",
    "# # 获取公司的财务报表数据\n",
    "# company = yf.Ticker(ticker_symbol)\n",
    "\n",
    "# # 获取利润表数据\n",
    "# income_statement = company.financials\n",
    "# # 获取资产负债表数据\n",
    "# balance_sheet = company.balance_sheet\n",
    "# # 获取现金流量表数据\n",
    "# cash_flow = company.cashflow\n",
    "\n",
    "# # 写入csv文件\n",
    "# income_statement.to_csv(\"income_statement.csv\")\n",
    "# balance_sheet.to_csv(\"balance_sheet.csv\")\n",
    "# cash_flow.to_csv(\"cash_flow.csv\")"
   ]
  },
  {
   "cell_type": "code",
   "execution_count": 3,
   "metadata": {},
   "outputs": [],
   "source": [
    "income_statement = pd.read_csv(\"income_statement.csv\")\n",
    "balance_sheet = pd.read_csv(\"balance_sheet.csv\")\n",
    "cash_flow = pd.read_csv(\"cash_flow.csv\")"
   ]
  },
  {
   "cell_type": "code",
   "execution_count": 4,
   "metadata": {},
   "outputs": [],
   "source": [
    "def transpose(df):\n",
    "    df = df.T   # 转置\n",
    "    df.columns = df.iloc[0] # 将第一行设置为列名\n",
    "    df = df.iloc[1:]    # 删除第一行\n",
    "    df = df.iloc[::-1]  # 倒序\n",
    "    return df"
   ]
  },
  {
   "cell_type": "code",
   "execution_count": 5,
   "metadata": {},
   "outputs": [],
   "source": [
    "income_statement = transpose(income_statement)\n",
    "balance_sheet = transpose(balance_sheet)\n",
    "cash_flow = transpose(cash_flow)"
   ]
  },
  {
   "cell_type": "code",
   "execution_count": 6,
   "metadata": {},
   "outputs": [
    {
     "data": {
      "text/html": [
       "<div>\n",
       "<style scoped>\n",
       "    .dataframe tbody tr th:only-of-type {\n",
       "        vertical-align: middle;\n",
       "    }\n",
       "\n",
       "    .dataframe tbody tr th {\n",
       "        vertical-align: top;\n",
       "    }\n",
       "\n",
       "    .dataframe thead th {\n",
       "        text-align: right;\n",
       "    }\n",
       "</style>\n",
       "<table border=\"1\" class=\"dataframe\">\n",
       "  <thead>\n",
       "    <tr style=\"text-align: right;\">\n",
       "      <th>Unnamed: 0</th>\n",
       "      <th>Tax Effect Of Unusual Items</th>\n",
       "      <th>Tax Rate For Calcs</th>\n",
       "      <th>Normalized EBITDA</th>\n",
       "      <th>Net Income From Continuing Operation Net Minority Interest</th>\n",
       "      <th>Reconciled Depreciation</th>\n",
       "      <th>Reconciled Cost Of Revenue</th>\n",
       "      <th>EBITDA</th>\n",
       "      <th>EBIT</th>\n",
       "      <th>Net Interest Income</th>\n",
       "      <th>Interest Expense</th>\n",
       "      <th>...</th>\n",
       "      <th>Interest Expense Non Operating</th>\n",
       "      <th>Interest Income Non Operating</th>\n",
       "      <th>Operating Income</th>\n",
       "      <th>Operating Expense</th>\n",
       "      <th>Research And Development</th>\n",
       "      <th>Selling General And Administration</th>\n",
       "      <th>Gross Profit</th>\n",
       "      <th>Cost Of Revenue</th>\n",
       "      <th>Total Revenue</th>\n",
       "      <th>Operating Revenue</th>\n",
       "    </tr>\n",
       "  </thead>\n",
       "  <tbody>\n",
       "    <tr>\n",
       "      <th>2020-09-30</th>\n",
       "      <td>0.0</td>\n",
       "      <td>0.144282</td>\n",
       "      <td>77344000000.0</td>\n",
       "      <td>57411000000.0</td>\n",
       "      <td>11056000000.0</td>\n",
       "      <td>169559000000.0</td>\n",
       "      <td>77344000000.0</td>\n",
       "      <td>66288000000.0</td>\n",
       "      <td>890000000.0</td>\n",
       "      <td>2873000000.0</td>\n",
       "      <td>...</td>\n",
       "      <td>2873000000.0</td>\n",
       "      <td>3763000000.0</td>\n",
       "      <td>66288000000.0</td>\n",
       "      <td>38668000000.0</td>\n",
       "      <td>18752000000.0</td>\n",
       "      <td>19916000000.0</td>\n",
       "      <td>104956000000.0</td>\n",
       "      <td>169559000000.0</td>\n",
       "      <td>274515000000.0</td>\n",
       "      <td>274515000000.0</td>\n",
       "    </tr>\n",
       "    <tr>\n",
       "      <th>2021-09-30</th>\n",
       "      <td>0.0</td>\n",
       "      <td>0.133023</td>\n",
       "      <td>120233000000.0</td>\n",
       "      <td>94680000000.0</td>\n",
       "      <td>11284000000.0</td>\n",
       "      <td>212981000000.0</td>\n",
       "      <td>120233000000.0</td>\n",
       "      <td>108949000000.0</td>\n",
       "      <td>198000000.0</td>\n",
       "      <td>2645000000.0</td>\n",
       "      <td>...</td>\n",
       "      <td>2645000000.0</td>\n",
       "      <td>2843000000.0</td>\n",
       "      <td>108949000000.0</td>\n",
       "      <td>43887000000.0</td>\n",
       "      <td>21914000000.0</td>\n",
       "      <td>21973000000.0</td>\n",
       "      <td>152836000000.0</td>\n",
       "      <td>212981000000.0</td>\n",
       "      <td>365817000000.0</td>\n",
       "      <td>365817000000.0</td>\n",
       "    </tr>\n",
       "    <tr>\n",
       "      <th>2022-09-30</th>\n",
       "      <td>0.0</td>\n",
       "      <td>0.162045</td>\n",
       "      <td>130541000000.0</td>\n",
       "      <td>99803000000.0</td>\n",
       "      <td>11104000000.0</td>\n",
       "      <td>223546000000.0</td>\n",
       "      <td>130541000000.0</td>\n",
       "      <td>119437000000.0</td>\n",
       "      <td>-106000000.0</td>\n",
       "      <td>2931000000.0</td>\n",
       "      <td>...</td>\n",
       "      <td>2931000000.0</td>\n",
       "      <td>2825000000.0</td>\n",
       "      <td>119437000000.0</td>\n",
       "      <td>51345000000.0</td>\n",
       "      <td>26251000000.0</td>\n",
       "      <td>25094000000.0</td>\n",
       "      <td>170782000000.0</td>\n",
       "      <td>223546000000.0</td>\n",
       "      <td>394328000000.0</td>\n",
       "      <td>394328000000.0</td>\n",
       "    </tr>\n",
       "    <tr>\n",
       "      <th>2023-09-30</th>\n",
       "      <td>0.0</td>\n",
       "      <td>0.147192</td>\n",
       "      <td>125820000000.0</td>\n",
       "      <td>96995000000.0</td>\n",
       "      <td>11519000000.0</td>\n",
       "      <td>214137000000.0</td>\n",
       "      <td>125820000000.0</td>\n",
       "      <td>114301000000.0</td>\n",
       "      <td>NaN</td>\n",
       "      <td>NaN</td>\n",
       "      <td>...</td>\n",
       "      <td>NaN</td>\n",
       "      <td>NaN</td>\n",
       "      <td>114301000000.0</td>\n",
       "      <td>54847000000.0</td>\n",
       "      <td>29915000000.0</td>\n",
       "      <td>24932000000.0</td>\n",
       "      <td>169148000000.0</td>\n",
       "      <td>214137000000.0</td>\n",
       "      <td>383285000000.0</td>\n",
       "      <td>383285000000.0</td>\n",
       "    </tr>\n",
       "  </tbody>\n",
       "</table>\n",
       "<p>4 rows × 39 columns</p>\n",
       "</div>"
      ],
      "text/plain": [
       "Unnamed: 0 Tax Effect Of Unusual Items Tax Rate For Calcs Normalized EBITDA   \n",
       "2020-09-30                         0.0           0.144282     77344000000.0  \\\n",
       "2021-09-30                         0.0           0.133023    120233000000.0   \n",
       "2022-09-30                         0.0           0.162045    130541000000.0   \n",
       "2023-09-30                         0.0           0.147192    125820000000.0   \n",
       "\n",
       "Unnamed: 0 Net Income From Continuing Operation Net Minority Interest   \n",
       "2020-09-30                                      57411000000.0          \\\n",
       "2021-09-30                                      94680000000.0           \n",
       "2022-09-30                                      99803000000.0           \n",
       "2023-09-30                                      96995000000.0           \n",
       "\n",
       "Unnamed: 0 Reconciled Depreciation Reconciled Cost Of Revenue          EBITDA   \n",
       "2020-09-30           11056000000.0             169559000000.0   77344000000.0  \\\n",
       "2021-09-30           11284000000.0             212981000000.0  120233000000.0   \n",
       "2022-09-30           11104000000.0             223546000000.0  130541000000.0   \n",
       "2023-09-30           11519000000.0             214137000000.0  125820000000.0   \n",
       "\n",
       "Unnamed: 0            EBIT Net Interest Income Interest Expense  ...   \n",
       "2020-09-30   66288000000.0         890000000.0     2873000000.0  ...  \\\n",
       "2021-09-30  108949000000.0         198000000.0     2645000000.0  ...   \n",
       "2022-09-30  119437000000.0        -106000000.0     2931000000.0  ...   \n",
       "2023-09-30  114301000000.0                 NaN              NaN  ...   \n",
       "\n",
       "Unnamed: 0 Interest Expense Non Operating Interest Income Non Operating   \n",
       "2020-09-30                   2873000000.0                  3763000000.0  \\\n",
       "2021-09-30                   2645000000.0                  2843000000.0   \n",
       "2022-09-30                   2931000000.0                  2825000000.0   \n",
       "2023-09-30                            NaN                           NaN   \n",
       "\n",
       "Unnamed: 0 Operating Income Operating Expense Research And Development   \n",
       "2020-09-30    66288000000.0     38668000000.0            18752000000.0  \\\n",
       "2021-09-30   108949000000.0     43887000000.0            21914000000.0   \n",
       "2022-09-30   119437000000.0     51345000000.0            26251000000.0   \n",
       "2023-09-30   114301000000.0     54847000000.0            29915000000.0   \n",
       "\n",
       "Unnamed: 0 Selling General And Administration    Gross Profit Cost Of Revenue   \n",
       "2020-09-30                      19916000000.0  104956000000.0  169559000000.0  \\\n",
       "2021-09-30                      21973000000.0  152836000000.0  212981000000.0   \n",
       "2022-09-30                      25094000000.0  170782000000.0  223546000000.0   \n",
       "2023-09-30                      24932000000.0  169148000000.0  214137000000.0   \n",
       "\n",
       "Unnamed: 0   Total Revenue Operating Revenue  \n",
       "2020-09-30  274515000000.0    274515000000.0  \n",
       "2021-09-30  365817000000.0    365817000000.0  \n",
       "2022-09-30  394328000000.0    394328000000.0  \n",
       "2023-09-30  383285000000.0    383285000000.0  \n",
       "\n",
       "[4 rows x 39 columns]"
      ]
     },
     "execution_count": 6,
     "metadata": {},
     "output_type": "execute_result"
    }
   ],
   "source": [
    "income_statement"
   ]
  },
  {
   "cell_type": "code",
   "execution_count": 7,
   "metadata": {},
   "outputs": [],
   "source": [
    "df = pd.DataFrame()\n",
    "df['毛利率'] = (income_statement['Gross Profit']/income_statement['Total Revenue']).astype(float)\n",
    "df['净利率'] = (income_statement['Net Income']/income_statement['Total Revenue']).astype(float)\n",
    "df['资产回报率'] = (income_statement['Net Income']/balance_sheet['Total Assets']).astype(float)\n",
    "\n",
    "df['收入变化'] = income_statement['Total Revenue'].diff()\n",
    "df['净利润变化'] = income_statement['Net Income'].diff()\n",
    "df['收入变化率'] = income_statement['Total Revenue'].pct_change()\n",
    "df['净利润变化率'] = income_statement['Net Income'].pct_change()"
   ]
  },
  {
   "cell_type": "code",
   "execution_count": 8,
   "metadata": {},
   "outputs": [
    {
     "data": {
      "text/html": [
       "<div>\n",
       "<style scoped>\n",
       "    .dataframe tbody tr th:only-of-type {\n",
       "        vertical-align: middle;\n",
       "    }\n",
       "\n",
       "    .dataframe tbody tr th {\n",
       "        vertical-align: top;\n",
       "    }\n",
       "\n",
       "    .dataframe thead th {\n",
       "        text-align: right;\n",
       "    }\n",
       "</style>\n",
       "<table border=\"1\" class=\"dataframe\">\n",
       "  <thead>\n",
       "    <tr style=\"text-align: right;\">\n",
       "      <th></th>\n",
       "      <th>毛利率</th>\n",
       "      <th>净利率</th>\n",
       "      <th>资产回报率</th>\n",
       "      <th>收入变化</th>\n",
       "      <th>净利润变化</th>\n",
       "      <th>收入变化率</th>\n",
       "      <th>净利润变化率</th>\n",
       "    </tr>\n",
       "  </thead>\n",
       "  <tbody>\n",
       "    <tr>\n",
       "      <th>2020-09-30</th>\n",
       "      <td>0.382332</td>\n",
       "      <td>0.209136</td>\n",
       "      <td>0.177256</td>\n",
       "      <td>NaN</td>\n",
       "      <td>NaN</td>\n",
       "      <td>NaN</td>\n",
       "      <td>NaN</td>\n",
       "    </tr>\n",
       "    <tr>\n",
       "      <th>2021-09-30</th>\n",
       "      <td>0.417794</td>\n",
       "      <td>0.258818</td>\n",
       "      <td>0.269742</td>\n",
       "      <td>91302000000.0</td>\n",
       "      <td>37269000000.0</td>\n",
       "      <td>0.332594</td>\n",
       "      <td>0.649161</td>\n",
       "    </tr>\n",
       "    <tr>\n",
       "      <th>2022-09-30</th>\n",
       "      <td>0.433096</td>\n",
       "      <td>0.253096</td>\n",
       "      <td>0.282924</td>\n",
       "      <td>28511000000.0</td>\n",
       "      <td>5123000000.0</td>\n",
       "      <td>0.077938</td>\n",
       "      <td>0.054109</td>\n",
       "    </tr>\n",
       "    <tr>\n",
       "      <th>2023-09-30</th>\n",
       "      <td>0.441311</td>\n",
       "      <td>0.253062</td>\n",
       "      <td>0.275098</td>\n",
       "      <td>-11043000000.0</td>\n",
       "      <td>-2808000000.0</td>\n",
       "      <td>-0.028005</td>\n",
       "      <td>-0.028135</td>\n",
       "    </tr>\n",
       "  </tbody>\n",
       "</table>\n",
       "</div>"
      ],
      "text/plain": [
       "                 毛利率       净利率     资产回报率           收入变化          净利润变化   \n",
       "2020-09-30  0.382332  0.209136  0.177256            NaN            NaN  \\\n",
       "2021-09-30  0.417794  0.258818  0.269742  91302000000.0  37269000000.0   \n",
       "2022-09-30  0.433096  0.253096  0.282924  28511000000.0   5123000000.0   \n",
       "2023-09-30  0.441311  0.253062  0.275098 -11043000000.0  -2808000000.0   \n",
       "\n",
       "               收入变化率    净利润变化率  \n",
       "2020-09-30       NaN       NaN  \n",
       "2021-09-30  0.332594  0.649161  \n",
       "2022-09-30  0.077938  0.054109  \n",
       "2023-09-30 -0.028005 -0.028135  "
      ]
     },
     "execution_count": 8,
     "metadata": {},
     "output_type": "execute_result"
    }
   ],
   "source": [
    "df"
   ]
  },
  {
   "cell_type": "code",
   "execution_count": 9,
   "metadata": {},
   "outputs": [
    {
     "data": {
      "application/vnd.plotly.v1+json": {
       "config": {
        "plotlyServerURL": "https://plot.ly"
       },
       "data": [
        {
         "marker": {
          "color": "rgb(80, 162, 174)"
         },
         "name": "总收入",
         "type": "bar",
         "x": [
          2020,
          2021,
          2022,
          2023
         ],
         "xaxis": "x",
         "y": [
          274515000000,
          365817000000,
          394328000000,
          383285000000
         ],
         "yaxis": "y"
        },
        {
         "marker": {
          "color": "rgb(120, 144, 154)"
         },
         "name": "毛利润",
         "type": "bar",
         "x": [
          2020,
          2021,
          2022,
          2023
         ],
         "xaxis": "x",
         "y": [
          104956000000,
          152836000000,
          170782000000,
          169148000000
         ],
         "yaxis": "y"
        },
        {
         "marker": {
          "color": "rgb(123, 164, 151)"
         },
         "name": "净利润",
         "type": "bar",
         "x": [
          2020,
          2021,
          2022,
          2023
         ],
         "xaxis": "x",
         "y": [
          57411000000,
          94680000000,
          99803000000,
          96995000000
         ],
         "yaxis": "y"
        },
        {
         "hovertemplate": "%{y:.2%}",
         "line": {
          "color": "rgb(97, 114, 124)"
         },
         "name": "毛利率",
         "type": "scatter",
         "x": [
          2020,
          2021,
          2022,
          2023
         ],
         "xaxis": "x",
         "y": [
          0.38233247727810865,
          0.4177935962516778,
          0.43309630561360085,
          0.4413112957720756
         ],
         "yaxis": "y2"
        },
        {
         "hovertemplate": "%{y:.2%}",
         "line": {
          "color": "rgb(80, 134, 121)"
         },
         "name": "净利率",
         "type": "scatter",
         "x": [
          2020,
          2021,
          2022,
          2023
         ],
         "xaxis": "x",
         "y": [
          0.20913611278072236,
          0.2588179335569424,
          0.2530964070519973,
          0.2530623426432028
         ],
         "yaxis": "y2"
        },
        {
         "cells": {
          "align": "center",
          "fill": {
           "color": [
            [
             "white",
             "lightgrey",
             "white",
             "lightgrey",
             "white",
             "lightgrey",
             "white",
             "lightgrey"
            ]
           ]
          },
          "font": {
           "color": "darkslategray",
           "size": 11
          },
          "line": {
           "color": "darkslategray"
          },
          "values": [
           [
            2020,
            2021,
            2022,
            2023
           ],
           [
            274515,
            365817,
            394328,
            383285
           ],
           [
            104956,
            152836,
            170782,
            169148
           ],
           [
            38.23,
            41.78,
            43.31,
            44.13
           ],
           [
            57411,
            94680,
            99803,
            96995
           ],
           [
            20.91,
            25.88,
            25.31,
            25.31
           ]
          ]
         },
         "domain": {
          "x": [
           0,
           0.94
          ],
          "y": [
           0,
           0.48
          ]
         },
         "header": {
          "align": "center",
          "fill": {
           "color": "grey"
          },
          "font": {
           "color": "white",
           "size": 12
          },
          "line": {
           "color": "darkslategray"
          },
          "values": [
           "年份",
           "总收入(M$)",
           "毛利润(M$)",
           "毛利率(%)",
           "净利润(M$)",
           "净利率(%)"
          ]
         },
         "type": "table"
        }
       ],
       "layout": {
        "height": 800,
        "hovermode": "x unified",
        "legend": {
         "orientation": "h",
         "x": 0.9,
         "xanchor": "right",
         "y": 1.02,
         "yanchor": "bottom"
        },
        "plot_bgcolor": "white",
        "template": {
         "data": {
          "bar": [
           {
            "error_x": {
             "color": "#2a3f5f"
            },
            "error_y": {
             "color": "#2a3f5f"
            },
            "marker": {
             "line": {
              "color": "#E5ECF6",
              "width": 0.5
             },
             "pattern": {
              "fillmode": "overlay",
              "size": 10,
              "solidity": 0.2
             }
            },
            "type": "bar"
           }
          ],
          "barpolar": [
           {
            "marker": {
             "line": {
              "color": "#E5ECF6",
              "width": 0.5
             },
             "pattern": {
              "fillmode": "overlay",
              "size": 10,
              "solidity": 0.2
             }
            },
            "type": "barpolar"
           }
          ],
          "carpet": [
           {
            "aaxis": {
             "endlinecolor": "#2a3f5f",
             "gridcolor": "white",
             "linecolor": "white",
             "minorgridcolor": "white",
             "startlinecolor": "#2a3f5f"
            },
            "baxis": {
             "endlinecolor": "#2a3f5f",
             "gridcolor": "white",
             "linecolor": "white",
             "minorgridcolor": "white",
             "startlinecolor": "#2a3f5f"
            },
            "type": "carpet"
           }
          ],
          "choropleth": [
           {
            "colorbar": {
             "outlinewidth": 0,
             "ticks": ""
            },
            "type": "choropleth"
           }
          ],
          "contour": [
           {
            "colorbar": {
             "outlinewidth": 0,
             "ticks": ""
            },
            "colorscale": [
             [
              0,
              "#0d0887"
             ],
             [
              0.1111111111111111,
              "#46039f"
             ],
             [
              0.2222222222222222,
              "#7201a8"
             ],
             [
              0.3333333333333333,
              "#9c179e"
             ],
             [
              0.4444444444444444,
              "#bd3786"
             ],
             [
              0.5555555555555556,
              "#d8576b"
             ],
             [
              0.6666666666666666,
              "#ed7953"
             ],
             [
              0.7777777777777778,
              "#fb9f3a"
             ],
             [
              0.8888888888888888,
              "#fdca26"
             ],
             [
              1,
              "#f0f921"
             ]
            ],
            "type": "contour"
           }
          ],
          "contourcarpet": [
           {
            "colorbar": {
             "outlinewidth": 0,
             "ticks": ""
            },
            "type": "contourcarpet"
           }
          ],
          "heatmap": [
           {
            "colorbar": {
             "outlinewidth": 0,
             "ticks": ""
            },
            "colorscale": [
             [
              0,
              "#0d0887"
             ],
             [
              0.1111111111111111,
              "#46039f"
             ],
             [
              0.2222222222222222,
              "#7201a8"
             ],
             [
              0.3333333333333333,
              "#9c179e"
             ],
             [
              0.4444444444444444,
              "#bd3786"
             ],
             [
              0.5555555555555556,
              "#d8576b"
             ],
             [
              0.6666666666666666,
              "#ed7953"
             ],
             [
              0.7777777777777778,
              "#fb9f3a"
             ],
             [
              0.8888888888888888,
              "#fdca26"
             ],
             [
              1,
              "#f0f921"
             ]
            ],
            "type": "heatmap"
           }
          ],
          "heatmapgl": [
           {
            "colorbar": {
             "outlinewidth": 0,
             "ticks": ""
            },
            "colorscale": [
             [
              0,
              "#0d0887"
             ],
             [
              0.1111111111111111,
              "#46039f"
             ],
             [
              0.2222222222222222,
              "#7201a8"
             ],
             [
              0.3333333333333333,
              "#9c179e"
             ],
             [
              0.4444444444444444,
              "#bd3786"
             ],
             [
              0.5555555555555556,
              "#d8576b"
             ],
             [
              0.6666666666666666,
              "#ed7953"
             ],
             [
              0.7777777777777778,
              "#fb9f3a"
             ],
             [
              0.8888888888888888,
              "#fdca26"
             ],
             [
              1,
              "#f0f921"
             ]
            ],
            "type": "heatmapgl"
           }
          ],
          "histogram": [
           {
            "marker": {
             "pattern": {
              "fillmode": "overlay",
              "size": 10,
              "solidity": 0.2
             }
            },
            "type": "histogram"
           }
          ],
          "histogram2d": [
           {
            "colorbar": {
             "outlinewidth": 0,
             "ticks": ""
            },
            "colorscale": [
             [
              0,
              "#0d0887"
             ],
             [
              0.1111111111111111,
              "#46039f"
             ],
             [
              0.2222222222222222,
              "#7201a8"
             ],
             [
              0.3333333333333333,
              "#9c179e"
             ],
             [
              0.4444444444444444,
              "#bd3786"
             ],
             [
              0.5555555555555556,
              "#d8576b"
             ],
             [
              0.6666666666666666,
              "#ed7953"
             ],
             [
              0.7777777777777778,
              "#fb9f3a"
             ],
             [
              0.8888888888888888,
              "#fdca26"
             ],
             [
              1,
              "#f0f921"
             ]
            ],
            "type": "histogram2d"
           }
          ],
          "histogram2dcontour": [
           {
            "colorbar": {
             "outlinewidth": 0,
             "ticks": ""
            },
            "colorscale": [
             [
              0,
              "#0d0887"
             ],
             [
              0.1111111111111111,
              "#46039f"
             ],
             [
              0.2222222222222222,
              "#7201a8"
             ],
             [
              0.3333333333333333,
              "#9c179e"
             ],
             [
              0.4444444444444444,
              "#bd3786"
             ],
             [
              0.5555555555555556,
              "#d8576b"
             ],
             [
              0.6666666666666666,
              "#ed7953"
             ],
             [
              0.7777777777777778,
              "#fb9f3a"
             ],
             [
              0.8888888888888888,
              "#fdca26"
             ],
             [
              1,
              "#f0f921"
             ]
            ],
            "type": "histogram2dcontour"
           }
          ],
          "mesh3d": [
           {
            "colorbar": {
             "outlinewidth": 0,
             "ticks": ""
            },
            "type": "mesh3d"
           }
          ],
          "parcoords": [
           {
            "line": {
             "colorbar": {
              "outlinewidth": 0,
              "ticks": ""
             }
            },
            "type": "parcoords"
           }
          ],
          "pie": [
           {
            "automargin": true,
            "type": "pie"
           }
          ],
          "scatter": [
           {
            "fillpattern": {
             "fillmode": "overlay",
             "size": 10,
             "solidity": 0.2
            },
            "type": "scatter"
           }
          ],
          "scatter3d": [
           {
            "line": {
             "colorbar": {
              "outlinewidth": 0,
              "ticks": ""
             }
            },
            "marker": {
             "colorbar": {
              "outlinewidth": 0,
              "ticks": ""
             }
            },
            "type": "scatter3d"
           }
          ],
          "scattercarpet": [
           {
            "marker": {
             "colorbar": {
              "outlinewidth": 0,
              "ticks": ""
             }
            },
            "type": "scattercarpet"
           }
          ],
          "scattergeo": [
           {
            "marker": {
             "colorbar": {
              "outlinewidth": 0,
              "ticks": ""
             }
            },
            "type": "scattergeo"
           }
          ],
          "scattergl": [
           {
            "marker": {
             "colorbar": {
              "outlinewidth": 0,
              "ticks": ""
             }
            },
            "type": "scattergl"
           }
          ],
          "scattermapbox": [
           {
            "marker": {
             "colorbar": {
              "outlinewidth": 0,
              "ticks": ""
             }
            },
            "type": "scattermapbox"
           }
          ],
          "scatterpolar": [
           {
            "marker": {
             "colorbar": {
              "outlinewidth": 0,
              "ticks": ""
             }
            },
            "type": "scatterpolar"
           }
          ],
          "scatterpolargl": [
           {
            "marker": {
             "colorbar": {
              "outlinewidth": 0,
              "ticks": ""
             }
            },
            "type": "scatterpolargl"
           }
          ],
          "scatterternary": [
           {
            "marker": {
             "colorbar": {
              "outlinewidth": 0,
              "ticks": ""
             }
            },
            "type": "scatterternary"
           }
          ],
          "surface": [
           {
            "colorbar": {
             "outlinewidth": 0,
             "ticks": ""
            },
            "colorscale": [
             [
              0,
              "#0d0887"
             ],
             [
              0.1111111111111111,
              "#46039f"
             ],
             [
              0.2222222222222222,
              "#7201a8"
             ],
             [
              0.3333333333333333,
              "#9c179e"
             ],
             [
              0.4444444444444444,
              "#bd3786"
             ],
             [
              0.5555555555555556,
              "#d8576b"
             ],
             [
              0.6666666666666666,
              "#ed7953"
             ],
             [
              0.7777777777777778,
              "#fb9f3a"
             ],
             [
              0.8888888888888888,
              "#fdca26"
             ],
             [
              1,
              "#f0f921"
             ]
            ],
            "type": "surface"
           }
          ],
          "table": [
           {
            "cells": {
             "fill": {
              "color": "#EBF0F8"
             },
             "line": {
              "color": "white"
             }
            },
            "header": {
             "fill": {
              "color": "#C8D4E3"
             },
             "line": {
              "color": "white"
             }
            },
            "type": "table"
           }
          ]
         },
         "layout": {
          "annotationdefaults": {
           "arrowcolor": "#2a3f5f",
           "arrowhead": 0,
           "arrowwidth": 1
          },
          "autotypenumbers": "strict",
          "coloraxis": {
           "colorbar": {
            "outlinewidth": 0,
            "ticks": ""
           }
          },
          "colorscale": {
           "diverging": [
            [
             0,
             "#8e0152"
            ],
            [
             0.1,
             "#c51b7d"
            ],
            [
             0.2,
             "#de77ae"
            ],
            [
             0.3,
             "#f1b6da"
            ],
            [
             0.4,
             "#fde0ef"
            ],
            [
             0.5,
             "#f7f7f7"
            ],
            [
             0.6,
             "#e6f5d0"
            ],
            [
             0.7,
             "#b8e186"
            ],
            [
             0.8,
             "#7fbc41"
            ],
            [
             0.9,
             "#4d9221"
            ],
            [
             1,
             "#276419"
            ]
           ],
           "sequential": [
            [
             0,
             "#0d0887"
            ],
            [
             0.1111111111111111,
             "#46039f"
            ],
            [
             0.2222222222222222,
             "#7201a8"
            ],
            [
             0.3333333333333333,
             "#9c179e"
            ],
            [
             0.4444444444444444,
             "#bd3786"
            ],
            [
             0.5555555555555556,
             "#d8576b"
            ],
            [
             0.6666666666666666,
             "#ed7953"
            ],
            [
             0.7777777777777778,
             "#fb9f3a"
            ],
            [
             0.8888888888888888,
             "#fdca26"
            ],
            [
             1,
             "#f0f921"
            ]
           ],
           "sequentialminus": [
            [
             0,
             "#0d0887"
            ],
            [
             0.1111111111111111,
             "#46039f"
            ],
            [
             0.2222222222222222,
             "#7201a8"
            ],
            [
             0.3333333333333333,
             "#9c179e"
            ],
            [
             0.4444444444444444,
             "#bd3786"
            ],
            [
             0.5555555555555556,
             "#d8576b"
            ],
            [
             0.6666666666666666,
             "#ed7953"
            ],
            [
             0.7777777777777778,
             "#fb9f3a"
            ],
            [
             0.8888888888888888,
             "#fdca26"
            ],
            [
             1,
             "#f0f921"
            ]
           ]
          },
          "colorway": [
           "#636efa",
           "#EF553B",
           "#00cc96",
           "#ab63fa",
           "#FFA15A",
           "#19d3f3",
           "#FF6692",
           "#B6E880",
           "#FF97FF",
           "#FECB52"
          ],
          "font": {
           "color": "#2a3f5f"
          },
          "geo": {
           "bgcolor": "white",
           "lakecolor": "white",
           "landcolor": "#E5ECF6",
           "showlakes": true,
           "showland": true,
           "subunitcolor": "white"
          },
          "hoverlabel": {
           "align": "left"
          },
          "hovermode": "closest",
          "mapbox": {
           "style": "light"
          },
          "paper_bgcolor": "white",
          "plot_bgcolor": "#E5ECF6",
          "polar": {
           "angularaxis": {
            "gridcolor": "white",
            "linecolor": "white",
            "ticks": ""
           },
           "bgcolor": "#E5ECF6",
           "radialaxis": {
            "gridcolor": "white",
            "linecolor": "white",
            "ticks": ""
           }
          },
          "scene": {
           "xaxis": {
            "backgroundcolor": "#E5ECF6",
            "gridcolor": "white",
            "gridwidth": 2,
            "linecolor": "white",
            "showbackground": true,
            "ticks": "",
            "zerolinecolor": "white"
           },
           "yaxis": {
            "backgroundcolor": "#E5ECF6",
            "gridcolor": "white",
            "gridwidth": 2,
            "linecolor": "white",
            "showbackground": true,
            "ticks": "",
            "zerolinecolor": "white"
           },
           "zaxis": {
            "backgroundcolor": "#E5ECF6",
            "gridcolor": "white",
            "gridwidth": 2,
            "linecolor": "white",
            "showbackground": true,
            "ticks": "",
            "zerolinecolor": "white"
           }
          },
          "shapedefaults": {
           "line": {
            "color": "#2a3f5f"
           }
          },
          "ternary": {
           "aaxis": {
            "gridcolor": "white",
            "linecolor": "white",
            "ticks": ""
           },
           "baxis": {
            "gridcolor": "white",
            "linecolor": "white",
            "ticks": ""
           },
           "bgcolor": "#E5ECF6",
           "caxis": {
            "gridcolor": "white",
            "linecolor": "white",
            "ticks": ""
           }
          },
          "title": {
           "x": 0.05
          },
          "xaxis": {
           "automargin": true,
           "gridcolor": "white",
           "linecolor": "white",
           "ticks": "",
           "title": {
            "standoff": 15
           },
           "zerolinecolor": "white",
           "zerolinewidth": 2
          },
          "yaxis": {
           "automargin": true,
           "gridcolor": "white",
           "linecolor": "white",
           "ticks": "",
           "title": {
            "standoff": 15
           },
           "zerolinecolor": "white",
           "zerolinewidth": 2
          }
         }
        },
        "title": {
         "text": "毛利润和净利润"
        },
        "width": 800,
        "xaxis": {
         "anchor": "y",
         "domain": [
          0,
          0.94
         ],
         "showgrid": false,
         "ticktext": [
          2020,
          2021,
          2022,
          2023
         ],
         "tickvals": [
          2020,
          2021,
          2022,
          2023
         ]
        },
        "yaxis": {
         "anchor": "x",
         "domain": [
          0.52,
          1
         ],
         "gridcolor": "rgb(204, 204, 204)",
         "title": {
          "text": "利润($)"
         },
         "zerolinecolor": "rgb(204, 204, 204)"
        },
        "yaxis2": {
         "anchor": "x",
         "overlaying": "y",
         "side": "right"
        }
       }
      }
     },
     "metadata": {},
     "output_type": "display_data"
    }
   ],
   "source": [
    "import plotly.graph_objects as go\n",
    "from plotly.subplots import make_subplots\n",
    "\n",
    "tickvals=[2020,2021,2022,2023]\n",
    "\n",
    "fig = make_subplots(rows=2, cols=1, shared_xaxes=True, vertical_spacing=0.04,\n",
    "                    specs=[[{\"secondary_y\": True, \"type\": \"xy\"}], \n",
    "                           [{\"type\": \"table\"}]])\n",
    "\n",
    "fig.add_trace(go.Bar(\n",
    "       x=tickvals,\n",
    "       y=income_statement['Total Revenue'],\n",
    "       name=\"总收入\",\n",
    "       marker=dict(color=\"rgb(80, 162, 174)\")),\n",
    "       row=1, col=1, secondary_y=False\n",
    "       )\n",
    "\n",
    "fig.add_trace(go.Bar(\n",
    "       x=tickvals,\n",
    "       y=income_statement['Gross Profit'],\n",
    "       name=\"毛利润\",\n",
    "       marker=dict(color=\"rgb(120, 144, 154)\")),\n",
    "       row=1, col=1, secondary_y=False\n",
    "       )\n",
    "\n",
    "fig.add_trace(go.Bar(\n",
    "       x=tickvals,\n",
    "       y=income_statement['Net Income'],\n",
    "       name=\"净利润\",\n",
    "       marker=dict(color=\"rgb(123, 164, 151)\")),\n",
    "       row=1, col=1, secondary_y=False\n",
    "       )\n",
    "\n",
    "fig.add_trace(go.Scatter(\n",
    "       x=tickvals,\n",
    "       y=df['毛利率'],\n",
    "       name=\"毛利率\",\n",
    "       hovertemplate = '%{y:.2%}',\n",
    "       line=dict(color=\"rgb(97, 114, 124)\")),\n",
    "       row=1, col=1, secondary_y=True\n",
    "       )\n",
    "\n",
    "fig.add_trace(go.Scatter(\n",
    "       x=tickvals,\n",
    "       y=df['净利率'],\n",
    "       name=\"净利率\",\n",
    "       hovertemplate = '%{y:.2%}',\n",
    "       line=dict(color=\"rgb(80, 134, 121)\")),\n",
    "       row=1, col=1, secondary_y=True\n",
    "       )\n",
    "\n",
    "table_values = [tickvals,\n",
    "                income_statement['Total Revenue'] / 1000000,\n",
    "                income_statement['Gross Profit'] /1000000,\n",
    "                (df['毛利率']*100).round(2),\n",
    "                income_statement['Net Income'] / 1000000,\n",
    "                (df['净利率']*100).round(2)]\n",
    "                \n",
    "\n",
    "fig.add_trace(go.Table(\n",
    "       header=dict(\n",
    "              values=[\"年份\",\"总收入(M$)\",\"毛利润(M$)\",\"毛利率(%)\",\"净利润(M$)\",\"净利率(%)\"],\n",
    "              font=dict(size=12, color='white'),\n",
    "              align=\"center\",\n",
    "              fill_color='grey',\n",
    "              line_color='darkslategray',\n",
    "              ),\n",
    "       cells=dict(\n",
    "              values=table_values,\n",
    "              font = dict(color = 'darkslategray', size = 11),\n",
    "              align = \"center\",\n",
    "              fill_color=[['white','lightgrey']*4],\n",
    "              line_color='darkslategray',\n",
    "              )\n",
    "       ),\n",
    "       row=2, col=1\n",
    "       )\n",
    "\n",
    "fig.update_layout(\n",
    "       height=800,\n",
    "       width=800,\n",
    "       plot_bgcolor=\"white\",\n",
    "       title_text=\"毛利润和净利润\",\n",
    "       hovermode=\"x unified\",\n",
    "       legend=dict(\n",
    "           orientation=\"h\",\n",
    "           yanchor=\"bottom\",\n",
    "           y=1.02,\n",
    "           xanchor=\"right\",\n",
    "           x=0.9\n",
    "           )\n",
    "       )\n",
    "\n",
    "fig.update_xaxes(tickvals=tickvals, ticktext=tickvals, showgrid=False, row=1, col=1)\n",
    "fig.update_yaxes(title_text='利润($)', gridcolor='rgb(204, 204, 204)',zerolinecolor=\"rgb(204, 204, 204)\", secondary_y=False, row=1, col=1)\n",
    "\n",
    "fig.show()"
   ]
  },
  {
   "cell_type": "code",
   "execution_count": 10,
   "metadata": {},
   "outputs": [
    {
     "data": {
      "application/vnd.plotly.v1+json": {
       "config": {
        "plotlyServerURL": "https://plot.ly"
       },
       "data": [
        {
         "marker": {
          "color": "rgb(49, 122, 134)"
         },
         "name": "收入变化",
         "type": "bar",
         "x": [
          2020,
          2021,
          2022,
          2023
         ],
         "xaxis": "x",
         "y": [
          null,
          91302000000,
          28511000000,
          -11043000000
         ],
         "yaxis": "y"
        },
        {
         "marker": {
          "color": "rgb(93, 134, 121)"
         },
         "name": "净利润变化",
         "type": "bar",
         "x": [
          2020,
          2021,
          2022,
          2023
         ],
         "xaxis": "x",
         "y": [
          null,
          37269000000,
          5123000000,
          -2808000000
         ],
         "yaxis": "y"
        },
        {
         "hovertemplate": "%{y:.2%}",
         "line": {
          "color": "rgb(30, 110, 120)"
         },
         "name": "收入变化率",
         "type": "scatter",
         "x": [
          2020,
          2021,
          2022,
          2023
         ],
         "xaxis": "x",
         "y": [
          null,
          0.33259384733074704,
          0.0779378760418461,
          -0.02800460530319937
         ],
         "yaxis": "y2"
        },
        {
         "hovertemplate": "%{y:.2%}",
         "line": {
          "color": "rgb(93, 134, 121)"
         },
         "name": "净利润变化率",
         "type": "scatter",
         "x": [
          2020,
          2021,
          2022,
          2023
         ],
         "xaxis": "x",
         "y": [
          null,
          0.649161310550243,
          0.05410857625686516,
          -0.02813542679077785
         ],
         "yaxis": "y2"
        }
       ],
       "layout": {
        "height": 500,
        "hovermode": "x unified",
        "legend": {
         "orientation": "h",
         "x": 0.9,
         "xanchor": "right",
         "y": 1.02,
         "yanchor": "bottom"
        },
        "plot_bgcolor": "white",
        "template": {
         "data": {
          "bar": [
           {
            "error_x": {
             "color": "#2a3f5f"
            },
            "error_y": {
             "color": "#2a3f5f"
            },
            "marker": {
             "line": {
              "color": "#E5ECF6",
              "width": 0.5
             },
             "pattern": {
              "fillmode": "overlay",
              "size": 10,
              "solidity": 0.2
             }
            },
            "type": "bar"
           }
          ],
          "barpolar": [
           {
            "marker": {
             "line": {
              "color": "#E5ECF6",
              "width": 0.5
             },
             "pattern": {
              "fillmode": "overlay",
              "size": 10,
              "solidity": 0.2
             }
            },
            "type": "barpolar"
           }
          ],
          "carpet": [
           {
            "aaxis": {
             "endlinecolor": "#2a3f5f",
             "gridcolor": "white",
             "linecolor": "white",
             "minorgridcolor": "white",
             "startlinecolor": "#2a3f5f"
            },
            "baxis": {
             "endlinecolor": "#2a3f5f",
             "gridcolor": "white",
             "linecolor": "white",
             "minorgridcolor": "white",
             "startlinecolor": "#2a3f5f"
            },
            "type": "carpet"
           }
          ],
          "choropleth": [
           {
            "colorbar": {
             "outlinewidth": 0,
             "ticks": ""
            },
            "type": "choropleth"
           }
          ],
          "contour": [
           {
            "colorbar": {
             "outlinewidth": 0,
             "ticks": ""
            },
            "colorscale": [
             [
              0,
              "#0d0887"
             ],
             [
              0.1111111111111111,
              "#46039f"
             ],
             [
              0.2222222222222222,
              "#7201a8"
             ],
             [
              0.3333333333333333,
              "#9c179e"
             ],
             [
              0.4444444444444444,
              "#bd3786"
             ],
             [
              0.5555555555555556,
              "#d8576b"
             ],
             [
              0.6666666666666666,
              "#ed7953"
             ],
             [
              0.7777777777777778,
              "#fb9f3a"
             ],
             [
              0.8888888888888888,
              "#fdca26"
             ],
             [
              1,
              "#f0f921"
             ]
            ],
            "type": "contour"
           }
          ],
          "contourcarpet": [
           {
            "colorbar": {
             "outlinewidth": 0,
             "ticks": ""
            },
            "type": "contourcarpet"
           }
          ],
          "heatmap": [
           {
            "colorbar": {
             "outlinewidth": 0,
             "ticks": ""
            },
            "colorscale": [
             [
              0,
              "#0d0887"
             ],
             [
              0.1111111111111111,
              "#46039f"
             ],
             [
              0.2222222222222222,
              "#7201a8"
             ],
             [
              0.3333333333333333,
              "#9c179e"
             ],
             [
              0.4444444444444444,
              "#bd3786"
             ],
             [
              0.5555555555555556,
              "#d8576b"
             ],
             [
              0.6666666666666666,
              "#ed7953"
             ],
             [
              0.7777777777777778,
              "#fb9f3a"
             ],
             [
              0.8888888888888888,
              "#fdca26"
             ],
             [
              1,
              "#f0f921"
             ]
            ],
            "type": "heatmap"
           }
          ],
          "heatmapgl": [
           {
            "colorbar": {
             "outlinewidth": 0,
             "ticks": ""
            },
            "colorscale": [
             [
              0,
              "#0d0887"
             ],
             [
              0.1111111111111111,
              "#46039f"
             ],
             [
              0.2222222222222222,
              "#7201a8"
             ],
             [
              0.3333333333333333,
              "#9c179e"
             ],
             [
              0.4444444444444444,
              "#bd3786"
             ],
             [
              0.5555555555555556,
              "#d8576b"
             ],
             [
              0.6666666666666666,
              "#ed7953"
             ],
             [
              0.7777777777777778,
              "#fb9f3a"
             ],
             [
              0.8888888888888888,
              "#fdca26"
             ],
             [
              1,
              "#f0f921"
             ]
            ],
            "type": "heatmapgl"
           }
          ],
          "histogram": [
           {
            "marker": {
             "pattern": {
              "fillmode": "overlay",
              "size": 10,
              "solidity": 0.2
             }
            },
            "type": "histogram"
           }
          ],
          "histogram2d": [
           {
            "colorbar": {
             "outlinewidth": 0,
             "ticks": ""
            },
            "colorscale": [
             [
              0,
              "#0d0887"
             ],
             [
              0.1111111111111111,
              "#46039f"
             ],
             [
              0.2222222222222222,
              "#7201a8"
             ],
             [
              0.3333333333333333,
              "#9c179e"
             ],
             [
              0.4444444444444444,
              "#bd3786"
             ],
             [
              0.5555555555555556,
              "#d8576b"
             ],
             [
              0.6666666666666666,
              "#ed7953"
             ],
             [
              0.7777777777777778,
              "#fb9f3a"
             ],
             [
              0.8888888888888888,
              "#fdca26"
             ],
             [
              1,
              "#f0f921"
             ]
            ],
            "type": "histogram2d"
           }
          ],
          "histogram2dcontour": [
           {
            "colorbar": {
             "outlinewidth": 0,
             "ticks": ""
            },
            "colorscale": [
             [
              0,
              "#0d0887"
             ],
             [
              0.1111111111111111,
              "#46039f"
             ],
             [
              0.2222222222222222,
              "#7201a8"
             ],
             [
              0.3333333333333333,
              "#9c179e"
             ],
             [
              0.4444444444444444,
              "#bd3786"
             ],
             [
              0.5555555555555556,
              "#d8576b"
             ],
             [
              0.6666666666666666,
              "#ed7953"
             ],
             [
              0.7777777777777778,
              "#fb9f3a"
             ],
             [
              0.8888888888888888,
              "#fdca26"
             ],
             [
              1,
              "#f0f921"
             ]
            ],
            "type": "histogram2dcontour"
           }
          ],
          "mesh3d": [
           {
            "colorbar": {
             "outlinewidth": 0,
             "ticks": ""
            },
            "type": "mesh3d"
           }
          ],
          "parcoords": [
           {
            "line": {
             "colorbar": {
              "outlinewidth": 0,
              "ticks": ""
             }
            },
            "type": "parcoords"
           }
          ],
          "pie": [
           {
            "automargin": true,
            "type": "pie"
           }
          ],
          "scatter": [
           {
            "fillpattern": {
             "fillmode": "overlay",
             "size": 10,
             "solidity": 0.2
            },
            "type": "scatter"
           }
          ],
          "scatter3d": [
           {
            "line": {
             "colorbar": {
              "outlinewidth": 0,
              "ticks": ""
             }
            },
            "marker": {
             "colorbar": {
              "outlinewidth": 0,
              "ticks": ""
             }
            },
            "type": "scatter3d"
           }
          ],
          "scattercarpet": [
           {
            "marker": {
             "colorbar": {
              "outlinewidth": 0,
              "ticks": ""
             }
            },
            "type": "scattercarpet"
           }
          ],
          "scattergeo": [
           {
            "marker": {
             "colorbar": {
              "outlinewidth": 0,
              "ticks": ""
             }
            },
            "type": "scattergeo"
           }
          ],
          "scattergl": [
           {
            "marker": {
             "colorbar": {
              "outlinewidth": 0,
              "ticks": ""
             }
            },
            "type": "scattergl"
           }
          ],
          "scattermapbox": [
           {
            "marker": {
             "colorbar": {
              "outlinewidth": 0,
              "ticks": ""
             }
            },
            "type": "scattermapbox"
           }
          ],
          "scatterpolar": [
           {
            "marker": {
             "colorbar": {
              "outlinewidth": 0,
              "ticks": ""
             }
            },
            "type": "scatterpolar"
           }
          ],
          "scatterpolargl": [
           {
            "marker": {
             "colorbar": {
              "outlinewidth": 0,
              "ticks": ""
             }
            },
            "type": "scatterpolargl"
           }
          ],
          "scatterternary": [
           {
            "marker": {
             "colorbar": {
              "outlinewidth": 0,
              "ticks": ""
             }
            },
            "type": "scatterternary"
           }
          ],
          "surface": [
           {
            "colorbar": {
             "outlinewidth": 0,
             "ticks": ""
            },
            "colorscale": [
             [
              0,
              "#0d0887"
             ],
             [
              0.1111111111111111,
              "#46039f"
             ],
             [
              0.2222222222222222,
              "#7201a8"
             ],
             [
              0.3333333333333333,
              "#9c179e"
             ],
             [
              0.4444444444444444,
              "#bd3786"
             ],
             [
              0.5555555555555556,
              "#d8576b"
             ],
             [
              0.6666666666666666,
              "#ed7953"
             ],
             [
              0.7777777777777778,
              "#fb9f3a"
             ],
             [
              0.8888888888888888,
              "#fdca26"
             ],
             [
              1,
              "#f0f921"
             ]
            ],
            "type": "surface"
           }
          ],
          "table": [
           {
            "cells": {
             "fill": {
              "color": "#EBF0F8"
             },
             "line": {
              "color": "white"
             }
            },
            "header": {
             "fill": {
              "color": "#C8D4E3"
             },
             "line": {
              "color": "white"
             }
            },
            "type": "table"
           }
          ]
         },
         "layout": {
          "annotationdefaults": {
           "arrowcolor": "#2a3f5f",
           "arrowhead": 0,
           "arrowwidth": 1
          },
          "autotypenumbers": "strict",
          "coloraxis": {
           "colorbar": {
            "outlinewidth": 0,
            "ticks": ""
           }
          },
          "colorscale": {
           "diverging": [
            [
             0,
             "#8e0152"
            ],
            [
             0.1,
             "#c51b7d"
            ],
            [
             0.2,
             "#de77ae"
            ],
            [
             0.3,
             "#f1b6da"
            ],
            [
             0.4,
             "#fde0ef"
            ],
            [
             0.5,
             "#f7f7f7"
            ],
            [
             0.6,
             "#e6f5d0"
            ],
            [
             0.7,
             "#b8e186"
            ],
            [
             0.8,
             "#7fbc41"
            ],
            [
             0.9,
             "#4d9221"
            ],
            [
             1,
             "#276419"
            ]
           ],
           "sequential": [
            [
             0,
             "#0d0887"
            ],
            [
             0.1111111111111111,
             "#46039f"
            ],
            [
             0.2222222222222222,
             "#7201a8"
            ],
            [
             0.3333333333333333,
             "#9c179e"
            ],
            [
             0.4444444444444444,
             "#bd3786"
            ],
            [
             0.5555555555555556,
             "#d8576b"
            ],
            [
             0.6666666666666666,
             "#ed7953"
            ],
            [
             0.7777777777777778,
             "#fb9f3a"
            ],
            [
             0.8888888888888888,
             "#fdca26"
            ],
            [
             1,
             "#f0f921"
            ]
           ],
           "sequentialminus": [
            [
             0,
             "#0d0887"
            ],
            [
             0.1111111111111111,
             "#46039f"
            ],
            [
             0.2222222222222222,
             "#7201a8"
            ],
            [
             0.3333333333333333,
             "#9c179e"
            ],
            [
             0.4444444444444444,
             "#bd3786"
            ],
            [
             0.5555555555555556,
             "#d8576b"
            ],
            [
             0.6666666666666666,
             "#ed7953"
            ],
            [
             0.7777777777777778,
             "#fb9f3a"
            ],
            [
             0.8888888888888888,
             "#fdca26"
            ],
            [
             1,
             "#f0f921"
            ]
           ]
          },
          "colorway": [
           "#636efa",
           "#EF553B",
           "#00cc96",
           "#ab63fa",
           "#FFA15A",
           "#19d3f3",
           "#FF6692",
           "#B6E880",
           "#FF97FF",
           "#FECB52"
          ],
          "font": {
           "color": "#2a3f5f"
          },
          "geo": {
           "bgcolor": "white",
           "lakecolor": "white",
           "landcolor": "#E5ECF6",
           "showlakes": true,
           "showland": true,
           "subunitcolor": "white"
          },
          "hoverlabel": {
           "align": "left"
          },
          "hovermode": "closest",
          "mapbox": {
           "style": "light"
          },
          "paper_bgcolor": "white",
          "plot_bgcolor": "#E5ECF6",
          "polar": {
           "angularaxis": {
            "gridcolor": "white",
            "linecolor": "white",
            "ticks": ""
           },
           "bgcolor": "#E5ECF6",
           "radialaxis": {
            "gridcolor": "white",
            "linecolor": "white",
            "ticks": ""
           }
          },
          "scene": {
           "xaxis": {
            "backgroundcolor": "#E5ECF6",
            "gridcolor": "white",
            "gridwidth": 2,
            "linecolor": "white",
            "showbackground": true,
            "ticks": "",
            "zerolinecolor": "white"
           },
           "yaxis": {
            "backgroundcolor": "#E5ECF6",
            "gridcolor": "white",
            "gridwidth": 2,
            "linecolor": "white",
            "showbackground": true,
            "ticks": "",
            "zerolinecolor": "white"
           },
           "zaxis": {
            "backgroundcolor": "#E5ECF6",
            "gridcolor": "white",
            "gridwidth": 2,
            "linecolor": "white",
            "showbackground": true,
            "ticks": "",
            "zerolinecolor": "white"
           }
          },
          "shapedefaults": {
           "line": {
            "color": "#2a3f5f"
           }
          },
          "ternary": {
           "aaxis": {
            "gridcolor": "white",
            "linecolor": "white",
            "ticks": ""
           },
           "baxis": {
            "gridcolor": "white",
            "linecolor": "white",
            "ticks": ""
           },
           "bgcolor": "#E5ECF6",
           "caxis": {
            "gridcolor": "white",
            "linecolor": "white",
            "ticks": ""
           }
          },
          "title": {
           "x": 0.05
          },
          "xaxis": {
           "automargin": true,
           "gridcolor": "white",
           "linecolor": "white",
           "ticks": "",
           "title": {
            "standoff": 15
           },
           "zerolinecolor": "white",
           "zerolinewidth": 2
          },
          "yaxis": {
           "automargin": true,
           "gridcolor": "white",
           "linecolor": "white",
           "ticks": "",
           "title": {
            "standoff": 15
           },
           "zerolinecolor": "white",
           "zerolinewidth": 2
          }
         }
        },
        "title": {
         "text": "收入和净利润变化"
        },
        "width": 800,
        "xaxis": {
         "anchor": "y",
         "domain": [
          0,
          0.94
         ],
         "showgrid": false,
         "ticktext": [
          2020,
          2021,
          2022,
          2023
         ],
         "tickvals": [
          2020,
          2021,
          2022,
          2023
         ]
        },
        "yaxis": {
         "anchor": "x",
         "domain": [
          0,
          1
         ],
         "gridcolor": "rgb(204, 204, 204)",
         "title": {
          "text": "利润($)"
         },
         "zerolinecolor": "rgb(204, 204, 204)"
        },
        "yaxis2": {
         "anchor": "x",
         "overlaying": "y",
         "side": "right"
        }
       }
      }
     },
     "metadata": {},
     "output_type": "display_data"
    }
   ],
   "source": [
    "import plotly.graph_objects as go\n",
    "from plotly.subplots import make_subplots\n",
    "\n",
    "tickvals=[2020,2021,2022,2023]\n",
    "\n",
    "fig = make_subplots(specs=[[{\"secondary_y\": True}]])\n",
    "\n",
    "fig.add_trace(go.Bar(\n",
    "       x=tickvals,\n",
    "       y=df['收入变化'],\n",
    "       name=\"收入变化\",\n",
    "       marker=dict(color=\"rgb(49, 122, 134)\")),\n",
    "       secondary_y=False\n",
    "       )\n",
    "\n",
    "fig.add_trace(go.Bar(\n",
    "       x=tickvals,\n",
    "       y=df['净利润变化'],\n",
    "       name=\"净利润变化\",\n",
    "       marker=dict(color=\"rgb(93, 134, 121)\")),\n",
    "       secondary_y=False\n",
    "       )\n",
    "\n",
    "fig.add_trace(go.Scatter(\n",
    "       x=tickvals,\n",
    "       y=df['收入变化率'],\n",
    "       name=\"收入变化率\",\n",
    "       hovertemplate = '%{y:.2%}',\n",
    "       line=dict(color=\"rgb(30, 110, 120)\")),\n",
    "       secondary_y=True\n",
    "       )\n",
    "\n",
    "fig.add_trace(go.Scatter(\n",
    "       x=tickvals,\n",
    "       y=df['净利润变化率'],\n",
    "       name=\"净利润变化率\",\n",
    "       hovertemplate = '%{y:.2%}',\n",
    "       line=dict(color=\"rgb(93, 134, 121)\")),\n",
    "       secondary_y=True\n",
    "       )\n",
    "\n",
    "fig.update_layout(\n",
    "       height=500,\n",
    "       width=800,\n",
    "       plot_bgcolor=\"white\",\n",
    "       title_text=\"收入和净利润变化\",\n",
    "       hovermode=\"x unified\",\n",
    "       legend=dict(\n",
    "           orientation=\"h\",\n",
    "           yanchor=\"bottom\",\n",
    "           y=1.02,\n",
    "           xanchor=\"right\",\n",
    "           x=0.9\n",
    "           )\n",
    "       )\n",
    "\n",
    "fig.update_xaxes(tickvals=tickvals, ticktext=tickvals, showgrid=False)\n",
    "fig.update_yaxes(title_text='利润($)', gridcolor='rgb(204, 204, 204)',zerolinecolor=\"rgb(204, 204, 204)\", secondary_y=False)\n",
    "fig.show()"
   ]
  },
  {
   "cell_type": "code",
   "execution_count": 11,
   "metadata": {},
   "outputs": [
    {
     "data": {
      "text/html": [
       "<div>\n",
       "<style scoped>\n",
       "    .dataframe tbody tr th:only-of-type {\n",
       "        vertical-align: middle;\n",
       "    }\n",
       "\n",
       "    .dataframe tbody tr th {\n",
       "        vertical-align: top;\n",
       "    }\n",
       "\n",
       "    .dataframe thead th {\n",
       "        text-align: right;\n",
       "    }\n",
       "</style>\n",
       "<table border=\"1\" class=\"dataframe\">\n",
       "  <thead>\n",
       "    <tr style=\"text-align: right;\">\n",
       "      <th>Unnamed: 0</th>\n",
       "      <th>Treasury Shares Number</th>\n",
       "      <th>Ordinary Shares Number</th>\n",
       "      <th>Share Issued</th>\n",
       "      <th>Net Debt</th>\n",
       "      <th>Total Debt</th>\n",
       "      <th>Tangible Book Value</th>\n",
       "      <th>Invested Capital</th>\n",
       "      <th>Working Capital</th>\n",
       "      <th>Net Tangible Assets</th>\n",
       "      <th>Common Stock Equity</th>\n",
       "      <th>...</th>\n",
       "      <th>Other Current Assets</th>\n",
       "      <th>Inventory</th>\n",
       "      <th>Receivables</th>\n",
       "      <th>Other Receivables</th>\n",
       "      <th>Accounts Receivable</th>\n",
       "      <th>Cash Cash Equivalents And Short Term Investments</th>\n",
       "      <th>Other Short Term Investments</th>\n",
       "      <th>Cash And Cash Equivalents</th>\n",
       "      <th>Cash Equivalents</th>\n",
       "      <th>Cash Financial</th>\n",
       "    </tr>\n",
       "  </thead>\n",
       "  <tbody>\n",
       "    <tr>\n",
       "      <th>2020-09-30</th>\n",
       "      <td>NaN</td>\n",
       "      <td>16976763000.0</td>\n",
       "      <td>16976763000.0</td>\n",
       "      <td>74420000000.0</td>\n",
       "      <td>112436000000.0</td>\n",
       "      <td>65339000000.0</td>\n",
       "      <td>177775000000.0</td>\n",
       "      <td>38321000000.0</td>\n",
       "      <td>65339000000.0</td>\n",
       "      <td>65339000000.0</td>\n",
       "      <td>...</td>\n",
       "      <td>11264000000.0</td>\n",
       "      <td>4061000000.0</td>\n",
       "      <td>37445000000.0</td>\n",
       "      <td>21325000000.0</td>\n",
       "      <td>16120000000.0</td>\n",
       "      <td>90943000000.0</td>\n",
       "      <td>52927000000.0</td>\n",
       "      <td>38016000000.0</td>\n",
       "      <td>20243000000.0</td>\n",
       "      <td>17773000000.0</td>\n",
       "    </tr>\n",
       "    <tr>\n",
       "      <th>2021-09-30</th>\n",
       "      <td>NaN</td>\n",
       "      <td>16426786000.0</td>\n",
       "      <td>16426786000.0</td>\n",
       "      <td>89779000000.0</td>\n",
       "      <td>124719000000.0</td>\n",
       "      <td>63090000000.0</td>\n",
       "      <td>187809000000.0</td>\n",
       "      <td>9355000000.0</td>\n",
       "      <td>63090000000.0</td>\n",
       "      <td>63090000000.0</td>\n",
       "      <td>...</td>\n",
       "      <td>14111000000.0</td>\n",
       "      <td>6580000000.0</td>\n",
       "      <td>51506000000.0</td>\n",
       "      <td>25228000000.0</td>\n",
       "      <td>26278000000.0</td>\n",
       "      <td>62639000000.0</td>\n",
       "      <td>27699000000.0</td>\n",
       "      <td>34940000000.0</td>\n",
       "      <td>17635000000.0</td>\n",
       "      <td>17305000000.0</td>\n",
       "    </tr>\n",
       "    <tr>\n",
       "      <th>2022-09-30</th>\n",
       "      <td>NaN</td>\n",
       "      <td>15943425000.0</td>\n",
       "      <td>15943425000.0</td>\n",
       "      <td>96423000000.0</td>\n",
       "      <td>120069000000.0</td>\n",
       "      <td>50672000000.0</td>\n",
       "      <td>170741000000.0</td>\n",
       "      <td>-18577000000.0</td>\n",
       "      <td>50672000000.0</td>\n",
       "      <td>50672000000.0</td>\n",
       "      <td>...</td>\n",
       "      <td>21223000000.0</td>\n",
       "      <td>4946000000.0</td>\n",
       "      <td>60932000000.0</td>\n",
       "      <td>32748000000.0</td>\n",
       "      <td>28184000000.0</td>\n",
       "      <td>48304000000.0</td>\n",
       "      <td>24658000000.0</td>\n",
       "      <td>23646000000.0</td>\n",
       "      <td>5100000000.0</td>\n",
       "      <td>18546000000.0</td>\n",
       "    </tr>\n",
       "    <tr>\n",
       "      <th>2023-09-30</th>\n",
       "      <td>0.0</td>\n",
       "      <td>15550061000.0</td>\n",
       "      <td>15550061000.0</td>\n",
       "      <td>81123000000.0</td>\n",
       "      <td>111088000000.0</td>\n",
       "      <td>62146000000.0</td>\n",
       "      <td>173234000000.0</td>\n",
       "      <td>-1742000000.0</td>\n",
       "      <td>62146000000.0</td>\n",
       "      <td>62146000000.0</td>\n",
       "      <td>...</td>\n",
       "      <td>14695000000.0</td>\n",
       "      <td>6331000000.0</td>\n",
       "      <td>60985000000.0</td>\n",
       "      <td>31477000000.0</td>\n",
       "      <td>29508000000.0</td>\n",
       "      <td>61555000000.0</td>\n",
       "      <td>31590000000.0</td>\n",
       "      <td>29965000000.0</td>\n",
       "      <td>NaN</td>\n",
       "      <td>NaN</td>\n",
       "    </tr>\n",
       "  </tbody>\n",
       "</table>\n",
       "<p>4 rows × 60 columns</p>\n",
       "</div>"
      ],
      "text/plain": [
       "Unnamed: 0 Treasury Shares Number Ordinary Shares Number   Share Issued   \n",
       "2020-09-30                    NaN          16976763000.0  16976763000.0  \\\n",
       "2021-09-30                    NaN          16426786000.0  16426786000.0   \n",
       "2022-09-30                    NaN          15943425000.0  15943425000.0   \n",
       "2023-09-30                    0.0          15550061000.0  15550061000.0   \n",
       "\n",
       "Unnamed: 0       Net Debt      Total Debt Tangible Book Value   \n",
       "2020-09-30  74420000000.0  112436000000.0       65339000000.0  \\\n",
       "2021-09-30  89779000000.0  124719000000.0       63090000000.0   \n",
       "2022-09-30  96423000000.0  120069000000.0       50672000000.0   \n",
       "2023-09-30  81123000000.0  111088000000.0       62146000000.0   \n",
       "\n",
       "Unnamed: 0 Invested Capital Working Capital Net Tangible Assets   \n",
       "2020-09-30   177775000000.0   38321000000.0       65339000000.0  \\\n",
       "2021-09-30   187809000000.0    9355000000.0       63090000000.0   \n",
       "2022-09-30   170741000000.0  -18577000000.0       50672000000.0   \n",
       "2023-09-30   173234000000.0   -1742000000.0       62146000000.0   \n",
       "\n",
       "Unnamed: 0 Common Stock Equity  ... Other Current Assets     Inventory   \n",
       "2020-09-30       65339000000.0  ...        11264000000.0  4061000000.0  \\\n",
       "2021-09-30       63090000000.0  ...        14111000000.0  6580000000.0   \n",
       "2022-09-30       50672000000.0  ...        21223000000.0  4946000000.0   \n",
       "2023-09-30       62146000000.0  ...        14695000000.0  6331000000.0   \n",
       "\n",
       "Unnamed: 0    Receivables Other Receivables Accounts Receivable   \n",
       "2020-09-30  37445000000.0     21325000000.0       16120000000.0  \\\n",
       "2021-09-30  51506000000.0     25228000000.0       26278000000.0   \n",
       "2022-09-30  60932000000.0     32748000000.0       28184000000.0   \n",
       "2023-09-30  60985000000.0     31477000000.0       29508000000.0   \n",
       "\n",
       "Unnamed: 0 Cash Cash Equivalents And Short Term Investments   \n",
       "2020-09-30                                    90943000000.0  \\\n",
       "2021-09-30                                    62639000000.0   \n",
       "2022-09-30                                    48304000000.0   \n",
       "2023-09-30                                    61555000000.0   \n",
       "\n",
       "Unnamed: 0 Other Short Term Investments Cash And Cash Equivalents   \n",
       "2020-09-30                52927000000.0             38016000000.0  \\\n",
       "2021-09-30                27699000000.0             34940000000.0   \n",
       "2022-09-30                24658000000.0             23646000000.0   \n",
       "2023-09-30                31590000000.0             29965000000.0   \n",
       "\n",
       "Unnamed: 0 Cash Equivalents Cash Financial  \n",
       "2020-09-30    20243000000.0  17773000000.0  \n",
       "2021-09-30    17635000000.0  17305000000.0  \n",
       "2022-09-30     5100000000.0  18546000000.0  \n",
       "2023-09-30              NaN            NaN  \n",
       "\n",
       "[4 rows x 60 columns]"
      ]
     },
     "execution_count": 11,
     "metadata": {},
     "output_type": "execute_result"
    }
   ],
   "source": [
    "balance_sheet"
   ]
  },
  {
   "cell_type": "code",
   "execution_count": 12,
   "metadata": {},
   "outputs": [],
   "source": [
    "df['债务比率'] = (balance_sheet['Total Liabilities Net Minority Interest']/balance_sheet['Total Assets']).astype(float)\n",
    "df['流动比率'] = (balance_sheet['Current Assets']/balance_sheet['Current Liabilities']).astype(float)"
   ]
  },
  {
   "cell_type": "code",
   "execution_count": 13,
   "metadata": {},
   "outputs": [
    {
     "data": {
      "text/html": [
       "<div>\n",
       "<style scoped>\n",
       "    .dataframe tbody tr th:only-of-type {\n",
       "        vertical-align: middle;\n",
       "    }\n",
       "\n",
       "    .dataframe tbody tr th {\n",
       "        vertical-align: top;\n",
       "    }\n",
       "\n",
       "    .dataframe thead th {\n",
       "        text-align: right;\n",
       "    }\n",
       "</style>\n",
       "<table border=\"1\" class=\"dataframe\">\n",
       "  <thead>\n",
       "    <tr style=\"text-align: right;\">\n",
       "      <th></th>\n",
       "      <th>毛利率</th>\n",
       "      <th>净利率</th>\n",
       "      <th>资产回报率</th>\n",
       "      <th>收入变化</th>\n",
       "      <th>净利润变化</th>\n",
       "      <th>收入变化率</th>\n",
       "      <th>净利润变化率</th>\n",
       "      <th>债务比率</th>\n",
       "      <th>流动比率</th>\n",
       "    </tr>\n",
       "  </thead>\n",
       "  <tbody>\n",
       "    <tr>\n",
       "      <th>2020-09-30</th>\n",
       "      <td>0.382332</td>\n",
       "      <td>0.209136</td>\n",
       "      <td>0.177256</td>\n",
       "      <td>NaN</td>\n",
       "      <td>NaN</td>\n",
       "      <td>NaN</td>\n",
       "      <td>NaN</td>\n",
       "      <td>0.798267</td>\n",
       "      <td>1.363604</td>\n",
       "    </tr>\n",
       "    <tr>\n",
       "      <th>2021-09-30</th>\n",
       "      <td>0.417794</td>\n",
       "      <td>0.258818</td>\n",
       "      <td>0.269742</td>\n",
       "      <td>91302000000.0</td>\n",
       "      <td>37269000000.0</td>\n",
       "      <td>0.332594</td>\n",
       "      <td>0.649161</td>\n",
       "      <td>0.820257</td>\n",
       "      <td>1.074553</td>\n",
       "    </tr>\n",
       "    <tr>\n",
       "      <th>2022-09-30</th>\n",
       "      <td>0.433096</td>\n",
       "      <td>0.253096</td>\n",
       "      <td>0.282924</td>\n",
       "      <td>28511000000.0</td>\n",
       "      <td>5123000000.0</td>\n",
       "      <td>0.077938</td>\n",
       "      <td>0.054109</td>\n",
       "      <td>0.856354</td>\n",
       "      <td>0.879356</td>\n",
       "    </tr>\n",
       "    <tr>\n",
       "      <th>2023-09-30</th>\n",
       "      <td>0.441311</td>\n",
       "      <td>0.253062</td>\n",
       "      <td>0.275098</td>\n",
       "      <td>-11043000000.0</td>\n",
       "      <td>-2808000000.0</td>\n",
       "      <td>-0.028005</td>\n",
       "      <td>-0.028135</td>\n",
       "      <td>0.823741</td>\n",
       "      <td>0.988012</td>\n",
       "    </tr>\n",
       "  </tbody>\n",
       "</table>\n",
       "</div>"
      ],
      "text/plain": [
       "                 毛利率       净利率     资产回报率           收入变化          净利润变化   \n",
       "2020-09-30  0.382332  0.209136  0.177256            NaN            NaN  \\\n",
       "2021-09-30  0.417794  0.258818  0.269742  91302000000.0  37269000000.0   \n",
       "2022-09-30  0.433096  0.253096  0.282924  28511000000.0   5123000000.0   \n",
       "2023-09-30  0.441311  0.253062  0.275098 -11043000000.0  -2808000000.0   \n",
       "\n",
       "               收入变化率    净利润变化率      债务比率      流动比率  \n",
       "2020-09-30       NaN       NaN  0.798267  1.363604  \n",
       "2021-09-30  0.332594  0.649161  0.820257  1.074553  \n",
       "2022-09-30  0.077938  0.054109  0.856354  0.879356  \n",
       "2023-09-30 -0.028005 -0.028135  0.823741  0.988012  "
      ]
     },
     "execution_count": 13,
     "metadata": {},
     "output_type": "execute_result"
    }
   ],
   "source": [
    "df"
   ]
  },
  {
   "cell_type": "code",
   "execution_count": 14,
   "metadata": {},
   "outputs": [
    {
     "data": {
      "application/vnd.plotly.v1+json": {
       "config": {
        "plotlyServerURL": "https://plot.ly"
       },
       "data": [
        {
         "marker": {
          "color": "rgb(80, 162, 174)"
         },
         "name": "资产",
         "type": "bar",
         "x": [
          2020,
          2021,
          2022,
          2023
         ],
         "xaxis": "x",
         "y": [
          323888000000,
          351002000000,
          352755000000,
          352583000000
         ],
         "yaxis": "y"
        },
        {
         "marker": {
          "color": "rgb(120, 144, 154)"
         },
         "name": "负债",
         "type": "bar",
         "x": [
          2020,
          2021,
          2022,
          2023
         ],
         "xaxis": "x",
         "y": [
          258549000000,
          287912000000,
          302083000000,
          290437000000
         ],
         "yaxis": "y"
        },
        {
         "hovertemplate": "%{y:.2%}",
         "line": {
          "color": "rgb(34, 186, 187)"
         },
         "name": "债务比率",
         "type": "scatter",
         "x": [
          2020,
          2021,
          2022,
          2023
         ],
         "xaxis": "x",
         "y": [
          0.7982666847799239,
          0.8202574344305731,
          0.8563535598361469,
          0.8237407929480435
         ],
         "yaxis": "y2"
        },
        {
         "marker": {
          "color": "rgb(0, 171, 189)"
         },
         "name": "流动资产",
         "type": "bar",
         "x": [
          2020,
          2021,
          2022,
          2023
         ],
         "xaxis": "x2",
         "y": [
          143713000000,
          134836000000,
          135405000000,
          143566000000
         ],
         "yaxis": "y3"
        },
        {
         "marker": {
          "color": "rgb(161, 199, 224)"
         },
         "name": "流动负债",
         "type": "bar",
         "x": [
          2020,
          2021,
          2022,
          2023
         ],
         "xaxis": "x2",
         "y": [
          105392000000,
          125481000000,
          153982000000,
          145308000000
         ],
         "yaxis": "y3"
        },
        {
         "hovertemplate": "%{y:.2%}",
         "line": {
          "color": "rgb(0, 153, 221)"
         },
         "name": "流动比率",
         "type": "scatter",
         "x": [
          2020,
          2021,
          2022,
          2023
         ],
         "xaxis": "x2",
         "y": [
          1.3636044481554577,
          1.0745531195957954,
          0.8793560286267226,
          0.9880116717592975
         ],
         "yaxis": "y4"
        }
       ],
       "layout": {
        "annotations": [
         {
          "font": {
           "size": 16
          },
          "showarrow": false,
          "text": "债务比率",
          "x": 0.47,
          "xanchor": "center",
          "xref": "paper",
          "y": 0.9999999999999999,
          "yanchor": "bottom",
          "yref": "paper"
         },
         {
          "font": {
           "size": 16
          },
          "showarrow": false,
          "text": "流动比率",
          "x": 0.47,
          "xanchor": "center",
          "xref": "paper",
          "y": 0.46499999999999997,
          "yanchor": "bottom",
          "yref": "paper"
         }
        ],
        "height": 800,
        "hovermode": "x unified",
        "legend": {
         "orientation": "h",
         "x": 0.9,
         "xanchor": "right",
         "y": 1.02,
         "yanchor": "bottom"
        },
        "plot_bgcolor": "white",
        "template": {
         "data": {
          "bar": [
           {
            "error_x": {
             "color": "#2a3f5f"
            },
            "error_y": {
             "color": "#2a3f5f"
            },
            "marker": {
             "line": {
              "color": "#E5ECF6",
              "width": 0.5
             },
             "pattern": {
              "fillmode": "overlay",
              "size": 10,
              "solidity": 0.2
             }
            },
            "type": "bar"
           }
          ],
          "barpolar": [
           {
            "marker": {
             "line": {
              "color": "#E5ECF6",
              "width": 0.5
             },
             "pattern": {
              "fillmode": "overlay",
              "size": 10,
              "solidity": 0.2
             }
            },
            "type": "barpolar"
           }
          ],
          "carpet": [
           {
            "aaxis": {
             "endlinecolor": "#2a3f5f",
             "gridcolor": "white",
             "linecolor": "white",
             "minorgridcolor": "white",
             "startlinecolor": "#2a3f5f"
            },
            "baxis": {
             "endlinecolor": "#2a3f5f",
             "gridcolor": "white",
             "linecolor": "white",
             "minorgridcolor": "white",
             "startlinecolor": "#2a3f5f"
            },
            "type": "carpet"
           }
          ],
          "choropleth": [
           {
            "colorbar": {
             "outlinewidth": 0,
             "ticks": ""
            },
            "type": "choropleth"
           }
          ],
          "contour": [
           {
            "colorbar": {
             "outlinewidth": 0,
             "ticks": ""
            },
            "colorscale": [
             [
              0,
              "#0d0887"
             ],
             [
              0.1111111111111111,
              "#46039f"
             ],
             [
              0.2222222222222222,
              "#7201a8"
             ],
             [
              0.3333333333333333,
              "#9c179e"
             ],
             [
              0.4444444444444444,
              "#bd3786"
             ],
             [
              0.5555555555555556,
              "#d8576b"
             ],
             [
              0.6666666666666666,
              "#ed7953"
             ],
             [
              0.7777777777777778,
              "#fb9f3a"
             ],
             [
              0.8888888888888888,
              "#fdca26"
             ],
             [
              1,
              "#f0f921"
             ]
            ],
            "type": "contour"
           }
          ],
          "contourcarpet": [
           {
            "colorbar": {
             "outlinewidth": 0,
             "ticks": ""
            },
            "type": "contourcarpet"
           }
          ],
          "heatmap": [
           {
            "colorbar": {
             "outlinewidth": 0,
             "ticks": ""
            },
            "colorscale": [
             [
              0,
              "#0d0887"
             ],
             [
              0.1111111111111111,
              "#46039f"
             ],
             [
              0.2222222222222222,
              "#7201a8"
             ],
             [
              0.3333333333333333,
              "#9c179e"
             ],
             [
              0.4444444444444444,
              "#bd3786"
             ],
             [
              0.5555555555555556,
              "#d8576b"
             ],
             [
              0.6666666666666666,
              "#ed7953"
             ],
             [
              0.7777777777777778,
              "#fb9f3a"
             ],
             [
              0.8888888888888888,
              "#fdca26"
             ],
             [
              1,
              "#f0f921"
             ]
            ],
            "type": "heatmap"
           }
          ],
          "heatmapgl": [
           {
            "colorbar": {
             "outlinewidth": 0,
             "ticks": ""
            },
            "colorscale": [
             [
              0,
              "#0d0887"
             ],
             [
              0.1111111111111111,
              "#46039f"
             ],
             [
              0.2222222222222222,
              "#7201a8"
             ],
             [
              0.3333333333333333,
              "#9c179e"
             ],
             [
              0.4444444444444444,
              "#bd3786"
             ],
             [
              0.5555555555555556,
              "#d8576b"
             ],
             [
              0.6666666666666666,
              "#ed7953"
             ],
             [
              0.7777777777777778,
              "#fb9f3a"
             ],
             [
              0.8888888888888888,
              "#fdca26"
             ],
             [
              1,
              "#f0f921"
             ]
            ],
            "type": "heatmapgl"
           }
          ],
          "histogram": [
           {
            "marker": {
             "pattern": {
              "fillmode": "overlay",
              "size": 10,
              "solidity": 0.2
             }
            },
            "type": "histogram"
           }
          ],
          "histogram2d": [
           {
            "colorbar": {
             "outlinewidth": 0,
             "ticks": ""
            },
            "colorscale": [
             [
              0,
              "#0d0887"
             ],
             [
              0.1111111111111111,
              "#46039f"
             ],
             [
              0.2222222222222222,
              "#7201a8"
             ],
             [
              0.3333333333333333,
              "#9c179e"
             ],
             [
              0.4444444444444444,
              "#bd3786"
             ],
             [
              0.5555555555555556,
              "#d8576b"
             ],
             [
              0.6666666666666666,
              "#ed7953"
             ],
             [
              0.7777777777777778,
              "#fb9f3a"
             ],
             [
              0.8888888888888888,
              "#fdca26"
             ],
             [
              1,
              "#f0f921"
             ]
            ],
            "type": "histogram2d"
           }
          ],
          "histogram2dcontour": [
           {
            "colorbar": {
             "outlinewidth": 0,
             "ticks": ""
            },
            "colorscale": [
             [
              0,
              "#0d0887"
             ],
             [
              0.1111111111111111,
              "#46039f"
             ],
             [
              0.2222222222222222,
              "#7201a8"
             ],
             [
              0.3333333333333333,
              "#9c179e"
             ],
             [
              0.4444444444444444,
              "#bd3786"
             ],
             [
              0.5555555555555556,
              "#d8576b"
             ],
             [
              0.6666666666666666,
              "#ed7953"
             ],
             [
              0.7777777777777778,
              "#fb9f3a"
             ],
             [
              0.8888888888888888,
              "#fdca26"
             ],
             [
              1,
              "#f0f921"
             ]
            ],
            "type": "histogram2dcontour"
           }
          ],
          "mesh3d": [
           {
            "colorbar": {
             "outlinewidth": 0,
             "ticks": ""
            },
            "type": "mesh3d"
           }
          ],
          "parcoords": [
           {
            "line": {
             "colorbar": {
              "outlinewidth": 0,
              "ticks": ""
             }
            },
            "type": "parcoords"
           }
          ],
          "pie": [
           {
            "automargin": true,
            "type": "pie"
           }
          ],
          "scatter": [
           {
            "fillpattern": {
             "fillmode": "overlay",
             "size": 10,
             "solidity": 0.2
            },
            "type": "scatter"
           }
          ],
          "scatter3d": [
           {
            "line": {
             "colorbar": {
              "outlinewidth": 0,
              "ticks": ""
             }
            },
            "marker": {
             "colorbar": {
              "outlinewidth": 0,
              "ticks": ""
             }
            },
            "type": "scatter3d"
           }
          ],
          "scattercarpet": [
           {
            "marker": {
             "colorbar": {
              "outlinewidth": 0,
              "ticks": ""
             }
            },
            "type": "scattercarpet"
           }
          ],
          "scattergeo": [
           {
            "marker": {
             "colorbar": {
              "outlinewidth": 0,
              "ticks": ""
             }
            },
            "type": "scattergeo"
           }
          ],
          "scattergl": [
           {
            "marker": {
             "colorbar": {
              "outlinewidth": 0,
              "ticks": ""
             }
            },
            "type": "scattergl"
           }
          ],
          "scattermapbox": [
           {
            "marker": {
             "colorbar": {
              "outlinewidth": 0,
              "ticks": ""
             }
            },
            "type": "scattermapbox"
           }
          ],
          "scatterpolar": [
           {
            "marker": {
             "colorbar": {
              "outlinewidth": 0,
              "ticks": ""
             }
            },
            "type": "scatterpolar"
           }
          ],
          "scatterpolargl": [
           {
            "marker": {
             "colorbar": {
              "outlinewidth": 0,
              "ticks": ""
             }
            },
            "type": "scatterpolargl"
           }
          ],
          "scatterternary": [
           {
            "marker": {
             "colorbar": {
              "outlinewidth": 0,
              "ticks": ""
             }
            },
            "type": "scatterternary"
           }
          ],
          "surface": [
           {
            "colorbar": {
             "outlinewidth": 0,
             "ticks": ""
            },
            "colorscale": [
             [
              0,
              "#0d0887"
             ],
             [
              0.1111111111111111,
              "#46039f"
             ],
             [
              0.2222222222222222,
              "#7201a8"
             ],
             [
              0.3333333333333333,
              "#9c179e"
             ],
             [
              0.4444444444444444,
              "#bd3786"
             ],
             [
              0.5555555555555556,
              "#d8576b"
             ],
             [
              0.6666666666666666,
              "#ed7953"
             ],
             [
              0.7777777777777778,
              "#fb9f3a"
             ],
             [
              0.8888888888888888,
              "#fdca26"
             ],
             [
              1,
              "#f0f921"
             ]
            ],
            "type": "surface"
           }
          ],
          "table": [
           {
            "cells": {
             "fill": {
              "color": "#EBF0F8"
             },
             "line": {
              "color": "white"
             }
            },
            "header": {
             "fill": {
              "color": "#C8D4E3"
             },
             "line": {
              "color": "white"
             }
            },
            "type": "table"
           }
          ]
         },
         "layout": {
          "annotationdefaults": {
           "arrowcolor": "#2a3f5f",
           "arrowhead": 0,
           "arrowwidth": 1
          },
          "autotypenumbers": "strict",
          "coloraxis": {
           "colorbar": {
            "outlinewidth": 0,
            "ticks": ""
           }
          },
          "colorscale": {
           "diverging": [
            [
             0,
             "#8e0152"
            ],
            [
             0.1,
             "#c51b7d"
            ],
            [
             0.2,
             "#de77ae"
            ],
            [
             0.3,
             "#f1b6da"
            ],
            [
             0.4,
             "#fde0ef"
            ],
            [
             0.5,
             "#f7f7f7"
            ],
            [
             0.6,
             "#e6f5d0"
            ],
            [
             0.7,
             "#b8e186"
            ],
            [
             0.8,
             "#7fbc41"
            ],
            [
             0.9,
             "#4d9221"
            ],
            [
             1,
             "#276419"
            ]
           ],
           "sequential": [
            [
             0,
             "#0d0887"
            ],
            [
             0.1111111111111111,
             "#46039f"
            ],
            [
             0.2222222222222222,
             "#7201a8"
            ],
            [
             0.3333333333333333,
             "#9c179e"
            ],
            [
             0.4444444444444444,
             "#bd3786"
            ],
            [
             0.5555555555555556,
             "#d8576b"
            ],
            [
             0.6666666666666666,
             "#ed7953"
            ],
            [
             0.7777777777777778,
             "#fb9f3a"
            ],
            [
             0.8888888888888888,
             "#fdca26"
            ],
            [
             1,
             "#f0f921"
            ]
           ],
           "sequentialminus": [
            [
             0,
             "#0d0887"
            ],
            [
             0.1111111111111111,
             "#46039f"
            ],
            [
             0.2222222222222222,
             "#7201a8"
            ],
            [
             0.3333333333333333,
             "#9c179e"
            ],
            [
             0.4444444444444444,
             "#bd3786"
            ],
            [
             0.5555555555555556,
             "#d8576b"
            ],
            [
             0.6666666666666666,
             "#ed7953"
            ],
            [
             0.7777777777777778,
             "#fb9f3a"
            ],
            [
             0.8888888888888888,
             "#fdca26"
            ],
            [
             1,
             "#f0f921"
            ]
           ]
          },
          "colorway": [
           "#636efa",
           "#EF553B",
           "#00cc96",
           "#ab63fa",
           "#FFA15A",
           "#19d3f3",
           "#FF6692",
           "#B6E880",
           "#FF97FF",
           "#FECB52"
          ],
          "font": {
           "color": "#2a3f5f"
          },
          "geo": {
           "bgcolor": "white",
           "lakecolor": "white",
           "landcolor": "#E5ECF6",
           "showlakes": true,
           "showland": true,
           "subunitcolor": "white"
          },
          "hoverlabel": {
           "align": "left"
          },
          "hovermode": "closest",
          "mapbox": {
           "style": "light"
          },
          "paper_bgcolor": "white",
          "plot_bgcolor": "#E5ECF6",
          "polar": {
           "angularaxis": {
            "gridcolor": "white",
            "linecolor": "white",
            "ticks": ""
           },
           "bgcolor": "#E5ECF6",
           "radialaxis": {
            "gridcolor": "white",
            "linecolor": "white",
            "ticks": ""
           }
          },
          "scene": {
           "xaxis": {
            "backgroundcolor": "#E5ECF6",
            "gridcolor": "white",
            "gridwidth": 2,
            "linecolor": "white",
            "showbackground": true,
            "ticks": "",
            "zerolinecolor": "white"
           },
           "yaxis": {
            "backgroundcolor": "#E5ECF6",
            "gridcolor": "white",
            "gridwidth": 2,
            "linecolor": "white",
            "showbackground": true,
            "ticks": "",
            "zerolinecolor": "white"
           },
           "zaxis": {
            "backgroundcolor": "#E5ECF6",
            "gridcolor": "white",
            "gridwidth": 2,
            "linecolor": "white",
            "showbackground": true,
            "ticks": "",
            "zerolinecolor": "white"
           }
          },
          "shapedefaults": {
           "line": {
            "color": "#2a3f5f"
           }
          },
          "ternary": {
           "aaxis": {
            "gridcolor": "white",
            "linecolor": "white",
            "ticks": ""
           },
           "baxis": {
            "gridcolor": "white",
            "linecolor": "white",
            "ticks": ""
           },
           "bgcolor": "#E5ECF6",
           "caxis": {
            "gridcolor": "white",
            "linecolor": "white",
            "ticks": ""
           }
          },
          "title": {
           "x": 0.05
          },
          "xaxis": {
           "automargin": true,
           "gridcolor": "white",
           "linecolor": "white",
           "ticks": "",
           "title": {
            "standoff": 15
           },
           "zerolinecolor": "white",
           "zerolinewidth": 2
          },
          "yaxis": {
           "automargin": true,
           "gridcolor": "white",
           "linecolor": "white",
           "ticks": "",
           "title": {
            "standoff": 15
           },
           "zerolinecolor": "white",
           "zerolinewidth": 2
          }
         }
        },
        "title": {
         "text": "债务比率和流动比率"
        },
        "width": 800,
        "xaxis": {
         "anchor": "y",
         "domain": [
          0,
          0.94
         ],
         "matches": "x2",
         "showgrid": false,
         "showticklabels": false,
         "ticktext": [
          2020,
          2021,
          2022,
          2023
         ],
         "tickvals": [
          2020,
          2021,
          2022,
          2023
         ]
        },
        "xaxis2": {
         "anchor": "y3",
         "domain": [
          0,
          0.94
         ],
         "showgrid": false,
         "ticktext": [
          2020,
          2021,
          2022,
          2023
         ],
         "tickvals": [
          2020,
          2021,
          2022,
          2023
         ]
        },
        "yaxis": {
         "anchor": "x",
         "domain": [
          0.5349999999999999,
          0.9999999999999999
         ],
         "gridcolor": "rgb(204, 204, 204)",
         "title": {
          "text": "$"
         },
         "zerolinecolor": "rgb(204, 204, 204)"
        },
        "yaxis2": {
         "anchor": "x",
         "gridcolor": "rgb(204, 204, 204)",
         "overlaying": "y",
         "side": "right",
         "zerolinecolor": "rgb(204, 204, 204)"
        },
        "yaxis3": {
         "anchor": "x2",
         "domain": [
          0,
          0.46499999999999997
         ],
         "gridcolor": "rgb(204, 204, 204)",
         "title": {
          "text": "$"
         },
         "zerolinecolor": "rgb(204, 204, 204)"
        },
        "yaxis4": {
         "anchor": "x2",
         "gridcolor": "rgb(204, 204, 204)",
         "overlaying": "y3",
         "side": "right",
         "zerolinecolor": "rgb(204, 204, 204)"
        }
       }
      }
     },
     "metadata": {},
     "output_type": "display_data"
    }
   ],
   "source": [
    "fig = make_subplots(rows=2, cols=1, shared_xaxes=True, vertical_spacing=0.07,\n",
    "                    subplot_titles=(\"债务比率\", \"流动比率\"),\n",
    "                    specs=[[{\"secondary_y\": True, \"type\": \"xy\"}], \n",
    "                           [{\"secondary_y\": True, \"type\": \"xy\"}]])\n",
    "\n",
    "fig.add_trace(go.Bar(\n",
    "       x=tickvals,\n",
    "       y=balance_sheet['Total Assets'],\n",
    "       name=\"资产\",\n",
    "       marker=dict(color=\"rgb(80, 162, 174)\")),\n",
    "       row=1, col=1, secondary_y=False\n",
    "       )\n",
    "\n",
    "fig.add_trace(go.Bar(\n",
    "       x=tickvals,\n",
    "       y=balance_sheet['Total Liabilities Net Minority Interest'],\n",
    "       name=\"负债\",\n",
    "       marker=dict(color=\"rgb(120, 144, 154)\")),\n",
    "       row=1, col=1, secondary_y=False\n",
    "       )\n",
    "\n",
    "fig.add_trace(go.Scatter(\n",
    "       x=tickvals,\n",
    "       y=df['债务比率'],\n",
    "       name=\"债务比率\",\n",
    "       hovertemplate = '%{y:.2%}',\n",
    "       line=dict(color=\"rgb(34, 186, 187)\")),\n",
    "       row=1, col=1, secondary_y=True\n",
    "       )\n",
    "\n",
    "fig.add_trace(go.Bar(\n",
    "       x=tickvals,\n",
    "       y=balance_sheet['Current Assets'],\n",
    "       name=\"流动资产\",\n",
    "       marker=dict(color=\"rgb(0, 171, 189)\")),\n",
    "       row=2, col=1, secondary_y=False\n",
    "       )\n",
    "\n",
    "fig.add_trace(go.Bar(\n",
    "       x=tickvals,\n",
    "       y=balance_sheet['Current Liabilities'],\n",
    "       name=\"流动负债\",\n",
    "       marker=dict(color=\"rgb(161, 199, 224)\")),\n",
    "       row=2, col=1, secondary_y=False\n",
    "       )\n",
    "\n",
    "fig.add_trace(go.Scatter(\n",
    "       x=tickvals,\n",
    "       y=df['流动比率'],\n",
    "       name=\"流动比率\",\n",
    "       hovertemplate = '%{y:.2%}',\n",
    "       line=dict(color=\"rgb(0, 153, 221)\")),\n",
    "       row=2, col=1, secondary_y=True\n",
    "       )\n",
    "\n",
    "fig.update_layout(\n",
    "       height=800,\n",
    "       width=800,\n",
    "       plot_bgcolor=\"white\",\n",
    "       title_text=\"债务比率和流动比率\",\n",
    "       hovermode=\"x unified\",\n",
    "       legend=dict(\n",
    "           orientation=\"h\",\n",
    "           yanchor=\"bottom\",\n",
    "           y=1.02,\n",
    "           xanchor=\"right\",\n",
    "           x=0.9\n",
    "           )\n",
    "       )\n",
    "\n",
    "fig.update_xaxes(tickvals=tickvals, ticktext=tickvals, showgrid=False, row=1, col=1)\n",
    "fig.update_yaxes(title_text='$', gridcolor='rgb(204, 204, 204)',zerolinecolor=\"rgb(204, 204, 204)\", secondary_y=False, row=1, col=1)\n",
    "fig.update_yaxes(gridcolor='rgb(204, 204, 204)',zerolinecolor=\"rgb(204, 204, 204)\", secondary_y=True, row=1, col=1)\n",
    "\n",
    "fig.update_xaxes(tickvals=tickvals, ticktext=tickvals, showgrid=False, row=2, col=1)\n",
    "fig.update_yaxes(title_text='$', gridcolor='rgb(204, 204, 204)',zerolinecolor=\"rgb(204, 204, 204)\", secondary_y=False, row=2, col=1)\n",
    "fig.update_yaxes(gridcolor='rgb(204, 204, 204)',zerolinecolor=\"rgb(204, 204, 204)\", secondary_y=True, row=2, col=1)\n",
    "\n",
    "fig.show()"
   ]
  },
  {
   "cell_type": "code",
   "execution_count": 15,
   "metadata": {},
   "outputs": [
    {
     "data": {
      "text/plain": [
       "Index(['Free Cash Flow', 'Repurchase Of Capital Stock', 'Repayment Of Debt',\n",
       "       'Issuance Of Debt', 'Issuance Of Capital Stock', 'Capital Expenditure',\n",
       "       'Interest Paid Supplemental Data', 'Income Tax Paid Supplemental Data',\n",
       "       'End Cash Position', 'Beginning Cash Position', 'Changes In Cash',\n",
       "       'Financing Cash Flow', 'Cash Flow From Continuing Financing Activities',\n",
       "       'Net Other Financing Charges', 'Cash Dividends Paid',\n",
       "       'Common Stock Dividend Paid', 'Net Common Stock Issuance',\n",
       "       'Common Stock Payments', 'Common Stock Issuance',\n",
       "       'Net Issuance Payments Of Debt', 'Net Short Term Debt Issuance',\n",
       "       'Short Term Debt Payments', 'Short Term Debt Issuance',\n",
       "       'Net Long Term Debt Issuance', 'Long Term Debt Payments',\n",
       "       'Long Term Debt Issuance', 'Investing Cash Flow',\n",
       "       'Cash Flow From Continuing Investing Activities',\n",
       "       'Net Other Investing Changes', 'Net Investment Purchase And Sale',\n",
       "       'Sale Of Investment', 'Purchase Of Investment',\n",
       "       'Net Business Purchase And Sale', 'Purchase Of Business',\n",
       "       'Net PPE Purchase And Sale', 'Purchase Of PPE', 'Operating Cash Flow',\n",
       "       'Cash Flow From Continuing Operating Activities',\n",
       "       'Change In Working Capital', 'Change In Other Working Capital',\n",
       "       'Change In Other Current Liabilities', 'Change In Other Current Assets',\n",
       "       'Change In Payables And Accrued Expense', 'Change In Payable',\n",
       "       'Change In Account Payable', 'Change In Inventory',\n",
       "       'Change In Receivables', 'Changes In Account Receivables',\n",
       "       'Other Non Cash Items', 'Stock Based Compensation', 'Deferred Tax',\n",
       "       'Deferred Income Tax', 'Depreciation Amortization Depletion',\n",
       "       'Depreciation And Amortization',\n",
       "       'Net Income From Continuing Operations'],\n",
       "      dtype='object', name='Unnamed: 0')"
      ]
     },
     "execution_count": 15,
     "metadata": {},
     "output_type": "execute_result"
    }
   ],
   "source": [
    "cash_flow.columns"
   ]
  },
  {
   "cell_type": "code",
   "execution_count": 16,
   "metadata": {},
   "outputs": [
    {
     "data": {
      "text/html": [
       "<div>\n",
       "<style scoped>\n",
       "    .dataframe tbody tr th:only-of-type {\n",
       "        vertical-align: middle;\n",
       "    }\n",
       "\n",
       "    .dataframe tbody tr th {\n",
       "        vertical-align: top;\n",
       "    }\n",
       "\n",
       "    .dataframe thead th {\n",
       "        text-align: right;\n",
       "    }\n",
       "</style>\n",
       "<table border=\"1\" class=\"dataframe\">\n",
       "  <thead>\n",
       "    <tr style=\"text-align: right;\">\n",
       "      <th>Unnamed: 0</th>\n",
       "      <th>Operating Cash Flow</th>\n",
       "      <th>Investing Cash Flow</th>\n",
       "      <th>Financing Cash Flow</th>\n",
       "      <th>Free Cash Flow</th>\n",
       "    </tr>\n",
       "  </thead>\n",
       "  <tbody>\n",
       "    <tr>\n",
       "      <th>2020-09-30</th>\n",
       "      <td>80674000000.0</td>\n",
       "      <td>-4289000000.0</td>\n",
       "      <td>-86820000000.0</td>\n",
       "      <td>73365000000.0</td>\n",
       "    </tr>\n",
       "    <tr>\n",
       "      <th>2021-09-30</th>\n",
       "      <td>104038000000.0</td>\n",
       "      <td>-14545000000.0</td>\n",
       "      <td>-93353000000.0</td>\n",
       "      <td>92953000000.0</td>\n",
       "    </tr>\n",
       "    <tr>\n",
       "      <th>2022-09-30</th>\n",
       "      <td>122151000000.0</td>\n",
       "      <td>-22354000000.0</td>\n",
       "      <td>-110749000000.0</td>\n",
       "      <td>111443000000.0</td>\n",
       "    </tr>\n",
       "    <tr>\n",
       "      <th>2023-09-30</th>\n",
       "      <td>110543000000.0</td>\n",
       "      <td>3705000000.0</td>\n",
       "      <td>-108488000000.0</td>\n",
       "      <td>99584000000.0</td>\n",
       "    </tr>\n",
       "  </tbody>\n",
       "</table>\n",
       "</div>"
      ],
      "text/plain": [
       "Unnamed: 0 Operating Cash Flow Investing Cash Flow Financing Cash Flow   \n",
       "2020-09-30       80674000000.0       -4289000000.0      -86820000000.0  \\\n",
       "2021-09-30      104038000000.0      -14545000000.0      -93353000000.0   \n",
       "2022-09-30      122151000000.0      -22354000000.0     -110749000000.0   \n",
       "2023-09-30      110543000000.0        3705000000.0     -108488000000.0   \n",
       "\n",
       "Unnamed: 0  Free Cash Flow  \n",
       "2020-09-30   73365000000.0  \n",
       "2021-09-30   92953000000.0  \n",
       "2022-09-30  111443000000.0  \n",
       "2023-09-30   99584000000.0  "
      ]
     },
     "execution_count": 16,
     "metadata": {},
     "output_type": "execute_result"
    }
   ],
   "source": [
    "cash_flow[['Operating Cash Flow','Investing Cash Flow','Financing Cash Flow','Free Cash Flow']]"
   ]
  },
  {
   "cell_type": "code",
   "execution_count": 17,
   "metadata": {},
   "outputs": [
    {
     "data": {
      "application/vnd.plotly.v1+json": {
       "config": {
        "plotlyServerURL": "https://plot.ly"
       },
       "data": [
        {
         "marker": {
          "color": "rgb(80, 162, 174)"
         },
         "name": "经营现金流",
         "type": "bar",
         "x": [
          2020,
          2021,
          2022,
          2023
         ],
         "y": [
          80674000000,
          104038000000,
          122151000000,
          110543000000
         ]
        },
        {
         "marker": {
          "color": "rgb(120, 144, 154)"
         },
         "name": "投资现金流",
         "type": "bar",
         "x": [
          2020,
          2021,
          2022,
          2023
         ],
         "y": [
          -4289000000,
          -14545000000,
          -22354000000,
          3705000000
         ]
        },
        {
         "marker": {
          "color": "rgb(123, 164, 151)"
         },
         "name": "筹资现金流",
         "type": "bar",
         "x": [
          2020,
          2021,
          2022,
          2023
         ],
         "y": [
          -86820000000,
          -93353000000,
          -110749000000,
          -108488000000
         ]
        },
        {
         "marker": {
          "color": "rgb(97, 114, 124)"
         },
         "name": "自由现金流",
         "type": "bar",
         "x": [
          2020,
          2021,
          2022,
          2023
         ],
         "y": [
          73365000000,
          92953000000,
          111443000000,
          99584000000
         ]
        }
       ],
       "layout": {
        "height": 500,
        "hovermode": "x unified",
        "legend": {
         "orientation": "h",
         "x": 0.9,
         "xanchor": "right",
         "y": 1.02,
         "yanchor": "bottom"
        },
        "plot_bgcolor": "white",
        "template": {
         "data": {
          "bar": [
           {
            "error_x": {
             "color": "#2a3f5f"
            },
            "error_y": {
             "color": "#2a3f5f"
            },
            "marker": {
             "line": {
              "color": "#E5ECF6",
              "width": 0.5
             },
             "pattern": {
              "fillmode": "overlay",
              "size": 10,
              "solidity": 0.2
             }
            },
            "type": "bar"
           }
          ],
          "barpolar": [
           {
            "marker": {
             "line": {
              "color": "#E5ECF6",
              "width": 0.5
             },
             "pattern": {
              "fillmode": "overlay",
              "size": 10,
              "solidity": 0.2
             }
            },
            "type": "barpolar"
           }
          ],
          "carpet": [
           {
            "aaxis": {
             "endlinecolor": "#2a3f5f",
             "gridcolor": "white",
             "linecolor": "white",
             "minorgridcolor": "white",
             "startlinecolor": "#2a3f5f"
            },
            "baxis": {
             "endlinecolor": "#2a3f5f",
             "gridcolor": "white",
             "linecolor": "white",
             "minorgridcolor": "white",
             "startlinecolor": "#2a3f5f"
            },
            "type": "carpet"
           }
          ],
          "choropleth": [
           {
            "colorbar": {
             "outlinewidth": 0,
             "ticks": ""
            },
            "type": "choropleth"
           }
          ],
          "contour": [
           {
            "colorbar": {
             "outlinewidth": 0,
             "ticks": ""
            },
            "colorscale": [
             [
              0,
              "#0d0887"
             ],
             [
              0.1111111111111111,
              "#46039f"
             ],
             [
              0.2222222222222222,
              "#7201a8"
             ],
             [
              0.3333333333333333,
              "#9c179e"
             ],
             [
              0.4444444444444444,
              "#bd3786"
             ],
             [
              0.5555555555555556,
              "#d8576b"
             ],
             [
              0.6666666666666666,
              "#ed7953"
             ],
             [
              0.7777777777777778,
              "#fb9f3a"
             ],
             [
              0.8888888888888888,
              "#fdca26"
             ],
             [
              1,
              "#f0f921"
             ]
            ],
            "type": "contour"
           }
          ],
          "contourcarpet": [
           {
            "colorbar": {
             "outlinewidth": 0,
             "ticks": ""
            },
            "type": "contourcarpet"
           }
          ],
          "heatmap": [
           {
            "colorbar": {
             "outlinewidth": 0,
             "ticks": ""
            },
            "colorscale": [
             [
              0,
              "#0d0887"
             ],
             [
              0.1111111111111111,
              "#46039f"
             ],
             [
              0.2222222222222222,
              "#7201a8"
             ],
             [
              0.3333333333333333,
              "#9c179e"
             ],
             [
              0.4444444444444444,
              "#bd3786"
             ],
             [
              0.5555555555555556,
              "#d8576b"
             ],
             [
              0.6666666666666666,
              "#ed7953"
             ],
             [
              0.7777777777777778,
              "#fb9f3a"
             ],
             [
              0.8888888888888888,
              "#fdca26"
             ],
             [
              1,
              "#f0f921"
             ]
            ],
            "type": "heatmap"
           }
          ],
          "heatmapgl": [
           {
            "colorbar": {
             "outlinewidth": 0,
             "ticks": ""
            },
            "colorscale": [
             [
              0,
              "#0d0887"
             ],
             [
              0.1111111111111111,
              "#46039f"
             ],
             [
              0.2222222222222222,
              "#7201a8"
             ],
             [
              0.3333333333333333,
              "#9c179e"
             ],
             [
              0.4444444444444444,
              "#bd3786"
             ],
             [
              0.5555555555555556,
              "#d8576b"
             ],
             [
              0.6666666666666666,
              "#ed7953"
             ],
             [
              0.7777777777777778,
              "#fb9f3a"
             ],
             [
              0.8888888888888888,
              "#fdca26"
             ],
             [
              1,
              "#f0f921"
             ]
            ],
            "type": "heatmapgl"
           }
          ],
          "histogram": [
           {
            "marker": {
             "pattern": {
              "fillmode": "overlay",
              "size": 10,
              "solidity": 0.2
             }
            },
            "type": "histogram"
           }
          ],
          "histogram2d": [
           {
            "colorbar": {
             "outlinewidth": 0,
             "ticks": ""
            },
            "colorscale": [
             [
              0,
              "#0d0887"
             ],
             [
              0.1111111111111111,
              "#46039f"
             ],
             [
              0.2222222222222222,
              "#7201a8"
             ],
             [
              0.3333333333333333,
              "#9c179e"
             ],
             [
              0.4444444444444444,
              "#bd3786"
             ],
             [
              0.5555555555555556,
              "#d8576b"
             ],
             [
              0.6666666666666666,
              "#ed7953"
             ],
             [
              0.7777777777777778,
              "#fb9f3a"
             ],
             [
              0.8888888888888888,
              "#fdca26"
             ],
             [
              1,
              "#f0f921"
             ]
            ],
            "type": "histogram2d"
           }
          ],
          "histogram2dcontour": [
           {
            "colorbar": {
             "outlinewidth": 0,
             "ticks": ""
            },
            "colorscale": [
             [
              0,
              "#0d0887"
             ],
             [
              0.1111111111111111,
              "#46039f"
             ],
             [
              0.2222222222222222,
              "#7201a8"
             ],
             [
              0.3333333333333333,
              "#9c179e"
             ],
             [
              0.4444444444444444,
              "#bd3786"
             ],
             [
              0.5555555555555556,
              "#d8576b"
             ],
             [
              0.6666666666666666,
              "#ed7953"
             ],
             [
              0.7777777777777778,
              "#fb9f3a"
             ],
             [
              0.8888888888888888,
              "#fdca26"
             ],
             [
              1,
              "#f0f921"
             ]
            ],
            "type": "histogram2dcontour"
           }
          ],
          "mesh3d": [
           {
            "colorbar": {
             "outlinewidth": 0,
             "ticks": ""
            },
            "type": "mesh3d"
           }
          ],
          "parcoords": [
           {
            "line": {
             "colorbar": {
              "outlinewidth": 0,
              "ticks": ""
             }
            },
            "type": "parcoords"
           }
          ],
          "pie": [
           {
            "automargin": true,
            "type": "pie"
           }
          ],
          "scatter": [
           {
            "fillpattern": {
             "fillmode": "overlay",
             "size": 10,
             "solidity": 0.2
            },
            "type": "scatter"
           }
          ],
          "scatter3d": [
           {
            "line": {
             "colorbar": {
              "outlinewidth": 0,
              "ticks": ""
             }
            },
            "marker": {
             "colorbar": {
              "outlinewidth": 0,
              "ticks": ""
             }
            },
            "type": "scatter3d"
           }
          ],
          "scattercarpet": [
           {
            "marker": {
             "colorbar": {
              "outlinewidth": 0,
              "ticks": ""
             }
            },
            "type": "scattercarpet"
           }
          ],
          "scattergeo": [
           {
            "marker": {
             "colorbar": {
              "outlinewidth": 0,
              "ticks": ""
             }
            },
            "type": "scattergeo"
           }
          ],
          "scattergl": [
           {
            "marker": {
             "colorbar": {
              "outlinewidth": 0,
              "ticks": ""
             }
            },
            "type": "scattergl"
           }
          ],
          "scattermapbox": [
           {
            "marker": {
             "colorbar": {
              "outlinewidth": 0,
              "ticks": ""
             }
            },
            "type": "scattermapbox"
           }
          ],
          "scatterpolar": [
           {
            "marker": {
             "colorbar": {
              "outlinewidth": 0,
              "ticks": ""
             }
            },
            "type": "scatterpolar"
           }
          ],
          "scatterpolargl": [
           {
            "marker": {
             "colorbar": {
              "outlinewidth": 0,
              "ticks": ""
             }
            },
            "type": "scatterpolargl"
           }
          ],
          "scatterternary": [
           {
            "marker": {
             "colorbar": {
              "outlinewidth": 0,
              "ticks": ""
             }
            },
            "type": "scatterternary"
           }
          ],
          "surface": [
           {
            "colorbar": {
             "outlinewidth": 0,
             "ticks": ""
            },
            "colorscale": [
             [
              0,
              "#0d0887"
             ],
             [
              0.1111111111111111,
              "#46039f"
             ],
             [
              0.2222222222222222,
              "#7201a8"
             ],
             [
              0.3333333333333333,
              "#9c179e"
             ],
             [
              0.4444444444444444,
              "#bd3786"
             ],
             [
              0.5555555555555556,
              "#d8576b"
             ],
             [
              0.6666666666666666,
              "#ed7953"
             ],
             [
              0.7777777777777778,
              "#fb9f3a"
             ],
             [
              0.8888888888888888,
              "#fdca26"
             ],
             [
              1,
              "#f0f921"
             ]
            ],
            "type": "surface"
           }
          ],
          "table": [
           {
            "cells": {
             "fill": {
              "color": "#EBF0F8"
             },
             "line": {
              "color": "white"
             }
            },
            "header": {
             "fill": {
              "color": "#C8D4E3"
             },
             "line": {
              "color": "white"
             }
            },
            "type": "table"
           }
          ]
         },
         "layout": {
          "annotationdefaults": {
           "arrowcolor": "#2a3f5f",
           "arrowhead": 0,
           "arrowwidth": 1
          },
          "autotypenumbers": "strict",
          "coloraxis": {
           "colorbar": {
            "outlinewidth": 0,
            "ticks": ""
           }
          },
          "colorscale": {
           "diverging": [
            [
             0,
             "#8e0152"
            ],
            [
             0.1,
             "#c51b7d"
            ],
            [
             0.2,
             "#de77ae"
            ],
            [
             0.3,
             "#f1b6da"
            ],
            [
             0.4,
             "#fde0ef"
            ],
            [
             0.5,
             "#f7f7f7"
            ],
            [
             0.6,
             "#e6f5d0"
            ],
            [
             0.7,
             "#b8e186"
            ],
            [
             0.8,
             "#7fbc41"
            ],
            [
             0.9,
             "#4d9221"
            ],
            [
             1,
             "#276419"
            ]
           ],
           "sequential": [
            [
             0,
             "#0d0887"
            ],
            [
             0.1111111111111111,
             "#46039f"
            ],
            [
             0.2222222222222222,
             "#7201a8"
            ],
            [
             0.3333333333333333,
             "#9c179e"
            ],
            [
             0.4444444444444444,
             "#bd3786"
            ],
            [
             0.5555555555555556,
             "#d8576b"
            ],
            [
             0.6666666666666666,
             "#ed7953"
            ],
            [
             0.7777777777777778,
             "#fb9f3a"
            ],
            [
             0.8888888888888888,
             "#fdca26"
            ],
            [
             1,
             "#f0f921"
            ]
           ],
           "sequentialminus": [
            [
             0,
             "#0d0887"
            ],
            [
             0.1111111111111111,
             "#46039f"
            ],
            [
             0.2222222222222222,
             "#7201a8"
            ],
            [
             0.3333333333333333,
             "#9c179e"
            ],
            [
             0.4444444444444444,
             "#bd3786"
            ],
            [
             0.5555555555555556,
             "#d8576b"
            ],
            [
             0.6666666666666666,
             "#ed7953"
            ],
            [
             0.7777777777777778,
             "#fb9f3a"
            ],
            [
             0.8888888888888888,
             "#fdca26"
            ],
            [
             1,
             "#f0f921"
            ]
           ]
          },
          "colorway": [
           "#636efa",
           "#EF553B",
           "#00cc96",
           "#ab63fa",
           "#FFA15A",
           "#19d3f3",
           "#FF6692",
           "#B6E880",
           "#FF97FF",
           "#FECB52"
          ],
          "font": {
           "color": "#2a3f5f"
          },
          "geo": {
           "bgcolor": "white",
           "lakecolor": "white",
           "landcolor": "#E5ECF6",
           "showlakes": true,
           "showland": true,
           "subunitcolor": "white"
          },
          "hoverlabel": {
           "align": "left"
          },
          "hovermode": "closest",
          "mapbox": {
           "style": "light"
          },
          "paper_bgcolor": "white",
          "plot_bgcolor": "#E5ECF6",
          "polar": {
           "angularaxis": {
            "gridcolor": "white",
            "linecolor": "white",
            "ticks": ""
           },
           "bgcolor": "#E5ECF6",
           "radialaxis": {
            "gridcolor": "white",
            "linecolor": "white",
            "ticks": ""
           }
          },
          "scene": {
           "xaxis": {
            "backgroundcolor": "#E5ECF6",
            "gridcolor": "white",
            "gridwidth": 2,
            "linecolor": "white",
            "showbackground": true,
            "ticks": "",
            "zerolinecolor": "white"
           },
           "yaxis": {
            "backgroundcolor": "#E5ECF6",
            "gridcolor": "white",
            "gridwidth": 2,
            "linecolor": "white",
            "showbackground": true,
            "ticks": "",
            "zerolinecolor": "white"
           },
           "zaxis": {
            "backgroundcolor": "#E5ECF6",
            "gridcolor": "white",
            "gridwidth": 2,
            "linecolor": "white",
            "showbackground": true,
            "ticks": "",
            "zerolinecolor": "white"
           }
          },
          "shapedefaults": {
           "line": {
            "color": "#2a3f5f"
           }
          },
          "ternary": {
           "aaxis": {
            "gridcolor": "white",
            "linecolor": "white",
            "ticks": ""
           },
           "baxis": {
            "gridcolor": "white",
            "linecolor": "white",
            "ticks": ""
           },
           "bgcolor": "#E5ECF6",
           "caxis": {
            "gridcolor": "white",
            "linecolor": "white",
            "ticks": ""
           }
          },
          "title": {
           "x": 0.05
          },
          "xaxis": {
           "automargin": true,
           "gridcolor": "white",
           "linecolor": "white",
           "ticks": "",
           "title": {
            "standoff": 15
           },
           "zerolinecolor": "white",
           "zerolinewidth": 2
          },
          "yaxis": {
           "automargin": true,
           "gridcolor": "white",
           "linecolor": "white",
           "ticks": "",
           "title": {
            "standoff": 15
           },
           "zerolinecolor": "white",
           "zerolinewidth": 2
          }
         }
        },
        "title": {
         "text": "现金流"
        },
        "width": 800,
        "xaxis": {
         "showgrid": false,
         "ticktext": [
          2020,
          2021,
          2022,
          2023
         ],
         "tickvals": [
          2020,
          2021,
          2022,
          2023
         ]
        },
        "yaxis": {
         "gridcolor": "rgb(204, 204, 204)",
         "title": {
          "text": "$"
         },
         "zerolinecolor": "rgb(204, 204, 204)"
        }
       }
      }
     },
     "metadata": {},
     "output_type": "display_data"
    }
   ],
   "source": [
    "fig = go.Figure()\n",
    "\n",
    "fig.add_trace(go.Bar(\n",
    "    x=tickvals,\n",
    "    y=cash_flow['Operating Cash Flow'],\n",
    "    name=\"经营现金流\",\n",
    "    marker=dict(color=\"rgb(80, 162, 174)\"))\n",
    "    )\n",
    "\n",
    "fig.add_trace(go.Bar(\n",
    "    x=tickvals,\n",
    "    y=cash_flow['Investing Cash Flow'],\n",
    "    name=\"投资现金流\",\n",
    "    marker=dict(color=\"rgb(120, 144, 154)\"))\n",
    "    )\n",
    "\n",
    "fig.add_trace(go.Bar(\n",
    "    x=tickvals,\n",
    "    y=cash_flow['Financing Cash Flow'],\n",
    "    name=\"筹资现金流\",\n",
    "    marker=dict(color=\"rgb(123, 164, 151)\"))\n",
    "    )\n",
    "\n",
    "fig.add_trace(go.Bar(\n",
    "    x=tickvals,\n",
    "    y=cash_flow['Free Cash Flow'],\n",
    "    name=\"自由现金流\",\n",
    "    marker=dict(color=\"rgb(97, 114, 124)\"))\n",
    "    )\n",
    "\n",
    "fig.update_layout(\n",
    "    height=500,\n",
    "    width=800,\n",
    "    plot_bgcolor=\"white\",\n",
    "    title_text=\"现金流\",\n",
    "    hovermode=\"x unified\",\n",
    "    legend=dict(\n",
    "        orientation=\"h\",\n",
    "        yanchor=\"bottom\",\n",
    "        y=1.02,\n",
    "        xanchor=\"right\",\n",
    "        x=0.9\n",
    "        )\n",
    "    )\n",
    "\n",
    "fig.update_xaxes(tickvals=tickvals, ticktext=tickvals, showgrid=False)\n",
    "fig.update_yaxes(title_text='$', gridcolor='rgb(204, 204, 204)',zerolinecolor=\"rgb(204, 204, 204)\")\n",
    "\n",
    "fig.show()"
   ]
  },
  {
   "cell_type": "code",
   "execution_count": 18,
   "metadata": {},
   "outputs": [
    {
     "name": "stdout",
     "output_type": "stream",
     "text": [
      "公司价值为: 3722.168753997181\n"
     ]
    }
   ],
   "source": [
    "import numpy as np\n",
    "import pandas as pd\n",
    "\n",
    "def calculate_dcf(cash_flows, discount_rate):\n",
    "    # 计算每期的现金流的折现值\n",
    "    present_values = [cf / (1 + discount_rate) ** i for i, cf in enumerate(cash_flows, start=1)]\n",
    "\n",
    "    # 计算终端值的折现值\n",
    "    terminal_value = cash_flows[-1] / discount_rate\n",
    "\n",
    "    # 计算公司价值\n",
    "    company_value = sum(present_values) + terminal_value\n",
    "\n",
    "    return company_value\n",
    "\n",
    "# 示例数据\n",
    "cash_flows = [100, 150, 200, 250, 300]\n",
    "discount_rate = 0.1\n",
    "\n",
    "# 计算DCF\n",
    "result = calculate_dcf(cash_flows, discount_rate)\n",
    "print(f\"公司价值为: {result}\")\n"
   ]
  },
  {
   "cell_type": "code",
   "execution_count": 19,
   "metadata": {},
   "outputs": [
    {
     "data": {
      "text/plain": [
       "2101730278400.0005"
      ]
     },
     "execution_count": 19,
     "metadata": {},
     "output_type": "execute_result"
    }
   ],
   "source": [
    "free_cash_flow = cash_flow['Free Cash Flow'].values[-1]\n",
    "cash_flows = [free_cash_flow * (1 + 0.1) ** i for i in range(1, 6)]\n",
    "calculate_dcf(cash_flows, 0.1)"
   ]
  },
  {
   "cell_type": "code",
   "execution_count": 20,
   "metadata": {},
   "outputs": [
    {
     "data": {
      "text/plain": [
       "[109542400000.00002,\n",
       " 120496640000.00002,\n",
       " 132546304000.00005,\n",
       " 145800934400.00003,\n",
       " 160381027840.00006]"
      ]
     },
     "execution_count": 20,
     "metadata": {},
     "output_type": "execute_result"
    }
   ],
   "source": [
    "cash_flows"
   ]
  },
  {
   "cell_type": "code",
   "execution_count": null,
   "metadata": {},
   "outputs": [],
   "source": []
  }
 ],
 "metadata": {
  "kernelspec": {
   "display_name": "py39",
   "language": "python",
   "name": "python3"
  },
  "language_info": {
   "codemirror_mode": {
    "name": "ipython",
    "version": 3
   },
   "file_extension": ".py",
   "mimetype": "text/x-python",
   "name": "python",
   "nbconvert_exporter": "python",
   "pygments_lexer": "ipython3",
   "version": "3.9.16"
  }
 },
 "nbformat": 4,
 "nbformat_minor": 2
}
