{
 "cells": [
  {
   "cell_type": "code",
   "execution_count": 219,
   "metadata": {},
   "outputs": [],
   "source": [
    "import pandas as pd\n",
    "import random\n",
    "random.seed(895596)"
   ]
  },
  {
   "cell_type": "code",
   "execution_count": 220,
   "metadata": {},
   "outputs": [],
   "source": [
    "salary_now = 18.04          # 现在的工资        \n",
    "years = 40                  # 工作年限\n",
    "GDP_increase_rate = 0.04    # GDP增长率"
   ]
  },
  {
   "cell_type": "code",
   "execution_count": 221,
   "metadata": {},
   "outputs": [],
   "source": [
    "house_price = 300                   # 房价\n",
    "buy_house_threshold = 150           # 买房门槛\n",
    "down_payment = 100                  # 首付\n",
    "loan = house_price - down_payment   # 贷款\n",
    "loan_years = 30                     # 贷款年限"
   ]
  },
  {
   "cell_type": "code",
   "execution_count": 222,
   "metadata": {},
   "outputs": [],
   "source": [
    "gold_price_now = 0.0475             # 当前金价\n",
    "stock_price_now = 0.0003            # 当前股价\n",
    "\n",
    "interest_rate = 0.011               # 存款利率\n",
    "loan_rate = 0.049                   # 贷款利率\n",
    "\n",
    "buy_cash_ratio = [0., 0.25]         # 随机买入 0~0.25*现金 的黄金和股票\n",
    "\n",
    "gold_buy_threshold = 0.95           # 买入金价阈值\n",
    "gold_sell_threshold = 1.1           # 卖出金价阈值\n",
    "\n",
    "stock_buy_threshold = 0.9           # 买入股价阈值\n",
    "stock_sell_threshold = 1.2          # 卖出股价阈值\n",
    "\n",
    "gold_price_change = [0.75, 1.33]    # 金价变化范围\n",
    "stock_price_change = [0.5, 2]       # 股价变化范围"
   ]
  },
  {
   "cell_type": "markdown",
   "metadata": {},
   "source": [
    "* 假设工资、各种开销都以GDP增长率增长"
   ]
  },
  {
   "cell_type": "code",
   "execution_count": 223,
   "metadata": {},
   "outputs": [],
   "source": [
    "# 工资列表\n",
    "salaries = [salary_now]\n",
    "for i in range(1, years):\n",
    "    salaries.append(salaries[-1] * (1 + GDP_increase_rate))\n",
    "\n",
    "# 生活费列表\n",
    "living_expense = 4.\n",
    "living_expenses = [living_expense]\n",
    "for i in range(1, years):\n",
    "    living_expenses.append(living_expenses[-1] * (1 + GDP_increase_rate))\n",
    "\n",
    "# 房租列表\n",
    "rent = 6.\n",
    "rents = [rent]\n",
    "for i in range(1, years):\n",
    "    rents.append(rents[-1] * (1 + GDP_increase_rate))\n",
    "\n",
    "# 其他费用列表\n",
    "other_expense = 2.\n",
    "other_expenses = [other_expense]\n",
    "for i in range(1, years):\n",
    "    other_expenses.append(other_expenses[-1] * (1 + GDP_increase_rate))\n",
    "\n",
    "df = pd.DataFrame({\n",
    "    'year': [i for i in range(2023, 2023+ years)],\n",
    "    'salary': salaries,\n",
    "    'living_expense': living_expenses,\n",
    "    'rent': rents,\n",
    "    'other_expense': other_expenses\n",
    "})"
   ]
  },
  {
   "cell_type": "code",
   "execution_count": 224,
   "metadata": {},
   "outputs": [],
   "source": [
    "df['rest'] = 0"
   ]
  },
  {
   "cell_type": "code",
   "execution_count": 225,
   "metadata": {},
   "outputs": [],
   "source": [
    "# 修改index\n",
    "df.index += 2023"
   ]
  },
  {
   "cell_type": "code",
   "execution_count": 226,
   "metadata": {},
   "outputs": [
    {
     "data": {
      "text/html": [
       "<div>\n",
       "<style scoped>\n",
       "    .dataframe tbody tr th:only-of-type {\n",
       "        vertical-align: middle;\n",
       "    }\n",
       "\n",
       "    .dataframe tbody tr th {\n",
       "        vertical-align: top;\n",
       "    }\n",
       "\n",
       "    .dataframe thead th {\n",
       "        text-align: right;\n",
       "    }\n",
       "</style>\n",
       "<table border=\"1\" class=\"dataframe\">\n",
       "  <thead>\n",
       "    <tr style=\"text-align: right;\">\n",
       "      <th></th>\n",
       "      <th>year</th>\n",
       "      <th>salary</th>\n",
       "      <th>living_expense</th>\n",
       "      <th>rent</th>\n",
       "      <th>other_expense</th>\n",
       "      <th>rest</th>\n",
       "    </tr>\n",
       "  </thead>\n",
       "  <tbody>\n",
       "    <tr>\n",
       "      <th>2023</th>\n",
       "      <td>2023</td>\n",
       "      <td>18.040000</td>\n",
       "      <td>4.000000</td>\n",
       "      <td>6.000000</td>\n",
       "      <td>2.000000</td>\n",
       "      <td>0</td>\n",
       "    </tr>\n",
       "    <tr>\n",
       "      <th>2024</th>\n",
       "      <td>2024</td>\n",
       "      <td>18.761600</td>\n",
       "      <td>4.160000</td>\n",
       "      <td>6.240000</td>\n",
       "      <td>2.080000</td>\n",
       "      <td>0</td>\n",
       "    </tr>\n",
       "    <tr>\n",
       "      <th>2025</th>\n",
       "      <td>2025</td>\n",
       "      <td>19.512064</td>\n",
       "      <td>4.326400</td>\n",
       "      <td>6.489600</td>\n",
       "      <td>2.163200</td>\n",
       "      <td>0</td>\n",
       "    </tr>\n",
       "    <tr>\n",
       "      <th>2026</th>\n",
       "      <td>2026</td>\n",
       "      <td>20.292547</td>\n",
       "      <td>4.499456</td>\n",
       "      <td>6.749184</td>\n",
       "      <td>2.249728</td>\n",
       "      <td>0</td>\n",
       "    </tr>\n",
       "    <tr>\n",
       "      <th>2027</th>\n",
       "      <td>2027</td>\n",
       "      <td>21.104248</td>\n",
       "      <td>4.679434</td>\n",
       "      <td>7.019151</td>\n",
       "      <td>2.339717</td>\n",
       "      <td>0</td>\n",
       "    </tr>\n",
       "    <tr>\n",
       "      <th>2028</th>\n",
       "      <td>2028</td>\n",
       "      <td>21.948418</td>\n",
       "      <td>4.866612</td>\n",
       "      <td>7.299917</td>\n",
       "      <td>2.433306</td>\n",
       "      <td>0</td>\n",
       "    </tr>\n",
       "    <tr>\n",
       "      <th>2029</th>\n",
       "      <td>2029</td>\n",
       "      <td>22.826355</td>\n",
       "      <td>5.061276</td>\n",
       "      <td>7.591914</td>\n",
       "      <td>2.530638</td>\n",
       "      <td>0</td>\n",
       "    </tr>\n",
       "    <tr>\n",
       "      <th>2030</th>\n",
       "      <td>2030</td>\n",
       "      <td>23.739409</td>\n",
       "      <td>5.263727</td>\n",
       "      <td>7.895591</td>\n",
       "      <td>2.631864</td>\n",
       "      <td>0</td>\n",
       "    </tr>\n",
       "    <tr>\n",
       "      <th>2031</th>\n",
       "      <td>2031</td>\n",
       "      <td>24.688986</td>\n",
       "      <td>5.474276</td>\n",
       "      <td>8.211414</td>\n",
       "      <td>2.737138</td>\n",
       "      <td>0</td>\n",
       "    </tr>\n",
       "    <tr>\n",
       "      <th>2032</th>\n",
       "      <td>2032</td>\n",
       "      <td>25.676545</td>\n",
       "      <td>5.693247</td>\n",
       "      <td>8.539871</td>\n",
       "      <td>2.846624</td>\n",
       "      <td>0</td>\n",
       "    </tr>\n",
       "    <tr>\n",
       "      <th>2033</th>\n",
       "      <td>2033</td>\n",
       "      <td>26.703607</td>\n",
       "      <td>5.920977</td>\n",
       "      <td>8.881466</td>\n",
       "      <td>2.960489</td>\n",
       "      <td>0</td>\n",
       "    </tr>\n",
       "    <tr>\n",
       "      <th>2034</th>\n",
       "      <td>2034</td>\n",
       "      <td>27.771751</td>\n",
       "      <td>6.157816</td>\n",
       "      <td>9.236724</td>\n",
       "      <td>3.078908</td>\n",
       "      <td>0</td>\n",
       "    </tr>\n",
       "    <tr>\n",
       "      <th>2035</th>\n",
       "      <td>2035</td>\n",
       "      <td>28.882621</td>\n",
       "      <td>6.404129</td>\n",
       "      <td>9.606193</td>\n",
       "      <td>3.202064</td>\n",
       "      <td>0</td>\n",
       "    </tr>\n",
       "    <tr>\n",
       "      <th>2036</th>\n",
       "      <td>2036</td>\n",
       "      <td>30.037926</td>\n",
       "      <td>6.660294</td>\n",
       "      <td>9.990441</td>\n",
       "      <td>3.330147</td>\n",
       "      <td>0</td>\n",
       "    </tr>\n",
       "    <tr>\n",
       "      <th>2037</th>\n",
       "      <td>2037</td>\n",
       "      <td>31.239443</td>\n",
       "      <td>6.926706</td>\n",
       "      <td>10.390059</td>\n",
       "      <td>3.463353</td>\n",
       "      <td>0</td>\n",
       "    </tr>\n",
       "    <tr>\n",
       "      <th>2038</th>\n",
       "      <td>2038</td>\n",
       "      <td>32.489021</td>\n",
       "      <td>7.203774</td>\n",
       "      <td>10.805661</td>\n",
       "      <td>3.601887</td>\n",
       "      <td>0</td>\n",
       "    </tr>\n",
       "    <tr>\n",
       "      <th>2039</th>\n",
       "      <td>2039</td>\n",
       "      <td>33.788582</td>\n",
       "      <td>7.491925</td>\n",
       "      <td>11.237887</td>\n",
       "      <td>3.745962</td>\n",
       "      <td>0</td>\n",
       "    </tr>\n",
       "    <tr>\n",
       "      <th>2040</th>\n",
       "      <td>2040</td>\n",
       "      <td>35.140125</td>\n",
       "      <td>7.791602</td>\n",
       "      <td>11.687403</td>\n",
       "      <td>3.895801</td>\n",
       "      <td>0</td>\n",
       "    </tr>\n",
       "    <tr>\n",
       "      <th>2041</th>\n",
       "      <td>2041</td>\n",
       "      <td>36.545730</td>\n",
       "      <td>8.103266</td>\n",
       "      <td>12.154899</td>\n",
       "      <td>4.051633</td>\n",
       "      <td>0</td>\n",
       "    </tr>\n",
       "    <tr>\n",
       "      <th>2042</th>\n",
       "      <td>2042</td>\n",
       "      <td>38.007559</td>\n",
       "      <td>8.427397</td>\n",
       "      <td>12.641095</td>\n",
       "      <td>4.213698</td>\n",
       "      <td>0</td>\n",
       "    </tr>\n",
       "    <tr>\n",
       "      <th>2043</th>\n",
       "      <td>2043</td>\n",
       "      <td>39.527862</td>\n",
       "      <td>8.764493</td>\n",
       "      <td>13.146739</td>\n",
       "      <td>4.382246</td>\n",
       "      <td>0</td>\n",
       "    </tr>\n",
       "    <tr>\n",
       "      <th>2044</th>\n",
       "      <td>2044</td>\n",
       "      <td>41.108976</td>\n",
       "      <td>9.115072</td>\n",
       "      <td>13.672608</td>\n",
       "      <td>4.557536</td>\n",
       "      <td>0</td>\n",
       "    </tr>\n",
       "    <tr>\n",
       "      <th>2045</th>\n",
       "      <td>2045</td>\n",
       "      <td>42.753335</td>\n",
       "      <td>9.479675</td>\n",
       "      <td>14.219513</td>\n",
       "      <td>4.739838</td>\n",
       "      <td>0</td>\n",
       "    </tr>\n",
       "    <tr>\n",
       "      <th>2046</th>\n",
       "      <td>2046</td>\n",
       "      <td>44.463468</td>\n",
       "      <td>9.858862</td>\n",
       "      <td>14.788293</td>\n",
       "      <td>4.929431</td>\n",
       "      <td>0</td>\n",
       "    </tr>\n",
       "    <tr>\n",
       "      <th>2047</th>\n",
       "      <td>2047</td>\n",
       "      <td>46.242007</td>\n",
       "      <td>10.253217</td>\n",
       "      <td>15.379825</td>\n",
       "      <td>5.126608</td>\n",
       "      <td>0</td>\n",
       "    </tr>\n",
       "    <tr>\n",
       "      <th>2048</th>\n",
       "      <td>2048</td>\n",
       "      <td>48.091687</td>\n",
       "      <td>10.663345</td>\n",
       "      <td>15.995018</td>\n",
       "      <td>5.331673</td>\n",
       "      <td>0</td>\n",
       "    </tr>\n",
       "    <tr>\n",
       "      <th>2049</th>\n",
       "      <td>2049</td>\n",
       "      <td>50.015355</td>\n",
       "      <td>11.089879</td>\n",
       "      <td>16.634819</td>\n",
       "      <td>5.544940</td>\n",
       "      <td>0</td>\n",
       "    </tr>\n",
       "    <tr>\n",
       "      <th>2050</th>\n",
       "      <td>2050</td>\n",
       "      <td>52.015969</td>\n",
       "      <td>11.533474</td>\n",
       "      <td>17.300211</td>\n",
       "      <td>5.766737</td>\n",
       "      <td>0</td>\n",
       "    </tr>\n",
       "    <tr>\n",
       "      <th>2051</th>\n",
       "      <td>2051</td>\n",
       "      <td>54.096608</td>\n",
       "      <td>11.994813</td>\n",
       "      <td>17.992220</td>\n",
       "      <td>5.997407</td>\n",
       "      <td>0</td>\n",
       "    </tr>\n",
       "    <tr>\n",
       "      <th>2052</th>\n",
       "      <td>2052</td>\n",
       "      <td>56.260472</td>\n",
       "      <td>12.474606</td>\n",
       "      <td>18.711909</td>\n",
       "      <td>6.237303</td>\n",
       "      <td>0</td>\n",
       "    </tr>\n",
       "    <tr>\n",
       "      <th>2053</th>\n",
       "      <td>2053</td>\n",
       "      <td>58.510891</td>\n",
       "      <td>12.973590</td>\n",
       "      <td>19.460385</td>\n",
       "      <td>6.486795</td>\n",
       "      <td>0</td>\n",
       "    </tr>\n",
       "    <tr>\n",
       "      <th>2054</th>\n",
       "      <td>2054</td>\n",
       "      <td>60.851327</td>\n",
       "      <td>13.492534</td>\n",
       "      <td>20.238800</td>\n",
       "      <td>6.746267</td>\n",
       "      <td>0</td>\n",
       "    </tr>\n",
       "    <tr>\n",
       "      <th>2055</th>\n",
       "      <td>2055</td>\n",
       "      <td>63.285380</td>\n",
       "      <td>14.032235</td>\n",
       "      <td>21.048352</td>\n",
       "      <td>7.016117</td>\n",
       "      <td>0</td>\n",
       "    </tr>\n",
       "    <tr>\n",
       "      <th>2056</th>\n",
       "      <td>2056</td>\n",
       "      <td>65.816795</td>\n",
       "      <td>14.593524</td>\n",
       "      <td>21.890287</td>\n",
       "      <td>7.296762</td>\n",
       "      <td>0</td>\n",
       "    </tr>\n",
       "    <tr>\n",
       "      <th>2057</th>\n",
       "      <td>2057</td>\n",
       "      <td>68.449467</td>\n",
       "      <td>15.177265</td>\n",
       "      <td>22.765898</td>\n",
       "      <td>7.588633</td>\n",
       "      <td>0</td>\n",
       "    </tr>\n",
       "    <tr>\n",
       "      <th>2058</th>\n",
       "      <td>2058</td>\n",
       "      <td>71.187445</td>\n",
       "      <td>15.784356</td>\n",
       "      <td>23.676534</td>\n",
       "      <td>7.892178</td>\n",
       "      <td>0</td>\n",
       "    </tr>\n",
       "    <tr>\n",
       "      <th>2059</th>\n",
       "      <td>2059</td>\n",
       "      <td>74.034943</td>\n",
       "      <td>16.415730</td>\n",
       "      <td>24.623595</td>\n",
       "      <td>8.207865</td>\n",
       "      <td>0</td>\n",
       "    </tr>\n",
       "    <tr>\n",
       "      <th>2060</th>\n",
       "      <td>2060</td>\n",
       "      <td>76.996341</td>\n",
       "      <td>17.072359</td>\n",
       "      <td>25.608539</td>\n",
       "      <td>8.536180</td>\n",
       "      <td>0</td>\n",
       "    </tr>\n",
       "    <tr>\n",
       "      <th>2061</th>\n",
       "      <td>2061</td>\n",
       "      <td>80.076195</td>\n",
       "      <td>17.755254</td>\n",
       "      <td>26.632881</td>\n",
       "      <td>8.877627</td>\n",
       "      <td>0</td>\n",
       "    </tr>\n",
       "    <tr>\n",
       "      <th>2062</th>\n",
       "      <td>2062</td>\n",
       "      <td>83.279242</td>\n",
       "      <td>18.465464</td>\n",
       "      <td>27.698196</td>\n",
       "      <td>9.232732</td>\n",
       "      <td>0</td>\n",
       "    </tr>\n",
       "  </tbody>\n",
       "</table>\n",
       "</div>"
      ],
      "text/plain": [
       "      year     salary  living_expense       rent  other_expense  rest\n",
       "2023  2023  18.040000        4.000000   6.000000       2.000000     0\n",
       "2024  2024  18.761600        4.160000   6.240000       2.080000     0\n",
       "2025  2025  19.512064        4.326400   6.489600       2.163200     0\n",
       "2026  2026  20.292547        4.499456   6.749184       2.249728     0\n",
       "2027  2027  21.104248        4.679434   7.019151       2.339717     0\n",
       "2028  2028  21.948418        4.866612   7.299917       2.433306     0\n",
       "2029  2029  22.826355        5.061276   7.591914       2.530638     0\n",
       "2030  2030  23.739409        5.263727   7.895591       2.631864     0\n",
       "2031  2031  24.688986        5.474276   8.211414       2.737138     0\n",
       "2032  2032  25.676545        5.693247   8.539871       2.846624     0\n",
       "2033  2033  26.703607        5.920977   8.881466       2.960489     0\n",
       "2034  2034  27.771751        6.157816   9.236724       3.078908     0\n",
       "2035  2035  28.882621        6.404129   9.606193       3.202064     0\n",
       "2036  2036  30.037926        6.660294   9.990441       3.330147     0\n",
       "2037  2037  31.239443        6.926706  10.390059       3.463353     0\n",
       "2038  2038  32.489021        7.203774  10.805661       3.601887     0\n",
       "2039  2039  33.788582        7.491925  11.237887       3.745962     0\n",
       "2040  2040  35.140125        7.791602  11.687403       3.895801     0\n",
       "2041  2041  36.545730        8.103266  12.154899       4.051633     0\n",
       "2042  2042  38.007559        8.427397  12.641095       4.213698     0\n",
       "2043  2043  39.527862        8.764493  13.146739       4.382246     0\n",
       "2044  2044  41.108976        9.115072  13.672608       4.557536     0\n",
       "2045  2045  42.753335        9.479675  14.219513       4.739838     0\n",
       "2046  2046  44.463468        9.858862  14.788293       4.929431     0\n",
       "2047  2047  46.242007       10.253217  15.379825       5.126608     0\n",
       "2048  2048  48.091687       10.663345  15.995018       5.331673     0\n",
       "2049  2049  50.015355       11.089879  16.634819       5.544940     0\n",
       "2050  2050  52.015969       11.533474  17.300211       5.766737     0\n",
       "2051  2051  54.096608       11.994813  17.992220       5.997407     0\n",
       "2052  2052  56.260472       12.474606  18.711909       6.237303     0\n",
       "2053  2053  58.510891       12.973590  19.460385       6.486795     0\n",
       "2054  2054  60.851327       13.492534  20.238800       6.746267     0\n",
       "2055  2055  63.285380       14.032235  21.048352       7.016117     0\n",
       "2056  2056  65.816795       14.593524  21.890287       7.296762     0\n",
       "2057  2057  68.449467       15.177265  22.765898       7.588633     0\n",
       "2058  2058  71.187445       15.784356  23.676534       7.892178     0\n",
       "2059  2059  74.034943       16.415730  24.623595       8.207865     0\n",
       "2060  2060  76.996341       17.072359  25.608539       8.536180     0\n",
       "2061  2061  80.076195       17.755254  26.632881       8.877627     0\n",
       "2062  2062  83.279242       18.465464  27.698196       9.232732     0"
      ]
     },
     "execution_count": 226,
     "metadata": {},
     "output_type": "execute_result"
    }
   ],
   "source": [
    "df"
   ]
  },
  {
   "cell_type": "markdown",
   "metadata": {},
   "source": [
    "* 假设存款达到150万后买房，房价为300万，首付为100万，剩下的贷款，贷款利率为4.9%，贷款年限为30年，还款方式为等额本金  \n",
    "* 假设每年花费剩余现金0-25%购买黄金，黄金价格每年随机波动，波动范围为-25%到+33%  \n",
    "* 假设每年花费剩余现金0-25%购买股票，股价每年随机波动，波动范围为-50%到+100%  \n",
    "* 假设剩余现金全部存银行，银行利率为1.1%  \n",
    "* 假设买房后房价与GDP成比例增长，买房后不再租房"
   ]
  },
  {
   "cell_type": "code",
   "execution_count": 227,
   "metadata": {},
   "outputs": [],
   "source": [
    "df['cash'] = 0              # 现金\n",
    "df['interest'] = 0          # 利息\n",
    "df['gold_price'] = 0        # 黄金价格\n",
    "df['gold_buy_price'] = 0    # 黄金买入价格\n",
    "df['gold_hold'] = 0         # 持有黄金\n",
    "df['buy_gold'] = 0          # 是否买入黄金, 0:无交易, 1:买入, 2:卖出\n",
    "df['stock_price'] = 0       # 股票价格\n",
    "df['stock_buy_price'] = 0   # 股票买入价格\n",
    "df['stock_hold'] = 0        # 持有股票\n",
    "df['buy_stock'] = 0         # 是否买入股票, 0:无交易, 1:买入, 2:卖出\n",
    "df['values'] = 0            # 总资产\n",
    "df['loan'] = 0              # 贷款\n",
    "df['loan_interest'] = 0     # 贷款利息\n",
    "df['loan_capital'] = 0      # 贷款本金\n",
    "df['house_value'] = 0       # 房产价值"
   ]
  },
  {
   "cell_type": "code",
   "execution_count": 228,
   "metadata": {},
   "outputs": [],
   "source": [
    "buy_house = False           # 是否买房\n",
    "buy_house_time = None       # 买房时间"
   ]
  },
  {
   "cell_type": "code",
   "execution_count": 229,
   "metadata": {},
   "outputs": [
    {
     "name": "stdout",
     "output_type": "stream",
     "text": [
      "2023\n",
      "2024\n",
      "2025\n",
      "2026\n",
      "2027\n",
      "2028\n",
      "2029\n",
      "2030\n",
      "2031\n",
      "2032\n",
      "2033\n",
      "2034\n",
      "2035\n",
      "2036\n",
      "2037\n",
      "2038\n",
      "2039\n",
      "2040\n",
      "2041\n",
      "2042\n",
      "2043\n",
      "2044\n",
      "2045\n",
      "2046\n",
      "2047\n",
      "2048\n",
      "2049\n",
      "2050\n",
      "2051\n",
      "2052\n",
      "2053\n",
      "2054\n",
      "2055\n",
      "2056\n",
      "2057\n",
      "2058\n",
      "2059\n",
      "2060\n",
      "2061\n",
      "2062\n"
     ]
    }
   ],
   "source": [
    "for i, row in df.iterrows():\n",
    "    print(i)\n",
    "    \n",
    "    # 第一年\n",
    "    if i == 2023:\n",
    "        df.loc[i, 'rest'] = df.loc[i, 'salary'] - row['living_expense'] - row['rent'] - row['other_expense'] # 更新剩余\n",
    "        df.loc[i, 'cash'] = df.loc[i, 'rest']             # 更新现金\n",
    "        df.loc[i, 'gold_price'] = gold_price_now    # 2023年黄金价格\n",
    "        df.loc[i, 'stock_price'] = stock_price_now  # 2023年股票价格\n",
    "        \n",
    "        # 购买黄金和股票\n",
    "        buy_gold = df.loc[i, 'rest'] * random.uniform(*buy_cash_ratio)\n",
    "        buy_stock = df.loc[i, 'rest'] * random.uniform(*buy_cash_ratio)\n",
    "        df.loc[i, 'cash'] -= buy_gold\n",
    "        df.loc[i, 'cash'] -= buy_stock\n",
    "        df.loc[i, 'gold_hold'] = buy_gold / gold_price_now\n",
    "        df.loc[i, 'stock_hold'] = buy_stock / stock_price_now\n",
    "        df.loc[i, 'gold_buy_price'] = gold_price_now\n",
    "        df.loc[i, 'stock_buy_price'] = stock_price_now\n",
    "        df.loc[i, 'buy_gold'] = 1                                                                                # 更新买黄金状态\n",
    "        df.loc[i, 'buy_stock'] = 1                                                                               # 更新买黄金状态\n",
    "        \n",
    "    # 之后的年份\n",
    "    else:\n",
    "        if buy_house:\n",
    "            row['rent'] = 0\n",
    "        df.loc[i, 'rest'] = df.loc[i, 'salary'] - row['living_expense'] - row['other_expense'] - row['rent']    # 更新剩余\n",
    "        df.loc[i, 'interest'] = df.loc[i - 1, 'cash'] * interest_rate if df.loc[i - 1, 'cash'] > 0 else 0       # 更新利息\n",
    "        df.loc[i, 'cash'] = df.loc[i - 1, 'cash'] + df.loc[i, 'rest'] + df.loc[i, 'interest']                   # 更新现金\n",
    "        df.loc[i, 'stock_hold'] = df.loc[i - 1, 'stock_hold']                                                   # 更新持有股票\n",
    "        df.loc[i, 'gold_hold'] = df.loc[i - 1, 'gold_hold']                                                     # 更新持有黄金\n",
    "        df.loc[i, 'gold_price'] = df.loc[i - 1, 'gold_price'] * random.uniform(*gold_price_change)              # 更新黄金价格\n",
    "        df.loc[i, 'stock_price'] = df.loc[i - 1, 'stock_price'] * random.uniform(*stock_price_change)           # 更新股票价格\n",
    "        df.loc[i, 'gold_buy_price'] = df.loc[i - 1, 'gold_buy_price']                                           # 更新黄金买入价格\n",
    "        df.loc[i, 'stock_buy_price'] = df.loc[i - 1, 'stock_buy_price']                                         # 更新股票买入价格\n",
    "        df.loc[i, 'loan'] = df.loc[i - 1, 'loan']                                                               # 更新剩余贷款\n",
    "        \n",
    "        # 如果买了房\n",
    "        if buy_house:\n",
    "            if df.loc[i, 'loan'] > 0:                                                                           # 如果贷款还完了\n",
    "                df.loc[i, 'loan_capital'] = loan / loan_years                                            # 更新应还本金\n",
    "                df.loc[i, 'loan'] -= df.loc[i, 'loan_capital']                                                  # 更新剩余贷款\n",
    "                df.loc[i, 'loan_interest'] = df.loc[i, 'loan'] * loan_rate                                      # 更新利息\n",
    "                df.loc[i, 'cash'] = df.loc[i, 'cash'] - df.loc[i, 'loan_capital'] - df.loc[i, 'loan_interest']  # 更新现金\n",
    "            df.loc[i, 'house_value'] = house_price * (1 + GDP_increase_rate) ** (i - buy_house_time)            # 更新房产价值 ^_^\n",
    "            df.loc[i, 'rent'] = 0                                                                               # 不用租房了\n",
    "            df.loc[i, 'rest'] = df.loc[i, 'salary'] - row['living_expense'] - row['other_expense']              # 更新剩余\n",
    "\n",
    "        # 如果拥有现金150万且没有买房，则可以买房了，贷款200万\n",
    "        if df.loc[i, 'cash'] >= buy_house_threshold and not buy_house:\n",
    "            df.loc[i, 'loan'] += loan                                                                           # 更新剩余贷款\n",
    "            df.loc[i, 'loan_capital'] = loan / loan_years                                                # 更新应还本金\n",
    "            df.loc[i, 'loan_interest'] = df.loc[i, 'loan'] * loan_rate                                          # 更新利息\n",
    "            df.loc[i, 'cash'] -= down_payment + df.loc[i, 'loan_capital'] + df.loc[i, 'loan_interest']          # 更新现金\n",
    "            df.loc[i, 'house_value'] = 300                                                                      # 更新房产价值\n",
    "            buy_house = True                                                                                    # 更新买房状态\n",
    "            buy_house_time = i                                                                                  # 更新买房时间\n",
    "\n",
    "        # 买卖黄金和股票\n",
    "        # 如果黄金价格小于等于平均买入价格*0.95，那么买黄金\n",
    "        _cash = df.loc[i, 'cash']\n",
    "        if df.loc[i, 'gold_price'] <= df.loc[i, 'gold_buy_price'] * gold_buy_threshold and _cash > 0 or df.loc[i, 'gold_buy_price'] == 0:\n",
    "            buy_gold = _cash * random.uniform(*buy_cash_ratio)                                                  # 要买价值多少钱的黄金                  \n",
    "            df.loc[i, 'gold_buy_price'] = (df.loc[i, 'gold_buy_price'] * df.loc[i, 'gold_hold'] + buy_gold\n",
    "                                           ) / (df.loc[i, 'gold_hold'] + buy_gold / df.loc[i, 'gold_price'])    # 计算买入后持有黄金的平均买入价格\n",
    "            df.loc[i, 'cash'] -= buy_gold                                                                       # 更新现金\n",
    "            df.loc[i, 'gold_hold'] = buy_gold / df.loc[i, 'gold_price'] + df.loc[i - 1, 'gold_hold']            # 更新持有黄金\n",
    "            df.loc[i, 'buy_gold'] = 1                                                                           # 更新买黄金状态\n",
    "        # 如果黄金价格大于买入价格*1.1，那么卖黄金\n",
    "        elif df.loc[i, 'gold_price'] >= df.loc[i, 'gold_buy_price'] * gold_sell_threshold and df.loc[i, 'gold_hold'] > 0:      \n",
    "            df.loc[i, 'cash'] += df.loc[i, 'gold_hold'] * df.loc[i, 'gold_price']                               # 更新现金\n",
    "            df.loc[i, 'gold_hold'] = 0                                                                          # 更新持有黄金\n",
    "            df.loc[i, 'gold_buy_price'] = 0                                                                     # 更新平均买入价格，防止无法交易\n",
    "            df.loc[i, 'buy_gold'] = 2                                                                           # 更新买黄金状态\n",
    "\n",
    "        # 如果股票价格小于等于平均买入价格*0.9，那么买股票\n",
    "        if df.loc[i, 'stock_price'] <= df.loc[i, 'stock_buy_price'] * stock_buy_threshold and _cash > 0 or df.loc[i, 'stock_buy_price'] == 0:\n",
    "            buy_stock = _cash * random.uniform(*buy_cash_ratio)                                                 # 要买价值多少钱的股票\n",
    "            df.loc[i, 'stock_buy_price'] = (df.loc[i, 'stock_buy_price'] * df.loc[i, 'stock_hold'] + buy_stock  \n",
    "                                            ) / (df.loc[i, 'stock_hold'] + buy_stock / df.loc[i, 'stock_price'])# 计算买入后持有股票的平均买入价格\n",
    "            df.loc[i, 'cash'] -= buy_stock                                                                      # 更新现金\n",
    "            df.loc[i, 'stock_hold'] = buy_stock / df.loc[i, 'stock_price'] + df.loc[i - 1, 'stock_hold']        # 更新持有股票\n",
    "            df.loc[i, 'buy_stock'] = 1                                                                          # 更新买股票状态\n",
    "        # 如果股票价格大于买入价格*1.2，那么卖股票\n",
    "        elif df.loc[i, 'stock_price'] >= df.loc[i, 'stock_buy_price'] * stock_sell_threshold and df.loc[i, 'stock_hold'] > 0:  \n",
    "            df.loc[i, 'cash'] += df.loc[i, 'stock_hold'] * df.loc[i, 'stock_price']                             # 更新现金\n",
    "            df.loc[i, 'stock_hold'] = 0                                                                         # 更新持有股票\n",
    "            df.loc[i, 'stock_buy_price'] = 0                                                                    # 更新平均买入价格，防止无法交易\n",
    "            df.loc[i, 'buy_stock'] = 2                                                                          # 更新买股票状态\n",
    "\n",
    "    # 统计总资产\n",
    "    df.loc[i, 'values'] = df.loc[i, 'cash'] + df.loc[i, 'gold_price'] * df.loc[i, 'gold_hold'] + df.loc[i, 'stock_price'] * df.loc[i, 'stock_hold'] + df.loc[i, 'house_value'] - df.loc[i, 'loan']"
   ]
  },
  {
   "cell_type": "code",
   "execution_count": 230,
   "metadata": {},
   "outputs": [
    {
     "data": {
      "text/html": [
       "<div>\n",
       "<style scoped>\n",
       "    .dataframe tbody tr th:only-of-type {\n",
       "        vertical-align: middle;\n",
       "    }\n",
       "\n",
       "    .dataframe tbody tr th {\n",
       "        vertical-align: top;\n",
       "    }\n",
       "\n",
       "    .dataframe thead th {\n",
       "        text-align: right;\n",
       "    }\n",
       "</style>\n",
       "<table border=\"1\" class=\"dataframe\">\n",
       "  <thead>\n",
       "    <tr style=\"text-align: right;\">\n",
       "      <th></th>\n",
       "      <th>year</th>\n",
       "      <th>salary</th>\n",
       "      <th>living_expense</th>\n",
       "      <th>rent</th>\n",
       "      <th>other_expense</th>\n",
       "      <th>rest</th>\n",
       "      <th>cash</th>\n",
       "      <th>interest</th>\n",
       "      <th>gold_price</th>\n",
       "      <th>gold_buy_price</th>\n",
       "      <th>...</th>\n",
       "      <th>buy_gold</th>\n",
       "      <th>stock_price</th>\n",
       "      <th>stock_buy_price</th>\n",
       "      <th>stock_hold</th>\n",
       "      <th>buy_stock</th>\n",
       "      <th>values</th>\n",
       "      <th>loan</th>\n",
       "      <th>loan_interest</th>\n",
       "      <th>loan_capital</th>\n",
       "      <th>house_value</th>\n",
       "    </tr>\n",
       "  </thead>\n",
       "  <tbody>\n",
       "    <tr>\n",
       "      <th>2023</th>\n",
       "      <td>2023</td>\n",
       "      <td>18.040000</td>\n",
       "      <td>4.000000</td>\n",
       "      <td>6.000000</td>\n",
       "      <td>2.000000</td>\n",
       "      <td>6.040000</td>\n",
       "      <td>4.217481</td>\n",
       "      <td>0.000000</td>\n",
       "      <td>0.047500</td>\n",
       "      <td>0.047500</td>\n",
       "      <td>...</td>\n",
       "      <td>1</td>\n",
       "      <td>0.000300</td>\n",
       "      <td>0.000300</td>\n",
       "      <td>4476.954595</td>\n",
       "      <td>1</td>\n",
       "      <td>6.040000</td>\n",
       "      <td>0.000000</td>\n",
       "      <td>0.000000</td>\n",
       "      <td>0.000000</td>\n",
       "      <td>0.000000</td>\n",
       "    </tr>\n",
       "    <tr>\n",
       "      <th>2024</th>\n",
       "      <td>2024</td>\n",
       "      <td>18.761600</td>\n",
       "      <td>4.160000</td>\n",
       "      <td>6.240000</td>\n",
       "      <td>2.080000</td>\n",
       "      <td>6.281600</td>\n",
       "      <td>5.730992</td>\n",
       "      <td>0.046392</td>\n",
       "      <td>0.037227</td>\n",
       "      <td>0.038702</td>\n",
       "      <td>...</td>\n",
       "      <td>1</td>\n",
       "      <td>0.000225</td>\n",
       "      <td>0.000246</td>\n",
       "      <td>15901.161688</td>\n",
       "      <td>1</td>\n",
       "      <td>11.929989</td>\n",
       "      <td>0.000000</td>\n",
       "      <td>0.000000</td>\n",
       "      <td>0.000000</td>\n",
       "      <td>0.000000</td>\n",
       "    </tr>\n",
       "    <tr>\n",
       "      <th>2025</th>\n",
       "      <td>2025</td>\n",
       "      <td>19.512064</td>\n",
       "      <td>4.326400</td>\n",
       "      <td>6.489600</td>\n",
       "      <td>2.163200</td>\n",
       "      <td>6.532864</td>\n",
       "      <td>11.232443</td>\n",
       "      <td>0.063041</td>\n",
       "      <td>0.032557</td>\n",
       "      <td>0.036714</td>\n",
       "      <td>...</td>\n",
       "      <td>1</td>\n",
       "      <td>0.000240</td>\n",
       "      <td>0.000246</td>\n",
       "      <td>15901.161688</td>\n",
       "      <td>0</td>\n",
       "      <td>18.435570</td>\n",
       "      <td>0.000000</td>\n",
       "      <td>0.000000</td>\n",
       "      <td>0.000000</td>\n",
       "      <td>0.000000</td>\n",
       "    </tr>\n",
       "    <tr>\n",
       "      <th>2026</th>\n",
       "      <td>2026</td>\n",
       "      <td>20.292547</td>\n",
       "      <td>4.499456</td>\n",
       "      <td>6.749184</td>\n",
       "      <td>2.249728</td>\n",
       "      <td>6.794179</td>\n",
       "      <td>23.677214</td>\n",
       "      <td>0.123557</td>\n",
       "      <td>0.035626</td>\n",
       "      <td>0.036714</td>\n",
       "      <td>...</td>\n",
       "      <td>0</td>\n",
       "      <td>0.000348</td>\n",
       "      <td>0.000000</td>\n",
       "      <td>0.000000</td>\n",
       "      <td>2</td>\n",
       "      <td>27.378384</td>\n",
       "      <td>0.000000</td>\n",
       "      <td>0.000000</td>\n",
       "      <td>0.000000</td>\n",
       "      <td>0.000000</td>\n",
       "    </tr>\n",
       "    <tr>\n",
       "      <th>2027</th>\n",
       "      <td>2027</td>\n",
       "      <td>21.104248</td>\n",
       "      <td>4.679434</td>\n",
       "      <td>7.019151</td>\n",
       "      <td>2.339717</td>\n",
       "      <td>7.065946</td>\n",
       "      <td>34.570857</td>\n",
       "      <td>0.260449</td>\n",
       "      <td>0.043021</td>\n",
       "      <td>0.000000</td>\n",
       "      <td>...</td>\n",
       "      <td>2</td>\n",
       "      <td>0.000352</td>\n",
       "      <td>0.000352</td>\n",
       "      <td>2562.884662</td>\n",
       "      <td>1</td>\n",
       "      <td>35.473068</td>\n",
       "      <td>0.000000</td>\n",
       "      <td>0.000000</td>\n",
       "      <td>0.000000</td>\n",
       "      <td>0.000000</td>\n",
       "    </tr>\n",
       "    <tr>\n",
       "      <th>2028</th>\n",
       "      <td>2028</td>\n",
       "      <td>21.948418</td>\n",
       "      <td>4.866612</td>\n",
       "      <td>7.299917</td>\n",
       "      <td>2.433306</td>\n",
       "      <td>7.348584</td>\n",
       "      <td>34.788567</td>\n",
       "      <td>0.380279</td>\n",
       "      <td>0.036729</td>\n",
       "      <td>0.036729</td>\n",
       "      <td>...</td>\n",
       "      <td>1</td>\n",
       "      <td>0.000322</td>\n",
       "      <td>0.000352</td>\n",
       "      <td>2562.884662</td>\n",
       "      <td>0</td>\n",
       "      <td>43.124967</td>\n",
       "      <td>0.000000</td>\n",
       "      <td>0.000000</td>\n",
       "      <td>0.000000</td>\n",
       "      <td>0.000000</td>\n",
       "    </tr>\n",
       "    <tr>\n",
       "      <th>2029</th>\n",
       "      <td>2029</td>\n",
       "      <td>22.826355</td>\n",
       "      <td>5.061276</td>\n",
       "      <td>7.591914</td>\n",
       "      <td>2.530638</td>\n",
       "      <td>7.642527</td>\n",
       "      <td>43.374567</td>\n",
       "      <td>0.382674</td>\n",
       "      <td>0.046252</td>\n",
       "      <td>0.000000</td>\n",
       "      <td>...</td>\n",
       "      <td>2</td>\n",
       "      <td>0.000246</td>\n",
       "      <td>0.000253</td>\n",
       "      <td>38711.856674</td>\n",
       "      <td>1</td>\n",
       "      <td>52.903298</td>\n",
       "      <td>0.000000</td>\n",
       "      <td>0.000000</td>\n",
       "      <td>0.000000</td>\n",
       "      <td>0.000000</td>\n",
       "    </tr>\n",
       "    <tr>\n",
       "      <th>2030</th>\n",
       "      <td>2030</td>\n",
       "      <td>23.739409</td>\n",
       "      <td>5.263727</td>\n",
       "      <td>7.895591</td>\n",
       "      <td>2.631864</td>\n",
       "      <td>7.948228</td>\n",
       "      <td>27.626338</td>\n",
       "      <td>0.477120</td>\n",
       "      <td>0.035285</td>\n",
       "      <td>0.035285</td>\n",
       "      <td>...</td>\n",
       "      <td>1</td>\n",
       "      <td>0.000208</td>\n",
       "      <td>0.000226</td>\n",
       "      <td>97314.255090</td>\n",
       "      <td>1</td>\n",
       "      <td>59.871116</td>\n",
       "      <td>0.000000</td>\n",
       "      <td>0.000000</td>\n",
       "      <td>0.000000</td>\n",
       "      <td>0.000000</td>\n",
       "    </tr>\n",
       "    <tr>\n",
       "      <th>2031</th>\n",
       "      <td>2031</td>\n",
       "      <td>24.688986</td>\n",
       "      <td>5.474276</td>\n",
       "      <td>8.211414</td>\n",
       "      <td>2.737138</td>\n",
       "      <td>8.266157</td>\n",
       "      <td>49.542729</td>\n",
       "      <td>0.303890</td>\n",
       "      <td>0.039391</td>\n",
       "      <td>0.000000</td>\n",
       "      <td>...</td>\n",
       "      <td>2</td>\n",
       "      <td>0.000230</td>\n",
       "      <td>0.000226</td>\n",
       "      <td>97314.255090</td>\n",
       "      <td>0</td>\n",
       "      <td>71.901773</td>\n",
       "      <td>0.000000</td>\n",
       "      <td>0.000000</td>\n",
       "      <td>0.000000</td>\n",
       "      <td>0.000000</td>\n",
       "    </tr>\n",
       "    <tr>\n",
       "      <th>2032</th>\n",
       "      <td>2032</td>\n",
       "      <td>25.676545</td>\n",
       "      <td>5.693247</td>\n",
       "      <td>8.539871</td>\n",
       "      <td>2.846624</td>\n",
       "      <td>8.596803</td>\n",
       "      <td>47.450827</td>\n",
       "      <td>0.544970</td>\n",
       "      <td>0.045354</td>\n",
       "      <td>0.045354</td>\n",
       "      <td>...</td>\n",
       "      <td>1</td>\n",
       "      <td>0.000165</td>\n",
       "      <td>0.000212</td>\n",
       "      <td>126834.933278</td>\n",
       "      <td>1</td>\n",
       "      <td>74.714973</td>\n",
       "      <td>0.000000</td>\n",
       "      <td>0.000000</td>\n",
       "      <td>0.000000</td>\n",
       "      <td>0.000000</td>\n",
       "    </tr>\n",
       "    <tr>\n",
       "      <th>2033</th>\n",
       "      <td>2033</td>\n",
       "      <td>26.703607</td>\n",
       "      <td>5.920977</td>\n",
       "      <td>8.881466</td>\n",
       "      <td>2.960489</td>\n",
       "      <td>8.940675</td>\n",
       "      <td>54.982376</td>\n",
       "      <td>0.521959</td>\n",
       "      <td>0.040578</td>\n",
       "      <td>0.044146</td>\n",
       "      <td>...</td>\n",
       "      <td>1</td>\n",
       "      <td>0.000250</td>\n",
       "      <td>0.000212</td>\n",
       "      <td>126834.933278</td>\n",
       "      <td>0</td>\n",
       "      <td>94.336079</td>\n",
       "      <td>0.000000</td>\n",
       "      <td>0.000000</td>\n",
       "      <td>0.000000</td>\n",
       "      <td>0.000000</td>\n",
       "    </tr>\n",
       "    <tr>\n",
       "      <th>2034</th>\n",
       "      <td>2034</td>\n",
       "      <td>27.771751</td>\n",
       "      <td>6.157816</td>\n",
       "      <td>9.236724</td>\n",
       "      <td>3.078908</td>\n",
       "      <td>9.298303</td>\n",
       "      <td>134.015735</td>\n",
       "      <td>0.604806</td>\n",
       "      <td>0.049058</td>\n",
       "      <td>0.000000</td>\n",
       "      <td>...</td>\n",
       "      <td>2</td>\n",
       "      <td>0.000472</td>\n",
       "      <td>0.000000</td>\n",
       "      <td>0.000000</td>\n",
       "      <td>2</td>\n",
       "      <td>134.015735</td>\n",
       "      <td>0.000000</td>\n",
       "      <td>0.000000</td>\n",
       "      <td>0.000000</td>\n",
       "      <td>0.000000</td>\n",
       "    </tr>\n",
       "    <tr>\n",
       "      <th>2035</th>\n",
       "      <td>2035</td>\n",
       "      <td>28.882621</td>\n",
       "      <td>6.404129</td>\n",
       "      <td>9.606193</td>\n",
       "      <td>3.202064</td>\n",
       "      <td>9.670235</td>\n",
       "      <td>98.715053</td>\n",
       "      <td>1.474173</td>\n",
       "      <td>0.040199</td>\n",
       "      <td>0.040199</td>\n",
       "      <td>...</td>\n",
       "      <td>1</td>\n",
       "      <td>0.000404</td>\n",
       "      <td>0.000404</td>\n",
       "      <td>68442.358632</td>\n",
       "      <td>1</td>\n",
       "      <td>145.160142</td>\n",
       "      <td>0.000000</td>\n",
       "      <td>0.000000</td>\n",
       "      <td>0.000000</td>\n",
       "      <td>0.000000</td>\n",
       "    </tr>\n",
       "    <tr>\n",
       "      <th>2036</th>\n",
       "      <td>2036</td>\n",
       "      <td>30.037926</td>\n",
       "      <td>6.660294</td>\n",
       "      <td>9.990441</td>\n",
       "      <td>3.330147</td>\n",
       "      <td>10.057044</td>\n",
       "      <td>185.622133</td>\n",
       "      <td>1.085866</td>\n",
       "      <td>0.050893</td>\n",
       "      <td>0.000000</td>\n",
       "      <td>...</td>\n",
       "      <td>2</td>\n",
       "      <td>0.000760</td>\n",
       "      <td>0.000000</td>\n",
       "      <td>0.000000</td>\n",
       "      <td>2</td>\n",
       "      <td>185.622133</td>\n",
       "      <td>0.000000</td>\n",
       "      <td>0.000000</td>\n",
       "      <td>0.000000</td>\n",
       "      <td>0.000000</td>\n",
       "    </tr>\n",
       "    <tr>\n",
       "      <th>2037</th>\n",
       "      <td>2037</td>\n",
       "      <td>31.239443</td>\n",
       "      <td>6.926706</td>\n",
       "      <td>10.390059</td>\n",
       "      <td>3.463353</td>\n",
       "      <td>10.459326</td>\n",
       "      <td>56.160237</td>\n",
       "      <td>2.041843</td>\n",
       "      <td>0.050175</td>\n",
       "      <td>0.050175</td>\n",
       "      <td>...</td>\n",
       "      <td>1</td>\n",
       "      <td>0.001396</td>\n",
       "      <td>0.001396</td>\n",
       "      <td>11030.340430</td>\n",
       "      <td>1</td>\n",
       "      <td>181.656636</td>\n",
       "      <td>200.000000</td>\n",
       "      <td>9.800000</td>\n",
       "      <td>6.666667</td>\n",
       "      <td>300.000000</td>\n",
       "    </tr>\n",
       "    <tr>\n",
       "      <th>2038</th>\n",
       "      <td>2038</td>\n",
       "      <td>32.489021</td>\n",
       "      <td>7.203774</td>\n",
       "      <td>0.000000</td>\n",
       "      <td>3.601887</td>\n",
       "      <td>21.683360</td>\n",
       "      <td>56.307755</td>\n",
       "      <td>0.617763</td>\n",
       "      <td>0.052560</td>\n",
       "      <td>0.050175</td>\n",
       "      <td>...</td>\n",
       "      <td>0</td>\n",
       "      <td>0.001126</td>\n",
       "      <td>0.001308</td>\n",
       "      <td>16371.832837</td>\n",
       "      <td>1</td>\n",
       "      <td>203.984766</td>\n",
       "      <td>193.333333</td>\n",
       "      <td>9.473333</td>\n",
       "      <td>6.666667</td>\n",
       "      <td>312.000000</td>\n",
       "    </tr>\n",
       "    <tr>\n",
       "      <th>2039</th>\n",
       "      <td>2039</td>\n",
       "      <td>33.788582</td>\n",
       "      <td>7.491925</td>\n",
       "      <td>0.000000</td>\n",
       "      <td>3.745962</td>\n",
       "      <td>22.550694</td>\n",
       "      <td>63.664501</td>\n",
       "      <td>0.619385</td>\n",
       "      <td>0.053861</td>\n",
       "      <td>0.050175</td>\n",
       "      <td>...</td>\n",
       "      <td>0</td>\n",
       "      <td>0.001198</td>\n",
       "      <td>0.001308</td>\n",
       "      <td>16371.832837</td>\n",
       "      <td>0</td>\n",
       "      <td>231.936421</td>\n",
       "      <td>186.666667</td>\n",
       "      <td>9.146667</td>\n",
       "      <td>6.666667</td>\n",
       "      <td>324.480000</td>\n",
       "    </tr>\n",
       "    <tr>\n",
       "      <th>2040</th>\n",
       "      <td>2040</td>\n",
       "      <td>35.140125</td>\n",
       "      <td>7.791602</td>\n",
       "      <td>0.000000</td>\n",
       "      <td>3.895801</td>\n",
       "      <td>23.452722</td>\n",
       "      <td>113.714264</td>\n",
       "      <td>0.700310</td>\n",
       "      <td>0.063520</td>\n",
       "      <td>0.000000</td>\n",
       "      <td>...</td>\n",
       "      <td>2</td>\n",
       "      <td>0.001747</td>\n",
       "      <td>0.000000</td>\n",
       "      <td>0.000000</td>\n",
       "      <td>2</td>\n",
       "      <td>271.173464</td>\n",
       "      <td>180.000000</td>\n",
       "      <td>8.820000</td>\n",
       "      <td>6.666667</td>\n",
       "      <td>337.459200</td>\n",
       "    </tr>\n",
       "    <tr>\n",
       "      <th>2041</th>\n",
       "      <td>2041</td>\n",
       "      <td>36.545730</td>\n",
       "      <td>8.103266</td>\n",
       "      <td>0.000000</td>\n",
       "      <td>4.051633</td>\n",
       "      <td>24.390831</td>\n",
       "      <td>92.243356</td>\n",
       "      <td>1.250857</td>\n",
       "      <td>0.050241</td>\n",
       "      <td>0.050241</td>\n",
       "      <td>...</td>\n",
       "      <td>1</td>\n",
       "      <td>0.001544</td>\n",
       "      <td>0.001544</td>\n",
       "      <td>594.016212</td>\n",
       "      <td>1</td>\n",
       "      <td>301.820187</td>\n",
       "      <td>173.333333</td>\n",
       "      <td>8.493333</td>\n",
       "      <td>6.666667</td>\n",
       "      <td>350.957568</td>\n",
       "    </tr>\n",
       "    <tr>\n",
       "      <th>2042</th>\n",
       "      <td>2042</td>\n",
       "      <td>38.007559</td>\n",
       "      <td>8.427397</td>\n",
       "      <td>0.000000</td>\n",
       "      <td>4.213698</td>\n",
       "      <td>25.366464</td>\n",
       "      <td>88.323423</td>\n",
       "      <td>1.014677</td>\n",
       "      <td>0.046385</td>\n",
       "      <td>0.048826</td>\n",
       "      <td>...</td>\n",
       "      <td>1</td>\n",
       "      <td>0.001917</td>\n",
       "      <td>0.000000</td>\n",
       "      <td>0.000000</td>\n",
       "      <td>2</td>\n",
       "      <td>331.911943</td>\n",
       "      <td>166.666667</td>\n",
       "      <td>8.166667</td>\n",
       "      <td>6.666667</td>\n",
       "      <td>364.995871</td>\n",
       "    </tr>\n",
       "    <tr>\n",
       "      <th>2043</th>\n",
       "      <td>2043</td>\n",
       "      <td>39.527862</td>\n",
       "      <td>8.764493</td>\n",
       "      <td>0.000000</td>\n",
       "      <td>4.382246</td>\n",
       "      <td>26.381123</td>\n",
       "      <td>56.999094</td>\n",
       "      <td>0.971558</td>\n",
       "      <td>0.040474</td>\n",
       "      <td>0.045618</td>\n",
       "      <td>...</td>\n",
       "      <td>1</td>\n",
       "      <td>0.002973</td>\n",
       "      <td>0.002973</td>\n",
       "      <td>6574.199600</td>\n",
       "      <td>1</td>\n",
       "      <td>360.257495</td>\n",
       "      <td>160.000000</td>\n",
       "      <td>7.840000</td>\n",
       "      <td>6.666667</td>\n",
       "      <td>379.595706</td>\n",
       "    </tr>\n",
       "    <tr>\n",
       "      <th>2044</th>\n",
       "      <td>2044</td>\n",
       "      <td>41.108976</td>\n",
       "      <td>9.115072</td>\n",
       "      <td>0.000000</td>\n",
       "      <td>4.557536</td>\n",
       "      <td>27.436368</td>\n",
       "      <td>61.650191</td>\n",
       "      <td>0.626990</td>\n",
       "      <td>0.035472</td>\n",
       "      <td>0.044254</td>\n",
       "      <td>...</td>\n",
       "      <td>1</td>\n",
       "      <td>0.002601</td>\n",
       "      <td>0.002962</td>\n",
       "      <td>6767.442042</td>\n",
       "      <td>1</td>\n",
       "      <td>385.621837</td>\n",
       "      <td>153.333333</td>\n",
       "      <td>7.513333</td>\n",
       "      <td>6.666667</td>\n",
       "      <td>394.779534</td>\n",
       "    </tr>\n",
       "    <tr>\n",
       "      <th>2045</th>\n",
       "      <td>2045</td>\n",
       "      <td>42.753335</td>\n",
       "      <td>9.479675</td>\n",
       "      <td>0.000000</td>\n",
       "      <td>4.739838</td>\n",
       "      <td>28.533822</td>\n",
       "      <td>61.193547</td>\n",
       "      <td>0.678152</td>\n",
       "      <td>0.037779</td>\n",
       "      <td>0.043049</td>\n",
       "      <td>...</td>\n",
       "      <td>1</td>\n",
       "      <td>0.003453</td>\n",
       "      <td>0.002962</td>\n",
       "      <td>6767.442042</td>\n",
       "      <td>0</td>\n",
       "      <td>433.425514</td>\n",
       "      <td>146.666667</td>\n",
       "      <td>7.186667</td>\n",
       "      <td>6.666667</td>\n",
       "      <td>410.570715</td>\n",
       "    </tr>\n",
       "    <tr>\n",
       "      <th>2046</th>\n",
       "      <td>2046</td>\n",
       "      <td>44.463468</td>\n",
       "      <td>9.858862</td>\n",
       "      <td>0.000000</td>\n",
       "      <td>4.929431</td>\n",
       "      <td>29.675175</td>\n",
       "      <td>70.103945</td>\n",
       "      <td>0.673129</td>\n",
       "      <td>0.036676</td>\n",
       "      <td>0.042491</td>\n",
       "      <td>...</td>\n",
       "      <td>1</td>\n",
       "      <td>0.002740</td>\n",
       "      <td>0.002962</td>\n",
       "      <td>6767.442042</td>\n",
       "      <td>0</td>\n",
       "      <td>466.037165</td>\n",
       "      <td>140.000000</td>\n",
       "      <td>6.860000</td>\n",
       "      <td>6.666667</td>\n",
       "      <td>426.993544</td>\n",
       "    </tr>\n",
       "    <tr>\n",
       "      <th>2047</th>\n",
       "      <td>2047</td>\n",
       "      <td>46.242007</td>\n",
       "      <td>10.253217</td>\n",
       "      <td>0.000000</td>\n",
       "      <td>5.126608</td>\n",
       "      <td>30.862182</td>\n",
       "      <td>235.622866</td>\n",
       "      <td>0.771143</td>\n",
       "      <td>0.048034</td>\n",
       "      <td>0.000000</td>\n",
       "      <td>...</td>\n",
       "      <td>2</td>\n",
       "      <td>0.004240</td>\n",
       "      <td>0.000000</td>\n",
       "      <td>0.000000</td>\n",
       "      <td>2</td>\n",
       "      <td>546.362819</td>\n",
       "      <td>133.333333</td>\n",
       "      <td>6.533333</td>\n",
       "      <td>6.666667</td>\n",
       "      <td>444.073285</td>\n",
       "    </tr>\n",
       "    <tr>\n",
       "      <th>2048</th>\n",
       "      <td>2048</td>\n",
       "      <td>48.091687</td>\n",
       "      <td>10.663345</td>\n",
       "      <td>0.000000</td>\n",
       "      <td>5.331673</td>\n",
       "      <td>32.096669</td>\n",
       "      <td>151.879085</td>\n",
       "      <td>2.591852</td>\n",
       "      <td>0.038132</td>\n",
       "      <td>0.038132</td>\n",
       "      <td>...</td>\n",
       "      <td>1</td>\n",
       "      <td>0.006628</td>\n",
       "      <td>0.006628</td>\n",
       "      <td>9663.691633</td>\n",
       "      <td>1</td>\n",
       "      <td>592.607604</td>\n",
       "      <td>126.666667</td>\n",
       "      <td>6.206667</td>\n",
       "      <td>6.666667</td>\n",
       "      <td>461.836217</td>\n",
       "    </tr>\n",
       "    <tr>\n",
       "      <th>2049</th>\n",
       "      <td>2049</td>\n",
       "      <td>50.015355</td>\n",
       "      <td>11.089879</td>\n",
       "      <td>0.000000</td>\n",
       "      <td>5.544940</td>\n",
       "      <td>33.380536</td>\n",
       "      <td>309.021505</td>\n",
       "      <td>1.670670</td>\n",
       "      <td>0.048870</td>\n",
       "      <td>0.000000</td>\n",
       "      <td>...</td>\n",
       "      <td>2</td>\n",
       "      <td>0.008427</td>\n",
       "      <td>0.000000</td>\n",
       "      <td>0.000000</td>\n",
       "      <td>2</td>\n",
       "      <td>669.331171</td>\n",
       "      <td>120.000000</td>\n",
       "      <td>5.880000</td>\n",
       "      <td>6.666667</td>\n",
       "      <td>480.309666</td>\n",
       "    </tr>\n",
       "    <tr>\n",
       "      <th>2050</th>\n",
       "      <td>2050</td>\n",
       "      <td>52.015969</td>\n",
       "      <td>11.533474</td>\n",
       "      <td>0.000000</td>\n",
       "      <td>5.766737</td>\n",
       "      <td>34.715758</td>\n",
       "      <td>265.465227</td>\n",
       "      <td>3.399237</td>\n",
       "      <td>0.055939</td>\n",
       "      <td>0.055939</td>\n",
       "      <td>...</td>\n",
       "      <td>1</td>\n",
       "      <td>0.004827</td>\n",
       "      <td>0.004827</td>\n",
       "      <td>5451.396512</td>\n",
       "      <td>1</td>\n",
       "      <td>721.105218</td>\n",
       "      <td>113.333333</td>\n",
       "      <td>5.553333</td>\n",
       "      <td>6.666667</td>\n",
       "      <td>499.522052</td>\n",
       "    </tr>\n",
       "    <tr>\n",
       "      <th>2051</th>\n",
       "      <td>2051</td>\n",
       "      <td>54.096608</td>\n",
       "      <td>11.994813</td>\n",
       "      <td>0.000000</td>\n",
       "      <td>5.997407</td>\n",
       "      <td>36.104388</td>\n",
       "      <td>341.775778</td>\n",
       "      <td>2.920117</td>\n",
       "      <td>0.063770</td>\n",
       "      <td>0.000000</td>\n",
       "      <td>...</td>\n",
       "      <td>2</td>\n",
       "      <td>0.005689</td>\n",
       "      <td>0.004827</td>\n",
       "      <td>5451.396512</td>\n",
       "      <td>0</td>\n",
       "      <td>785.625767</td>\n",
       "      <td>106.666667</td>\n",
       "      <td>5.226667</td>\n",
       "      <td>6.666667</td>\n",
       "      <td>519.502934</td>\n",
       "    </tr>\n",
       "    <tr>\n",
       "      <th>2052</th>\n",
       "      <td>2052</td>\n",
       "      <td>56.260472</td>\n",
       "      <td>12.474606</td>\n",
       "      <td>0.000000</td>\n",
       "      <td>6.237303</td>\n",
       "      <td>37.548563</td>\n",
       "      <td>421.331719</td>\n",
       "      <td>3.759534</td>\n",
       "      <td>0.060463</td>\n",
       "      <td>0.060463</td>\n",
       "      <td>...</td>\n",
       "      <td>1</td>\n",
       "      <td>0.011131</td>\n",
       "      <td>0.000000</td>\n",
       "      <td>0.000000</td>\n",
       "      <td>2</td>\n",
       "      <td>872.482465</td>\n",
       "      <td>100.000000</td>\n",
       "      <td>4.900000</td>\n",
       "      <td>6.666667</td>\n",
       "      <td>540.283052</td>\n",
       "    </tr>\n",
       "    <tr>\n",
       "      <th>2053</th>\n",
       "      <td>2053</td>\n",
       "      <td>58.510891</td>\n",
       "      <td>12.973590</td>\n",
       "      <td>0.000000</td>\n",
       "      <td>6.486795</td>\n",
       "      <td>39.050506</td>\n",
       "      <td>410.527546</td>\n",
       "      <td>4.634649</td>\n",
       "      <td>0.066502</td>\n",
       "      <td>0.060463</td>\n",
       "      <td>...</td>\n",
       "      <td>0</td>\n",
       "      <td>0.006315</td>\n",
       "      <td>0.006315</td>\n",
       "      <td>6849.195428</td>\n",
       "      <td>1</td>\n",
       "      <td>934.290989</td>\n",
       "      <td>93.333333</td>\n",
       "      <td>4.573333</td>\n",
       "      <td>6.666667</td>\n",
       "      <td>561.894374</td>\n",
       "    </tr>\n",
       "    <tr>\n",
       "      <th>2054</th>\n",
       "      <td>2054</td>\n",
       "      <td>60.851327</td>\n",
       "      <td>13.492534</td>\n",
       "      <td>0.000000</td>\n",
       "      <td>6.746267</td>\n",
       "      <td>40.612526</td>\n",
       "      <td>458.153604</td>\n",
       "      <td>4.515803</td>\n",
       "      <td>0.074613</td>\n",
       "      <td>0.000000</td>\n",
       "      <td>...</td>\n",
       "      <td>2</td>\n",
       "      <td>0.005821</td>\n",
       "      <td>0.006315</td>\n",
       "      <td>6849.195428</td>\n",
       "      <td>0</td>\n",
       "      <td>995.724801</td>\n",
       "      <td>86.666667</td>\n",
       "      <td>4.246667</td>\n",
       "      <td>6.666667</td>\n",
       "      <td>584.370149</td>\n",
       "    </tr>\n",
       "    <tr>\n",
       "      <th>2055</th>\n",
       "      <td>2055</td>\n",
       "      <td>63.285380</td>\n",
       "      <td>14.032235</td>\n",
       "      <td>0.000000</td>\n",
       "      <td>7.016117</td>\n",
       "      <td>42.237027</td>\n",
       "      <td>404.165748</td>\n",
       "      <td>5.039690</td>\n",
       "      <td>0.078508</td>\n",
       "      <td>0.078508</td>\n",
       "      <td>...</td>\n",
       "      <td>1</td>\n",
       "      <td>0.007205</td>\n",
       "      <td>0.006315</td>\n",
       "      <td>6849.195428</td>\n",
       "      <td>0</td>\n",
       "      <td>1071.934380</td>\n",
       "      <td>80.000000</td>\n",
       "      <td>3.920000</td>\n",
       "      <td>6.666667</td>\n",
       "      <td>607.744955</td>\n",
       "    </tr>\n",
       "    <tr>\n",
       "      <th>2056</th>\n",
       "      <td>2056</td>\n",
       "      <td>65.816795</td>\n",
       "      <td>14.593524</td>\n",
       "      <td>0.000000</td>\n",
       "      <td>7.296762</td>\n",
       "      <td>43.926508</td>\n",
       "      <td>433.223671</td>\n",
       "      <td>4.445823</td>\n",
       "      <td>0.058938</td>\n",
       "      <td>0.067071</td>\n",
       "      <td>...</td>\n",
       "      <td>1</td>\n",
       "      <td>0.012654</td>\n",
       "      <td>0.000000</td>\n",
       "      <td>0.000000</td>\n",
       "      <td>2</td>\n",
       "      <td>1155.743634</td>\n",
       "      <td>73.333333</td>\n",
       "      <td>3.593333</td>\n",
       "      <td>6.666667</td>\n",
       "      <td>632.054753</td>\n",
       "    </tr>\n",
       "    <tr>\n",
       "      <th>2057</th>\n",
       "      <td>2057</td>\n",
       "      <td>68.449467</td>\n",
       "      <td>15.177265</td>\n",
       "      <td>0.000000</td>\n",
       "      <td>7.588633</td>\n",
       "      <td>45.683569</td>\n",
       "      <td>376.899448</td>\n",
       "      <td>4.765460</td>\n",
       "      <td>0.046450</td>\n",
       "      <td>0.058485</td>\n",
       "      <td>...</td>\n",
       "      <td>1</td>\n",
       "      <td>0.009216</td>\n",
       "      <td>0.009216</td>\n",
       "      <td>513.720173</td>\n",
       "      <td>1</td>\n",
       "      <td>1193.502976</td>\n",
       "      <td>66.666667</td>\n",
       "      <td>3.266667</td>\n",
       "      <td>6.666667</td>\n",
       "      <td>657.336943</td>\n",
       "    </tr>\n",
       "    <tr>\n",
       "      <th>2058</th>\n",
       "      <td>2058</td>\n",
       "      <td>71.187445</td>\n",
       "      <td>15.784356</td>\n",
       "      <td>0.000000</td>\n",
       "      <td>7.892178</td>\n",
       "      <td>47.510911</td>\n",
       "      <td>351.043569</td>\n",
       "      <td>4.145894</td>\n",
       "      <td>0.039363</td>\n",
       "      <td>0.053400</td>\n",
       "      <td>...</td>\n",
       "      <td>1</td>\n",
       "      <td>0.008737</td>\n",
       "      <td>0.009216</td>\n",
       "      <td>513.720173</td>\n",
       "      <td>0</td>\n",
       "      <td>1234.516442</td>\n",
       "      <td>60.000000</td>\n",
       "      <td>2.940000</td>\n",
       "      <td>6.666667</td>\n",
       "      <td>683.630421</td>\n",
       "    </tr>\n",
       "    <tr>\n",
       "      <th>2059</th>\n",
       "      <td>2059</td>\n",
       "      <td>74.034943</td>\n",
       "      <td>16.415730</td>\n",
       "      <td>0.000000</td>\n",
       "      <td>8.207865</td>\n",
       "      <td>49.411348</td>\n",
       "      <td>273.828486</td>\n",
       "      <td>3.861479</td>\n",
       "      <td>0.039527</td>\n",
       "      <td>0.051446</td>\n",
       "      <td>...</td>\n",
       "      <td>1</td>\n",
       "      <td>0.006544</td>\n",
       "      <td>0.006653</td>\n",
       "      <td>12612.316307</td>\n",
       "      <td>1</td>\n",
       "      <td>1312.463766</td>\n",
       "      <td>53.333333</td>\n",
       "      <td>2.613333</td>\n",
       "      <td>6.666667</td>\n",
       "      <td>710.975637</td>\n",
       "    </tr>\n",
       "    <tr>\n",
       "      <th>2060</th>\n",
       "      <td>2060</td>\n",
       "      <td>76.996341</td>\n",
       "      <td>17.072359</td>\n",
       "      <td>0.000000</td>\n",
       "      <td>8.536180</td>\n",
       "      <td>51.387802</td>\n",
       "      <td>238.132128</td>\n",
       "      <td>3.012113</td>\n",
       "      <td>0.039159</td>\n",
       "      <td>0.049846</td>\n",
       "      <td>...</td>\n",
       "      <td>1</td>\n",
       "      <td>0.005771</td>\n",
       "      <td>0.006357</td>\n",
       "      <td>19002.320273</td>\n",
       "      <td>1</td>\n",
       "      <td>1380.487685</td>\n",
       "      <td>46.666667</td>\n",
       "      <td>2.286667</td>\n",
       "      <td>6.666667</td>\n",
       "      <td>739.414663</td>\n",
       "    </tr>\n",
       "    <tr>\n",
       "      <th>2061</th>\n",
       "      <td>2061</td>\n",
       "      <td>80.076195</td>\n",
       "      <td>17.755254</td>\n",
       "      <td>0.000000</td>\n",
       "      <td>8.877627</td>\n",
       "      <td>53.443314</td>\n",
       "      <td>197.235578</td>\n",
       "      <td>2.619453</td>\n",
       "      <td>0.032320</td>\n",
       "      <td>0.047270</td>\n",
       "      <td>...</td>\n",
       "      <td>1</td>\n",
       "      <td>0.004143</td>\n",
       "      <td>0.005611</td>\n",
       "      <td>28654.153166</td>\n",
       "      <td>1</td>\n",
       "      <td>1373.854970</td>\n",
       "      <td>40.000000</td>\n",
       "      <td>1.960000</td>\n",
       "      <td>6.666667</td>\n",
       "      <td>768.991249</td>\n",
       "    </tr>\n",
       "    <tr>\n",
       "      <th>2062</th>\n",
       "      <td>2062</td>\n",
       "      <td>83.279242</td>\n",
       "      <td>18.465464</td>\n",
       "      <td>0.000000</td>\n",
       "      <td>9.232732</td>\n",
       "      <td>55.581047</td>\n",
       "      <td>156.904285</td>\n",
       "      <td>2.169591</td>\n",
       "      <td>0.024872</td>\n",
       "      <td>0.044265</td>\n",
       "      <td>...</td>\n",
       "      <td>1</td>\n",
       "      <td>0.003651</td>\n",
       "      <td>0.004972</td>\n",
       "      <td>42503.661443</td>\n",
       "      <td>1</td>\n",
       "      <td>1370.830917</td>\n",
       "      <td>33.333333</td>\n",
       "      <td>1.633333</td>\n",
       "      <td>6.666667</td>\n",
       "      <td>799.750899</td>\n",
       "    </tr>\n",
       "  </tbody>\n",
       "</table>\n",
       "<p>40 rows × 21 columns</p>\n",
       "</div>"
      ],
      "text/plain": [
       "      year     salary  living_expense       rent  other_expense       rest   \n",
       "2023  2023  18.040000        4.000000   6.000000       2.000000   6.040000  \\\n",
       "2024  2024  18.761600        4.160000   6.240000       2.080000   6.281600   \n",
       "2025  2025  19.512064        4.326400   6.489600       2.163200   6.532864   \n",
       "2026  2026  20.292547        4.499456   6.749184       2.249728   6.794179   \n",
       "2027  2027  21.104248        4.679434   7.019151       2.339717   7.065946   \n",
       "2028  2028  21.948418        4.866612   7.299917       2.433306   7.348584   \n",
       "2029  2029  22.826355        5.061276   7.591914       2.530638   7.642527   \n",
       "2030  2030  23.739409        5.263727   7.895591       2.631864   7.948228   \n",
       "2031  2031  24.688986        5.474276   8.211414       2.737138   8.266157   \n",
       "2032  2032  25.676545        5.693247   8.539871       2.846624   8.596803   \n",
       "2033  2033  26.703607        5.920977   8.881466       2.960489   8.940675   \n",
       "2034  2034  27.771751        6.157816   9.236724       3.078908   9.298303   \n",
       "2035  2035  28.882621        6.404129   9.606193       3.202064   9.670235   \n",
       "2036  2036  30.037926        6.660294   9.990441       3.330147  10.057044   \n",
       "2037  2037  31.239443        6.926706  10.390059       3.463353  10.459326   \n",
       "2038  2038  32.489021        7.203774   0.000000       3.601887  21.683360   \n",
       "2039  2039  33.788582        7.491925   0.000000       3.745962  22.550694   \n",
       "2040  2040  35.140125        7.791602   0.000000       3.895801  23.452722   \n",
       "2041  2041  36.545730        8.103266   0.000000       4.051633  24.390831   \n",
       "2042  2042  38.007559        8.427397   0.000000       4.213698  25.366464   \n",
       "2043  2043  39.527862        8.764493   0.000000       4.382246  26.381123   \n",
       "2044  2044  41.108976        9.115072   0.000000       4.557536  27.436368   \n",
       "2045  2045  42.753335        9.479675   0.000000       4.739838  28.533822   \n",
       "2046  2046  44.463468        9.858862   0.000000       4.929431  29.675175   \n",
       "2047  2047  46.242007       10.253217   0.000000       5.126608  30.862182   \n",
       "2048  2048  48.091687       10.663345   0.000000       5.331673  32.096669   \n",
       "2049  2049  50.015355       11.089879   0.000000       5.544940  33.380536   \n",
       "2050  2050  52.015969       11.533474   0.000000       5.766737  34.715758   \n",
       "2051  2051  54.096608       11.994813   0.000000       5.997407  36.104388   \n",
       "2052  2052  56.260472       12.474606   0.000000       6.237303  37.548563   \n",
       "2053  2053  58.510891       12.973590   0.000000       6.486795  39.050506   \n",
       "2054  2054  60.851327       13.492534   0.000000       6.746267  40.612526   \n",
       "2055  2055  63.285380       14.032235   0.000000       7.016117  42.237027   \n",
       "2056  2056  65.816795       14.593524   0.000000       7.296762  43.926508   \n",
       "2057  2057  68.449467       15.177265   0.000000       7.588633  45.683569   \n",
       "2058  2058  71.187445       15.784356   0.000000       7.892178  47.510911   \n",
       "2059  2059  74.034943       16.415730   0.000000       8.207865  49.411348   \n",
       "2060  2060  76.996341       17.072359   0.000000       8.536180  51.387802   \n",
       "2061  2061  80.076195       17.755254   0.000000       8.877627  53.443314   \n",
       "2062  2062  83.279242       18.465464   0.000000       9.232732  55.581047   \n",
       "\n",
       "            cash  interest  gold_price  gold_buy_price  ...  buy_gold   \n",
       "2023    4.217481  0.000000    0.047500        0.047500  ...         1  \\\n",
       "2024    5.730992  0.046392    0.037227        0.038702  ...         1   \n",
       "2025   11.232443  0.063041    0.032557        0.036714  ...         1   \n",
       "2026   23.677214  0.123557    0.035626        0.036714  ...         0   \n",
       "2027   34.570857  0.260449    0.043021        0.000000  ...         2   \n",
       "2028   34.788567  0.380279    0.036729        0.036729  ...         1   \n",
       "2029   43.374567  0.382674    0.046252        0.000000  ...         2   \n",
       "2030   27.626338  0.477120    0.035285        0.035285  ...         1   \n",
       "2031   49.542729  0.303890    0.039391        0.000000  ...         2   \n",
       "2032   47.450827  0.544970    0.045354        0.045354  ...         1   \n",
       "2033   54.982376  0.521959    0.040578        0.044146  ...         1   \n",
       "2034  134.015735  0.604806    0.049058        0.000000  ...         2   \n",
       "2035   98.715053  1.474173    0.040199        0.040199  ...         1   \n",
       "2036  185.622133  1.085866    0.050893        0.000000  ...         2   \n",
       "2037   56.160237  2.041843    0.050175        0.050175  ...         1   \n",
       "2038   56.307755  0.617763    0.052560        0.050175  ...         0   \n",
       "2039   63.664501  0.619385    0.053861        0.050175  ...         0   \n",
       "2040  113.714264  0.700310    0.063520        0.000000  ...         2   \n",
       "2041   92.243356  1.250857    0.050241        0.050241  ...         1   \n",
       "2042   88.323423  1.014677    0.046385        0.048826  ...         1   \n",
       "2043   56.999094  0.971558    0.040474        0.045618  ...         1   \n",
       "2044   61.650191  0.626990    0.035472        0.044254  ...         1   \n",
       "2045   61.193547  0.678152    0.037779        0.043049  ...         1   \n",
       "2046   70.103945  0.673129    0.036676        0.042491  ...         1   \n",
       "2047  235.622866  0.771143    0.048034        0.000000  ...         2   \n",
       "2048  151.879085  2.591852    0.038132        0.038132  ...         1   \n",
       "2049  309.021505  1.670670    0.048870        0.000000  ...         2   \n",
       "2050  265.465227  3.399237    0.055939        0.055939  ...         1   \n",
       "2051  341.775778  2.920117    0.063770        0.000000  ...         2   \n",
       "2052  421.331719  3.759534    0.060463        0.060463  ...         1   \n",
       "2053  410.527546  4.634649    0.066502        0.060463  ...         0   \n",
       "2054  458.153604  4.515803    0.074613        0.000000  ...         2   \n",
       "2055  404.165748  5.039690    0.078508        0.078508  ...         1   \n",
       "2056  433.223671  4.445823    0.058938        0.067071  ...         1   \n",
       "2057  376.899448  4.765460    0.046450        0.058485  ...         1   \n",
       "2058  351.043569  4.145894    0.039363        0.053400  ...         1   \n",
       "2059  273.828486  3.861479    0.039527        0.051446  ...         1   \n",
       "2060  238.132128  3.012113    0.039159        0.049846  ...         1   \n",
       "2061  197.235578  2.619453    0.032320        0.047270  ...         1   \n",
       "2062  156.904285  2.169591    0.024872        0.044265  ...         1   \n",
       "\n",
       "      stock_price  stock_buy_price     stock_hold  buy_stock       values   \n",
       "2023     0.000300         0.000300    4476.954595          1     6.040000  \\\n",
       "2024     0.000225         0.000246   15901.161688          1    11.929989   \n",
       "2025     0.000240         0.000246   15901.161688          0    18.435570   \n",
       "2026     0.000348         0.000000       0.000000          2    27.378384   \n",
       "2027     0.000352         0.000352    2562.884662          1    35.473068   \n",
       "2028     0.000322         0.000352    2562.884662          0    43.124967   \n",
       "2029     0.000246         0.000253   38711.856674          1    52.903298   \n",
       "2030     0.000208         0.000226   97314.255090          1    59.871116   \n",
       "2031     0.000230         0.000226   97314.255090          0    71.901773   \n",
       "2032     0.000165         0.000212  126834.933278          1    74.714973   \n",
       "2033     0.000250         0.000212  126834.933278          0    94.336079   \n",
       "2034     0.000472         0.000000       0.000000          2   134.015735   \n",
       "2035     0.000404         0.000404   68442.358632          1   145.160142   \n",
       "2036     0.000760         0.000000       0.000000          2   185.622133   \n",
       "2037     0.001396         0.001396   11030.340430          1   181.656636   \n",
       "2038     0.001126         0.001308   16371.832837          1   203.984766   \n",
       "2039     0.001198         0.001308   16371.832837          0   231.936421   \n",
       "2040     0.001747         0.000000       0.000000          2   271.173464   \n",
       "2041     0.001544         0.001544     594.016212          1   301.820187   \n",
       "2042     0.001917         0.000000       0.000000          2   331.911943   \n",
       "2043     0.002973         0.002973    6574.199600          1   360.257495   \n",
       "2044     0.002601         0.002962    6767.442042          1   385.621837   \n",
       "2045     0.003453         0.002962    6767.442042          0   433.425514   \n",
       "2046     0.002740         0.002962    6767.442042          0   466.037165   \n",
       "2047     0.004240         0.000000       0.000000          2   546.362819   \n",
       "2048     0.006628         0.006628    9663.691633          1   592.607604   \n",
       "2049     0.008427         0.000000       0.000000          2   669.331171   \n",
       "2050     0.004827         0.004827    5451.396512          1   721.105218   \n",
       "2051     0.005689         0.004827    5451.396512          0   785.625767   \n",
       "2052     0.011131         0.000000       0.000000          2   872.482465   \n",
       "2053     0.006315         0.006315    6849.195428          1   934.290989   \n",
       "2054     0.005821         0.006315    6849.195428          0   995.724801   \n",
       "2055     0.007205         0.006315    6849.195428          0  1071.934380   \n",
       "2056     0.012654         0.000000       0.000000          2  1155.743634   \n",
       "2057     0.009216         0.009216     513.720173          1  1193.502976   \n",
       "2058     0.008737         0.009216     513.720173          0  1234.516442   \n",
       "2059     0.006544         0.006653   12612.316307          1  1312.463766   \n",
       "2060     0.005771         0.006357   19002.320273          1  1380.487685   \n",
       "2061     0.004143         0.005611   28654.153166          1  1373.854970   \n",
       "2062     0.003651         0.004972   42503.661443          1  1370.830917   \n",
       "\n",
       "            loan  loan_interest  loan_capital  house_value  \n",
       "2023    0.000000       0.000000      0.000000     0.000000  \n",
       "2024    0.000000       0.000000      0.000000     0.000000  \n",
       "2025    0.000000       0.000000      0.000000     0.000000  \n",
       "2026    0.000000       0.000000      0.000000     0.000000  \n",
       "2027    0.000000       0.000000      0.000000     0.000000  \n",
       "2028    0.000000       0.000000      0.000000     0.000000  \n",
       "2029    0.000000       0.000000      0.000000     0.000000  \n",
       "2030    0.000000       0.000000      0.000000     0.000000  \n",
       "2031    0.000000       0.000000      0.000000     0.000000  \n",
       "2032    0.000000       0.000000      0.000000     0.000000  \n",
       "2033    0.000000       0.000000      0.000000     0.000000  \n",
       "2034    0.000000       0.000000      0.000000     0.000000  \n",
       "2035    0.000000       0.000000      0.000000     0.000000  \n",
       "2036    0.000000       0.000000      0.000000     0.000000  \n",
       "2037  200.000000       9.800000      6.666667   300.000000  \n",
       "2038  193.333333       9.473333      6.666667   312.000000  \n",
       "2039  186.666667       9.146667      6.666667   324.480000  \n",
       "2040  180.000000       8.820000      6.666667   337.459200  \n",
       "2041  173.333333       8.493333      6.666667   350.957568  \n",
       "2042  166.666667       8.166667      6.666667   364.995871  \n",
       "2043  160.000000       7.840000      6.666667   379.595706  \n",
       "2044  153.333333       7.513333      6.666667   394.779534  \n",
       "2045  146.666667       7.186667      6.666667   410.570715  \n",
       "2046  140.000000       6.860000      6.666667   426.993544  \n",
       "2047  133.333333       6.533333      6.666667   444.073285  \n",
       "2048  126.666667       6.206667      6.666667   461.836217  \n",
       "2049  120.000000       5.880000      6.666667   480.309666  \n",
       "2050  113.333333       5.553333      6.666667   499.522052  \n",
       "2051  106.666667       5.226667      6.666667   519.502934  \n",
       "2052  100.000000       4.900000      6.666667   540.283052  \n",
       "2053   93.333333       4.573333      6.666667   561.894374  \n",
       "2054   86.666667       4.246667      6.666667   584.370149  \n",
       "2055   80.000000       3.920000      6.666667   607.744955  \n",
       "2056   73.333333       3.593333      6.666667   632.054753  \n",
       "2057   66.666667       3.266667      6.666667   657.336943  \n",
       "2058   60.000000       2.940000      6.666667   683.630421  \n",
       "2059   53.333333       2.613333      6.666667   710.975637  \n",
       "2060   46.666667       2.286667      6.666667   739.414663  \n",
       "2061   40.000000       1.960000      6.666667   768.991249  \n",
       "2062   33.333333       1.633333      6.666667   799.750899  \n",
       "\n",
       "[40 rows x 21 columns]"
      ]
     },
     "execution_count": 230,
     "metadata": {},
     "output_type": "execute_result"
    }
   ],
   "source": [
    "df"
   ]
  },
  {
   "cell_type": "code",
   "execution_count": 231,
   "metadata": {},
   "outputs": [
    {
     "name": "stdout",
     "output_type": "stream",
     "text": [
      "<class 'pandas.core.frame.DataFrame'>\n",
      "RangeIndex: 40 entries, 2023 to 2062\n",
      "Data columns (total 21 columns):\n",
      " #   Column           Non-Null Count  Dtype  \n",
      "---  ------           --------------  -----  \n",
      " 0   year             40 non-null     int64  \n",
      " 1   salary           40 non-null     float64\n",
      " 2   living_expense   40 non-null     float64\n",
      " 3   rent             40 non-null     float64\n",
      " 4   other_expense    40 non-null     float64\n",
      " 5   rest             40 non-null     float64\n",
      " 6   cash             40 non-null     float64\n",
      " 7   interest         40 non-null     float64\n",
      " 8   gold_price       40 non-null     float64\n",
      " 9   gold_buy_price   40 non-null     float64\n",
      " 10  gold_hold        40 non-null     float64\n",
      " 11  buy_gold         40 non-null     int64  \n",
      " 12  stock_price      40 non-null     float64\n",
      " 13  stock_buy_price  40 non-null     float64\n",
      " 14  stock_hold       40 non-null     float64\n",
      " 15  buy_stock        40 non-null     int64  \n",
      " 16  values           40 non-null     float64\n",
      " 17  loan             40 non-null     float64\n",
      " 18  loan_interest    40 non-null     float64\n",
      " 19  loan_capital     40 non-null     float64\n",
      " 20  house_value      40 non-null     float64\n",
      "dtypes: float64(18), int64(3)\n",
      "memory usage: 6.7 KB\n"
     ]
    }
   ],
   "source": [
    "df.info()"
   ]
  },
  {
   "cell_type": "code",
   "execution_count": 232,
   "metadata": {},
   "outputs": [],
   "source": [
    "import plotly.express as px\n",
    "import plotly.graph_objects as go\n",
    "from plotly.subplots import make_subplots"
   ]
  },
  {
   "cell_type": "code",
   "execution_count": 233,
   "metadata": {},
   "outputs": [
    {
     "data": {
      "text/html": [
       "<div>\n",
       "<style scoped>\n",
       "    .dataframe tbody tr th:only-of-type {\n",
       "        vertical-align: middle;\n",
       "    }\n",
       "\n",
       "    .dataframe tbody tr th {\n",
       "        vertical-align: top;\n",
       "    }\n",
       "\n",
       "    .dataframe thead th {\n",
       "        text-align: right;\n",
       "    }\n",
       "</style>\n",
       "<table border=\"1\" class=\"dataframe\">\n",
       "  <thead>\n",
       "    <tr style=\"text-align: right;\">\n",
       "      <th></th>\n",
       "      <th>year</th>\n",
       "      <th>type</th>\n",
       "      <th>value</th>\n",
       "    </tr>\n",
       "  </thead>\n",
       "  <tbody>\n",
       "    <tr>\n",
       "      <th>0</th>\n",
       "      <td>2023</td>\n",
       "      <td>工资</td>\n",
       "      <td>18.040000</td>\n",
       "    </tr>\n",
       "    <tr>\n",
       "      <th>1</th>\n",
       "      <td>2024</td>\n",
       "      <td>工资</td>\n",
       "      <td>18.761600</td>\n",
       "    </tr>\n",
       "    <tr>\n",
       "      <th>2</th>\n",
       "      <td>2025</td>\n",
       "      <td>工资</td>\n",
       "      <td>19.512064</td>\n",
       "    </tr>\n",
       "    <tr>\n",
       "      <th>3</th>\n",
       "      <td>2026</td>\n",
       "      <td>工资</td>\n",
       "      <td>20.292547</td>\n",
       "    </tr>\n",
       "    <tr>\n",
       "      <th>4</th>\n",
       "      <td>2027</td>\n",
       "      <td>工资</td>\n",
       "      <td>21.104248</td>\n",
       "    </tr>\n",
       "    <tr>\n",
       "      <th>...</th>\n",
       "      <td>...</td>\n",
       "      <td>...</td>\n",
       "      <td>...</td>\n",
       "    </tr>\n",
       "    <tr>\n",
       "      <th>195</th>\n",
       "      <td>2058</td>\n",
       "      <td>剩余</td>\n",
       "      <td>47.510911</td>\n",
       "    </tr>\n",
       "    <tr>\n",
       "      <th>196</th>\n",
       "      <td>2059</td>\n",
       "      <td>剩余</td>\n",
       "      <td>49.411348</td>\n",
       "    </tr>\n",
       "    <tr>\n",
       "      <th>197</th>\n",
       "      <td>2060</td>\n",
       "      <td>剩余</td>\n",
       "      <td>51.387802</td>\n",
       "    </tr>\n",
       "    <tr>\n",
       "      <th>198</th>\n",
       "      <td>2061</td>\n",
       "      <td>剩余</td>\n",
       "      <td>53.443314</td>\n",
       "    </tr>\n",
       "    <tr>\n",
       "      <th>199</th>\n",
       "      <td>2062</td>\n",
       "      <td>剩余</td>\n",
       "      <td>55.581047</td>\n",
       "    </tr>\n",
       "  </tbody>\n",
       "</table>\n",
       "<p>200 rows × 3 columns</p>\n",
       "</div>"
      ],
      "text/plain": [
       "     year type      value\n",
       "0    2023   工资  18.040000\n",
       "1    2024   工资  18.761600\n",
       "2    2025   工资  19.512064\n",
       "3    2026   工资  20.292547\n",
       "4    2027   工资  21.104248\n",
       "..    ...  ...        ...\n",
       "195  2058   剩余  47.510911\n",
       "196  2059   剩余  49.411348\n",
       "197  2060   剩余  51.387802\n",
       "198  2061   剩余  53.443314\n",
       "199  2062   剩余  55.581047\n",
       "\n",
       "[200 rows x 3 columns]"
      ]
     },
     "execution_count": 233,
     "metadata": {},
     "output_type": "execute_result"
    }
   ],
   "source": [
    "df_money = pd.melt(df.iloc[:, :6], id_vars='year', var_name='type', value_name='value')\n",
    "label_mapping = {\"salary\": \"工资\", \"living_expense\": \"生活费用\", \"rent\": \"房租\", \"other_expense\": \"其他费用\", \"rest\": \"剩余\"}\n",
    "df_money['type'] = df_money['type'].map(label_mapping)\n",
    "df_money"
   ]
  },
  {
   "cell_type": "code",
   "execution_count": 234,
   "metadata": {},
   "outputs": [
    {
     "data": {
      "application/vnd.plotly.v1+json": {
       "config": {
        "plotlyServerURL": "https://plot.ly"
       },
       "data": [
        {
         "alignmentgroup": "True",
         "hovertemplate": "type=%{x}<br>year=2023<br>value=%{y}<extra></extra>",
         "legendgroup": "工资",
         "marker": {
          "color": "#636efa",
          "pattern": {
           "shape": ""
          }
         },
         "name": "工资",
         "offsetgroup": "工资",
         "orientation": "v",
         "showlegend": true,
         "textposition": "auto",
         "type": "bar",
         "x": [
          "工资"
         ],
         "xaxis": "x",
         "y": [
          18.04
         ],
         "yaxis": "y"
        },
        {
         "alignmentgroup": "True",
         "hovertemplate": "type=%{x}<br>year=2023<br>value=%{y}<extra></extra>",
         "legendgroup": "生活费用",
         "marker": {
          "color": "#EF553B",
          "pattern": {
           "shape": ""
          }
         },
         "name": "生活费用",
         "offsetgroup": "生活费用",
         "orientation": "v",
         "showlegend": true,
         "textposition": "auto",
         "type": "bar",
         "x": [
          "生活费用"
         ],
         "xaxis": "x",
         "y": [
          4
         ],
         "yaxis": "y"
        },
        {
         "alignmentgroup": "True",
         "hovertemplate": "type=%{x}<br>year=2023<br>value=%{y}<extra></extra>",
         "legendgroup": "房租",
         "marker": {
          "color": "#00cc96",
          "pattern": {
           "shape": ""
          }
         },
         "name": "房租",
         "offsetgroup": "房租",
         "orientation": "v",
         "showlegend": true,
         "textposition": "auto",
         "type": "bar",
         "x": [
          "房租"
         ],
         "xaxis": "x",
         "y": [
          6
         ],
         "yaxis": "y"
        },
        {
         "alignmentgroup": "True",
         "hovertemplate": "type=%{x}<br>year=2023<br>value=%{y}<extra></extra>",
         "legendgroup": "其他费用",
         "marker": {
          "color": "#ab63fa",
          "pattern": {
           "shape": ""
          }
         },
         "name": "其他费用",
         "offsetgroup": "其他费用",
         "orientation": "v",
         "showlegend": true,
         "textposition": "auto",
         "type": "bar",
         "x": [
          "其他费用"
         ],
         "xaxis": "x",
         "y": [
          2
         ],
         "yaxis": "y"
        },
        {
         "alignmentgroup": "True",
         "hovertemplate": "type=%{x}<br>year=2023<br>value=%{y}<extra></extra>",
         "legendgroup": "剩余",
         "marker": {
          "color": "#FFA15A",
          "pattern": {
           "shape": ""
          }
         },
         "name": "剩余",
         "offsetgroup": "剩余",
         "orientation": "v",
         "showlegend": true,
         "textposition": "auto",
         "type": "bar",
         "x": [
          "剩余"
         ],
         "xaxis": "x",
         "y": [
          6.039999999999999
         ],
         "yaxis": "y"
        }
       ],
       "frames": [
        {
         "data": [
          {
           "alignmentgroup": "True",
           "hovertemplate": "type=%{x}<br>year=2023<br>value=%{y}<extra></extra>",
           "legendgroup": "工资",
           "marker": {
            "color": "#636efa",
            "pattern": {
             "shape": ""
            }
           },
           "name": "工资",
           "offsetgroup": "工资",
           "orientation": "v",
           "showlegend": true,
           "textposition": "auto",
           "type": "bar",
           "x": [
            "工资"
           ],
           "xaxis": "x",
           "y": [
            18.04
           ],
           "yaxis": "y"
          },
          {
           "alignmentgroup": "True",
           "hovertemplate": "type=%{x}<br>year=2023<br>value=%{y}<extra></extra>",
           "legendgroup": "生活费用",
           "marker": {
            "color": "#EF553B",
            "pattern": {
             "shape": ""
            }
           },
           "name": "生活费用",
           "offsetgroup": "生活费用",
           "orientation": "v",
           "showlegend": true,
           "textposition": "auto",
           "type": "bar",
           "x": [
            "生活费用"
           ],
           "xaxis": "x",
           "y": [
            4
           ],
           "yaxis": "y"
          },
          {
           "alignmentgroup": "True",
           "hovertemplate": "type=%{x}<br>year=2023<br>value=%{y}<extra></extra>",
           "legendgroup": "房租",
           "marker": {
            "color": "#00cc96",
            "pattern": {
             "shape": ""
            }
           },
           "name": "房租",
           "offsetgroup": "房租",
           "orientation": "v",
           "showlegend": true,
           "textposition": "auto",
           "type": "bar",
           "x": [
            "房租"
           ],
           "xaxis": "x",
           "y": [
            6
           ],
           "yaxis": "y"
          },
          {
           "alignmentgroup": "True",
           "hovertemplate": "type=%{x}<br>year=2023<br>value=%{y}<extra></extra>",
           "legendgroup": "其他费用",
           "marker": {
            "color": "#ab63fa",
            "pattern": {
             "shape": ""
            }
           },
           "name": "其他费用",
           "offsetgroup": "其他费用",
           "orientation": "v",
           "showlegend": true,
           "textposition": "auto",
           "type": "bar",
           "x": [
            "其他费用"
           ],
           "xaxis": "x",
           "y": [
            2
           ],
           "yaxis": "y"
          },
          {
           "alignmentgroup": "True",
           "hovertemplate": "type=%{x}<br>year=2023<br>value=%{y}<extra></extra>",
           "legendgroup": "剩余",
           "marker": {
            "color": "#FFA15A",
            "pattern": {
             "shape": ""
            }
           },
           "name": "剩余",
           "offsetgroup": "剩余",
           "orientation": "v",
           "showlegend": true,
           "textposition": "auto",
           "type": "bar",
           "x": [
            "剩余"
           ],
           "xaxis": "x",
           "y": [
            6.039999999999999
           ],
           "yaxis": "y"
          }
         ],
         "name": "2023"
        },
        {
         "data": [
          {
           "alignmentgroup": "True",
           "hovertemplate": "type=%{x}<br>year=2024<br>value=%{y}<extra></extra>",
           "legendgroup": "工资",
           "marker": {
            "color": "#636efa",
            "pattern": {
             "shape": ""
            }
           },
           "name": "工资",
           "offsetgroup": "工资",
           "orientation": "v",
           "showlegend": true,
           "textposition": "auto",
           "type": "bar",
           "x": [
            "工资"
           ],
           "xaxis": "x",
           "y": [
            18.7616
           ],
           "yaxis": "y"
          },
          {
           "alignmentgroup": "True",
           "hovertemplate": "type=%{x}<br>year=2024<br>value=%{y}<extra></extra>",
           "legendgroup": "生活费用",
           "marker": {
            "color": "#EF553B",
            "pattern": {
             "shape": ""
            }
           },
           "name": "生活费用",
           "offsetgroup": "生活费用",
           "orientation": "v",
           "showlegend": true,
           "textposition": "auto",
           "type": "bar",
           "x": [
            "生活费用"
           ],
           "xaxis": "x",
           "y": [
            4.16
           ],
           "yaxis": "y"
          },
          {
           "alignmentgroup": "True",
           "hovertemplate": "type=%{x}<br>year=2024<br>value=%{y}<extra></extra>",
           "legendgroup": "房租",
           "marker": {
            "color": "#00cc96",
            "pattern": {
             "shape": ""
            }
           },
           "name": "房租",
           "offsetgroup": "房租",
           "orientation": "v",
           "showlegend": true,
           "textposition": "auto",
           "type": "bar",
           "x": [
            "房租"
           ],
           "xaxis": "x",
           "y": [
            6.24
           ],
           "yaxis": "y"
          },
          {
           "alignmentgroup": "True",
           "hovertemplate": "type=%{x}<br>year=2024<br>value=%{y}<extra></extra>",
           "legendgroup": "其他费用",
           "marker": {
            "color": "#ab63fa",
            "pattern": {
             "shape": ""
            }
           },
           "name": "其他费用",
           "offsetgroup": "其他费用",
           "orientation": "v",
           "showlegend": true,
           "textposition": "auto",
           "type": "bar",
           "x": [
            "其他费用"
           ],
           "xaxis": "x",
           "y": [
            2.08
           ],
           "yaxis": "y"
          },
          {
           "alignmentgroup": "True",
           "hovertemplate": "type=%{x}<br>year=2024<br>value=%{y}<extra></extra>",
           "legendgroup": "剩余",
           "marker": {
            "color": "#FFA15A",
            "pattern": {
             "shape": ""
            }
           },
           "name": "剩余",
           "offsetgroup": "剩余",
           "orientation": "v",
           "showlegend": true,
           "textposition": "auto",
           "type": "bar",
           "x": [
            "剩余"
           ],
           "xaxis": "x",
           "y": [
            6.281600000000001
           ],
           "yaxis": "y"
          }
         ],
         "name": "2024"
        },
        {
         "data": [
          {
           "alignmentgroup": "True",
           "hovertemplate": "type=%{x}<br>year=2025<br>value=%{y}<extra></extra>",
           "legendgroup": "工资",
           "marker": {
            "color": "#636efa",
            "pattern": {
             "shape": ""
            }
           },
           "name": "工资",
           "offsetgroup": "工资",
           "orientation": "v",
           "showlegend": true,
           "textposition": "auto",
           "type": "bar",
           "x": [
            "工资"
           ],
           "xaxis": "x",
           "y": [
            19.512064000000002
           ],
           "yaxis": "y"
          },
          {
           "alignmentgroup": "True",
           "hovertemplate": "type=%{x}<br>year=2025<br>value=%{y}<extra></extra>",
           "legendgroup": "生活费用",
           "marker": {
            "color": "#EF553B",
            "pattern": {
             "shape": ""
            }
           },
           "name": "生活费用",
           "offsetgroup": "生活费用",
           "orientation": "v",
           "showlegend": true,
           "textposition": "auto",
           "type": "bar",
           "x": [
            "生活费用"
           ],
           "xaxis": "x",
           "y": [
            4.3264000000000005
           ],
           "yaxis": "y"
          },
          {
           "alignmentgroup": "True",
           "hovertemplate": "type=%{x}<br>year=2025<br>value=%{y}<extra></extra>",
           "legendgroup": "房租",
           "marker": {
            "color": "#00cc96",
            "pattern": {
             "shape": ""
            }
           },
           "name": "房租",
           "offsetgroup": "房租",
           "orientation": "v",
           "showlegend": true,
           "textposition": "auto",
           "type": "bar",
           "x": [
            "房租"
           ],
           "xaxis": "x",
           "y": [
            6.4896
           ],
           "yaxis": "y"
          },
          {
           "alignmentgroup": "True",
           "hovertemplate": "type=%{x}<br>year=2025<br>value=%{y}<extra></extra>",
           "legendgroup": "其他费用",
           "marker": {
            "color": "#ab63fa",
            "pattern": {
             "shape": ""
            }
           },
           "name": "其他费用",
           "offsetgroup": "其他费用",
           "orientation": "v",
           "showlegend": true,
           "textposition": "auto",
           "type": "bar",
           "x": [
            "其他费用"
           ],
           "xaxis": "x",
           "y": [
            2.1632000000000002
           ],
           "yaxis": "y"
          },
          {
           "alignmentgroup": "True",
           "hovertemplate": "type=%{x}<br>year=2025<br>value=%{y}<extra></extra>",
           "legendgroup": "剩余",
           "marker": {
            "color": "#FFA15A",
            "pattern": {
             "shape": ""
            }
           },
           "name": "剩余",
           "offsetgroup": "剩余",
           "orientation": "v",
           "showlegend": true,
           "textposition": "auto",
           "type": "bar",
           "x": [
            "剩余"
           ],
           "xaxis": "x",
           "y": [
            6.532864000000003
           ],
           "yaxis": "y"
          }
         ],
         "name": "2025"
        },
        {
         "data": [
          {
           "alignmentgroup": "True",
           "hovertemplate": "type=%{x}<br>year=2026<br>value=%{y}<extra></extra>",
           "legendgroup": "工资",
           "marker": {
            "color": "#636efa",
            "pattern": {
             "shape": ""
            }
           },
           "name": "工资",
           "offsetgroup": "工资",
           "orientation": "v",
           "showlegend": true,
           "textposition": "auto",
           "type": "bar",
           "x": [
            "工资"
           ],
           "xaxis": "x",
           "y": [
            20.29254656
           ],
           "yaxis": "y"
          },
          {
           "alignmentgroup": "True",
           "hovertemplate": "type=%{x}<br>year=2026<br>value=%{y}<extra></extra>",
           "legendgroup": "生活费用",
           "marker": {
            "color": "#EF553B",
            "pattern": {
             "shape": ""
            }
           },
           "name": "生活费用",
           "offsetgroup": "生活费用",
           "orientation": "v",
           "showlegend": true,
           "textposition": "auto",
           "type": "bar",
           "x": [
            "生活费用"
           ],
           "xaxis": "x",
           "y": [
            4.499456
           ],
           "yaxis": "y"
          },
          {
           "alignmentgroup": "True",
           "hovertemplate": "type=%{x}<br>year=2026<br>value=%{y}<extra></extra>",
           "legendgroup": "房租",
           "marker": {
            "color": "#00cc96",
            "pattern": {
             "shape": ""
            }
           },
           "name": "房租",
           "offsetgroup": "房租",
           "orientation": "v",
           "showlegend": true,
           "textposition": "auto",
           "type": "bar",
           "x": [
            "房租"
           ],
           "xaxis": "x",
           "y": [
            6.7491840000000005
           ],
           "yaxis": "y"
          },
          {
           "alignmentgroup": "True",
           "hovertemplate": "type=%{x}<br>year=2026<br>value=%{y}<extra></extra>",
           "legendgroup": "其他费用",
           "marker": {
            "color": "#ab63fa",
            "pattern": {
             "shape": ""
            }
           },
           "name": "其他费用",
           "offsetgroup": "其他费用",
           "orientation": "v",
           "showlegend": true,
           "textposition": "auto",
           "type": "bar",
           "x": [
            "其他费用"
           ],
           "xaxis": "x",
           "y": [
            2.249728
           ],
           "yaxis": "y"
          },
          {
           "alignmentgroup": "True",
           "hovertemplate": "type=%{x}<br>year=2026<br>value=%{y}<extra></extra>",
           "legendgroup": "剩余",
           "marker": {
            "color": "#FFA15A",
            "pattern": {
             "shape": ""
            }
           },
           "name": "剩余",
           "offsetgroup": "剩余",
           "orientation": "v",
           "showlegend": true,
           "textposition": "auto",
           "type": "bar",
           "x": [
            "剩余"
           ],
           "xaxis": "x",
           "y": [
            6.7941785600000015
           ],
           "yaxis": "y"
          }
         ],
         "name": "2026"
        },
        {
         "data": [
          {
           "alignmentgroup": "True",
           "hovertemplate": "type=%{x}<br>year=2027<br>value=%{y}<extra></extra>",
           "legendgroup": "工资",
           "marker": {
            "color": "#636efa",
            "pattern": {
             "shape": ""
            }
           },
           "name": "工资",
           "offsetgroup": "工资",
           "orientation": "v",
           "showlegend": true,
           "textposition": "auto",
           "type": "bar",
           "x": [
            "工资"
           ],
           "xaxis": "x",
           "y": [
            21.1042484224
           ],
           "yaxis": "y"
          },
          {
           "alignmentgroup": "True",
           "hovertemplate": "type=%{x}<br>year=2027<br>value=%{y}<extra></extra>",
           "legendgroup": "生活费用",
           "marker": {
            "color": "#EF553B",
            "pattern": {
             "shape": ""
            }
           },
           "name": "生活费用",
           "offsetgroup": "生活费用",
           "orientation": "v",
           "showlegend": true,
           "textposition": "auto",
           "type": "bar",
           "x": [
            "生活费用"
           ],
           "xaxis": "x",
           "y": [
            4.679434240000001
           ],
           "yaxis": "y"
          },
          {
           "alignmentgroup": "True",
           "hovertemplate": "type=%{x}<br>year=2027<br>value=%{y}<extra></extra>",
           "legendgroup": "房租",
           "marker": {
            "color": "#00cc96",
            "pattern": {
             "shape": ""
            }
           },
           "name": "房租",
           "offsetgroup": "房租",
           "orientation": "v",
           "showlegend": true,
           "textposition": "auto",
           "type": "bar",
           "x": [
            "房租"
           ],
           "xaxis": "x",
           "y": [
            7.01915136
           ],
           "yaxis": "y"
          },
          {
           "alignmentgroup": "True",
           "hovertemplate": "type=%{x}<br>year=2027<br>value=%{y}<extra></extra>",
           "legendgroup": "其他费用",
           "marker": {
            "color": "#ab63fa",
            "pattern": {
             "shape": ""
            }
           },
           "name": "其他费用",
           "offsetgroup": "其他费用",
           "orientation": "v",
           "showlegend": true,
           "textposition": "auto",
           "type": "bar",
           "x": [
            "其他费用"
           ],
           "xaxis": "x",
           "y": [
            2.3397171200000004
           ],
           "yaxis": "y"
          },
          {
           "alignmentgroup": "True",
           "hovertemplate": "type=%{x}<br>year=2027<br>value=%{y}<extra></extra>",
           "legendgroup": "剩余",
           "marker": {
            "color": "#FFA15A",
            "pattern": {
             "shape": ""
            }
           },
           "name": "剩余",
           "offsetgroup": "剩余",
           "orientation": "v",
           "showlegend": true,
           "textposition": "auto",
           "type": "bar",
           "x": [
            "剩余"
           ],
           "xaxis": "x",
           "y": [
            7.065945702399999
           ],
           "yaxis": "y"
          }
         ],
         "name": "2027"
        },
        {
         "data": [
          {
           "alignmentgroup": "True",
           "hovertemplate": "type=%{x}<br>year=2028<br>value=%{y}<extra></extra>",
           "legendgroup": "工资",
           "marker": {
            "color": "#636efa",
            "pattern": {
             "shape": ""
            }
           },
           "name": "工资",
           "offsetgroup": "工资",
           "orientation": "v",
           "showlegend": true,
           "textposition": "auto",
           "type": "bar",
           "x": [
            "工资"
           ],
           "xaxis": "x",
           "y": [
            21.948418359296003
           ],
           "yaxis": "y"
          },
          {
           "alignmentgroup": "True",
           "hovertemplate": "type=%{x}<br>year=2028<br>value=%{y}<extra></extra>",
           "legendgroup": "生活费用",
           "marker": {
            "color": "#EF553B",
            "pattern": {
             "shape": ""
            }
           },
           "name": "生活费用",
           "offsetgroup": "生活费用",
           "orientation": "v",
           "showlegend": true,
           "textposition": "auto",
           "type": "bar",
           "x": [
            "生活费用"
           ],
           "xaxis": "x",
           "y": [
            4.866611609600001
           ],
           "yaxis": "y"
          },
          {
           "alignmentgroup": "True",
           "hovertemplate": "type=%{x}<br>year=2028<br>value=%{y}<extra></extra>",
           "legendgroup": "房租",
           "marker": {
            "color": "#00cc96",
            "pattern": {
             "shape": ""
            }
           },
           "name": "房租",
           "offsetgroup": "房租",
           "orientation": "v",
           "showlegend": true,
           "textposition": "auto",
           "type": "bar",
           "x": [
            "房租"
           ],
           "xaxis": "x",
           "y": [
            7.2999174144
           ],
           "yaxis": "y"
          },
          {
           "alignmentgroup": "True",
           "hovertemplate": "type=%{x}<br>year=2028<br>value=%{y}<extra></extra>",
           "legendgroup": "其他费用",
           "marker": {
            "color": "#ab63fa",
            "pattern": {
             "shape": ""
            }
           },
           "name": "其他费用",
           "offsetgroup": "其他费用",
           "orientation": "v",
           "showlegend": true,
           "textposition": "auto",
           "type": "bar",
           "x": [
            "其他费用"
           ],
           "xaxis": "x",
           "y": [
            2.4333058048000007
           ],
           "yaxis": "y"
          },
          {
           "alignmentgroup": "True",
           "hovertemplate": "type=%{x}<br>year=2028<br>value=%{y}<extra></extra>",
           "legendgroup": "剩余",
           "marker": {
            "color": "#FFA15A",
            "pattern": {
             "shape": ""
            }
           },
           "name": "剩余",
           "offsetgroup": "剩余",
           "orientation": "v",
           "showlegend": true,
           "textposition": "auto",
           "type": "bar",
           "x": [
            "剩余"
           ],
           "xaxis": "x",
           "y": [
            7.348583530496
           ],
           "yaxis": "y"
          }
         ],
         "name": "2028"
        },
        {
         "data": [
          {
           "alignmentgroup": "True",
           "hovertemplate": "type=%{x}<br>year=2029<br>value=%{y}<extra></extra>",
           "legendgroup": "工资",
           "marker": {
            "color": "#636efa",
            "pattern": {
             "shape": ""
            }
           },
           "name": "工资",
           "offsetgroup": "工资",
           "orientation": "v",
           "showlegend": true,
           "textposition": "auto",
           "type": "bar",
           "x": [
            "工资"
           ],
           "xaxis": "x",
           "y": [
            22.826355093667843
           ],
           "yaxis": "y"
          },
          {
           "alignmentgroup": "True",
           "hovertemplate": "type=%{x}<br>year=2029<br>value=%{y}<extra></extra>",
           "legendgroup": "生活费用",
           "marker": {
            "color": "#EF553B",
            "pattern": {
             "shape": ""
            }
           },
           "name": "生活费用",
           "offsetgroup": "生活费用",
           "orientation": "v",
           "showlegend": true,
           "textposition": "auto",
           "type": "bar",
           "x": [
            "生活费用"
           ],
           "xaxis": "x",
           "y": [
            5.0612760739840015
           ],
           "yaxis": "y"
          },
          {
           "alignmentgroup": "True",
           "hovertemplate": "type=%{x}<br>year=2029<br>value=%{y}<extra></extra>",
           "legendgroup": "房租",
           "marker": {
            "color": "#00cc96",
            "pattern": {
             "shape": ""
            }
           },
           "name": "房租",
           "offsetgroup": "房租",
           "orientation": "v",
           "showlegend": true,
           "textposition": "auto",
           "type": "bar",
           "x": [
            "房租"
           ],
           "xaxis": "x",
           "y": [
            7.591914110976001
           ],
           "yaxis": "y"
          },
          {
           "alignmentgroup": "True",
           "hovertemplate": "type=%{x}<br>year=2029<br>value=%{y}<extra></extra>",
           "legendgroup": "其他费用",
           "marker": {
            "color": "#ab63fa",
            "pattern": {
             "shape": ""
            }
           },
           "name": "其他费用",
           "offsetgroup": "其他费用",
           "orientation": "v",
           "showlegend": true,
           "textposition": "auto",
           "type": "bar",
           "x": [
            "其他费用"
           ],
           "xaxis": "x",
           "y": [
            2.5306380369920007
           ],
           "yaxis": "y"
          },
          {
           "alignmentgroup": "True",
           "hovertemplate": "type=%{x}<br>year=2029<br>value=%{y}<extra></extra>",
           "legendgroup": "剩余",
           "marker": {
            "color": "#FFA15A",
            "pattern": {
             "shape": ""
            }
           },
           "name": "剩余",
           "offsetgroup": "剩余",
           "orientation": "v",
           "showlegend": true,
           "textposition": "auto",
           "type": "bar",
           "x": [
            "剩余"
           ],
           "xaxis": "x",
           "y": [
            7.642526871715841
           ],
           "yaxis": "y"
          }
         ],
         "name": "2029"
        },
        {
         "data": [
          {
           "alignmentgroup": "True",
           "hovertemplate": "type=%{x}<br>year=2030<br>value=%{y}<extra></extra>",
           "legendgroup": "工资",
           "marker": {
            "color": "#636efa",
            "pattern": {
             "shape": ""
            }
           },
           "name": "工资",
           "offsetgroup": "工资",
           "orientation": "v",
           "showlegend": true,
           "textposition": "auto",
           "type": "bar",
           "x": [
            "工资"
           ],
           "xaxis": "x",
           "y": [
            23.739409297414557
           ],
           "yaxis": "y"
          },
          {
           "alignmentgroup": "True",
           "hovertemplate": "type=%{x}<br>year=2030<br>value=%{y}<extra></extra>",
           "legendgroup": "生活费用",
           "marker": {
            "color": "#EF553B",
            "pattern": {
             "shape": ""
            }
           },
           "name": "生活费用",
           "offsetgroup": "生活费用",
           "orientation": "v",
           "showlegend": true,
           "textposition": "auto",
           "type": "bar",
           "x": [
            "生活费用"
           ],
           "xaxis": "x",
           "y": [
            5.263727116943362
           ],
           "yaxis": "y"
          },
          {
           "alignmentgroup": "True",
           "hovertemplate": "type=%{x}<br>year=2030<br>value=%{y}<extra></extra>",
           "legendgroup": "房租",
           "marker": {
            "color": "#00cc96",
            "pattern": {
             "shape": ""
            }
           },
           "name": "房租",
           "offsetgroup": "房租",
           "orientation": "v",
           "showlegend": true,
           "textposition": "auto",
           "type": "bar",
           "x": [
            "房租"
           ],
           "xaxis": "x",
           "y": [
            7.895590675415042
           ],
           "yaxis": "y"
          },
          {
           "alignmentgroup": "True",
           "hovertemplate": "type=%{x}<br>year=2030<br>value=%{y}<extra></extra>",
           "legendgroup": "其他费用",
           "marker": {
            "color": "#ab63fa",
            "pattern": {
             "shape": ""
            }
           },
           "name": "其他费用",
           "offsetgroup": "其他费用",
           "orientation": "v",
           "showlegend": true,
           "textposition": "auto",
           "type": "bar",
           "x": [
            "其他费用"
           ],
           "xaxis": "x",
           "y": [
            2.631863558471681
           ],
           "yaxis": "y"
          },
          {
           "alignmentgroup": "True",
           "hovertemplate": "type=%{x}<br>year=2030<br>value=%{y}<extra></extra>",
           "legendgroup": "剩余",
           "marker": {
            "color": "#FFA15A",
            "pattern": {
             "shape": ""
            }
           },
           "name": "剩余",
           "offsetgroup": "剩余",
           "orientation": "v",
           "showlegend": true,
           "textposition": "auto",
           "type": "bar",
           "x": [
            "剩余"
           ],
           "xaxis": "x",
           "y": [
            7.948227946584474
           ],
           "yaxis": "y"
          }
         ],
         "name": "2030"
        },
        {
         "data": [
          {
           "alignmentgroup": "True",
           "hovertemplate": "type=%{x}<br>year=2031<br>value=%{y}<extra></extra>",
           "legendgroup": "工资",
           "marker": {
            "color": "#636efa",
            "pattern": {
             "shape": ""
            }
           },
           "name": "工资",
           "offsetgroup": "工资",
           "orientation": "v",
           "showlegend": true,
           "textposition": "auto",
           "type": "bar",
           "x": [
            "工资"
           ],
           "xaxis": "x",
           "y": [
            24.68898566931114
           ],
           "yaxis": "y"
          },
          {
           "alignmentgroup": "True",
           "hovertemplate": "type=%{x}<br>year=2031<br>value=%{y}<extra></extra>",
           "legendgroup": "生活费用",
           "marker": {
            "color": "#EF553B",
            "pattern": {
             "shape": ""
            }
           },
           "name": "生活费用",
           "offsetgroup": "生活费用",
           "orientation": "v",
           "showlegend": true,
           "textposition": "auto",
           "type": "bar",
           "x": [
            "生活费用"
           ],
           "xaxis": "x",
           "y": [
            5.474276201621096
           ],
           "yaxis": "y"
          },
          {
           "alignmentgroup": "True",
           "hovertemplate": "type=%{x}<br>year=2031<br>value=%{y}<extra></extra>",
           "legendgroup": "房租",
           "marker": {
            "color": "#00cc96",
            "pattern": {
             "shape": ""
            }
           },
           "name": "房租",
           "offsetgroup": "房租",
           "orientation": "v",
           "showlegend": true,
           "textposition": "auto",
           "type": "bar",
           "x": [
            "房租"
           ],
           "xaxis": "x",
           "y": [
            8.211414302431644
           ],
           "yaxis": "y"
          },
          {
           "alignmentgroup": "True",
           "hovertemplate": "type=%{x}<br>year=2031<br>value=%{y}<extra></extra>",
           "legendgroup": "其他费用",
           "marker": {
            "color": "#ab63fa",
            "pattern": {
             "shape": ""
            }
           },
           "name": "其他费用",
           "offsetgroup": "其他费用",
           "orientation": "v",
           "showlegend": true,
           "textposition": "auto",
           "type": "bar",
           "x": [
            "其他费用"
           ],
           "xaxis": "x",
           "y": [
            2.737138100810548
           ],
           "yaxis": "y"
          },
          {
           "alignmentgroup": "True",
           "hovertemplate": "type=%{x}<br>year=2031<br>value=%{y}<extra></extra>",
           "legendgroup": "剩余",
           "marker": {
            "color": "#FFA15A",
            "pattern": {
             "shape": ""
            }
           },
           "name": "剩余",
           "offsetgroup": "剩余",
           "orientation": "v",
           "showlegend": true,
           "textposition": "auto",
           "type": "bar",
           "x": [
            "剩余"
           ],
           "xaxis": "x",
           "y": [
            8.266157064447851
           ],
           "yaxis": "y"
          }
         ],
         "name": "2031"
        },
        {
         "data": [
          {
           "alignmentgroup": "True",
           "hovertemplate": "type=%{x}<br>year=2032<br>value=%{y}<extra></extra>",
           "legendgroup": "工资",
           "marker": {
            "color": "#636efa",
            "pattern": {
             "shape": ""
            }
           },
           "name": "工资",
           "offsetgroup": "工资",
           "orientation": "v",
           "showlegend": true,
           "textposition": "auto",
           "type": "bar",
           "x": [
            "工资"
           ],
           "xaxis": "x",
           "y": [
            25.676545096083586
           ],
           "yaxis": "y"
          },
          {
           "alignmentgroup": "True",
           "hovertemplate": "type=%{x}<br>year=2032<br>value=%{y}<extra></extra>",
           "legendgroup": "生活费用",
           "marker": {
            "color": "#EF553B",
            "pattern": {
             "shape": ""
            }
           },
           "name": "生活费用",
           "offsetgroup": "生活费用",
           "orientation": "v",
           "showlegend": true,
           "textposition": "auto",
           "type": "bar",
           "x": [
            "生活费用"
           ],
           "xaxis": "x",
           "y": [
            5.693247249685941
           ],
           "yaxis": "y"
          },
          {
           "alignmentgroup": "True",
           "hovertemplate": "type=%{x}<br>year=2032<br>value=%{y}<extra></extra>",
           "legendgroup": "房租",
           "marker": {
            "color": "#00cc96",
            "pattern": {
             "shape": ""
            }
           },
           "name": "房租",
           "offsetgroup": "房租",
           "orientation": "v",
           "showlegend": true,
           "textposition": "auto",
           "type": "bar",
           "x": [
            "房租"
           ],
           "xaxis": "x",
           "y": [
            8.53987087452891
           ],
           "yaxis": "y"
          },
          {
           "alignmentgroup": "True",
           "hovertemplate": "type=%{x}<br>year=2032<br>value=%{y}<extra></extra>",
           "legendgroup": "其他费用",
           "marker": {
            "color": "#ab63fa",
            "pattern": {
             "shape": ""
            }
           },
           "name": "其他费用",
           "offsetgroup": "其他费用",
           "orientation": "v",
           "showlegend": true,
           "textposition": "auto",
           "type": "bar",
           "x": [
            "其他费用"
           ],
           "xaxis": "x",
           "y": [
            2.8466236248429704
           ],
           "yaxis": "y"
          },
          {
           "alignmentgroup": "True",
           "hovertemplate": "type=%{x}<br>year=2032<br>value=%{y}<extra></extra>",
           "legendgroup": "剩余",
           "marker": {
            "color": "#FFA15A",
            "pattern": {
             "shape": ""
            }
           },
           "name": "剩余",
           "offsetgroup": "剩余",
           "orientation": "v",
           "showlegend": true,
           "textposition": "auto",
           "type": "bar",
           "x": [
            "剩余"
           ],
           "xaxis": "x",
           "y": [
            8.596803347025768
           ],
           "yaxis": "y"
          }
         ],
         "name": "2032"
        },
        {
         "data": [
          {
           "alignmentgroup": "True",
           "hovertemplate": "type=%{x}<br>year=2033<br>value=%{y}<extra></extra>",
           "legendgroup": "工资",
           "marker": {
            "color": "#636efa",
            "pattern": {
             "shape": ""
            }
           },
           "name": "工资",
           "offsetgroup": "工资",
           "orientation": "v",
           "showlegend": true,
           "textposition": "auto",
           "type": "bar",
           "x": [
            "工资"
           ],
           "xaxis": "x",
           "y": [
            26.703606899926932
           ],
           "yaxis": "y"
          },
          {
           "alignmentgroup": "True",
           "hovertemplate": "type=%{x}<br>year=2033<br>value=%{y}<extra></extra>",
           "legendgroup": "生活费用",
           "marker": {
            "color": "#EF553B",
            "pattern": {
             "shape": ""
            }
           },
           "name": "生活费用",
           "offsetgroup": "生活费用",
           "orientation": "v",
           "showlegend": true,
           "textposition": "auto",
           "type": "bar",
           "x": [
            "生活费用"
           ],
           "xaxis": "x",
           "y": [
            5.920977139673378
           ],
           "yaxis": "y"
          },
          {
           "alignmentgroup": "True",
           "hovertemplate": "type=%{x}<br>year=2033<br>value=%{y}<extra></extra>",
           "legendgroup": "房租",
           "marker": {
            "color": "#00cc96",
            "pattern": {
             "shape": ""
            }
           },
           "name": "房租",
           "offsetgroup": "房租",
           "orientation": "v",
           "showlegend": true,
           "textposition": "auto",
           "type": "bar",
           "x": [
            "房租"
           ],
           "xaxis": "x",
           "y": [
            8.881465709510067
           ],
           "yaxis": "y"
          },
          {
           "alignmentgroup": "True",
           "hovertemplate": "type=%{x}<br>year=2033<br>value=%{y}<extra></extra>",
           "legendgroup": "其他费用",
           "marker": {
            "color": "#ab63fa",
            "pattern": {
             "shape": ""
            }
           },
           "name": "其他费用",
           "offsetgroup": "其他费用",
           "orientation": "v",
           "showlegend": true,
           "textposition": "auto",
           "type": "bar",
           "x": [
            "其他费用"
           ],
           "xaxis": "x",
           "y": [
            2.960488569836689
           ],
           "yaxis": "y"
          },
          {
           "alignmentgroup": "True",
           "hovertemplate": "type=%{x}<br>year=2033<br>value=%{y}<extra></extra>",
           "legendgroup": "剩余",
           "marker": {
            "color": "#FFA15A",
            "pattern": {
             "shape": ""
            }
           },
           "name": "剩余",
           "offsetgroup": "剩余",
           "orientation": "v",
           "showlegend": true,
           "textposition": "auto",
           "type": "bar",
           "x": [
            "剩余"
           ],
           "xaxis": "x",
           "y": [
            8.940675480906798
           ],
           "yaxis": "y"
          }
         ],
         "name": "2033"
        },
        {
         "data": [
          {
           "alignmentgroup": "True",
           "hovertemplate": "type=%{x}<br>year=2034<br>value=%{y}<extra></extra>",
           "legendgroup": "工资",
           "marker": {
            "color": "#636efa",
            "pattern": {
             "shape": ""
            }
           },
           "name": "工资",
           "offsetgroup": "工资",
           "orientation": "v",
           "showlegend": true,
           "textposition": "auto",
           "type": "bar",
           "x": [
            "工资"
           ],
           "xaxis": "x",
           "y": [
            27.77175117592401
           ],
           "yaxis": "y"
          },
          {
           "alignmentgroup": "True",
           "hovertemplate": "type=%{x}<br>year=2034<br>value=%{y}<extra></extra>",
           "legendgroup": "生活费用",
           "marker": {
            "color": "#EF553B",
            "pattern": {
             "shape": ""
            }
           },
           "name": "生活费用",
           "offsetgroup": "生活费用",
           "orientation": "v",
           "showlegend": true,
           "textposition": "auto",
           "type": "bar",
           "x": [
            "生活费用"
           ],
           "xaxis": "x",
           "y": [
            6.157816225260314
           ],
           "yaxis": "y"
          },
          {
           "alignmentgroup": "True",
           "hovertemplate": "type=%{x}<br>year=2034<br>value=%{y}<extra></extra>",
           "legendgroup": "房租",
           "marker": {
            "color": "#00cc96",
            "pattern": {
             "shape": ""
            }
           },
           "name": "房租",
           "offsetgroup": "房租",
           "orientation": "v",
           "showlegend": true,
           "textposition": "auto",
           "type": "bar",
           "x": [
            "房租"
           ],
           "xaxis": "x",
           "y": [
            9.23672433789047
           ],
           "yaxis": "y"
          },
          {
           "alignmentgroup": "True",
           "hovertemplate": "type=%{x}<br>year=2034<br>value=%{y}<extra></extra>",
           "legendgroup": "其他费用",
           "marker": {
            "color": "#ab63fa",
            "pattern": {
             "shape": ""
            }
           },
           "name": "其他费用",
           "offsetgroup": "其他费用",
           "orientation": "v",
           "showlegend": true,
           "textposition": "auto",
           "type": "bar",
           "x": [
            "其他费用"
           ],
           "xaxis": "x",
           "y": [
            3.078908112630157
           ],
           "yaxis": "y"
          },
          {
           "alignmentgroup": "True",
           "hovertemplate": "type=%{x}<br>year=2034<br>value=%{y}<extra></extra>",
           "legendgroup": "剩余",
           "marker": {
            "color": "#FFA15A",
            "pattern": {
             "shape": ""
            }
           },
           "name": "剩余",
           "offsetgroup": "剩余",
           "orientation": "v",
           "showlegend": true,
           "textposition": "auto",
           "type": "bar",
           "x": [
            "剩余"
           ],
           "xaxis": "x",
           "y": [
            9.298302500143071
           ],
           "yaxis": "y"
          }
         ],
         "name": "2034"
        },
        {
         "data": [
          {
           "alignmentgroup": "True",
           "hovertemplate": "type=%{x}<br>year=2035<br>value=%{y}<extra></extra>",
           "legendgroup": "工资",
           "marker": {
            "color": "#636efa",
            "pattern": {
             "shape": ""
            }
           },
           "name": "工资",
           "offsetgroup": "工资",
           "orientation": "v",
           "showlegend": true,
           "textposition": "auto",
           "type": "bar",
           "x": [
            "工资"
           ],
           "xaxis": "x",
           "y": [
            28.88262122296097
           ],
           "yaxis": "y"
          },
          {
           "alignmentgroup": "True",
           "hovertemplate": "type=%{x}<br>year=2035<br>value=%{y}<extra></extra>",
           "legendgroup": "生活费用",
           "marker": {
            "color": "#EF553B",
            "pattern": {
             "shape": ""
            }
           },
           "name": "生活费用",
           "offsetgroup": "生活费用",
           "orientation": "v",
           "showlegend": true,
           "textposition": "auto",
           "type": "bar",
           "x": [
            "生活费用"
           ],
           "xaxis": "x",
           "y": [
            6.404128874270727
           ],
           "yaxis": "y"
          },
          {
           "alignmentgroup": "True",
           "hovertemplate": "type=%{x}<br>year=2035<br>value=%{y}<extra></extra>",
           "legendgroup": "房租",
           "marker": {
            "color": "#00cc96",
            "pattern": {
             "shape": ""
            }
           },
           "name": "房租",
           "offsetgroup": "房租",
           "orientation": "v",
           "showlegend": true,
           "textposition": "auto",
           "type": "bar",
           "x": [
            "房租"
           ],
           "xaxis": "x",
           "y": [
            9.60619331140609
           ],
           "yaxis": "y"
          },
          {
           "alignmentgroup": "True",
           "hovertemplate": "type=%{x}<br>year=2035<br>value=%{y}<extra></extra>",
           "legendgroup": "其他费用",
           "marker": {
            "color": "#ab63fa",
            "pattern": {
             "shape": ""
            }
           },
           "name": "其他费用",
           "offsetgroup": "其他费用",
           "orientation": "v",
           "showlegend": true,
           "textposition": "auto",
           "type": "bar",
           "x": [
            "其他费用"
           ],
           "xaxis": "x",
           "y": [
            3.2020644371353635
           ],
           "yaxis": "y"
          },
          {
           "alignmentgroup": "True",
           "hovertemplate": "type=%{x}<br>year=2035<br>value=%{y}<extra></extra>",
           "legendgroup": "剩余",
           "marker": {
            "color": "#FFA15A",
            "pattern": {
             "shape": ""
            }
           },
           "name": "剩余",
           "offsetgroup": "剩余",
           "orientation": "v",
           "showlegend": true,
           "textposition": "auto",
           "type": "bar",
           "x": [
            "剩余"
           ],
           "xaxis": "x",
           "y": [
            9.670234600148794
           ],
           "yaxis": "y"
          }
         ],
         "name": "2035"
        },
        {
         "data": [
          {
           "alignmentgroup": "True",
           "hovertemplate": "type=%{x}<br>year=2036<br>value=%{y}<extra></extra>",
           "legendgroup": "工资",
           "marker": {
            "color": "#636efa",
            "pattern": {
             "shape": ""
            }
           },
           "name": "工资",
           "offsetgroup": "工资",
           "orientation": "v",
           "showlegend": true,
           "textposition": "auto",
           "type": "bar",
           "x": [
            "工资"
           ],
           "xaxis": "x",
           "y": [
            30.03792607187941
           ],
           "yaxis": "y"
          },
          {
           "alignmentgroup": "True",
           "hovertemplate": "type=%{x}<br>year=2036<br>value=%{y}<extra></extra>",
           "legendgroup": "生活费用",
           "marker": {
            "color": "#EF553B",
            "pattern": {
             "shape": ""
            }
           },
           "name": "生活费用",
           "offsetgroup": "生活费用",
           "orientation": "v",
           "showlegend": true,
           "textposition": "auto",
           "type": "bar",
           "x": [
            "生活费用"
           ],
           "xaxis": "x",
           "y": [
            6.660294029241556
           ],
           "yaxis": "y"
          },
          {
           "alignmentgroup": "True",
           "hovertemplate": "type=%{x}<br>year=2036<br>value=%{y}<extra></extra>",
           "legendgroup": "房租",
           "marker": {
            "color": "#00cc96",
            "pattern": {
             "shape": ""
            }
           },
           "name": "房租",
           "offsetgroup": "房租",
           "orientation": "v",
           "showlegend": true,
           "textposition": "auto",
           "type": "bar",
           "x": [
            "房租"
           ],
           "xaxis": "x",
           "y": [
            9.990441043862333
           ],
           "yaxis": "y"
          },
          {
           "alignmentgroup": "True",
           "hovertemplate": "type=%{x}<br>year=2036<br>value=%{y}<extra></extra>",
           "legendgroup": "其他费用",
           "marker": {
            "color": "#ab63fa",
            "pattern": {
             "shape": ""
            }
           },
           "name": "其他费用",
           "offsetgroup": "其他费用",
           "orientation": "v",
           "showlegend": true,
           "textposition": "auto",
           "type": "bar",
           "x": [
            "其他费用"
           ],
           "xaxis": "x",
           "y": [
            3.330147014620778
           ],
           "yaxis": "y"
          },
          {
           "alignmentgroup": "True",
           "hovertemplate": "type=%{x}<br>year=2036<br>value=%{y}<extra></extra>",
           "legendgroup": "剩余",
           "marker": {
            "color": "#FFA15A",
            "pattern": {
             "shape": ""
            }
           },
           "name": "剩余",
           "offsetgroup": "剩余",
           "orientation": "v",
           "showlegend": true,
           "textposition": "auto",
           "type": "bar",
           "x": [
            "剩余"
           ],
           "xaxis": "x",
           "y": [
            10.057043984154745
           ],
           "yaxis": "y"
          }
         ],
         "name": "2036"
        },
        {
         "data": [
          {
           "alignmentgroup": "True",
           "hovertemplate": "type=%{x}<br>year=2037<br>value=%{y}<extra></extra>",
           "legendgroup": "工资",
           "marker": {
            "color": "#636efa",
            "pattern": {
             "shape": ""
            }
           },
           "name": "工资",
           "offsetgroup": "工资",
           "orientation": "v",
           "showlegend": true,
           "textposition": "auto",
           "type": "bar",
           "x": [
            "工资"
           ],
           "xaxis": "x",
           "y": [
            31.23944311475459
           ],
           "yaxis": "y"
          },
          {
           "alignmentgroup": "True",
           "hovertemplate": "type=%{x}<br>year=2037<br>value=%{y}<extra></extra>",
           "legendgroup": "生活费用",
           "marker": {
            "color": "#EF553B",
            "pattern": {
             "shape": ""
            }
           },
           "name": "生活费用",
           "offsetgroup": "生活费用",
           "orientation": "v",
           "showlegend": true,
           "textposition": "auto",
           "type": "bar",
           "x": [
            "生活费用"
           ],
           "xaxis": "x",
           "y": [
            6.926705790411218
           ],
           "yaxis": "y"
          },
          {
           "alignmentgroup": "True",
           "hovertemplate": "type=%{x}<br>year=2037<br>value=%{y}<extra></extra>",
           "legendgroup": "房租",
           "marker": {
            "color": "#00cc96",
            "pattern": {
             "shape": ""
            }
           },
           "name": "房租",
           "offsetgroup": "房租",
           "orientation": "v",
           "showlegend": true,
           "textposition": "auto",
           "type": "bar",
           "x": [
            "房租"
           ],
           "xaxis": "x",
           "y": [
            10.390058685616827
           ],
           "yaxis": "y"
          },
          {
           "alignmentgroup": "True",
           "hovertemplate": "type=%{x}<br>year=2037<br>value=%{y}<extra></extra>",
           "legendgroup": "其他费用",
           "marker": {
            "color": "#ab63fa",
            "pattern": {
             "shape": ""
            }
           },
           "name": "其他费用",
           "offsetgroup": "其他费用",
           "orientation": "v",
           "showlegend": true,
           "textposition": "auto",
           "type": "bar",
           "x": [
            "其他费用"
           ],
           "xaxis": "x",
           "y": [
            3.463352895205609
           ],
           "yaxis": "y"
          },
          {
           "alignmentgroup": "True",
           "hovertemplate": "type=%{x}<br>year=2037<br>value=%{y}<extra></extra>",
           "legendgroup": "剩余",
           "marker": {
            "color": "#FFA15A",
            "pattern": {
             "shape": ""
            }
           },
           "name": "剩余",
           "offsetgroup": "剩余",
           "orientation": "v",
           "showlegend": true,
           "textposition": "auto",
           "type": "bar",
           "x": [
            "剩余"
           ],
           "xaxis": "x",
           "y": [
            10.459325743520933
           ],
           "yaxis": "y"
          }
         ],
         "name": "2037"
        },
        {
         "data": [
          {
           "alignmentgroup": "True",
           "hovertemplate": "type=%{x}<br>year=2038<br>value=%{y}<extra></extra>",
           "legendgroup": "工资",
           "marker": {
            "color": "#636efa",
            "pattern": {
             "shape": ""
            }
           },
           "name": "工资",
           "offsetgroup": "工资",
           "orientation": "v",
           "showlegend": true,
           "textposition": "auto",
           "type": "bar",
           "x": [
            "工资"
           ],
           "xaxis": "x",
           "y": [
            32.489020839344775
           ],
           "yaxis": "y"
          },
          {
           "alignmentgroup": "True",
           "hovertemplate": "type=%{x}<br>year=2038<br>value=%{y}<extra></extra>",
           "legendgroup": "生活费用",
           "marker": {
            "color": "#EF553B",
            "pattern": {
             "shape": ""
            }
           },
           "name": "生活费用",
           "offsetgroup": "生活费用",
           "orientation": "v",
           "showlegend": true,
           "textposition": "auto",
           "type": "bar",
           "x": [
            "生活费用"
           ],
           "xaxis": "x",
           "y": [
            7.203774022027667
           ],
           "yaxis": "y"
          },
          {
           "alignmentgroup": "True",
           "hovertemplate": "type=%{x}<br>year=2038<br>value=%{y}<extra></extra>",
           "legendgroup": "房租",
           "marker": {
            "color": "#00cc96",
            "pattern": {
             "shape": ""
            }
           },
           "name": "房租",
           "offsetgroup": "房租",
           "orientation": "v",
           "showlegend": true,
           "textposition": "auto",
           "type": "bar",
           "x": [
            "房租"
           ],
           "xaxis": "x",
           "y": [
            0
           ],
           "yaxis": "y"
          },
          {
           "alignmentgroup": "True",
           "hovertemplate": "type=%{x}<br>year=2038<br>value=%{y}<extra></extra>",
           "legendgroup": "其他费用",
           "marker": {
            "color": "#ab63fa",
            "pattern": {
             "shape": ""
            }
           },
           "name": "其他费用",
           "offsetgroup": "其他费用",
           "orientation": "v",
           "showlegend": true,
           "textposition": "auto",
           "type": "bar",
           "x": [
            "其他费用"
           ],
           "xaxis": "x",
           "y": [
            3.6018870110138335
           ],
           "yaxis": "y"
          },
          {
           "alignmentgroup": "True",
           "hovertemplate": "type=%{x}<br>year=2038<br>value=%{y}<extra></extra>",
           "legendgroup": "剩余",
           "marker": {
            "color": "#FFA15A",
            "pattern": {
             "shape": ""
            }
           },
           "name": "剩余",
           "offsetgroup": "剩余",
           "orientation": "v",
           "showlegend": true,
           "textposition": "auto",
           "type": "bar",
           "x": [
            "剩余"
           ],
           "xaxis": "x",
           "y": [
            21.683359806303276
           ],
           "yaxis": "y"
          }
         ],
         "name": "2038"
        },
        {
         "data": [
          {
           "alignmentgroup": "True",
           "hovertemplate": "type=%{x}<br>year=2039<br>value=%{y}<extra></extra>",
           "legendgroup": "工资",
           "marker": {
            "color": "#636efa",
            "pattern": {
             "shape": ""
            }
           },
           "name": "工资",
           "offsetgroup": "工资",
           "orientation": "v",
           "showlegend": true,
           "textposition": "auto",
           "type": "bar",
           "x": [
            "工资"
           ],
           "xaxis": "x",
           "y": [
            33.78858167291857
           ],
           "yaxis": "y"
          },
          {
           "alignmentgroup": "True",
           "hovertemplate": "type=%{x}<br>year=2039<br>value=%{y}<extra></extra>",
           "legendgroup": "生活费用",
           "marker": {
            "color": "#EF553B",
            "pattern": {
             "shape": ""
            }
           },
           "name": "生活费用",
           "offsetgroup": "生活费用",
           "orientation": "v",
           "showlegend": true,
           "textposition": "auto",
           "type": "bar",
           "x": [
            "生活费用"
           ],
           "xaxis": "x",
           "y": [
            7.491924982908774
           ],
           "yaxis": "y"
          },
          {
           "alignmentgroup": "True",
           "hovertemplate": "type=%{x}<br>year=2039<br>value=%{y}<extra></extra>",
           "legendgroup": "房租",
           "marker": {
            "color": "#00cc96",
            "pattern": {
             "shape": ""
            }
           },
           "name": "房租",
           "offsetgroup": "房租",
           "orientation": "v",
           "showlegend": true,
           "textposition": "auto",
           "type": "bar",
           "x": [
            "房租"
           ],
           "xaxis": "x",
           "y": [
            0
           ],
           "yaxis": "y"
          },
          {
           "alignmentgroup": "True",
           "hovertemplate": "type=%{x}<br>year=2039<br>value=%{y}<extra></extra>",
           "legendgroup": "其他费用",
           "marker": {
            "color": "#ab63fa",
            "pattern": {
             "shape": ""
            }
           },
           "name": "其他费用",
           "offsetgroup": "其他费用",
           "orientation": "v",
           "showlegend": true,
           "textposition": "auto",
           "type": "bar",
           "x": [
            "其他费用"
           ],
           "xaxis": "x",
           "y": [
            3.745962491454387
           ],
           "yaxis": "y"
          },
          {
           "alignmentgroup": "True",
           "hovertemplate": "type=%{x}<br>year=2039<br>value=%{y}<extra></extra>",
           "legendgroup": "剩余",
           "marker": {
            "color": "#FFA15A",
            "pattern": {
             "shape": ""
            }
           },
           "name": "剩余",
           "offsetgroup": "剩余",
           "orientation": "v",
           "showlegend": true,
           "textposition": "auto",
           "type": "bar",
           "x": [
            "剩余"
           ],
           "xaxis": "x",
           "y": [
            22.550694198555405
           ],
           "yaxis": "y"
          }
         ],
         "name": "2039"
        },
        {
         "data": [
          {
           "alignmentgroup": "True",
           "hovertemplate": "type=%{x}<br>year=2040<br>value=%{y}<extra></extra>",
           "legendgroup": "工资",
           "marker": {
            "color": "#636efa",
            "pattern": {
             "shape": ""
            }
           },
           "name": "工资",
           "offsetgroup": "工资",
           "orientation": "v",
           "showlegend": true,
           "textposition": "auto",
           "type": "bar",
           "x": [
            "工资"
           ],
           "xaxis": "x",
           "y": [
            35.14012493983531
           ],
           "yaxis": "y"
          },
          {
           "alignmentgroup": "True",
           "hovertemplate": "type=%{x}<br>year=2040<br>value=%{y}<extra></extra>",
           "legendgroup": "生活费用",
           "marker": {
            "color": "#EF553B",
            "pattern": {
             "shape": ""
            }
           },
           "name": "生活费用",
           "offsetgroup": "生活费用",
           "orientation": "v",
           "showlegend": true,
           "textposition": "auto",
           "type": "bar",
           "x": [
            "生活费用"
           ],
           "xaxis": "x",
           "y": [
            7.791601982225125
           ],
           "yaxis": "y"
          },
          {
           "alignmentgroup": "True",
           "hovertemplate": "type=%{x}<br>year=2040<br>value=%{y}<extra></extra>",
           "legendgroup": "房租",
           "marker": {
            "color": "#00cc96",
            "pattern": {
             "shape": ""
            }
           },
           "name": "房租",
           "offsetgroup": "房租",
           "orientation": "v",
           "showlegend": true,
           "textposition": "auto",
           "type": "bar",
           "x": [
            "房租"
           ],
           "xaxis": "x",
           "y": [
            0
           ],
           "yaxis": "y"
          },
          {
           "alignmentgroup": "True",
           "hovertemplate": "type=%{x}<br>year=2040<br>value=%{y}<extra></extra>",
           "legendgroup": "其他费用",
           "marker": {
            "color": "#ab63fa",
            "pattern": {
             "shape": ""
            }
           },
           "name": "其他费用",
           "offsetgroup": "其他费用",
           "orientation": "v",
           "showlegend": true,
           "textposition": "auto",
           "type": "bar",
           "x": [
            "其他费用"
           ],
           "xaxis": "x",
           "y": [
            3.8958009911125626
           ],
           "yaxis": "y"
          },
          {
           "alignmentgroup": "True",
           "hovertemplate": "type=%{x}<br>year=2040<br>value=%{y}<extra></extra>",
           "legendgroup": "剩余",
           "marker": {
            "color": "#FFA15A",
            "pattern": {
             "shape": ""
            }
           },
           "name": "剩余",
           "offsetgroup": "剩余",
           "orientation": "v",
           "showlegend": true,
           "textposition": "auto",
           "type": "bar",
           "x": [
            "剩余"
           ],
           "xaxis": "x",
           "y": [
            23.452721966497624
           ],
           "yaxis": "y"
          }
         ],
         "name": "2040"
        },
        {
         "data": [
          {
           "alignmentgroup": "True",
           "hovertemplate": "type=%{x}<br>year=2041<br>value=%{y}<extra></extra>",
           "legendgroup": "工资",
           "marker": {
            "color": "#636efa",
            "pattern": {
             "shape": ""
            }
           },
           "name": "工资",
           "offsetgroup": "工资",
           "orientation": "v",
           "showlegend": true,
           "textposition": "auto",
           "type": "bar",
           "x": [
            "工资"
           ],
           "xaxis": "x",
           "y": [
            36.545729937428725
           ],
           "yaxis": "y"
          },
          {
           "alignmentgroup": "True",
           "hovertemplate": "type=%{x}<br>year=2041<br>value=%{y}<extra></extra>",
           "legendgroup": "生活费用",
           "marker": {
            "color": "#EF553B",
            "pattern": {
             "shape": ""
            }
           },
           "name": "生活费用",
           "offsetgroup": "生活费用",
           "orientation": "v",
           "showlegend": true,
           "textposition": "auto",
           "type": "bar",
           "x": [
            "生活费用"
           ],
           "xaxis": "x",
           "y": [
            8.10326606151413
           ],
           "yaxis": "y"
          },
          {
           "alignmentgroup": "True",
           "hovertemplate": "type=%{x}<br>year=2041<br>value=%{y}<extra></extra>",
           "legendgroup": "房租",
           "marker": {
            "color": "#00cc96",
            "pattern": {
             "shape": ""
            }
           },
           "name": "房租",
           "offsetgroup": "房租",
           "orientation": "v",
           "showlegend": true,
           "textposition": "auto",
           "type": "bar",
           "x": [
            "房租"
           ],
           "xaxis": "x",
           "y": [
            0
           ],
           "yaxis": "y"
          },
          {
           "alignmentgroup": "True",
           "hovertemplate": "type=%{x}<br>year=2041<br>value=%{y}<extra></extra>",
           "legendgroup": "其他费用",
           "marker": {
            "color": "#ab63fa",
            "pattern": {
             "shape": ""
            }
           },
           "name": "其他费用",
           "offsetgroup": "其他费用",
           "orientation": "v",
           "showlegend": true,
           "textposition": "auto",
           "type": "bar",
           "x": [
            "其他费用"
           ],
           "xaxis": "x",
           "y": [
            4.051633030757065
           ],
           "yaxis": "y"
          },
          {
           "alignmentgroup": "True",
           "hovertemplate": "type=%{x}<br>year=2041<br>value=%{y}<extra></extra>",
           "legendgroup": "剩余",
           "marker": {
            "color": "#FFA15A",
            "pattern": {
             "shape": ""
            }
           },
           "name": "剩余",
           "offsetgroup": "剩余",
           "orientation": "v",
           "showlegend": true,
           "textposition": "auto",
           "type": "bar",
           "x": [
            "剩余"
           ],
           "xaxis": "x",
           "y": [
            24.39083084515753
           ],
           "yaxis": "y"
          }
         ],
         "name": "2041"
        },
        {
         "data": [
          {
           "alignmentgroup": "True",
           "hovertemplate": "type=%{x}<br>year=2042<br>value=%{y}<extra></extra>",
           "legendgroup": "工资",
           "marker": {
            "color": "#636efa",
            "pattern": {
             "shape": ""
            }
           },
           "name": "工资",
           "offsetgroup": "工资",
           "orientation": "v",
           "showlegend": true,
           "textposition": "auto",
           "type": "bar",
           "x": [
            "工资"
           ],
           "xaxis": "x",
           "y": [
            38.00755913492588
           ],
           "yaxis": "y"
          },
          {
           "alignmentgroup": "True",
           "hovertemplate": "type=%{x}<br>year=2042<br>value=%{y}<extra></extra>",
           "legendgroup": "生活费用",
           "marker": {
            "color": "#EF553B",
            "pattern": {
             "shape": ""
            }
           },
           "name": "生活费用",
           "offsetgroup": "生活费用",
           "orientation": "v",
           "showlegend": true,
           "textposition": "auto",
           "type": "bar",
           "x": [
            "生活费用"
           ],
           "xaxis": "x",
           "y": [
            8.427396703974695
           ],
           "yaxis": "y"
          },
          {
           "alignmentgroup": "True",
           "hovertemplate": "type=%{x}<br>year=2042<br>value=%{y}<extra></extra>",
           "legendgroup": "房租",
           "marker": {
            "color": "#00cc96",
            "pattern": {
             "shape": ""
            }
           },
           "name": "房租",
           "offsetgroup": "房租",
           "orientation": "v",
           "showlegend": true,
           "textposition": "auto",
           "type": "bar",
           "x": [
            "房租"
           ],
           "xaxis": "x",
           "y": [
            0
           ],
           "yaxis": "y"
          },
          {
           "alignmentgroup": "True",
           "hovertemplate": "type=%{x}<br>year=2042<br>value=%{y}<extra></extra>",
           "legendgroup": "其他费用",
           "marker": {
            "color": "#ab63fa",
            "pattern": {
             "shape": ""
            }
           },
           "name": "其他费用",
           "offsetgroup": "其他费用",
           "orientation": "v",
           "showlegend": true,
           "textposition": "auto",
           "type": "bar",
           "x": [
            "其他费用"
           ],
           "xaxis": "x",
           "y": [
            4.213698351987348
           ],
           "yaxis": "y"
          },
          {
           "alignmentgroup": "True",
           "hovertemplate": "type=%{x}<br>year=2042<br>value=%{y}<extra></extra>",
           "legendgroup": "剩余",
           "marker": {
            "color": "#FFA15A",
            "pattern": {
             "shape": ""
            }
           },
           "name": "剩余",
           "offsetgroup": "剩余",
           "orientation": "v",
           "showlegend": true,
           "textposition": "auto",
           "type": "bar",
           "x": [
            "剩余"
           ],
           "xaxis": "x",
           "y": [
            25.366464078963837
           ],
           "yaxis": "y"
          }
         ],
         "name": "2042"
        },
        {
         "data": [
          {
           "alignmentgroup": "True",
           "hovertemplate": "type=%{x}<br>year=2043<br>value=%{y}<extra></extra>",
           "legendgroup": "工资",
           "marker": {
            "color": "#636efa",
            "pattern": {
             "shape": ""
            }
           },
           "name": "工资",
           "offsetgroup": "工资",
           "orientation": "v",
           "showlegend": true,
           "textposition": "auto",
           "type": "bar",
           "x": [
            "工资"
           ],
           "xaxis": "x",
           "y": [
            39.52786150032291
           ],
           "yaxis": "y"
          },
          {
           "alignmentgroup": "True",
           "hovertemplate": "type=%{x}<br>year=2043<br>value=%{y}<extra></extra>",
           "legendgroup": "生活费用",
           "marker": {
            "color": "#EF553B",
            "pattern": {
             "shape": ""
            }
           },
           "name": "生活费用",
           "offsetgroup": "生活费用",
           "orientation": "v",
           "showlegend": true,
           "textposition": "auto",
           "type": "bar",
           "x": [
            "生活费用"
           ],
           "xaxis": "x",
           "y": [
            8.764492572133683
           ],
           "yaxis": "y"
          },
          {
           "alignmentgroup": "True",
           "hovertemplate": "type=%{x}<br>year=2043<br>value=%{y}<extra></extra>",
           "legendgroup": "房租",
           "marker": {
            "color": "#00cc96",
            "pattern": {
             "shape": ""
            }
           },
           "name": "房租",
           "offsetgroup": "房租",
           "orientation": "v",
           "showlegend": true,
           "textposition": "auto",
           "type": "bar",
           "x": [
            "房租"
           ],
           "xaxis": "x",
           "y": [
            0
           ],
           "yaxis": "y"
          },
          {
           "alignmentgroup": "True",
           "hovertemplate": "type=%{x}<br>year=2043<br>value=%{y}<extra></extra>",
           "legendgroup": "其他费用",
           "marker": {
            "color": "#ab63fa",
            "pattern": {
             "shape": ""
            }
           },
           "name": "其他费用",
           "offsetgroup": "其他费用",
           "orientation": "v",
           "showlegend": true,
           "textposition": "auto",
           "type": "bar",
           "x": [
            "其他费用"
           ],
           "xaxis": "x",
           "y": [
            4.382246286066842
           ],
           "yaxis": "y"
          },
          {
           "alignmentgroup": "True",
           "hovertemplate": "type=%{x}<br>year=2043<br>value=%{y}<extra></extra>",
           "legendgroup": "剩余",
           "marker": {
            "color": "#FFA15A",
            "pattern": {
             "shape": ""
            }
           },
           "name": "剩余",
           "offsetgroup": "剩余",
           "orientation": "v",
           "showlegend": true,
           "textposition": "auto",
           "type": "bar",
           "x": [
            "剩余"
           ],
           "xaxis": "x",
           "y": [
            26.38112264212239
           ],
           "yaxis": "y"
          }
         ],
         "name": "2043"
        },
        {
         "data": [
          {
           "alignmentgroup": "True",
           "hovertemplate": "type=%{x}<br>year=2044<br>value=%{y}<extra></extra>",
           "legendgroup": "工资",
           "marker": {
            "color": "#636efa",
            "pattern": {
             "shape": ""
            }
           },
           "name": "工资",
           "offsetgroup": "工资",
           "orientation": "v",
           "showlegend": true,
           "textposition": "auto",
           "type": "bar",
           "x": [
            "工资"
           ],
           "xaxis": "x",
           "y": [
            41.10897596033583
           ],
           "yaxis": "y"
          },
          {
           "alignmentgroup": "True",
           "hovertemplate": "type=%{x}<br>year=2044<br>value=%{y}<extra></extra>",
           "legendgroup": "生活费用",
           "marker": {
            "color": "#EF553B",
            "pattern": {
             "shape": ""
            }
           },
           "name": "生活费用",
           "offsetgroup": "生活费用",
           "orientation": "v",
           "showlegend": true,
           "textposition": "auto",
           "type": "bar",
           "x": [
            "生活费用"
           ],
           "xaxis": "x",
           "y": [
            9.115072275019031
           ],
           "yaxis": "y"
          },
          {
           "alignmentgroup": "True",
           "hovertemplate": "type=%{x}<br>year=2044<br>value=%{y}<extra></extra>",
           "legendgroup": "房租",
           "marker": {
            "color": "#00cc96",
            "pattern": {
             "shape": ""
            }
           },
           "name": "房租",
           "offsetgroup": "房租",
           "orientation": "v",
           "showlegend": true,
           "textposition": "auto",
           "type": "bar",
           "x": [
            "房租"
           ],
           "xaxis": "x",
           "y": [
            0
           ],
           "yaxis": "y"
          },
          {
           "alignmentgroup": "True",
           "hovertemplate": "type=%{x}<br>year=2044<br>value=%{y}<extra></extra>",
           "legendgroup": "其他费用",
           "marker": {
            "color": "#ab63fa",
            "pattern": {
             "shape": ""
            }
           },
           "name": "其他费用",
           "offsetgroup": "其他费用",
           "orientation": "v",
           "showlegend": true,
           "textposition": "auto",
           "type": "bar",
           "x": [
            "其他费用"
           ],
           "xaxis": "x",
           "y": [
            4.557536137509516
           ],
           "yaxis": "y"
          },
          {
           "alignmentgroup": "True",
           "hovertemplate": "type=%{x}<br>year=2044<br>value=%{y}<extra></extra>",
           "legendgroup": "剩余",
           "marker": {
            "color": "#FFA15A",
            "pattern": {
             "shape": ""
            }
           },
           "name": "剩余",
           "offsetgroup": "剩余",
           "orientation": "v",
           "showlegend": true,
           "textposition": "auto",
           "type": "bar",
           "x": [
            "剩余"
           ],
           "xaxis": "x",
           "y": [
            27.436367547807286
           ],
           "yaxis": "y"
          }
         ],
         "name": "2044"
        },
        {
         "data": [
          {
           "alignmentgroup": "True",
           "hovertemplate": "type=%{x}<br>year=2045<br>value=%{y}<extra></extra>",
           "legendgroup": "工资",
           "marker": {
            "color": "#636efa",
            "pattern": {
             "shape": ""
            }
           },
           "name": "工资",
           "offsetgroup": "工资",
           "orientation": "v",
           "showlegend": true,
           "textposition": "auto",
           "type": "bar",
           "x": [
            "工资"
           ],
           "xaxis": "x",
           "y": [
            42.75333499874927
           ],
           "yaxis": "y"
          },
          {
           "alignmentgroup": "True",
           "hovertemplate": "type=%{x}<br>year=2045<br>value=%{y}<extra></extra>",
           "legendgroup": "生活费用",
           "marker": {
            "color": "#EF553B",
            "pattern": {
             "shape": ""
            }
           },
           "name": "生活费用",
           "offsetgroup": "生活费用",
           "orientation": "v",
           "showlegend": true,
           "textposition": "auto",
           "type": "bar",
           "x": [
            "生活费用"
           ],
           "xaxis": "x",
           "y": [
            9.479675166019792
           ],
           "yaxis": "y"
          },
          {
           "alignmentgroup": "True",
           "hovertemplate": "type=%{x}<br>year=2045<br>value=%{y}<extra></extra>",
           "legendgroup": "房租",
           "marker": {
            "color": "#00cc96",
            "pattern": {
             "shape": ""
            }
           },
           "name": "房租",
           "offsetgroup": "房租",
           "orientation": "v",
           "showlegend": true,
           "textposition": "auto",
           "type": "bar",
           "x": [
            "房租"
           ],
           "xaxis": "x",
           "y": [
            0
           ],
           "yaxis": "y"
          },
          {
           "alignmentgroup": "True",
           "hovertemplate": "type=%{x}<br>year=2045<br>value=%{y}<extra></extra>",
           "legendgroup": "其他费用",
           "marker": {
            "color": "#ab63fa",
            "pattern": {
             "shape": ""
            }
           },
           "name": "其他费用",
           "offsetgroup": "其他费用",
           "orientation": "v",
           "showlegend": true,
           "textposition": "auto",
           "type": "bar",
           "x": [
            "其他费用"
           ],
           "xaxis": "x",
           "y": [
            4.739837583009896
           ],
           "yaxis": "y"
          },
          {
           "alignmentgroup": "True",
           "hovertemplate": "type=%{x}<br>year=2045<br>value=%{y}<extra></extra>",
           "legendgroup": "剩余",
           "marker": {
            "color": "#FFA15A",
            "pattern": {
             "shape": ""
            }
           },
           "name": "剩余",
           "offsetgroup": "剩余",
           "orientation": "v",
           "showlegend": true,
           "textposition": "auto",
           "type": "bar",
           "x": [
            "剩余"
           ],
           "xaxis": "x",
           "y": [
            28.533822249719584
           ],
           "yaxis": "y"
          }
         ],
         "name": "2045"
        },
        {
         "data": [
          {
           "alignmentgroup": "True",
           "hovertemplate": "type=%{x}<br>year=2046<br>value=%{y}<extra></extra>",
           "legendgroup": "工资",
           "marker": {
            "color": "#636efa",
            "pattern": {
             "shape": ""
            }
           },
           "name": "工资",
           "offsetgroup": "工资",
           "orientation": "v",
           "showlegend": true,
           "textposition": "auto",
           "type": "bar",
           "x": [
            "工资"
           ],
           "xaxis": "x",
           "y": [
            44.46346839869924
           ],
           "yaxis": "y"
          },
          {
           "alignmentgroup": "True",
           "hovertemplate": "type=%{x}<br>year=2046<br>value=%{y}<extra></extra>",
           "legendgroup": "生活费用",
           "marker": {
            "color": "#EF553B",
            "pattern": {
             "shape": ""
            }
           },
           "name": "生活费用",
           "offsetgroup": "生活费用",
           "orientation": "v",
           "showlegend": true,
           "textposition": "auto",
           "type": "bar",
           "x": [
            "生活费用"
           ],
           "xaxis": "x",
           "y": [
            9.858862172660585
           ],
           "yaxis": "y"
          },
          {
           "alignmentgroup": "True",
           "hovertemplate": "type=%{x}<br>year=2046<br>value=%{y}<extra></extra>",
           "legendgroup": "房租",
           "marker": {
            "color": "#00cc96",
            "pattern": {
             "shape": ""
            }
           },
           "name": "房租",
           "offsetgroup": "房租",
           "orientation": "v",
           "showlegend": true,
           "textposition": "auto",
           "type": "bar",
           "x": [
            "房租"
           ],
           "xaxis": "x",
           "y": [
            0
           ],
           "yaxis": "y"
          },
          {
           "alignmentgroup": "True",
           "hovertemplate": "type=%{x}<br>year=2046<br>value=%{y}<extra></extra>",
           "legendgroup": "其他费用",
           "marker": {
            "color": "#ab63fa",
            "pattern": {
             "shape": ""
            }
           },
           "name": "其他费用",
           "offsetgroup": "其他费用",
           "orientation": "v",
           "showlegend": true,
           "textposition": "auto",
           "type": "bar",
           "x": [
            "其他费用"
           ],
           "xaxis": "x",
           "y": [
            4.929431086330292
           ],
           "yaxis": "y"
          },
          {
           "alignmentgroup": "True",
           "hovertemplate": "type=%{x}<br>year=2046<br>value=%{y}<extra></extra>",
           "legendgroup": "剩余",
           "marker": {
            "color": "#FFA15A",
            "pattern": {
             "shape": ""
            }
           },
           "name": "剩余",
           "offsetgroup": "剩余",
           "orientation": "v",
           "showlegend": true,
           "textposition": "auto",
           "type": "bar",
           "x": [
            "剩余"
           ],
           "xaxis": "x",
           "y": [
            29.67517513970836
           ],
           "yaxis": "y"
          }
         ],
         "name": "2046"
        },
        {
         "data": [
          {
           "alignmentgroup": "True",
           "hovertemplate": "type=%{x}<br>year=2047<br>value=%{y}<extra></extra>",
           "legendgroup": "工资",
           "marker": {
            "color": "#636efa",
            "pattern": {
             "shape": ""
            }
           },
           "name": "工资",
           "offsetgroup": "工资",
           "orientation": "v",
           "showlegend": true,
           "textposition": "auto",
           "type": "bar",
           "x": [
            "工资"
           ],
           "xaxis": "x",
           "y": [
            46.24200713464721
           ],
           "yaxis": "y"
          },
          {
           "alignmentgroup": "True",
           "hovertemplate": "type=%{x}<br>year=2047<br>value=%{y}<extra></extra>",
           "legendgroup": "生活费用",
           "marker": {
            "color": "#EF553B",
            "pattern": {
             "shape": ""
            }
           },
           "name": "生活费用",
           "offsetgroup": "生活费用",
           "orientation": "v",
           "showlegend": true,
           "textposition": "auto",
           "type": "bar",
           "x": [
            "生活费用"
           ],
           "xaxis": "x",
           "y": [
            10.25321665956701
           ],
           "yaxis": "y"
          },
          {
           "alignmentgroup": "True",
           "hovertemplate": "type=%{x}<br>year=2047<br>value=%{y}<extra></extra>",
           "legendgroup": "房租",
           "marker": {
            "color": "#00cc96",
            "pattern": {
             "shape": ""
            }
           },
           "name": "房租",
           "offsetgroup": "房租",
           "orientation": "v",
           "showlegend": true,
           "textposition": "auto",
           "type": "bar",
           "x": [
            "房租"
           ],
           "xaxis": "x",
           "y": [
            0
           ],
           "yaxis": "y"
          },
          {
           "alignmentgroup": "True",
           "hovertemplate": "type=%{x}<br>year=2047<br>value=%{y}<extra></extra>",
           "legendgroup": "其他费用",
           "marker": {
            "color": "#ab63fa",
            "pattern": {
             "shape": ""
            }
           },
           "name": "其他费用",
           "offsetgroup": "其他费用",
           "orientation": "v",
           "showlegend": true,
           "textposition": "auto",
           "type": "bar",
           "x": [
            "其他费用"
           ],
           "xaxis": "x",
           "y": [
            5.126608329783505
           ],
           "yaxis": "y"
          },
          {
           "alignmentgroup": "True",
           "hovertemplate": "type=%{x}<br>year=2047<br>value=%{y}<extra></extra>",
           "legendgroup": "剩余",
           "marker": {
            "color": "#FFA15A",
            "pattern": {
             "shape": ""
            }
           },
           "name": "剩余",
           "offsetgroup": "剩余",
           "orientation": "v",
           "showlegend": true,
           "textposition": "auto",
           "type": "bar",
           "x": [
            "剩余"
           ],
           "xaxis": "x",
           "y": [
            30.862182145296696
           ],
           "yaxis": "y"
          }
         ],
         "name": "2047"
        },
        {
         "data": [
          {
           "alignmentgroup": "True",
           "hovertemplate": "type=%{x}<br>year=2048<br>value=%{y}<extra></extra>",
           "legendgroup": "工资",
           "marker": {
            "color": "#636efa",
            "pattern": {
             "shape": ""
            }
           },
           "name": "工资",
           "offsetgroup": "工资",
           "orientation": "v",
           "showlegend": true,
           "textposition": "auto",
           "type": "bar",
           "x": [
            "工资"
           ],
           "xaxis": "x",
           "y": [
            48.0916874200331
           ],
           "yaxis": "y"
          },
          {
           "alignmentgroup": "True",
           "hovertemplate": "type=%{x}<br>year=2048<br>value=%{y}<extra></extra>",
           "legendgroup": "生活费用",
           "marker": {
            "color": "#EF553B",
            "pattern": {
             "shape": ""
            }
           },
           "name": "生活费用",
           "offsetgroup": "生活费用",
           "orientation": "v",
           "showlegend": true,
           "textposition": "auto",
           "type": "bar",
           "x": [
            "生活费用"
           ],
           "xaxis": "x",
           "y": [
            10.66334532594969
           ],
           "yaxis": "y"
          },
          {
           "alignmentgroup": "True",
           "hovertemplate": "type=%{x}<br>year=2048<br>value=%{y}<extra></extra>",
           "legendgroup": "房租",
           "marker": {
            "color": "#00cc96",
            "pattern": {
             "shape": ""
            }
           },
           "name": "房租",
           "offsetgroup": "房租",
           "orientation": "v",
           "showlegend": true,
           "textposition": "auto",
           "type": "bar",
           "x": [
            "房租"
           ],
           "xaxis": "x",
           "y": [
            0
           ],
           "yaxis": "y"
          },
          {
           "alignmentgroup": "True",
           "hovertemplate": "type=%{x}<br>year=2048<br>value=%{y}<extra></extra>",
           "legendgroup": "其他费用",
           "marker": {
            "color": "#ab63fa",
            "pattern": {
             "shape": ""
            }
           },
           "name": "其他费用",
           "offsetgroup": "其他费用",
           "orientation": "v",
           "showlegend": true,
           "textposition": "auto",
           "type": "bar",
           "x": [
            "其他费用"
           ],
           "xaxis": "x",
           "y": [
            5.331672662974845
           ],
           "yaxis": "y"
          },
          {
           "alignmentgroup": "True",
           "hovertemplate": "type=%{x}<br>year=2048<br>value=%{y}<extra></extra>",
           "legendgroup": "剩余",
           "marker": {
            "color": "#FFA15A",
            "pattern": {
             "shape": ""
            }
           },
           "name": "剩余",
           "offsetgroup": "剩余",
           "orientation": "v",
           "showlegend": true,
           "textposition": "auto",
           "type": "bar",
           "x": [
            "剩余"
           ],
           "xaxis": "x",
           "y": [
            32.09666943110856
           ],
           "yaxis": "y"
          }
         ],
         "name": "2048"
        },
        {
         "data": [
          {
           "alignmentgroup": "True",
           "hovertemplate": "type=%{x}<br>year=2049<br>value=%{y}<extra></extra>",
           "legendgroup": "工资",
           "marker": {
            "color": "#636efa",
            "pattern": {
             "shape": ""
            }
           },
           "name": "工资",
           "offsetgroup": "工资",
           "orientation": "v",
           "showlegend": true,
           "textposition": "auto",
           "type": "bar",
           "x": [
            "工资"
           ],
           "xaxis": "x",
           "y": [
            50.015354916834426
           ],
           "yaxis": "y"
          },
          {
           "alignmentgroup": "True",
           "hovertemplate": "type=%{x}<br>year=2049<br>value=%{y}<extra></extra>",
           "legendgroup": "生活费用",
           "marker": {
            "color": "#EF553B",
            "pattern": {
             "shape": ""
            }
           },
           "name": "生活费用",
           "offsetgroup": "生活费用",
           "orientation": "v",
           "showlegend": true,
           "textposition": "auto",
           "type": "bar",
           "x": [
            "生活费用"
           ],
           "xaxis": "x",
           "y": [
            11.089879138987678
           ],
           "yaxis": "y"
          },
          {
           "alignmentgroup": "True",
           "hovertemplate": "type=%{x}<br>year=2049<br>value=%{y}<extra></extra>",
           "legendgroup": "房租",
           "marker": {
            "color": "#00cc96",
            "pattern": {
             "shape": ""
            }
           },
           "name": "房租",
           "offsetgroup": "房租",
           "orientation": "v",
           "showlegend": true,
           "textposition": "auto",
           "type": "bar",
           "x": [
            "房租"
           ],
           "xaxis": "x",
           "y": [
            0
           ],
           "yaxis": "y"
          },
          {
           "alignmentgroup": "True",
           "hovertemplate": "type=%{x}<br>year=2049<br>value=%{y}<extra></extra>",
           "legendgroup": "其他费用",
           "marker": {
            "color": "#ab63fa",
            "pattern": {
             "shape": ""
            }
           },
           "name": "其他费用",
           "offsetgroup": "其他费用",
           "orientation": "v",
           "showlegend": true,
           "textposition": "auto",
           "type": "bar",
           "x": [
            "其他费用"
           ],
           "xaxis": "x",
           "y": [
            5.544939569493839
           ],
           "yaxis": "y"
          },
          {
           "alignmentgroup": "True",
           "hovertemplate": "type=%{x}<br>year=2049<br>value=%{y}<extra></extra>",
           "legendgroup": "剩余",
           "marker": {
            "color": "#FFA15A",
            "pattern": {
             "shape": ""
            }
           },
           "name": "剩余",
           "offsetgroup": "剩余",
           "orientation": "v",
           "showlegend": true,
           "textposition": "auto",
           "type": "bar",
           "x": [
            "剩余"
           ],
           "xaxis": "x",
           "y": [
            33.38053620835291
           ],
           "yaxis": "y"
          }
         ],
         "name": "2049"
        },
        {
         "data": [
          {
           "alignmentgroup": "True",
           "hovertemplate": "type=%{x}<br>year=2050<br>value=%{y}<extra></extra>",
           "legendgroup": "工资",
           "marker": {
            "color": "#636efa",
            "pattern": {
             "shape": ""
            }
           },
           "name": "工资",
           "offsetgroup": "工资",
           "orientation": "v",
           "showlegend": true,
           "textposition": "auto",
           "type": "bar",
           "x": [
            "工资"
           ],
           "xaxis": "x",
           "y": [
            52.01596911350781
           ],
           "yaxis": "y"
          },
          {
           "alignmentgroup": "True",
           "hovertemplate": "type=%{x}<br>year=2050<br>value=%{y}<extra></extra>",
           "legendgroup": "生活费用",
           "marker": {
            "color": "#EF553B",
            "pattern": {
             "shape": ""
            }
           },
           "name": "生活费用",
           "offsetgroup": "生活费用",
           "orientation": "v",
           "showlegend": true,
           "textposition": "auto",
           "type": "bar",
           "x": [
            "生活费用"
           ],
           "xaxis": "x",
           "y": [
            11.533474304547186
           ],
           "yaxis": "y"
          },
          {
           "alignmentgroup": "True",
           "hovertemplate": "type=%{x}<br>year=2050<br>value=%{y}<extra></extra>",
           "legendgroup": "房租",
           "marker": {
            "color": "#00cc96",
            "pattern": {
             "shape": ""
            }
           },
           "name": "房租",
           "offsetgroup": "房租",
           "orientation": "v",
           "showlegend": true,
           "textposition": "auto",
           "type": "bar",
           "x": [
            "房租"
           ],
           "xaxis": "x",
           "y": [
            0
           ],
           "yaxis": "y"
          },
          {
           "alignmentgroup": "True",
           "hovertemplate": "type=%{x}<br>year=2050<br>value=%{y}<extra></extra>",
           "legendgroup": "其他费用",
           "marker": {
            "color": "#ab63fa",
            "pattern": {
             "shape": ""
            }
           },
           "name": "其他费用",
           "offsetgroup": "其他费用",
           "orientation": "v",
           "showlegend": true,
           "textposition": "auto",
           "type": "bar",
           "x": [
            "其他费用"
           ],
           "xaxis": "x",
           "y": [
            5.766737152273593
           ],
           "yaxis": "y"
          },
          {
           "alignmentgroup": "True",
           "hovertemplate": "type=%{x}<br>year=2050<br>value=%{y}<extra></extra>",
           "legendgroup": "剩余",
           "marker": {
            "color": "#FFA15A",
            "pattern": {
             "shape": ""
            }
           },
           "name": "剩余",
           "offsetgroup": "剩余",
           "orientation": "v",
           "showlegend": true,
           "textposition": "auto",
           "type": "bar",
           "x": [
            "剩余"
           ],
           "xaxis": "x",
           "y": [
            34.71575765668703
           ],
           "yaxis": "y"
          }
         ],
         "name": "2050"
        },
        {
         "data": [
          {
           "alignmentgroup": "True",
           "hovertemplate": "type=%{x}<br>year=2051<br>value=%{y}<extra></extra>",
           "legendgroup": "工资",
           "marker": {
            "color": "#636efa",
            "pattern": {
             "shape": ""
            }
           },
           "name": "工资",
           "offsetgroup": "工资",
           "orientation": "v",
           "showlegend": true,
           "textposition": "auto",
           "type": "bar",
           "x": [
            "工资"
           ],
           "xaxis": "x",
           "y": [
            54.096607878048125
           ],
           "yaxis": "y"
          },
          {
           "alignmentgroup": "True",
           "hovertemplate": "type=%{x}<br>year=2051<br>value=%{y}<extra></extra>",
           "legendgroup": "生活费用",
           "marker": {
            "color": "#EF553B",
            "pattern": {
             "shape": ""
            }
           },
           "name": "生活费用",
           "offsetgroup": "生活费用",
           "orientation": "v",
           "showlegend": true,
           "textposition": "auto",
           "type": "bar",
           "x": [
            "生活费用"
           ],
           "xaxis": "x",
           "y": [
            11.994813276729074
           ],
           "yaxis": "y"
          },
          {
           "alignmentgroup": "True",
           "hovertemplate": "type=%{x}<br>year=2051<br>value=%{y}<extra></extra>",
           "legendgroup": "房租",
           "marker": {
            "color": "#00cc96",
            "pattern": {
             "shape": ""
            }
           },
           "name": "房租",
           "offsetgroup": "房租",
           "orientation": "v",
           "showlegend": true,
           "textposition": "auto",
           "type": "bar",
           "x": [
            "房租"
           ],
           "xaxis": "x",
           "y": [
            0
           ],
           "yaxis": "y"
          },
          {
           "alignmentgroup": "True",
           "hovertemplate": "type=%{x}<br>year=2051<br>value=%{y}<extra></extra>",
           "legendgroup": "其他费用",
           "marker": {
            "color": "#ab63fa",
            "pattern": {
             "shape": ""
            }
           },
           "name": "其他费用",
           "offsetgroup": "其他费用",
           "orientation": "v",
           "showlegend": true,
           "textposition": "auto",
           "type": "bar",
           "x": [
            "其他费用"
           ],
           "xaxis": "x",
           "y": [
            5.997406638364537
           ],
           "yaxis": "y"
          },
          {
           "alignmentgroup": "True",
           "hovertemplate": "type=%{x}<br>year=2051<br>value=%{y}<extra></extra>",
           "legendgroup": "剩余",
           "marker": {
            "color": "#FFA15A",
            "pattern": {
             "shape": ""
            }
           },
           "name": "剩余",
           "offsetgroup": "剩余",
           "orientation": "v",
           "showlegend": true,
           "textposition": "auto",
           "type": "bar",
           "x": [
            "剩余"
           ],
           "xaxis": "x",
           "y": [
            36.10438796295451
           ],
           "yaxis": "y"
          }
         ],
         "name": "2051"
        },
        {
         "data": [
          {
           "alignmentgroup": "True",
           "hovertemplate": "type=%{x}<br>year=2052<br>value=%{y}<extra></extra>",
           "legendgroup": "工资",
           "marker": {
            "color": "#636efa",
            "pattern": {
             "shape": ""
            }
           },
           "name": "工资",
           "offsetgroup": "工资",
           "orientation": "v",
           "showlegend": true,
           "textposition": "auto",
           "type": "bar",
           "x": [
            "工资"
           ],
           "xaxis": "x",
           "y": [
            56.26047219317005
           ],
           "yaxis": "y"
          },
          {
           "alignmentgroup": "True",
           "hovertemplate": "type=%{x}<br>year=2052<br>value=%{y}<extra></extra>",
           "legendgroup": "生活费用",
           "marker": {
            "color": "#EF553B",
            "pattern": {
             "shape": ""
            }
           },
           "name": "生活费用",
           "offsetgroup": "生活费用",
           "orientation": "v",
           "showlegend": true,
           "textposition": "auto",
           "type": "bar",
           "x": [
            "生活费用"
           ],
           "xaxis": "x",
           "y": [
            12.474605807798238
           ],
           "yaxis": "y"
          },
          {
           "alignmentgroup": "True",
           "hovertemplate": "type=%{x}<br>year=2052<br>value=%{y}<extra></extra>",
           "legendgroup": "房租",
           "marker": {
            "color": "#00cc96",
            "pattern": {
             "shape": ""
            }
           },
           "name": "房租",
           "offsetgroup": "房租",
           "orientation": "v",
           "showlegend": true,
           "textposition": "auto",
           "type": "bar",
           "x": [
            "房租"
           ],
           "xaxis": "x",
           "y": [
            0
           ],
           "yaxis": "y"
          },
          {
           "alignmentgroup": "True",
           "hovertemplate": "type=%{x}<br>year=2052<br>value=%{y}<extra></extra>",
           "legendgroup": "其他费用",
           "marker": {
            "color": "#ab63fa",
            "pattern": {
             "shape": ""
            }
           },
           "name": "其他费用",
           "offsetgroup": "其他费用",
           "orientation": "v",
           "showlegend": true,
           "textposition": "auto",
           "type": "bar",
           "x": [
            "其他费用"
           ],
           "xaxis": "x",
           "y": [
            6.237302903899119
           ],
           "yaxis": "y"
          },
          {
           "alignmentgroup": "True",
           "hovertemplate": "type=%{x}<br>year=2052<br>value=%{y}<extra></extra>",
           "legendgroup": "剩余",
           "marker": {
            "color": "#FFA15A",
            "pattern": {
             "shape": ""
            }
           },
           "name": "剩余",
           "offsetgroup": "剩余",
           "orientation": "v",
           "showlegend": true,
           "textposition": "auto",
           "type": "bar",
           "x": [
            "剩余"
           ],
           "xaxis": "x",
           "y": [
            37.5485634814727
           ],
           "yaxis": "y"
          }
         ],
         "name": "2052"
        },
        {
         "data": [
          {
           "alignmentgroup": "True",
           "hovertemplate": "type=%{x}<br>year=2053<br>value=%{y}<extra></extra>",
           "legendgroup": "工资",
           "marker": {
            "color": "#636efa",
            "pattern": {
             "shape": ""
            }
           },
           "name": "工资",
           "offsetgroup": "工资",
           "orientation": "v",
           "showlegend": true,
           "textposition": "auto",
           "type": "bar",
           "x": [
            "工资"
           ],
           "xaxis": "x",
           "y": [
            58.510891080896855
           ],
           "yaxis": "y"
          },
          {
           "alignmentgroup": "True",
           "hovertemplate": "type=%{x}<br>year=2053<br>value=%{y}<extra></extra>",
           "legendgroup": "生活费用",
           "marker": {
            "color": "#EF553B",
            "pattern": {
             "shape": ""
            }
           },
           "name": "生活费用",
           "offsetgroup": "生活费用",
           "orientation": "v",
           "showlegend": true,
           "textposition": "auto",
           "type": "bar",
           "x": [
            "生活费用"
           ],
           "xaxis": "x",
           "y": [
            12.973590040110167
           ],
           "yaxis": "y"
          },
          {
           "alignmentgroup": "True",
           "hovertemplate": "type=%{x}<br>year=2053<br>value=%{y}<extra></extra>",
           "legendgroup": "房租",
           "marker": {
            "color": "#00cc96",
            "pattern": {
             "shape": ""
            }
           },
           "name": "房租",
           "offsetgroup": "房租",
           "orientation": "v",
           "showlegend": true,
           "textposition": "auto",
           "type": "bar",
           "x": [
            "房租"
           ],
           "xaxis": "x",
           "y": [
            0
           ],
           "yaxis": "y"
          },
          {
           "alignmentgroup": "True",
           "hovertemplate": "type=%{x}<br>year=2053<br>value=%{y}<extra></extra>",
           "legendgroup": "其他费用",
           "marker": {
            "color": "#ab63fa",
            "pattern": {
             "shape": ""
            }
           },
           "name": "其他费用",
           "offsetgroup": "其他费用",
           "orientation": "v",
           "showlegend": true,
           "textposition": "auto",
           "type": "bar",
           "x": [
            "其他费用"
           ],
           "xaxis": "x",
           "y": [
            6.486795020055084
           ],
           "yaxis": "y"
          },
          {
           "alignmentgroup": "True",
           "hovertemplate": "type=%{x}<br>year=2053<br>value=%{y}<extra></extra>",
           "legendgroup": "剩余",
           "marker": {
            "color": "#FFA15A",
            "pattern": {
             "shape": ""
            }
           },
           "name": "剩余",
           "offsetgroup": "剩余",
           "orientation": "v",
           "showlegend": true,
           "textposition": "auto",
           "type": "bar",
           "x": [
            "剩余"
           ],
           "xaxis": "x",
           "y": [
            39.0505060207316
           ],
           "yaxis": "y"
          }
         ],
         "name": "2053"
        },
        {
         "data": [
          {
           "alignmentgroup": "True",
           "hovertemplate": "type=%{x}<br>year=2054<br>value=%{y}<extra></extra>",
           "legendgroup": "工资",
           "marker": {
            "color": "#636efa",
            "pattern": {
             "shape": ""
            }
           },
           "name": "工资",
           "offsetgroup": "工资",
           "orientation": "v",
           "showlegend": true,
           "textposition": "auto",
           "type": "bar",
           "x": [
            "工资"
           ],
           "xaxis": "x",
           "y": [
            60.85132672413273
           ],
           "yaxis": "y"
          },
          {
           "alignmentgroup": "True",
           "hovertemplate": "type=%{x}<br>year=2054<br>value=%{y}<extra></extra>",
           "legendgroup": "生活费用",
           "marker": {
            "color": "#EF553B",
            "pattern": {
             "shape": ""
            }
           },
           "name": "生活费用",
           "offsetgroup": "生活费用",
           "orientation": "v",
           "showlegend": true,
           "textposition": "auto",
           "type": "bar",
           "x": [
            "生活费用"
           ],
           "xaxis": "x",
           "y": [
            13.492533641714575
           ],
           "yaxis": "y"
          },
          {
           "alignmentgroup": "True",
           "hovertemplate": "type=%{x}<br>year=2054<br>value=%{y}<extra></extra>",
           "legendgroup": "房租",
           "marker": {
            "color": "#00cc96",
            "pattern": {
             "shape": ""
            }
           },
           "name": "房租",
           "offsetgroup": "房租",
           "orientation": "v",
           "showlegend": true,
           "textposition": "auto",
           "type": "bar",
           "x": [
            "房租"
           ],
           "xaxis": "x",
           "y": [
            0
           ],
           "yaxis": "y"
          },
          {
           "alignmentgroup": "True",
           "hovertemplate": "type=%{x}<br>year=2054<br>value=%{y}<extra></extra>",
           "legendgroup": "其他费用",
           "marker": {
            "color": "#ab63fa",
            "pattern": {
             "shape": ""
            }
           },
           "name": "其他费用",
           "offsetgroup": "其他费用",
           "orientation": "v",
           "showlegend": true,
           "textposition": "auto",
           "type": "bar",
           "x": [
            "其他费用"
           ],
           "xaxis": "x",
           "y": [
            6.746266820857287
           ],
           "yaxis": "y"
          },
          {
           "alignmentgroup": "True",
           "hovertemplate": "type=%{x}<br>year=2054<br>value=%{y}<extra></extra>",
           "legendgroup": "剩余",
           "marker": {
            "color": "#FFA15A",
            "pattern": {
             "shape": ""
            }
           },
           "name": "剩余",
           "offsetgroup": "剩余",
           "orientation": "v",
           "showlegend": true,
           "textposition": "auto",
           "type": "bar",
           "x": [
            "剩余"
           ],
           "xaxis": "x",
           "y": [
            40.61252626156087
           ],
           "yaxis": "y"
          }
         ],
         "name": "2054"
        },
        {
         "data": [
          {
           "alignmentgroup": "True",
           "hovertemplate": "type=%{x}<br>year=2055<br>value=%{y}<extra></extra>",
           "legendgroup": "工资",
           "marker": {
            "color": "#636efa",
            "pattern": {
             "shape": ""
            }
           },
           "name": "工资",
           "offsetgroup": "工资",
           "orientation": "v",
           "showlegend": true,
           "textposition": "auto",
           "type": "bar",
           "x": [
            "工资"
           ],
           "xaxis": "x",
           "y": [
            63.285379793098045
           ],
           "yaxis": "y"
          },
          {
           "alignmentgroup": "True",
           "hovertemplate": "type=%{x}<br>year=2055<br>value=%{y}<extra></extra>",
           "legendgroup": "生活费用",
           "marker": {
            "color": "#EF553B",
            "pattern": {
             "shape": ""
            }
           },
           "name": "生活费用",
           "offsetgroup": "生活费用",
           "orientation": "v",
           "showlegend": true,
           "textposition": "auto",
           "type": "bar",
           "x": [
            "生活费用"
           ],
           "xaxis": "x",
           "y": [
            14.032234987383157
           ],
           "yaxis": "y"
          },
          {
           "alignmentgroup": "True",
           "hovertemplate": "type=%{x}<br>year=2055<br>value=%{y}<extra></extra>",
           "legendgroup": "房租",
           "marker": {
            "color": "#00cc96",
            "pattern": {
             "shape": ""
            }
           },
           "name": "房租",
           "offsetgroup": "房租",
           "orientation": "v",
           "showlegend": true,
           "textposition": "auto",
           "type": "bar",
           "x": [
            "房租"
           ],
           "xaxis": "x",
           "y": [
            0
           ],
           "yaxis": "y"
          },
          {
           "alignmentgroup": "True",
           "hovertemplate": "type=%{x}<br>year=2055<br>value=%{y}<extra></extra>",
           "legendgroup": "其他费用",
           "marker": {
            "color": "#ab63fa",
            "pattern": {
             "shape": ""
            }
           },
           "name": "其他费用",
           "offsetgroup": "其他费用",
           "orientation": "v",
           "showlegend": true,
           "textposition": "auto",
           "type": "bar",
           "x": [
            "其他费用"
           ],
           "xaxis": "x",
           "y": [
            7.016117493691579
           ],
           "yaxis": "y"
          },
          {
           "alignmentgroup": "True",
           "hovertemplate": "type=%{x}<br>year=2055<br>value=%{y}<extra></extra>",
           "legendgroup": "剩余",
           "marker": {
            "color": "#FFA15A",
            "pattern": {
             "shape": ""
            }
           },
           "name": "剩余",
           "offsetgroup": "剩余",
           "orientation": "v",
           "showlegend": true,
           "textposition": "auto",
           "type": "bar",
           "x": [
            "剩余"
           ],
           "xaxis": "x",
           "y": [
            42.23702731202331
           ],
           "yaxis": "y"
          }
         ],
         "name": "2055"
        },
        {
         "data": [
          {
           "alignmentgroup": "True",
           "hovertemplate": "type=%{x}<br>year=2056<br>value=%{y}<extra></extra>",
           "legendgroup": "工资",
           "marker": {
            "color": "#636efa",
            "pattern": {
             "shape": ""
            }
           },
           "name": "工资",
           "offsetgroup": "工资",
           "orientation": "v",
           "showlegend": true,
           "textposition": "auto",
           "type": "bar",
           "x": [
            "工资"
           ],
           "xaxis": "x",
           "y": [
            65.81679498482197
           ],
           "yaxis": "y"
          },
          {
           "alignmentgroup": "True",
           "hovertemplate": "type=%{x}<br>year=2056<br>value=%{y}<extra></extra>",
           "legendgroup": "生活费用",
           "marker": {
            "color": "#EF553B",
            "pattern": {
             "shape": ""
            }
           },
           "name": "生活费用",
           "offsetgroup": "生活费用",
           "orientation": "v",
           "showlegend": true,
           "textposition": "auto",
           "type": "bar",
           "x": [
            "生活费用"
           ],
           "xaxis": "x",
           "y": [
            14.593524386878483
           ],
           "yaxis": "y"
          },
          {
           "alignmentgroup": "True",
           "hovertemplate": "type=%{x}<br>year=2056<br>value=%{y}<extra></extra>",
           "legendgroup": "房租",
           "marker": {
            "color": "#00cc96",
            "pattern": {
             "shape": ""
            }
           },
           "name": "房租",
           "offsetgroup": "房租",
           "orientation": "v",
           "showlegend": true,
           "textposition": "auto",
           "type": "bar",
           "x": [
            "房租"
           ],
           "xaxis": "x",
           "y": [
            0
           ],
           "yaxis": "y"
          },
          {
           "alignmentgroup": "True",
           "hovertemplate": "type=%{x}<br>year=2056<br>value=%{y}<extra></extra>",
           "legendgroup": "其他费用",
           "marker": {
            "color": "#ab63fa",
            "pattern": {
             "shape": ""
            }
           },
           "name": "其他费用",
           "offsetgroup": "其他费用",
           "orientation": "v",
           "showlegend": true,
           "textposition": "auto",
           "type": "bar",
           "x": [
            "其他费用"
           ],
           "xaxis": "x",
           "y": [
            7.296762193439242
           ],
           "yaxis": "y"
          },
          {
           "alignmentgroup": "True",
           "hovertemplate": "type=%{x}<br>year=2056<br>value=%{y}<extra></extra>",
           "legendgroup": "剩余",
           "marker": {
            "color": "#FFA15A",
            "pattern": {
             "shape": ""
            }
           },
           "name": "剩余",
           "offsetgroup": "剩余",
           "orientation": "v",
           "showlegend": true,
           "textposition": "auto",
           "type": "bar",
           "x": [
            "剩余"
           ],
           "xaxis": "x",
           "y": [
            43.92650840450424
           ],
           "yaxis": "y"
          }
         ],
         "name": "2056"
        },
        {
         "data": [
          {
           "alignmentgroup": "True",
           "hovertemplate": "type=%{x}<br>year=2057<br>value=%{y}<extra></extra>",
           "legendgroup": "工资",
           "marker": {
            "color": "#636efa",
            "pattern": {
             "shape": ""
            }
           },
           "name": "工资",
           "offsetgroup": "工资",
           "orientation": "v",
           "showlegend": true,
           "textposition": "auto",
           "type": "bar",
           "x": [
            "工资"
           ],
           "xaxis": "x",
           "y": [
            68.44946678421485
           ],
           "yaxis": "y"
          },
          {
           "alignmentgroup": "True",
           "hovertemplate": "type=%{x}<br>year=2057<br>value=%{y}<extra></extra>",
           "legendgroup": "生活费用",
           "marker": {
            "color": "#EF553B",
            "pattern": {
             "shape": ""
            }
           },
           "name": "生活费用",
           "offsetgroup": "生活费用",
           "orientation": "v",
           "showlegend": true,
           "textposition": "auto",
           "type": "bar",
           "x": [
            "生活费用"
           ],
           "xaxis": "x",
           "y": [
            15.177265362353623
           ],
           "yaxis": "y"
          },
          {
           "alignmentgroup": "True",
           "hovertemplate": "type=%{x}<br>year=2057<br>value=%{y}<extra></extra>",
           "legendgroup": "房租",
           "marker": {
            "color": "#00cc96",
            "pattern": {
             "shape": ""
            }
           },
           "name": "房租",
           "offsetgroup": "房租",
           "orientation": "v",
           "showlegend": true,
           "textposition": "auto",
           "type": "bar",
           "x": [
            "房租"
           ],
           "xaxis": "x",
           "y": [
            0
           ],
           "yaxis": "y"
          },
          {
           "alignmentgroup": "True",
           "hovertemplate": "type=%{x}<br>year=2057<br>value=%{y}<extra></extra>",
           "legendgroup": "其他费用",
           "marker": {
            "color": "#ab63fa",
            "pattern": {
             "shape": ""
            }
           },
           "name": "其他费用",
           "offsetgroup": "其他费用",
           "orientation": "v",
           "showlegend": true,
           "textposition": "auto",
           "type": "bar",
           "x": [
            "其他费用"
           ],
           "xaxis": "x",
           "y": [
            7.5886326811768114
           ],
           "yaxis": "y"
          },
          {
           "alignmentgroup": "True",
           "hovertemplate": "type=%{x}<br>year=2057<br>value=%{y}<extra></extra>",
           "legendgroup": "剩余",
           "marker": {
            "color": "#FFA15A",
            "pattern": {
             "shape": ""
            }
           },
           "name": "剩余",
           "offsetgroup": "剩余",
           "orientation": "v",
           "showlegend": true,
           "textposition": "auto",
           "type": "bar",
           "x": [
            "剩余"
           ],
           "xaxis": "x",
           "y": [
            45.683568740684414
           ],
           "yaxis": "y"
          }
         ],
         "name": "2057"
        },
        {
         "data": [
          {
           "alignmentgroup": "True",
           "hovertemplate": "type=%{x}<br>year=2058<br>value=%{y}<extra></extra>",
           "legendgroup": "工资",
           "marker": {
            "color": "#636efa",
            "pattern": {
             "shape": ""
            }
           },
           "name": "工资",
           "offsetgroup": "工资",
           "orientation": "v",
           "showlegend": true,
           "textposition": "auto",
           "type": "bar",
           "x": [
            "工资"
           ],
           "xaxis": "x",
           "y": [
            71.18744545558344
           ],
           "yaxis": "y"
          },
          {
           "alignmentgroup": "True",
           "hovertemplate": "type=%{x}<br>year=2058<br>value=%{y}<extra></extra>",
           "legendgroup": "生活费用",
           "marker": {
            "color": "#EF553B",
            "pattern": {
             "shape": ""
            }
           },
           "name": "生活费用",
           "offsetgroup": "生活费用",
           "orientation": "v",
           "showlegend": true,
           "textposition": "auto",
           "type": "bar",
           "x": [
            "生活费用"
           ],
           "xaxis": "x",
           "y": [
            15.784355976847769
           ],
           "yaxis": "y"
          },
          {
           "alignmentgroup": "True",
           "hovertemplate": "type=%{x}<br>year=2058<br>value=%{y}<extra></extra>",
           "legendgroup": "房租",
           "marker": {
            "color": "#00cc96",
            "pattern": {
             "shape": ""
            }
           },
           "name": "房租",
           "offsetgroup": "房租",
           "orientation": "v",
           "showlegend": true,
           "textposition": "auto",
           "type": "bar",
           "x": [
            "房租"
           ],
           "xaxis": "x",
           "y": [
            0
           ],
           "yaxis": "y"
          },
          {
           "alignmentgroup": "True",
           "hovertemplate": "type=%{x}<br>year=2058<br>value=%{y}<extra></extra>",
           "legendgroup": "其他费用",
           "marker": {
            "color": "#ab63fa",
            "pattern": {
             "shape": ""
            }
           },
           "name": "其他费用",
           "offsetgroup": "其他费用",
           "orientation": "v",
           "showlegend": true,
           "textposition": "auto",
           "type": "bar",
           "x": [
            "其他费用"
           ],
           "xaxis": "x",
           "y": [
            7.892177988423884
           ],
           "yaxis": "y"
          },
          {
           "alignmentgroup": "True",
           "hovertemplate": "type=%{x}<br>year=2058<br>value=%{y}<extra></extra>",
           "legendgroup": "剩余",
           "marker": {
            "color": "#FFA15A",
            "pattern": {
             "shape": ""
            }
           },
           "name": "剩余",
           "offsetgroup": "剩余",
           "orientation": "v",
           "showlegend": true,
           "textposition": "auto",
           "type": "bar",
           "x": [
            "剩余"
           ],
           "xaxis": "x",
           "y": [
            47.51091149031179
           ],
           "yaxis": "y"
          }
         ],
         "name": "2058"
        },
        {
         "data": [
          {
           "alignmentgroup": "True",
           "hovertemplate": "type=%{x}<br>year=2059<br>value=%{y}<extra></extra>",
           "legendgroup": "工资",
           "marker": {
            "color": "#636efa",
            "pattern": {
             "shape": ""
            }
           },
           "name": "工资",
           "offsetgroup": "工资",
           "orientation": "v",
           "showlegend": true,
           "textposition": "auto",
           "type": "bar",
           "x": [
            "工资"
           ],
           "xaxis": "x",
           "y": [
            74.03494327380679
           ],
           "yaxis": "y"
          },
          {
           "alignmentgroup": "True",
           "hovertemplate": "type=%{x}<br>year=2059<br>value=%{y}<extra></extra>",
           "legendgroup": "生活费用",
           "marker": {
            "color": "#EF553B",
            "pattern": {
             "shape": ""
            }
           },
           "name": "生活费用",
           "offsetgroup": "生活费用",
           "orientation": "v",
           "showlegend": true,
           "textposition": "auto",
           "type": "bar",
           "x": [
            "生活费用"
           ],
           "xaxis": "x",
           "y": [
            16.41573021592168
           ],
           "yaxis": "y"
          },
          {
           "alignmentgroup": "True",
           "hovertemplate": "type=%{x}<br>year=2059<br>value=%{y}<extra></extra>",
           "legendgroup": "房租",
           "marker": {
            "color": "#00cc96",
            "pattern": {
             "shape": ""
            }
           },
           "name": "房租",
           "offsetgroup": "房租",
           "orientation": "v",
           "showlegend": true,
           "textposition": "auto",
           "type": "bar",
           "x": [
            "房租"
           ],
           "xaxis": "x",
           "y": [
            0
           ],
           "yaxis": "y"
          },
          {
           "alignmentgroup": "True",
           "hovertemplate": "type=%{x}<br>year=2059<br>value=%{y}<extra></extra>",
           "legendgroup": "其他费用",
           "marker": {
            "color": "#ab63fa",
            "pattern": {
             "shape": ""
            }
           },
           "name": "其他费用",
           "offsetgroup": "其他费用",
           "orientation": "v",
           "showlegend": true,
           "textposition": "auto",
           "type": "bar",
           "x": [
            "其他费用"
           ],
           "xaxis": "x",
           "y": [
            8.20786510796084
           ],
           "yaxis": "y"
          },
          {
           "alignmentgroup": "True",
           "hovertemplate": "type=%{x}<br>year=2059<br>value=%{y}<extra></extra>",
           "legendgroup": "剩余",
           "marker": {
            "color": "#FFA15A",
            "pattern": {
             "shape": ""
            }
           },
           "name": "剩余",
           "offsetgroup": "剩余",
           "orientation": "v",
           "showlegend": true,
           "textposition": "auto",
           "type": "bar",
           "x": [
            "剩余"
           ],
           "xaxis": "x",
           "y": [
            49.41134794992426
           ],
           "yaxis": "y"
          }
         ],
         "name": "2059"
        },
        {
         "data": [
          {
           "alignmentgroup": "True",
           "hovertemplate": "type=%{x}<br>year=2060<br>value=%{y}<extra></extra>",
           "legendgroup": "工资",
           "marker": {
            "color": "#636efa",
            "pattern": {
             "shape": ""
            }
           },
           "name": "工资",
           "offsetgroup": "工资",
           "orientation": "v",
           "showlegend": true,
           "textposition": "auto",
           "type": "bar",
           "x": [
            "工资"
           ],
           "xaxis": "x",
           "y": [
            76.99634100475906
           ],
           "yaxis": "y"
          },
          {
           "alignmentgroup": "True",
           "hovertemplate": "type=%{x}<br>year=2060<br>value=%{y}<extra></extra>",
           "legendgroup": "生活费用",
           "marker": {
            "color": "#EF553B",
            "pattern": {
             "shape": ""
            }
           },
           "name": "生活费用",
           "offsetgroup": "生活费用",
           "orientation": "v",
           "showlegend": true,
           "textposition": "auto",
           "type": "bar",
           "x": [
            "生活费用"
           ],
           "xaxis": "x",
           "y": [
            17.07235942455855
           ],
           "yaxis": "y"
          },
          {
           "alignmentgroup": "True",
           "hovertemplate": "type=%{x}<br>year=2060<br>value=%{y}<extra></extra>",
           "legendgroup": "房租",
           "marker": {
            "color": "#00cc96",
            "pattern": {
             "shape": ""
            }
           },
           "name": "房租",
           "offsetgroup": "房租",
           "orientation": "v",
           "showlegend": true,
           "textposition": "auto",
           "type": "bar",
           "x": [
            "房租"
           ],
           "xaxis": "x",
           "y": [
            0
           ],
           "yaxis": "y"
          },
          {
           "alignmentgroup": "True",
           "hovertemplate": "type=%{x}<br>year=2060<br>value=%{y}<extra></extra>",
           "legendgroup": "其他费用",
           "marker": {
            "color": "#ab63fa",
            "pattern": {
             "shape": ""
            }
           },
           "name": "其他费用",
           "offsetgroup": "其他费用",
           "orientation": "v",
           "showlegend": true,
           "textposition": "auto",
           "type": "bar",
           "x": [
            "其他费用"
           ],
           "xaxis": "x",
           "y": [
            8.536179712279274
           ],
           "yaxis": "y"
          },
          {
           "alignmentgroup": "True",
           "hovertemplate": "type=%{x}<br>year=2060<br>value=%{y}<extra></extra>",
           "legendgroup": "剩余",
           "marker": {
            "color": "#FFA15A",
            "pattern": {
             "shape": ""
            }
           },
           "name": "剩余",
           "offsetgroup": "剩余",
           "orientation": "v",
           "showlegend": true,
           "textposition": "auto",
           "type": "bar",
           "x": [
            "剩余"
           ],
           "xaxis": "x",
           "y": [
            51.38780186792124
           ],
           "yaxis": "y"
          }
         ],
         "name": "2060"
        },
        {
         "data": [
          {
           "alignmentgroup": "True",
           "hovertemplate": "type=%{x}<br>year=2061<br>value=%{y}<extra></extra>",
           "legendgroup": "工资",
           "marker": {
            "color": "#636efa",
            "pattern": {
             "shape": ""
            }
           },
           "name": "工资",
           "offsetgroup": "工资",
           "orientation": "v",
           "showlegend": true,
           "textposition": "auto",
           "type": "bar",
           "x": [
            "工资"
           ],
           "xaxis": "x",
           "y": [
            80.07619464494942
           ],
           "yaxis": "y"
          },
          {
           "alignmentgroup": "True",
           "hovertemplate": "type=%{x}<br>year=2061<br>value=%{y}<extra></extra>",
           "legendgroup": "生活费用",
           "marker": {
            "color": "#EF553B",
            "pattern": {
             "shape": ""
            }
           },
           "name": "生活费用",
           "offsetgroup": "生活费用",
           "orientation": "v",
           "showlegend": true,
           "textposition": "auto",
           "type": "bar",
           "x": [
            "生活费用"
           ],
           "xaxis": "x",
           "y": [
            17.755253801540892
           ],
           "yaxis": "y"
          },
          {
           "alignmentgroup": "True",
           "hovertemplate": "type=%{x}<br>year=2061<br>value=%{y}<extra></extra>",
           "legendgroup": "房租",
           "marker": {
            "color": "#00cc96",
            "pattern": {
             "shape": ""
            }
           },
           "name": "房租",
           "offsetgroup": "房租",
           "orientation": "v",
           "showlegend": true,
           "textposition": "auto",
           "type": "bar",
           "x": [
            "房租"
           ],
           "xaxis": "x",
           "y": [
            0
           ],
           "yaxis": "y"
          },
          {
           "alignmentgroup": "True",
           "hovertemplate": "type=%{x}<br>year=2061<br>value=%{y}<extra></extra>",
           "legendgroup": "其他费用",
           "marker": {
            "color": "#ab63fa",
            "pattern": {
             "shape": ""
            }
           },
           "name": "其他费用",
           "offsetgroup": "其他费用",
           "orientation": "v",
           "showlegend": true,
           "textposition": "auto",
           "type": "bar",
           "x": [
            "其他费用"
           ],
           "xaxis": "x",
           "y": [
            8.877626900770446
           ],
           "yaxis": "y"
          },
          {
           "alignmentgroup": "True",
           "hovertemplate": "type=%{x}<br>year=2061<br>value=%{y}<extra></extra>",
           "legendgroup": "剩余",
           "marker": {
            "color": "#FFA15A",
            "pattern": {
             "shape": ""
            }
           },
           "name": "剩余",
           "offsetgroup": "剩余",
           "orientation": "v",
           "showlegend": true,
           "textposition": "auto",
           "type": "bar",
           "x": [
            "剩余"
           ],
           "xaxis": "x",
           "y": [
            53.44331394263809
           ],
           "yaxis": "y"
          }
         ],
         "name": "2061"
        },
        {
         "data": [
          {
           "alignmentgroup": "True",
           "hovertemplate": "type=%{x}<br>year=2062<br>value=%{y}<extra></extra>",
           "legendgroup": "工资",
           "marker": {
            "color": "#636efa",
            "pattern": {
             "shape": ""
            }
           },
           "name": "工资",
           "offsetgroup": "工资",
           "orientation": "v",
           "showlegend": true,
           "textposition": "auto",
           "type": "bar",
           "x": [
            "工资"
           ],
           "xaxis": "x",
           "y": [
            83.2792424307474
           ],
           "yaxis": "y"
          },
          {
           "alignmentgroup": "True",
           "hovertemplate": "type=%{x}<br>year=2062<br>value=%{y}<extra></extra>",
           "legendgroup": "生活费用",
           "marker": {
            "color": "#EF553B",
            "pattern": {
             "shape": ""
            }
           },
           "name": "生活费用",
           "offsetgroup": "生活费用",
           "orientation": "v",
           "showlegend": true,
           "textposition": "auto",
           "type": "bar",
           "x": [
            "生活费用"
           ],
           "xaxis": "x",
           "y": [
            18.46546395360253
           ],
           "yaxis": "y"
          },
          {
           "alignmentgroup": "True",
           "hovertemplate": "type=%{x}<br>year=2062<br>value=%{y}<extra></extra>",
           "legendgroup": "房租",
           "marker": {
            "color": "#00cc96",
            "pattern": {
             "shape": ""
            }
           },
           "name": "房租",
           "offsetgroup": "房租",
           "orientation": "v",
           "showlegend": true,
           "textposition": "auto",
           "type": "bar",
           "x": [
            "房租"
           ],
           "xaxis": "x",
           "y": [
            0
           ],
           "yaxis": "y"
          },
          {
           "alignmentgroup": "True",
           "hovertemplate": "type=%{x}<br>year=2062<br>value=%{y}<extra></extra>",
           "legendgroup": "其他费用",
           "marker": {
            "color": "#ab63fa",
            "pattern": {
             "shape": ""
            }
           },
           "name": "其他费用",
           "offsetgroup": "其他费用",
           "orientation": "v",
           "showlegend": true,
           "textposition": "auto",
           "type": "bar",
           "x": [
            "其他费用"
           ],
           "xaxis": "x",
           "y": [
            9.232731976801265
           ],
           "yaxis": "y"
          },
          {
           "alignmentgroup": "True",
           "hovertemplate": "type=%{x}<br>year=2062<br>value=%{y}<extra></extra>",
           "legendgroup": "剩余",
           "marker": {
            "color": "#FFA15A",
            "pattern": {
             "shape": ""
            }
           },
           "name": "剩余",
           "offsetgroup": "剩余",
           "orientation": "v",
           "showlegend": true,
           "textposition": "auto",
           "type": "bar",
           "x": [
            "剩余"
           ],
           "xaxis": "x",
           "y": [
            55.581046500343604
           ],
           "yaxis": "y"
          }
         ],
         "name": "2062"
        }
       ],
       "layout": {
        "barmode": "relative",
        "height": 600,
        "legend": {
         "title": {
          "text": "费用类型"
         },
         "tracegroupgap": 0
        },
        "margin": {
         "t": 60
        },
        "plot_bgcolor": "white",
        "sliders": [
         {
          "active": 0,
          "currentvalue": {
           "prefix": "year="
          },
          "len": 0.9,
          "pad": {
           "b": 10,
           "t": 60
          },
          "steps": [
           {
            "args": [
             [
              "2023"
             ],
             {
              "frame": {
               "duration": 0,
               "redraw": true
              },
              "fromcurrent": true,
              "mode": "immediate",
              "transition": {
               "duration": 0,
               "easing": "linear"
              }
             }
            ],
            "label": "2023",
            "method": "animate"
           },
           {
            "args": [
             [
              "2024"
             ],
             {
              "frame": {
               "duration": 0,
               "redraw": true
              },
              "fromcurrent": true,
              "mode": "immediate",
              "transition": {
               "duration": 0,
               "easing": "linear"
              }
             }
            ],
            "label": "2024",
            "method": "animate"
           },
           {
            "args": [
             [
              "2025"
             ],
             {
              "frame": {
               "duration": 0,
               "redraw": true
              },
              "fromcurrent": true,
              "mode": "immediate",
              "transition": {
               "duration": 0,
               "easing": "linear"
              }
             }
            ],
            "label": "2025",
            "method": "animate"
           },
           {
            "args": [
             [
              "2026"
             ],
             {
              "frame": {
               "duration": 0,
               "redraw": true
              },
              "fromcurrent": true,
              "mode": "immediate",
              "transition": {
               "duration": 0,
               "easing": "linear"
              }
             }
            ],
            "label": "2026",
            "method": "animate"
           },
           {
            "args": [
             [
              "2027"
             ],
             {
              "frame": {
               "duration": 0,
               "redraw": true
              },
              "fromcurrent": true,
              "mode": "immediate",
              "transition": {
               "duration": 0,
               "easing": "linear"
              }
             }
            ],
            "label": "2027",
            "method": "animate"
           },
           {
            "args": [
             [
              "2028"
             ],
             {
              "frame": {
               "duration": 0,
               "redraw": true
              },
              "fromcurrent": true,
              "mode": "immediate",
              "transition": {
               "duration": 0,
               "easing": "linear"
              }
             }
            ],
            "label": "2028",
            "method": "animate"
           },
           {
            "args": [
             [
              "2029"
             ],
             {
              "frame": {
               "duration": 0,
               "redraw": true
              },
              "fromcurrent": true,
              "mode": "immediate",
              "transition": {
               "duration": 0,
               "easing": "linear"
              }
             }
            ],
            "label": "2029",
            "method": "animate"
           },
           {
            "args": [
             [
              "2030"
             ],
             {
              "frame": {
               "duration": 0,
               "redraw": true
              },
              "fromcurrent": true,
              "mode": "immediate",
              "transition": {
               "duration": 0,
               "easing": "linear"
              }
             }
            ],
            "label": "2030",
            "method": "animate"
           },
           {
            "args": [
             [
              "2031"
             ],
             {
              "frame": {
               "duration": 0,
               "redraw": true
              },
              "fromcurrent": true,
              "mode": "immediate",
              "transition": {
               "duration": 0,
               "easing": "linear"
              }
             }
            ],
            "label": "2031",
            "method": "animate"
           },
           {
            "args": [
             [
              "2032"
             ],
             {
              "frame": {
               "duration": 0,
               "redraw": true
              },
              "fromcurrent": true,
              "mode": "immediate",
              "transition": {
               "duration": 0,
               "easing": "linear"
              }
             }
            ],
            "label": "2032",
            "method": "animate"
           },
           {
            "args": [
             [
              "2033"
             ],
             {
              "frame": {
               "duration": 0,
               "redraw": true
              },
              "fromcurrent": true,
              "mode": "immediate",
              "transition": {
               "duration": 0,
               "easing": "linear"
              }
             }
            ],
            "label": "2033",
            "method": "animate"
           },
           {
            "args": [
             [
              "2034"
             ],
             {
              "frame": {
               "duration": 0,
               "redraw": true
              },
              "fromcurrent": true,
              "mode": "immediate",
              "transition": {
               "duration": 0,
               "easing": "linear"
              }
             }
            ],
            "label": "2034",
            "method": "animate"
           },
           {
            "args": [
             [
              "2035"
             ],
             {
              "frame": {
               "duration": 0,
               "redraw": true
              },
              "fromcurrent": true,
              "mode": "immediate",
              "transition": {
               "duration": 0,
               "easing": "linear"
              }
             }
            ],
            "label": "2035",
            "method": "animate"
           },
           {
            "args": [
             [
              "2036"
             ],
             {
              "frame": {
               "duration": 0,
               "redraw": true
              },
              "fromcurrent": true,
              "mode": "immediate",
              "transition": {
               "duration": 0,
               "easing": "linear"
              }
             }
            ],
            "label": "2036",
            "method": "animate"
           },
           {
            "args": [
             [
              "2037"
             ],
             {
              "frame": {
               "duration": 0,
               "redraw": true
              },
              "fromcurrent": true,
              "mode": "immediate",
              "transition": {
               "duration": 0,
               "easing": "linear"
              }
             }
            ],
            "label": "2037",
            "method": "animate"
           },
           {
            "args": [
             [
              "2038"
             ],
             {
              "frame": {
               "duration": 0,
               "redraw": true
              },
              "fromcurrent": true,
              "mode": "immediate",
              "transition": {
               "duration": 0,
               "easing": "linear"
              }
             }
            ],
            "label": "2038",
            "method": "animate"
           },
           {
            "args": [
             [
              "2039"
             ],
             {
              "frame": {
               "duration": 0,
               "redraw": true
              },
              "fromcurrent": true,
              "mode": "immediate",
              "transition": {
               "duration": 0,
               "easing": "linear"
              }
             }
            ],
            "label": "2039",
            "method": "animate"
           },
           {
            "args": [
             [
              "2040"
             ],
             {
              "frame": {
               "duration": 0,
               "redraw": true
              },
              "fromcurrent": true,
              "mode": "immediate",
              "transition": {
               "duration": 0,
               "easing": "linear"
              }
             }
            ],
            "label": "2040",
            "method": "animate"
           },
           {
            "args": [
             [
              "2041"
             ],
             {
              "frame": {
               "duration": 0,
               "redraw": true
              },
              "fromcurrent": true,
              "mode": "immediate",
              "transition": {
               "duration": 0,
               "easing": "linear"
              }
             }
            ],
            "label": "2041",
            "method": "animate"
           },
           {
            "args": [
             [
              "2042"
             ],
             {
              "frame": {
               "duration": 0,
               "redraw": true
              },
              "fromcurrent": true,
              "mode": "immediate",
              "transition": {
               "duration": 0,
               "easing": "linear"
              }
             }
            ],
            "label": "2042",
            "method": "animate"
           },
           {
            "args": [
             [
              "2043"
             ],
             {
              "frame": {
               "duration": 0,
               "redraw": true
              },
              "fromcurrent": true,
              "mode": "immediate",
              "transition": {
               "duration": 0,
               "easing": "linear"
              }
             }
            ],
            "label": "2043",
            "method": "animate"
           },
           {
            "args": [
             [
              "2044"
             ],
             {
              "frame": {
               "duration": 0,
               "redraw": true
              },
              "fromcurrent": true,
              "mode": "immediate",
              "transition": {
               "duration": 0,
               "easing": "linear"
              }
             }
            ],
            "label": "2044",
            "method": "animate"
           },
           {
            "args": [
             [
              "2045"
             ],
             {
              "frame": {
               "duration": 0,
               "redraw": true
              },
              "fromcurrent": true,
              "mode": "immediate",
              "transition": {
               "duration": 0,
               "easing": "linear"
              }
             }
            ],
            "label": "2045",
            "method": "animate"
           },
           {
            "args": [
             [
              "2046"
             ],
             {
              "frame": {
               "duration": 0,
               "redraw": true
              },
              "fromcurrent": true,
              "mode": "immediate",
              "transition": {
               "duration": 0,
               "easing": "linear"
              }
             }
            ],
            "label": "2046",
            "method": "animate"
           },
           {
            "args": [
             [
              "2047"
             ],
             {
              "frame": {
               "duration": 0,
               "redraw": true
              },
              "fromcurrent": true,
              "mode": "immediate",
              "transition": {
               "duration": 0,
               "easing": "linear"
              }
             }
            ],
            "label": "2047",
            "method": "animate"
           },
           {
            "args": [
             [
              "2048"
             ],
             {
              "frame": {
               "duration": 0,
               "redraw": true
              },
              "fromcurrent": true,
              "mode": "immediate",
              "transition": {
               "duration": 0,
               "easing": "linear"
              }
             }
            ],
            "label": "2048",
            "method": "animate"
           },
           {
            "args": [
             [
              "2049"
             ],
             {
              "frame": {
               "duration": 0,
               "redraw": true
              },
              "fromcurrent": true,
              "mode": "immediate",
              "transition": {
               "duration": 0,
               "easing": "linear"
              }
             }
            ],
            "label": "2049",
            "method": "animate"
           },
           {
            "args": [
             [
              "2050"
             ],
             {
              "frame": {
               "duration": 0,
               "redraw": true
              },
              "fromcurrent": true,
              "mode": "immediate",
              "transition": {
               "duration": 0,
               "easing": "linear"
              }
             }
            ],
            "label": "2050",
            "method": "animate"
           },
           {
            "args": [
             [
              "2051"
             ],
             {
              "frame": {
               "duration": 0,
               "redraw": true
              },
              "fromcurrent": true,
              "mode": "immediate",
              "transition": {
               "duration": 0,
               "easing": "linear"
              }
             }
            ],
            "label": "2051",
            "method": "animate"
           },
           {
            "args": [
             [
              "2052"
             ],
             {
              "frame": {
               "duration": 0,
               "redraw": true
              },
              "fromcurrent": true,
              "mode": "immediate",
              "transition": {
               "duration": 0,
               "easing": "linear"
              }
             }
            ],
            "label": "2052",
            "method": "animate"
           },
           {
            "args": [
             [
              "2053"
             ],
             {
              "frame": {
               "duration": 0,
               "redraw": true
              },
              "fromcurrent": true,
              "mode": "immediate",
              "transition": {
               "duration": 0,
               "easing": "linear"
              }
             }
            ],
            "label": "2053",
            "method": "animate"
           },
           {
            "args": [
             [
              "2054"
             ],
             {
              "frame": {
               "duration": 0,
               "redraw": true
              },
              "fromcurrent": true,
              "mode": "immediate",
              "transition": {
               "duration": 0,
               "easing": "linear"
              }
             }
            ],
            "label": "2054",
            "method": "animate"
           },
           {
            "args": [
             [
              "2055"
             ],
             {
              "frame": {
               "duration": 0,
               "redraw": true
              },
              "fromcurrent": true,
              "mode": "immediate",
              "transition": {
               "duration": 0,
               "easing": "linear"
              }
             }
            ],
            "label": "2055",
            "method": "animate"
           },
           {
            "args": [
             [
              "2056"
             ],
             {
              "frame": {
               "duration": 0,
               "redraw": true
              },
              "fromcurrent": true,
              "mode": "immediate",
              "transition": {
               "duration": 0,
               "easing": "linear"
              }
             }
            ],
            "label": "2056",
            "method": "animate"
           },
           {
            "args": [
             [
              "2057"
             ],
             {
              "frame": {
               "duration": 0,
               "redraw": true
              },
              "fromcurrent": true,
              "mode": "immediate",
              "transition": {
               "duration": 0,
               "easing": "linear"
              }
             }
            ],
            "label": "2057",
            "method": "animate"
           },
           {
            "args": [
             [
              "2058"
             ],
             {
              "frame": {
               "duration": 0,
               "redraw": true
              },
              "fromcurrent": true,
              "mode": "immediate",
              "transition": {
               "duration": 0,
               "easing": "linear"
              }
             }
            ],
            "label": "2058",
            "method": "animate"
           },
           {
            "args": [
             [
              "2059"
             ],
             {
              "frame": {
               "duration": 0,
               "redraw": true
              },
              "fromcurrent": true,
              "mode": "immediate",
              "transition": {
               "duration": 0,
               "easing": "linear"
              }
             }
            ],
            "label": "2059",
            "method": "animate"
           },
           {
            "args": [
             [
              "2060"
             ],
             {
              "frame": {
               "duration": 0,
               "redraw": true
              },
              "fromcurrent": true,
              "mode": "immediate",
              "transition": {
               "duration": 0,
               "easing": "linear"
              }
             }
            ],
            "label": "2060",
            "method": "animate"
           },
           {
            "args": [
             [
              "2061"
             ],
             {
              "frame": {
               "duration": 0,
               "redraw": true
              },
              "fromcurrent": true,
              "mode": "immediate",
              "transition": {
               "duration": 0,
               "easing": "linear"
              }
             }
            ],
            "label": "2061",
            "method": "animate"
           },
           {
            "args": [
             [
              "2062"
             ],
             {
              "frame": {
               "duration": 0,
               "redraw": true
              },
              "fromcurrent": true,
              "mode": "immediate",
              "transition": {
               "duration": 0,
               "easing": "linear"
              }
             }
            ],
            "label": "2062",
            "method": "animate"
           }
          ],
          "x": 0.1,
          "xanchor": "left",
          "y": 0,
          "yanchor": "top"
         }
        ],
        "template": {
         "data": {
          "bar": [
           {
            "error_x": {
             "color": "#2a3f5f"
            },
            "error_y": {
             "color": "#2a3f5f"
            },
            "marker": {
             "line": {
              "color": "#E5ECF6",
              "width": 0.5
             },
             "pattern": {
              "fillmode": "overlay",
              "size": 10,
              "solidity": 0.2
             }
            },
            "type": "bar"
           }
          ],
          "barpolar": [
           {
            "marker": {
             "line": {
              "color": "#E5ECF6",
              "width": 0.5
             },
             "pattern": {
              "fillmode": "overlay",
              "size": 10,
              "solidity": 0.2
             }
            },
            "type": "barpolar"
           }
          ],
          "carpet": [
           {
            "aaxis": {
             "endlinecolor": "#2a3f5f",
             "gridcolor": "white",
             "linecolor": "white",
             "minorgridcolor": "white",
             "startlinecolor": "#2a3f5f"
            },
            "baxis": {
             "endlinecolor": "#2a3f5f",
             "gridcolor": "white",
             "linecolor": "white",
             "minorgridcolor": "white",
             "startlinecolor": "#2a3f5f"
            },
            "type": "carpet"
           }
          ],
          "choropleth": [
           {
            "colorbar": {
             "outlinewidth": 0,
             "ticks": ""
            },
            "type": "choropleth"
           }
          ],
          "contour": [
           {
            "colorbar": {
             "outlinewidth": 0,
             "ticks": ""
            },
            "colorscale": [
             [
              0,
              "#0d0887"
             ],
             [
              0.1111111111111111,
              "#46039f"
             ],
             [
              0.2222222222222222,
              "#7201a8"
             ],
             [
              0.3333333333333333,
              "#9c179e"
             ],
             [
              0.4444444444444444,
              "#bd3786"
             ],
             [
              0.5555555555555556,
              "#d8576b"
             ],
             [
              0.6666666666666666,
              "#ed7953"
             ],
             [
              0.7777777777777778,
              "#fb9f3a"
             ],
             [
              0.8888888888888888,
              "#fdca26"
             ],
             [
              1,
              "#f0f921"
             ]
            ],
            "type": "contour"
           }
          ],
          "contourcarpet": [
           {
            "colorbar": {
             "outlinewidth": 0,
             "ticks": ""
            },
            "type": "contourcarpet"
           }
          ],
          "heatmap": [
           {
            "colorbar": {
             "outlinewidth": 0,
             "ticks": ""
            },
            "colorscale": [
             [
              0,
              "#0d0887"
             ],
             [
              0.1111111111111111,
              "#46039f"
             ],
             [
              0.2222222222222222,
              "#7201a8"
             ],
             [
              0.3333333333333333,
              "#9c179e"
             ],
             [
              0.4444444444444444,
              "#bd3786"
             ],
             [
              0.5555555555555556,
              "#d8576b"
             ],
             [
              0.6666666666666666,
              "#ed7953"
             ],
             [
              0.7777777777777778,
              "#fb9f3a"
             ],
             [
              0.8888888888888888,
              "#fdca26"
             ],
             [
              1,
              "#f0f921"
             ]
            ],
            "type": "heatmap"
           }
          ],
          "heatmapgl": [
           {
            "colorbar": {
             "outlinewidth": 0,
             "ticks": ""
            },
            "colorscale": [
             [
              0,
              "#0d0887"
             ],
             [
              0.1111111111111111,
              "#46039f"
             ],
             [
              0.2222222222222222,
              "#7201a8"
             ],
             [
              0.3333333333333333,
              "#9c179e"
             ],
             [
              0.4444444444444444,
              "#bd3786"
             ],
             [
              0.5555555555555556,
              "#d8576b"
             ],
             [
              0.6666666666666666,
              "#ed7953"
             ],
             [
              0.7777777777777778,
              "#fb9f3a"
             ],
             [
              0.8888888888888888,
              "#fdca26"
             ],
             [
              1,
              "#f0f921"
             ]
            ],
            "type": "heatmapgl"
           }
          ],
          "histogram": [
           {
            "marker": {
             "pattern": {
              "fillmode": "overlay",
              "size": 10,
              "solidity": 0.2
             }
            },
            "type": "histogram"
           }
          ],
          "histogram2d": [
           {
            "colorbar": {
             "outlinewidth": 0,
             "ticks": ""
            },
            "colorscale": [
             [
              0,
              "#0d0887"
             ],
             [
              0.1111111111111111,
              "#46039f"
             ],
             [
              0.2222222222222222,
              "#7201a8"
             ],
             [
              0.3333333333333333,
              "#9c179e"
             ],
             [
              0.4444444444444444,
              "#bd3786"
             ],
             [
              0.5555555555555556,
              "#d8576b"
             ],
             [
              0.6666666666666666,
              "#ed7953"
             ],
             [
              0.7777777777777778,
              "#fb9f3a"
             ],
             [
              0.8888888888888888,
              "#fdca26"
             ],
             [
              1,
              "#f0f921"
             ]
            ],
            "type": "histogram2d"
           }
          ],
          "histogram2dcontour": [
           {
            "colorbar": {
             "outlinewidth": 0,
             "ticks": ""
            },
            "colorscale": [
             [
              0,
              "#0d0887"
             ],
             [
              0.1111111111111111,
              "#46039f"
             ],
             [
              0.2222222222222222,
              "#7201a8"
             ],
             [
              0.3333333333333333,
              "#9c179e"
             ],
             [
              0.4444444444444444,
              "#bd3786"
             ],
             [
              0.5555555555555556,
              "#d8576b"
             ],
             [
              0.6666666666666666,
              "#ed7953"
             ],
             [
              0.7777777777777778,
              "#fb9f3a"
             ],
             [
              0.8888888888888888,
              "#fdca26"
             ],
             [
              1,
              "#f0f921"
             ]
            ],
            "type": "histogram2dcontour"
           }
          ],
          "mesh3d": [
           {
            "colorbar": {
             "outlinewidth": 0,
             "ticks": ""
            },
            "type": "mesh3d"
           }
          ],
          "parcoords": [
           {
            "line": {
             "colorbar": {
              "outlinewidth": 0,
              "ticks": ""
             }
            },
            "type": "parcoords"
           }
          ],
          "pie": [
           {
            "automargin": true,
            "type": "pie"
           }
          ],
          "scatter": [
           {
            "fillpattern": {
             "fillmode": "overlay",
             "size": 10,
             "solidity": 0.2
            },
            "type": "scatter"
           }
          ],
          "scatter3d": [
           {
            "line": {
             "colorbar": {
              "outlinewidth": 0,
              "ticks": ""
             }
            },
            "marker": {
             "colorbar": {
              "outlinewidth": 0,
              "ticks": ""
             }
            },
            "type": "scatter3d"
           }
          ],
          "scattercarpet": [
           {
            "marker": {
             "colorbar": {
              "outlinewidth": 0,
              "ticks": ""
             }
            },
            "type": "scattercarpet"
           }
          ],
          "scattergeo": [
           {
            "marker": {
             "colorbar": {
              "outlinewidth": 0,
              "ticks": ""
             }
            },
            "type": "scattergeo"
           }
          ],
          "scattergl": [
           {
            "marker": {
             "colorbar": {
              "outlinewidth": 0,
              "ticks": ""
             }
            },
            "type": "scattergl"
           }
          ],
          "scattermapbox": [
           {
            "marker": {
             "colorbar": {
              "outlinewidth": 0,
              "ticks": ""
             }
            },
            "type": "scattermapbox"
           }
          ],
          "scatterpolar": [
           {
            "marker": {
             "colorbar": {
              "outlinewidth": 0,
              "ticks": ""
             }
            },
            "type": "scatterpolar"
           }
          ],
          "scatterpolargl": [
           {
            "marker": {
             "colorbar": {
              "outlinewidth": 0,
              "ticks": ""
             }
            },
            "type": "scatterpolargl"
           }
          ],
          "scatterternary": [
           {
            "marker": {
             "colorbar": {
              "outlinewidth": 0,
              "ticks": ""
             }
            },
            "type": "scatterternary"
           }
          ],
          "surface": [
           {
            "colorbar": {
             "outlinewidth": 0,
             "ticks": ""
            },
            "colorscale": [
             [
              0,
              "#0d0887"
             ],
             [
              0.1111111111111111,
              "#46039f"
             ],
             [
              0.2222222222222222,
              "#7201a8"
             ],
             [
              0.3333333333333333,
              "#9c179e"
             ],
             [
              0.4444444444444444,
              "#bd3786"
             ],
             [
              0.5555555555555556,
              "#d8576b"
             ],
             [
              0.6666666666666666,
              "#ed7953"
             ],
             [
              0.7777777777777778,
              "#fb9f3a"
             ],
             [
              0.8888888888888888,
              "#fdca26"
             ],
             [
              1,
              "#f0f921"
             ]
            ],
            "type": "surface"
           }
          ],
          "table": [
           {
            "cells": {
             "fill": {
              "color": "#EBF0F8"
             },
             "line": {
              "color": "white"
             }
            },
            "header": {
             "fill": {
              "color": "#C8D4E3"
             },
             "line": {
              "color": "white"
             }
            },
            "type": "table"
           }
          ]
         },
         "layout": {
          "annotationdefaults": {
           "arrowcolor": "#2a3f5f",
           "arrowhead": 0,
           "arrowwidth": 1
          },
          "autotypenumbers": "strict",
          "coloraxis": {
           "colorbar": {
            "outlinewidth": 0,
            "ticks": ""
           }
          },
          "colorscale": {
           "diverging": [
            [
             0,
             "#8e0152"
            ],
            [
             0.1,
             "#c51b7d"
            ],
            [
             0.2,
             "#de77ae"
            ],
            [
             0.3,
             "#f1b6da"
            ],
            [
             0.4,
             "#fde0ef"
            ],
            [
             0.5,
             "#f7f7f7"
            ],
            [
             0.6,
             "#e6f5d0"
            ],
            [
             0.7,
             "#b8e186"
            ],
            [
             0.8,
             "#7fbc41"
            ],
            [
             0.9,
             "#4d9221"
            ],
            [
             1,
             "#276419"
            ]
           ],
           "sequential": [
            [
             0,
             "#0d0887"
            ],
            [
             0.1111111111111111,
             "#46039f"
            ],
            [
             0.2222222222222222,
             "#7201a8"
            ],
            [
             0.3333333333333333,
             "#9c179e"
            ],
            [
             0.4444444444444444,
             "#bd3786"
            ],
            [
             0.5555555555555556,
             "#d8576b"
            ],
            [
             0.6666666666666666,
             "#ed7953"
            ],
            [
             0.7777777777777778,
             "#fb9f3a"
            ],
            [
             0.8888888888888888,
             "#fdca26"
            ],
            [
             1,
             "#f0f921"
            ]
           ],
           "sequentialminus": [
            [
             0,
             "#0d0887"
            ],
            [
             0.1111111111111111,
             "#46039f"
            ],
            [
             0.2222222222222222,
             "#7201a8"
            ],
            [
             0.3333333333333333,
             "#9c179e"
            ],
            [
             0.4444444444444444,
             "#bd3786"
            ],
            [
             0.5555555555555556,
             "#d8576b"
            ],
            [
             0.6666666666666666,
             "#ed7953"
            ],
            [
             0.7777777777777778,
             "#fb9f3a"
            ],
            [
             0.8888888888888888,
             "#fdca26"
            ],
            [
             1,
             "#f0f921"
            ]
           ]
          },
          "colorway": [
           "#636efa",
           "#EF553B",
           "#00cc96",
           "#ab63fa",
           "#FFA15A",
           "#19d3f3",
           "#FF6692",
           "#B6E880",
           "#FF97FF",
           "#FECB52"
          ],
          "font": {
           "color": "#2a3f5f"
          },
          "geo": {
           "bgcolor": "white",
           "lakecolor": "white",
           "landcolor": "#E5ECF6",
           "showlakes": true,
           "showland": true,
           "subunitcolor": "white"
          },
          "hoverlabel": {
           "align": "left"
          },
          "hovermode": "closest",
          "mapbox": {
           "style": "light"
          },
          "paper_bgcolor": "white",
          "plot_bgcolor": "#E5ECF6",
          "polar": {
           "angularaxis": {
            "gridcolor": "white",
            "linecolor": "white",
            "ticks": ""
           },
           "bgcolor": "#E5ECF6",
           "radialaxis": {
            "gridcolor": "white",
            "linecolor": "white",
            "ticks": ""
           }
          },
          "scene": {
           "xaxis": {
            "backgroundcolor": "#E5ECF6",
            "gridcolor": "white",
            "gridwidth": 2,
            "linecolor": "white",
            "showbackground": true,
            "ticks": "",
            "zerolinecolor": "white"
           },
           "yaxis": {
            "backgroundcolor": "#E5ECF6",
            "gridcolor": "white",
            "gridwidth": 2,
            "linecolor": "white",
            "showbackground": true,
            "ticks": "",
            "zerolinecolor": "white"
           },
           "zaxis": {
            "backgroundcolor": "#E5ECF6",
            "gridcolor": "white",
            "gridwidth": 2,
            "linecolor": "white",
            "showbackground": true,
            "ticks": "",
            "zerolinecolor": "white"
           }
          },
          "shapedefaults": {
           "line": {
            "color": "#2a3f5f"
           }
          },
          "ternary": {
           "aaxis": {
            "gridcolor": "white",
            "linecolor": "white",
            "ticks": ""
           },
           "baxis": {
            "gridcolor": "white",
            "linecolor": "white",
            "ticks": ""
           },
           "bgcolor": "#E5ECF6",
           "caxis": {
            "gridcolor": "white",
            "linecolor": "white",
            "ticks": ""
           }
          },
          "title": {
           "x": 0.05
          },
          "xaxis": {
           "automargin": true,
           "gridcolor": "white",
           "linecolor": "white",
           "ticks": "",
           "title": {
            "standoff": 15
           },
           "zerolinecolor": "white",
           "zerolinewidth": 2
          },
          "yaxis": {
           "automargin": true,
           "gridcolor": "white",
           "linecolor": "white",
           "ticks": "",
           "title": {
            "standoff": 15
           },
           "zerolinecolor": "white",
           "zerolinewidth": 2
          }
         }
        },
        "title": {
         "text": "我的工资都花在哪了？"
        },
        "updatemenus": [
         {
          "buttons": [
           {
            "args": [
             null,
             {
              "frame": {
               "duration": 500,
               "redraw": true
              },
              "fromcurrent": true,
              "mode": "immediate",
              "transition": {
               "duration": 500,
               "easing": "linear"
              }
             }
            ],
            "label": "&#9654;",
            "method": "animate"
           },
           {
            "args": [
             [
              null
             ],
             {
              "frame": {
               "duration": 0,
               "redraw": true
              },
              "fromcurrent": true,
              "mode": "immediate",
              "transition": {
               "duration": 0,
               "easing": "linear"
              }
             }
            ],
            "label": "&#9724;",
            "method": "animate"
           }
          ],
          "direction": "left",
          "pad": {
           "r": 10,
           "t": 70
          },
          "showactive": false,
          "type": "buttons",
          "x": 0.1,
          "xanchor": "right",
          "y": 0,
          "yanchor": "top"
         }
        ],
        "width": 800,
        "xaxis": {
         "anchor": "y",
         "categoryarray": [
          "工资",
          "生活费用",
          "房租",
          "其他费用",
          "剩余"
         ],
         "categoryorder": "array",
         "domain": [
          0,
          1
         ],
         "linecolor": "rgb(204, 204, 204)",
         "linewidth": 2,
         "showticklabels": true,
         "tickfont": {
          "family": "Arial",
          "size": 12
         },
         "title": {
          "text": "费用类型"
         }
        },
        "yaxis": {
         "anchor": "x",
         "domain": [
          0,
          1
         ],
         "gridcolor": "rgb(204, 204, 204)",
         "range": [
          0,
          100
         ],
         "tickfont": {
          "family": "Arial",
          "size": 12
         },
         "title": {
          "text": "费用(万元)"
         },
         "zeroline": false
        }
       }
      }
     },
     "metadata": {},
     "output_type": "display_data"
    }
   ],
   "source": [
    "fig = px.bar(df_money, x=\"type\", y=\"value\", color=\"type\", animation_frame=\"year\", range_y=[0, 100])\n",
    "\n",
    "fig.update_layout(\n",
    "    title='我的工资都花在哪了？',\n",
    "    xaxis_title='费用类型',\n",
    "    yaxis_title='费用(万元)',\n",
    "    legend_title='费用类型',\n",
    "    plot_bgcolor='white',\n",
    "    xaxis=dict(\n",
    "        showticklabels=True,\n",
    "        linecolor='rgb(204, 204, 204)',\n",
    "        linewidth=2,\n",
    "        tickfont=dict(\n",
    "            family='Arial',\n",
    "            size=12,\n",
    "            )\n",
    "        ), \n",
    "    yaxis=dict(\n",
    "        zeroline=False,\n",
    "        gridcolor='rgb(204, 204, 204)',\n",
    "        tickfont=dict(\n",
    "            family='Arial',\n",
    "            size=12,\n",
    "            ),\n",
    "        ),\n",
    "    height=600,  # 设置高度\n",
    "    width=800    # 设置宽度\n",
    ")\n",
    "fig.show()\n"
   ]
  },
  {
   "cell_type": "code",
   "execution_count": null,
   "metadata": {},
   "outputs": [],
   "source": []
  },
  {
   "cell_type": "code",
   "execution_count": 235,
   "metadata": {},
   "outputs": [
    {
     "data": {
      "application/vnd.plotly.v1+json": {
       "config": {
        "plotlyServerURL": "https://plot.ly"
       },
       "data": [
        {
         "hoverinfo": "text",
         "hovertext": [
          "生活费用：4.0万元<br>占比：22.17%",
          "生活费用：4.16万元<br>占比：22.17%",
          "生活费用：4.3264万元<br>占比：22.17%",
          "生活费用：4.4995万元<br>占比：22.17%",
          "生活费用：4.6794万元<br>占比：22.17%",
          "生活费用：4.8666万元<br>占比：22.17%",
          "生活费用：5.0613万元<br>占比：22.17%",
          "生活费用：5.2637万元<br>占比：22.17%",
          "生活费用：5.4743万元<br>占比：22.17%",
          "生活费用：5.6932万元<br>占比：22.17%",
          "生活费用：5.921万元<br>占比：22.17%",
          "生活费用：6.1578万元<br>占比：22.17%",
          "生活费用：6.4041万元<br>占比：22.17%",
          "生活费用：6.6603万元<br>占比：22.17%",
          "生活费用：6.9267万元<br>占比：22.17%",
          "生活费用：7.2038万元<br>占比：22.17%",
          "生活费用：7.4919万元<br>占比：22.17%",
          "生活费用：7.7916万元<br>占比：22.17%",
          "生活费用：8.1033万元<br>占比：22.17%",
          "生活费用：8.4274万元<br>占比：22.17%",
          "生活费用：8.7645万元<br>占比：22.17%",
          "生活费用：9.1151万元<br>占比：22.17%",
          "生活费用：9.4797万元<br>占比：22.17%",
          "生活费用：9.8589万元<br>占比：22.17%",
          "生活费用：10.2532万元<br>占比：22.17%",
          "生活费用：10.6633万元<br>占比：22.17%",
          "生活费用：11.0899万元<br>占比：22.17%",
          "生活费用：11.5335万元<br>占比：22.17%",
          "生活费用：11.9948万元<br>占比：22.17%",
          "生活费用：12.4746万元<br>占比：22.17%",
          "生活费用：12.9736万元<br>占比：22.17%",
          "生活费用：13.4925万元<br>占比：22.17%",
          "生活费用：14.0322万元<br>占比：22.17%",
          "生活费用：14.5935万元<br>占比：22.17%",
          "生活费用：15.1773万元<br>占比：22.17%",
          "生活费用：15.7844万元<br>占比：22.17%",
          "生活费用：16.4157万元<br>占比：22.17%",
          "生活费用：17.0724万元<br>占比：22.17%",
          "生活费用：17.7553万元<br>占比：22.17%",
          "生活费用：18.4655万元<br>占比：22.17%"
         ],
         "line": {
          "color": "#AED6F1",
          "width": 0.5
         },
         "name": "生活费用",
         "stackgroup": "one",
         "type": "scatter",
         "x": [
          2023,
          2024,
          2025,
          2026,
          2027,
          2028,
          2029,
          2030,
          2031,
          2032,
          2033,
          2034,
          2035,
          2036,
          2037,
          2038,
          2039,
          2040,
          2041,
          2042,
          2043,
          2044,
          2045,
          2046,
          2047,
          2048,
          2049,
          2050,
          2051,
          2052,
          2053,
          2054,
          2055,
          2056,
          2057,
          2058,
          2059,
          2060,
          2061,
          2062
         ],
         "y": [
          4,
          4.16,
          4.3264000000000005,
          4.499456,
          4.679434240000001,
          4.866611609600001,
          5.0612760739840015,
          5.263727116943362,
          5.474276201621096,
          5.693247249685941,
          5.920977139673378,
          6.157816225260314,
          6.404128874270727,
          6.660294029241556,
          6.926705790411218,
          7.203774022027667,
          7.491924982908774,
          7.791601982225125,
          8.10326606151413,
          8.427396703974695,
          8.764492572133683,
          9.115072275019031,
          9.479675166019792,
          9.858862172660585,
          10.25321665956701,
          10.66334532594969,
          11.089879138987678,
          11.533474304547186,
          11.994813276729074,
          12.474605807798238,
          12.973590040110167,
          13.492533641714575,
          14.032234987383157,
          14.593524386878483,
          15.177265362353623,
          15.784355976847769,
          16.41573021592168,
          17.07235942455855,
          17.755253801540892,
          18.46546395360253
         ]
        },
        {
         "hoverinfo": "text",
         "hovertext": [
          "房租：6.0万元<br>占比：33.26%",
          "房租：6.24万元<br>占比：33.26%",
          "房租：6.4896万元<br>占比：33.26%",
          "房租：6.7492万元<br>占比：33.26%",
          "房租：7.0192万元<br>占比：33.26%",
          "房租：7.2999万元<br>占比：33.26%",
          "房租：7.5919万元<br>占比：33.26%",
          "房租：7.8956万元<br>占比：33.26%",
          "房租：8.2114万元<br>占比：33.26%",
          "房租：8.5399万元<br>占比：33.26%",
          "房租：8.8815万元<br>占比：33.26%",
          "房租：9.2367万元<br>占比：33.26%",
          "房租：9.6062万元<br>占比：33.26%",
          "房租：9.9904万元<br>占比：33.26%",
          "房租：10.3901万元<br>占比：33.26%",
          "房租：0.0万元<br>占比：0.0%",
          "房租：0.0万元<br>占比：0.0%",
          "房租：0.0万元<br>占比：0.0%",
          "房租：0.0万元<br>占比：0.0%",
          "房租：0.0万元<br>占比：0.0%",
          "房租：0.0万元<br>占比：0.0%",
          "房租：0.0万元<br>占比：0.0%",
          "房租：0.0万元<br>占比：0.0%",
          "房租：0.0万元<br>占比：0.0%",
          "房租：0.0万元<br>占比：0.0%",
          "房租：0.0万元<br>占比：0.0%",
          "房租：0.0万元<br>占比：0.0%",
          "房租：0.0万元<br>占比：0.0%",
          "房租：0.0万元<br>占比：0.0%",
          "房租：0.0万元<br>占比：0.0%",
          "房租：0.0万元<br>占比：0.0%",
          "房租：0.0万元<br>占比：0.0%",
          "房租：0.0万元<br>占比：0.0%",
          "房租：0.0万元<br>占比：0.0%",
          "房租：0.0万元<br>占比：0.0%",
          "房租：0.0万元<br>占比：0.0%",
          "房租：0.0万元<br>占比：0.0%",
          "房租：0.0万元<br>占比：0.0%",
          "房租：0.0万元<br>占比：0.0%",
          "房租：0.0万元<br>占比：0.0%"
         ],
         "line": {
          "color": "#4CAFED",
          "width": 0.5
         },
         "name": "房租",
         "stackgroup": "one",
         "type": "scatter",
         "x": [
          2023,
          2024,
          2025,
          2026,
          2027,
          2028,
          2029,
          2030,
          2031,
          2032,
          2033,
          2034,
          2035,
          2036,
          2037,
          2038,
          2039,
          2040,
          2041,
          2042,
          2043,
          2044,
          2045,
          2046,
          2047,
          2048,
          2049,
          2050,
          2051,
          2052,
          2053,
          2054,
          2055,
          2056,
          2057,
          2058,
          2059,
          2060,
          2061,
          2062
         ],
         "y": [
          6,
          6.24,
          6.4896,
          6.7491840000000005,
          7.01915136,
          7.2999174144,
          7.591914110976001,
          7.895590675415042,
          8.211414302431644,
          8.53987087452891,
          8.881465709510067,
          9.23672433789047,
          9.60619331140609,
          9.990441043862333,
          10.390058685616827,
          0,
          0,
          0,
          0,
          0,
          0,
          0,
          0,
          0,
          0,
          0,
          0,
          0,
          0,
          0,
          0,
          0,
          0,
          0,
          0,
          0,
          0,
          0,
          0,
          0
         ]
        },
        {
         "hoverinfo": "text",
         "hovertext": [
          "其他费用：2.0万元<br>占比：11.09%",
          "其他费用：2.08万元<br>占比：11.09%",
          "其他费用：2.1632万元<br>占比：11.09%",
          "其他费用：2.2497万元<br>占比：11.09%",
          "其他费用：2.3397万元<br>占比：11.09%",
          "其他费用：2.4333万元<br>占比：11.09%",
          "其他费用：2.5306万元<br>占比：11.09%",
          "其他费用：2.6319万元<br>占比：11.09%",
          "其他费用：2.7371万元<br>占比：11.09%",
          "其他费用：2.8466万元<br>占比：11.09%",
          "其他费用：2.9605万元<br>占比：11.09%",
          "其他费用：3.0789万元<br>占比：11.09%",
          "其他费用：3.2021万元<br>占比：11.09%",
          "其他费用：3.3301万元<br>占比：11.09%",
          "其他费用：3.4634万元<br>占比：11.09%",
          "其他费用：3.6019万元<br>占比：11.09%",
          "其他费用：3.746万元<br>占比：11.09%",
          "其他费用：3.8958万元<br>占比：11.09%",
          "其他费用：4.0516万元<br>占比：11.09%",
          "其他费用：4.2137万元<br>占比：11.09%",
          "其他费用：4.3822万元<br>占比：11.09%",
          "其他费用：4.5575万元<br>占比：11.09%",
          "其他费用：4.7398万元<br>占比：11.09%",
          "其他费用：4.9294万元<br>占比：11.09%",
          "其他费用：5.1266万元<br>占比：11.09%",
          "其他费用：5.3317万元<br>占比：11.09%",
          "其他费用：5.5449万元<br>占比：11.09%",
          "其他费用：5.7667万元<br>占比：11.09%",
          "其他费用：5.9974万元<br>占比：11.09%",
          "其他费用：6.2373万元<br>占比：11.09%",
          "其他费用：6.4868万元<br>占比：11.09%",
          "其他费用：6.7463万元<br>占比：11.09%",
          "其他费用：7.0161万元<br>占比：11.09%",
          "其他费用：7.2968万元<br>占比：11.09%",
          "其他费用：7.5886万元<br>占比：11.09%",
          "其他费用：7.8922万元<br>占比：11.09%",
          "其他费用：8.2079万元<br>占比：11.09%",
          "其他费用：8.5362万元<br>占比：11.09%",
          "其他费用：8.8776万元<br>占比：11.09%",
          "其他费用：9.2327万元<br>占比：11.09%"
         ],
         "line": {
          "color": "#0074CC",
          "width": 0.5
         },
         "name": "其他费用",
         "stackgroup": "one",
         "type": "scatter",
         "x": [
          2023,
          2024,
          2025,
          2026,
          2027,
          2028,
          2029,
          2030,
          2031,
          2032,
          2033,
          2034,
          2035,
          2036,
          2037,
          2038,
          2039,
          2040,
          2041,
          2042,
          2043,
          2044,
          2045,
          2046,
          2047,
          2048,
          2049,
          2050,
          2051,
          2052,
          2053,
          2054,
          2055,
          2056,
          2057,
          2058,
          2059,
          2060,
          2061,
          2062
         ],
         "y": [
          2,
          2.08,
          2.1632000000000002,
          2.249728,
          2.3397171200000004,
          2.4333058048000007,
          2.5306380369920007,
          2.631863558471681,
          2.737138100810548,
          2.8466236248429704,
          2.960488569836689,
          3.078908112630157,
          3.2020644371353635,
          3.330147014620778,
          3.463352895205609,
          3.6018870110138335,
          3.745962491454387,
          3.8958009911125626,
          4.051633030757065,
          4.213698351987348,
          4.382246286066842,
          4.557536137509516,
          4.739837583009896,
          4.929431086330292,
          5.126608329783505,
          5.331672662974845,
          5.544939569493839,
          5.766737152273593,
          5.997406638364537,
          6.237302903899119,
          6.486795020055084,
          6.746266820857287,
          7.016117493691579,
          7.296762193439242,
          7.5886326811768114,
          7.892177988423884,
          8.20786510796084,
          8.536179712279274,
          8.877626900770446,
          9.232731976801265
         ]
        },
        {
         "hoverinfo": "text",
         "hovertext": [
          "剩余：6.04万元<br>占比：33.48%",
          "剩余：6.2816万元<br>占比：33.48%",
          "剩余：6.5329万元<br>占比：33.48%",
          "剩余：6.7942万元<br>占比：33.48%",
          "剩余：7.0659万元<br>占比：33.48%",
          "剩余：7.3486万元<br>占比：33.48%",
          "剩余：7.6425万元<br>占比：33.48%",
          "剩余：7.9482万元<br>占比：33.48%",
          "剩余：8.2662万元<br>占比：33.48%",
          "剩余：8.5968万元<br>占比：33.48%",
          "剩余：8.9407万元<br>占比：33.48%",
          "剩余：9.2983万元<br>占比：33.48%",
          "剩余：9.6702万元<br>占比：33.48%",
          "剩余：10.057万元<br>占比：33.48%",
          "剩余：10.4593万元<br>占比：33.48%",
          "剩余：21.6834万元<br>占比：66.74%",
          "剩余：22.5507万元<br>占比：66.74%",
          "剩余：23.4527万元<br>占比：66.74%",
          "剩余：24.3908万元<br>占比：66.74%",
          "剩余：25.3665万元<br>占比：66.74%",
          "剩余：26.3811万元<br>占比：66.74%",
          "剩余：27.4364万元<br>占比：66.74%",
          "剩余：28.5338万元<br>占比：66.74%",
          "剩余：29.6752万元<br>占比：66.74%",
          "剩余：30.8622万元<br>占比：66.74%",
          "剩余：32.0967万元<br>占比：66.74%",
          "剩余：33.3805万元<br>占比：66.74%",
          "剩余：34.7158万元<br>占比：66.74%",
          "剩余：36.1044万元<br>占比：66.74%",
          "剩余：37.5486万元<br>占比：66.74%",
          "剩余：39.0505万元<br>占比：66.74%",
          "剩余：40.6125万元<br>占比：66.74%",
          "剩余：42.237万元<br>占比：66.74%",
          "剩余：43.9265万元<br>占比：66.74%",
          "剩余：45.6836万元<br>占比：66.74%",
          "剩余：47.5109万元<br>占比：66.74%",
          "剩余：49.4113万元<br>占比：66.74%",
          "剩余：51.3878万元<br>占比：66.74%",
          "剩余：53.4433万元<br>占比：66.74%",
          "剩余：55.581万元<br>占比：66.74%"
         ],
         "line": {
          "color": "#001F3F",
          "width": 0.5
         },
         "name": "剩余",
         "stackgroup": "one",
         "type": "scatter",
         "x": [
          2023,
          2024,
          2025,
          2026,
          2027,
          2028,
          2029,
          2030,
          2031,
          2032,
          2033,
          2034,
          2035,
          2036,
          2037,
          2038,
          2039,
          2040,
          2041,
          2042,
          2043,
          2044,
          2045,
          2046,
          2047,
          2048,
          2049,
          2050,
          2051,
          2052,
          2053,
          2054,
          2055,
          2056,
          2057,
          2058,
          2059,
          2060,
          2061,
          2062
         ],
         "y": [
          6.039999999999999,
          6.281600000000001,
          6.532864000000003,
          6.7941785600000015,
          7.065945702399999,
          7.348583530496,
          7.642526871715841,
          7.948227946584474,
          8.266157064447851,
          8.596803347025768,
          8.940675480906798,
          9.298302500143071,
          9.670234600148794,
          10.057043984154745,
          10.459325743520933,
          21.683359806303276,
          22.550694198555405,
          23.452721966497624,
          24.39083084515753,
          25.366464078963837,
          26.38112264212239,
          27.436367547807286,
          28.533822249719584,
          29.67517513970836,
          30.862182145296696,
          32.09666943110856,
          33.38053620835291,
          34.71575765668703,
          36.10438796295451,
          37.5485634814727,
          39.0505060207316,
          40.61252626156087,
          42.23702731202331,
          43.92650840450424,
          45.683568740684414,
          47.51091149031179,
          49.41134794992426,
          51.38780186792124,
          53.44331394263809,
          55.581046500343604
         ]
        }
       ],
       "layout": {
        "height": 600,
        "hovermode": "x",
        "legend": {
         "title": {
          "text": "费用类型"
         },
         "x": 0.1,
         "xanchor": "left",
         "y": 0.99,
         "yanchor": "top"
        },
        "plot_bgcolor": "white",
        "template": {
         "data": {
          "bar": [
           {
            "error_x": {
             "color": "#2a3f5f"
            },
            "error_y": {
             "color": "#2a3f5f"
            },
            "marker": {
             "line": {
              "color": "#E5ECF6",
              "width": 0.5
             },
             "pattern": {
              "fillmode": "overlay",
              "size": 10,
              "solidity": 0.2
             }
            },
            "type": "bar"
           }
          ],
          "barpolar": [
           {
            "marker": {
             "line": {
              "color": "#E5ECF6",
              "width": 0.5
             },
             "pattern": {
              "fillmode": "overlay",
              "size": 10,
              "solidity": 0.2
             }
            },
            "type": "barpolar"
           }
          ],
          "carpet": [
           {
            "aaxis": {
             "endlinecolor": "#2a3f5f",
             "gridcolor": "white",
             "linecolor": "white",
             "minorgridcolor": "white",
             "startlinecolor": "#2a3f5f"
            },
            "baxis": {
             "endlinecolor": "#2a3f5f",
             "gridcolor": "white",
             "linecolor": "white",
             "minorgridcolor": "white",
             "startlinecolor": "#2a3f5f"
            },
            "type": "carpet"
           }
          ],
          "choropleth": [
           {
            "colorbar": {
             "outlinewidth": 0,
             "ticks": ""
            },
            "type": "choropleth"
           }
          ],
          "contour": [
           {
            "colorbar": {
             "outlinewidth": 0,
             "ticks": ""
            },
            "colorscale": [
             [
              0,
              "#0d0887"
             ],
             [
              0.1111111111111111,
              "#46039f"
             ],
             [
              0.2222222222222222,
              "#7201a8"
             ],
             [
              0.3333333333333333,
              "#9c179e"
             ],
             [
              0.4444444444444444,
              "#bd3786"
             ],
             [
              0.5555555555555556,
              "#d8576b"
             ],
             [
              0.6666666666666666,
              "#ed7953"
             ],
             [
              0.7777777777777778,
              "#fb9f3a"
             ],
             [
              0.8888888888888888,
              "#fdca26"
             ],
             [
              1,
              "#f0f921"
             ]
            ],
            "type": "contour"
           }
          ],
          "contourcarpet": [
           {
            "colorbar": {
             "outlinewidth": 0,
             "ticks": ""
            },
            "type": "contourcarpet"
           }
          ],
          "heatmap": [
           {
            "colorbar": {
             "outlinewidth": 0,
             "ticks": ""
            },
            "colorscale": [
             [
              0,
              "#0d0887"
             ],
             [
              0.1111111111111111,
              "#46039f"
             ],
             [
              0.2222222222222222,
              "#7201a8"
             ],
             [
              0.3333333333333333,
              "#9c179e"
             ],
             [
              0.4444444444444444,
              "#bd3786"
             ],
             [
              0.5555555555555556,
              "#d8576b"
             ],
             [
              0.6666666666666666,
              "#ed7953"
             ],
             [
              0.7777777777777778,
              "#fb9f3a"
             ],
             [
              0.8888888888888888,
              "#fdca26"
             ],
             [
              1,
              "#f0f921"
             ]
            ],
            "type": "heatmap"
           }
          ],
          "heatmapgl": [
           {
            "colorbar": {
             "outlinewidth": 0,
             "ticks": ""
            },
            "colorscale": [
             [
              0,
              "#0d0887"
             ],
             [
              0.1111111111111111,
              "#46039f"
             ],
             [
              0.2222222222222222,
              "#7201a8"
             ],
             [
              0.3333333333333333,
              "#9c179e"
             ],
             [
              0.4444444444444444,
              "#bd3786"
             ],
             [
              0.5555555555555556,
              "#d8576b"
             ],
             [
              0.6666666666666666,
              "#ed7953"
             ],
             [
              0.7777777777777778,
              "#fb9f3a"
             ],
             [
              0.8888888888888888,
              "#fdca26"
             ],
             [
              1,
              "#f0f921"
             ]
            ],
            "type": "heatmapgl"
           }
          ],
          "histogram": [
           {
            "marker": {
             "pattern": {
              "fillmode": "overlay",
              "size": 10,
              "solidity": 0.2
             }
            },
            "type": "histogram"
           }
          ],
          "histogram2d": [
           {
            "colorbar": {
             "outlinewidth": 0,
             "ticks": ""
            },
            "colorscale": [
             [
              0,
              "#0d0887"
             ],
             [
              0.1111111111111111,
              "#46039f"
             ],
             [
              0.2222222222222222,
              "#7201a8"
             ],
             [
              0.3333333333333333,
              "#9c179e"
             ],
             [
              0.4444444444444444,
              "#bd3786"
             ],
             [
              0.5555555555555556,
              "#d8576b"
             ],
             [
              0.6666666666666666,
              "#ed7953"
             ],
             [
              0.7777777777777778,
              "#fb9f3a"
             ],
             [
              0.8888888888888888,
              "#fdca26"
             ],
             [
              1,
              "#f0f921"
             ]
            ],
            "type": "histogram2d"
           }
          ],
          "histogram2dcontour": [
           {
            "colorbar": {
             "outlinewidth": 0,
             "ticks": ""
            },
            "colorscale": [
             [
              0,
              "#0d0887"
             ],
             [
              0.1111111111111111,
              "#46039f"
             ],
             [
              0.2222222222222222,
              "#7201a8"
             ],
             [
              0.3333333333333333,
              "#9c179e"
             ],
             [
              0.4444444444444444,
              "#bd3786"
             ],
             [
              0.5555555555555556,
              "#d8576b"
             ],
             [
              0.6666666666666666,
              "#ed7953"
             ],
             [
              0.7777777777777778,
              "#fb9f3a"
             ],
             [
              0.8888888888888888,
              "#fdca26"
             ],
             [
              1,
              "#f0f921"
             ]
            ],
            "type": "histogram2dcontour"
           }
          ],
          "mesh3d": [
           {
            "colorbar": {
             "outlinewidth": 0,
             "ticks": ""
            },
            "type": "mesh3d"
           }
          ],
          "parcoords": [
           {
            "line": {
             "colorbar": {
              "outlinewidth": 0,
              "ticks": ""
             }
            },
            "type": "parcoords"
           }
          ],
          "pie": [
           {
            "automargin": true,
            "type": "pie"
           }
          ],
          "scatter": [
           {
            "fillpattern": {
             "fillmode": "overlay",
             "size": 10,
             "solidity": 0.2
            },
            "type": "scatter"
           }
          ],
          "scatter3d": [
           {
            "line": {
             "colorbar": {
              "outlinewidth": 0,
              "ticks": ""
             }
            },
            "marker": {
             "colorbar": {
              "outlinewidth": 0,
              "ticks": ""
             }
            },
            "type": "scatter3d"
           }
          ],
          "scattercarpet": [
           {
            "marker": {
             "colorbar": {
              "outlinewidth": 0,
              "ticks": ""
             }
            },
            "type": "scattercarpet"
           }
          ],
          "scattergeo": [
           {
            "marker": {
             "colorbar": {
              "outlinewidth": 0,
              "ticks": ""
             }
            },
            "type": "scattergeo"
           }
          ],
          "scattergl": [
           {
            "marker": {
             "colorbar": {
              "outlinewidth": 0,
              "ticks": ""
             }
            },
            "type": "scattergl"
           }
          ],
          "scattermapbox": [
           {
            "marker": {
             "colorbar": {
              "outlinewidth": 0,
              "ticks": ""
             }
            },
            "type": "scattermapbox"
           }
          ],
          "scatterpolar": [
           {
            "marker": {
             "colorbar": {
              "outlinewidth": 0,
              "ticks": ""
             }
            },
            "type": "scatterpolar"
           }
          ],
          "scatterpolargl": [
           {
            "marker": {
             "colorbar": {
              "outlinewidth": 0,
              "ticks": ""
             }
            },
            "type": "scatterpolargl"
           }
          ],
          "scatterternary": [
           {
            "marker": {
             "colorbar": {
              "outlinewidth": 0,
              "ticks": ""
             }
            },
            "type": "scatterternary"
           }
          ],
          "surface": [
           {
            "colorbar": {
             "outlinewidth": 0,
             "ticks": ""
            },
            "colorscale": [
             [
              0,
              "#0d0887"
             ],
             [
              0.1111111111111111,
              "#46039f"
             ],
             [
              0.2222222222222222,
              "#7201a8"
             ],
             [
              0.3333333333333333,
              "#9c179e"
             ],
             [
              0.4444444444444444,
              "#bd3786"
             ],
             [
              0.5555555555555556,
              "#d8576b"
             ],
             [
              0.6666666666666666,
              "#ed7953"
             ],
             [
              0.7777777777777778,
              "#fb9f3a"
             ],
             [
              0.8888888888888888,
              "#fdca26"
             ],
             [
              1,
              "#f0f921"
             ]
            ],
            "type": "surface"
           }
          ],
          "table": [
           {
            "cells": {
             "fill": {
              "color": "#EBF0F8"
             },
             "line": {
              "color": "white"
             }
            },
            "header": {
             "fill": {
              "color": "#C8D4E3"
             },
             "line": {
              "color": "white"
             }
            },
            "type": "table"
           }
          ]
         },
         "layout": {
          "annotationdefaults": {
           "arrowcolor": "#2a3f5f",
           "arrowhead": 0,
           "arrowwidth": 1
          },
          "autotypenumbers": "strict",
          "coloraxis": {
           "colorbar": {
            "outlinewidth": 0,
            "ticks": ""
           }
          },
          "colorscale": {
           "diverging": [
            [
             0,
             "#8e0152"
            ],
            [
             0.1,
             "#c51b7d"
            ],
            [
             0.2,
             "#de77ae"
            ],
            [
             0.3,
             "#f1b6da"
            ],
            [
             0.4,
             "#fde0ef"
            ],
            [
             0.5,
             "#f7f7f7"
            ],
            [
             0.6,
             "#e6f5d0"
            ],
            [
             0.7,
             "#b8e186"
            ],
            [
             0.8,
             "#7fbc41"
            ],
            [
             0.9,
             "#4d9221"
            ],
            [
             1,
             "#276419"
            ]
           ],
           "sequential": [
            [
             0,
             "#0d0887"
            ],
            [
             0.1111111111111111,
             "#46039f"
            ],
            [
             0.2222222222222222,
             "#7201a8"
            ],
            [
             0.3333333333333333,
             "#9c179e"
            ],
            [
             0.4444444444444444,
             "#bd3786"
            ],
            [
             0.5555555555555556,
             "#d8576b"
            ],
            [
             0.6666666666666666,
             "#ed7953"
            ],
            [
             0.7777777777777778,
             "#fb9f3a"
            ],
            [
             0.8888888888888888,
             "#fdca26"
            ],
            [
             1,
             "#f0f921"
            ]
           ],
           "sequentialminus": [
            [
             0,
             "#0d0887"
            ],
            [
             0.1111111111111111,
             "#46039f"
            ],
            [
             0.2222222222222222,
             "#7201a8"
            ],
            [
             0.3333333333333333,
             "#9c179e"
            ],
            [
             0.4444444444444444,
             "#bd3786"
            ],
            [
             0.5555555555555556,
             "#d8576b"
            ],
            [
             0.6666666666666666,
             "#ed7953"
            ],
            [
             0.7777777777777778,
             "#fb9f3a"
            ],
            [
             0.8888888888888888,
             "#fdca26"
            ],
            [
             1,
             "#f0f921"
            ]
           ]
          },
          "colorway": [
           "#636efa",
           "#EF553B",
           "#00cc96",
           "#ab63fa",
           "#FFA15A",
           "#19d3f3",
           "#FF6692",
           "#B6E880",
           "#FF97FF",
           "#FECB52"
          ],
          "font": {
           "color": "#2a3f5f"
          },
          "geo": {
           "bgcolor": "white",
           "lakecolor": "white",
           "landcolor": "#E5ECF6",
           "showlakes": true,
           "showland": true,
           "subunitcolor": "white"
          },
          "hoverlabel": {
           "align": "left"
          },
          "hovermode": "closest",
          "mapbox": {
           "style": "light"
          },
          "paper_bgcolor": "white",
          "plot_bgcolor": "#E5ECF6",
          "polar": {
           "angularaxis": {
            "gridcolor": "white",
            "linecolor": "white",
            "ticks": ""
           },
           "bgcolor": "#E5ECF6",
           "radialaxis": {
            "gridcolor": "white",
            "linecolor": "white",
            "ticks": ""
           }
          },
          "scene": {
           "xaxis": {
            "backgroundcolor": "#E5ECF6",
            "gridcolor": "white",
            "gridwidth": 2,
            "linecolor": "white",
            "showbackground": true,
            "ticks": "",
            "zerolinecolor": "white"
           },
           "yaxis": {
            "backgroundcolor": "#E5ECF6",
            "gridcolor": "white",
            "gridwidth": 2,
            "linecolor": "white",
            "showbackground": true,
            "ticks": "",
            "zerolinecolor": "white"
           },
           "zaxis": {
            "backgroundcolor": "#E5ECF6",
            "gridcolor": "white",
            "gridwidth": 2,
            "linecolor": "white",
            "showbackground": true,
            "ticks": "",
            "zerolinecolor": "white"
           }
          },
          "shapedefaults": {
           "line": {
            "color": "#2a3f5f"
           }
          },
          "ternary": {
           "aaxis": {
            "gridcolor": "white",
            "linecolor": "white",
            "ticks": ""
           },
           "baxis": {
            "gridcolor": "white",
            "linecolor": "white",
            "ticks": ""
           },
           "bgcolor": "#E5ECF6",
           "caxis": {
            "gridcolor": "white",
            "linecolor": "white",
            "ticks": ""
           }
          },
          "title": {
           "x": 0.05
          },
          "xaxis": {
           "automargin": true,
           "gridcolor": "white",
           "linecolor": "white",
           "ticks": "",
           "title": {
            "standoff": 15
           },
           "zerolinecolor": "white",
           "zerolinewidth": 2
          },
          "yaxis": {
           "automargin": true,
           "gridcolor": "white",
           "linecolor": "white",
           "ticks": "",
           "title": {
            "standoff": 15
           },
           "zerolinecolor": "white",
           "zerolinewidth": 2
          }
         }
        },
        "title": {
         "text": "我的工资都花在哪了？"
        },
        "width": 1000,
        "xaxis": {
         "linecolor": "rgb(204, 204, 204)",
         "linewidth": 2,
         "showticklabels": true,
         "tickfont": {
          "color": "rgb(82, 82, 82)",
          "family": "Arial",
          "size": 12
         },
         "ticks": "outside",
         "title": {
          "text": "年份"
         }
        },
        "yaxis": {
         "linecolor": "rgb(82, 82, 82)",
         "side": "right",
         "tickfont": {
          "color": "rgb(82, 82, 82)",
          "family": "Arial",
          "size": 12
         },
         "title": {
          "text": "费用(万元)"
         }
        }
       }
      }
     },
     "metadata": {},
     "output_type": "display_data"
    }
   ],
   "source": [
    "x = df['year']\n",
    "fig = go.Figure()\n",
    "\n",
    "fig.add_trace(go.Scatter(\n",
    "    x=x, \n",
    "    y=df['living_expense'], \n",
    "    name='生活费用', \n",
    "    line=dict(width=0.5, color='#AED6F1'),\n",
    "    hovertext=[f\"生活费用：{round(v1, 4)}万元<br>占比：{round(v2*100, 2)}%\" for v1,v2 in zip(df['living_expense'].to_list(), (df['living_expense']/(df['living_expense']+df['rent']+df['other_expense']+df['rest'])).to_list())],\n",
    "    hoverinfo='text',\n",
    "    stackgroup='one'))\n",
    "\n",
    "fig.add_trace(go.Scatter(\n",
    "    x=x, \n",
    "    y=df['rent'], \n",
    "    name='房租', \n",
    "    line=dict(width=0.5, color='#4CAFED'),\n",
    "    hovertext=[f\"房租：{round(v1, 4)}万元<br>占比：{round(v2*100, 2)}%\" for v1,v2 in zip(df['rent'].to_list(), (df['rent']/(df['living_expense']+df['rent']+df['other_expense']+df['rest'])).to_list())],\n",
    "    hoverinfo='text',\n",
    "    stackgroup='one'))\n",
    "\n",
    "fig.add_trace(go.Scatter(\n",
    "    x=x, \n",
    "    y=df['other_expense'], \n",
    "    name='其他费用', \n",
    "    line=dict(width=0.5, color='#0074CC'),\n",
    "    hovertext=[f\"其他费用：{round(v1, 4)}万元<br>占比：{round(v2*100, 2)}%\" for v1,v2 in zip(df['other_expense'].to_list(), (df['other_expense']/(df['living_expense']+df['rent']+df['other_expense']+df['rest'])).to_list())],\n",
    "    hoverinfo='text',\n",
    "    stackgroup='one'))\n",
    "\n",
    "fig.add_trace(go.Scatter(\n",
    "    x=x, \n",
    "    y=df['rest'], \n",
    "    name='剩余', \n",
    "    line=dict(width=0.5, color='#001F3F'),\n",
    "    hovertext=[f\"剩余：{round(v1, 4)}万元<br>占比：{round(v2*100, 2)}%\" for v1,v2 in zip(df['rest'].to_list(), (df['rest']/(df['living_expense']+df['rent']+df['other_expense']+df['rest'])).to_list())],\n",
    "    hoverinfo='text',\n",
    "    stackgroup='one'))\n",
    "\n",
    "fig.update_layout(title='我的工资都花在哪了？', \n",
    "                  xaxis_title='年份', \n",
    "                  yaxis_title='费用(万元)', \n",
    "                  yaxis_side=\"right\",\n",
    "                  hovermode='x',\n",
    "                  plot_bgcolor='white',\n",
    "                  legend_title='费用类型',\n",
    "                  legend=dict(\n",
    "                      yanchor=\"top\",\n",
    "                      y=0.99,\n",
    "                      xanchor=\"left\",\n",
    "                      x=0.1\n",
    "                      ),\n",
    "                  xaxis=dict(\n",
    "                        showticklabels=True,\n",
    "                        linecolor='rgb(204, 204, 204)',\n",
    "                        linewidth=2,\n",
    "                        ticks='outside',\n",
    "                        tickfont=dict(\n",
    "                            family='Arial',\n",
    "                            size=12,\n",
    "                            color='rgb(82, 82, 82)',\n",
    "                        ),\n",
    "                    ),\n",
    "                    yaxis=dict(\n",
    "                        linecolor='rgb(82, 82, 82)',\n",
    "                        tickfont=dict(\n",
    "                            family='Arial',\n",
    "                            size=12,\n",
    "                            color='rgb(82, 82, 82)',\n",
    "                            ),\n",
    "                        ),\n",
    "                  height=600,\n",
    "                  width=1000)\n",
    "fig.show()\n"
   ]
  },
  {
   "cell_type": "code",
   "execution_count": null,
   "metadata": {},
   "outputs": [],
   "source": []
  },
  {
   "cell_type": "code",
   "execution_count": 236,
   "metadata": {},
   "outputs": [
    {
     "data": {
      "application/vnd.plotly.v1+json": {
       "config": {
        "plotlyServerURL": "https://plot.ly"
       },
       "data": [
        {
         "cells": {
          "align": "left",
          "values": [
           [
            2023,
            2024,
            2025,
            2026,
            2027,
            2028,
            2029,
            2030,
            2031,
            2032,
            2033,
            2034,
            2035,
            2036,
            2037,
            2038,
            2039,
            2040,
            2041,
            2042,
            2043,
            2044,
            2045,
            2046,
            2047,
            2048,
            2049,
            2050,
            2051,
            2052,
            2053,
            2054,
            2055,
            2056,
            2057,
            2058,
            2059,
            2060,
            2061,
            2062
           ],
           [
            475,
            372.27,
            325.57,
            356.26,
            430.21,
            367.29,
            462.52,
            352.85,
            393.91,
            453.54,
            405.78,
            490.58,
            401.99,
            508.93,
            501.75,
            525.6,
            538.61,
            635.2,
            502.41,
            463.85,
            404.74,
            354.72,
            377.79,
            366.76,
            480.34,
            381.32,
            488.7,
            559.39,
            637.7,
            604.63,
            665.02,
            746.13,
            785.08,
            589.38,
            464.5,
            393.63,
            395.27,
            391.59,
            323.2,
            248.72
           ],
           [
            10.09,
            70.27,
            103.89,
            103.89,
            0,
            204.5,
            0,
            338.82,
            0,
            140.47,
            188.06,
            0,
            467.27,
            0,
            201.26,
            201.26,
            201.26,
            0,
            617.72,
            975.73,
            1584.22,
            1830.32,
            2248.95,
            2464.65,
            0,
            1088.56,
            0,
            771.2,
            0,
            179.74,
            179.74,
            0,
            1155.01,
            2779.19,
            4762.08,
            6487.22,
            7550.59,
            8680.96,
            10176.79,
            11753.68
           ],
           [
            3,
            2.25,
            2.4,
            3.48,
            3.52,
            3.22,
            2.46,
            2.08,
            2.3,
            1.65,
            2.5,
            4.72,
            4.04,
            7.6,
            13.96,
            11.26,
            11.98,
            17.47,
            15.44,
            19.17,
            29.73,
            26.01,
            34.53,
            27.4,
            42.4,
            66.28,
            84.27,
            48.27,
            56.89,
            111.31,
            63.15,
            58.21,
            72.05,
            126.54,
            92.16,
            87.37,
            65.44,
            57.71,
            41.43,
            36.51
           ],
           [
            4476.95,
            15901.16,
            15901.16,
            0,
            2562.88,
            2562.88,
            38711.86,
            97314.26,
            97314.26,
            126834.93,
            126834.93,
            0,
            68442.36,
            0,
            11030.34,
            16371.83,
            16371.83,
            0,
            594.02,
            0,
            6574.2,
            6767.44,
            6767.44,
            6767.44,
            0,
            9663.69,
            0,
            5451.4,
            5451.4,
            0,
            6849.2,
            6849.2,
            6849.2,
            0,
            513.72,
            513.72,
            12612.32,
            19002.32,
            28654.15,
            42503.66
           ]
          ]
         },
         "domain": {
          "x": [
           0,
           0.94
          ],
          "y": [
           0.7333333333333334,
           1
          ]
         },
         "header": {
          "align": "left",
          "font": {
           "size": 10
          },
          "values": [
           "年份",
           "金价",
           "黄金持有量",
           "股价",
           "股票持有量"
          ]
         },
         "type": "table"
        },
        {
         "hovertemplate": "%{x}年<br>%{y:.2f}元/股<br>涨幅： %{text:.2%}",
         "mode": "lines",
         "name": "股价",
         "text": [
          "0.0",
          "-0.24891303247180052",
          "0.06637887289949562",
          "0.44657316525971535",
          "0.012781629097999181",
          "-0.08530651473499762",
          "-0.23557262310010896",
          "-0.15296162569878158",
          "0.10200264579335783",
          "-0.2830431263940292",
          "0.5183171838123499",
          "0.8883749894593438",
          "-0.14429464541545778",
          "0.8792903344855449",
          "0.8379696382946324",
          "-0.19351694624784987",
          "0.0643705483974919",
          "0.45777249155543687",
          "-0.11594922671778352",
          "0.24116190656648517",
          "0.550852494487535",
          "-0.12512689147207845",
          "0.327638475879636",
          "-0.20628842928324764",
          "0.5473797728343444",
          "0.5629960656830015",
          "0.27151107544798836",
          "-0.4272823808819566",
          "0.17872365605599372",
          "0.956624438222649",
          "-0.4327346831307419",
          "-0.07818880941759332",
          "0.2377376515700893",
          "0.7563953264576901",
          "-0.2716626073497832",
          "-0.052019676437085494",
          "-0.2509848437730089",
          "-0.1180924476791636",
          "-0.2821544365142621",
          "-0.1187938705985433"
         ],
         "type": "scatter",
         "x": [
          2023,
          2024,
          2025,
          2026,
          2027,
          2028,
          2029,
          2030,
          2031,
          2032,
          2033,
          2034,
          2035,
          2036,
          2037,
          2038,
          2039,
          2040,
          2041,
          2042,
          2043,
          2044,
          2045,
          2046,
          2047,
          2048,
          2049,
          2050,
          2051,
          2052,
          2053,
          2054,
          2055,
          2056,
          2057,
          2058,
          2059,
          2060,
          2061,
          2062
         ],
         "xaxis": "x",
         "y": [
          2.9999999999999996,
          2.253260902584598,
          2.402829821646664,
          3.4758691406798525,
          3.520296410829203,
          3.2199921931872426,
          2.461450185876251,
          2.0849427638680518,
          2.2976124421103092,
          1.6472890332535868,
          2.5011072458945542,
          4.723028369102818,
          4.0415206652959785,
          7.595190722914323,
          13.959729945773585,
          11.258285636222817,
          11.982987656642086,
          17.46846977250118,
          15.443014210436694,
          19.167280960558934,
          29.725625490226257,
          26.006150375571067,
          34.526765848119794,
          27.404293553080684,
          42.40484953285168,
          66.27861298572684,
          84.27399047668253,
          48.265199179382286,
          56.89133203699223,
          111.31497058661812,
          63.14512206211007,
          58.207880147545076,
          72.04608487669566,
          126.54140676700233,
          92.16483826696897,
          87.37045320144493,
          65.4417936543033,
          57.713612061151856,
          41.42946037083484,
          36.5078944165744
         ],
         "yaxis": "y"
        },
        {
         "hovertemplate": "%{x}年<br>%{y:.2f}股<br>",
         "marker": {
          "color": "#448A63",
          "opacity": 0.5
         },
         "name": "股票持有量",
         "type": "bar",
         "x": [
          2023,
          2024,
          2025,
          2026,
          2027,
          2028,
          2029,
          2030,
          2031,
          2032,
          2033,
          2034,
          2035,
          2036,
          2037,
          2038,
          2039,
          2040,
          2041,
          2042,
          2043,
          2044,
          2045,
          2046,
          2047,
          2048,
          2049,
          2050,
          2051,
          2052,
          2053,
          2054,
          2055,
          2056,
          2057,
          2058,
          2059,
          2060,
          2061,
          2062
         ],
         "xaxis": "x",
         "y": [
          4476.954594872572,
          15901.161687544496,
          15901.161687544496,
          0,
          2562.8846620240897,
          2562.8846620240897,
          38711.856673530274,
          97314.25509035529,
          97314.25509035529,
          126834.93327797425,
          126834.93327797425,
          0,
          68442.3586317989,
          0,
          11030.340429961627,
          16371.832836752776,
          16371.832836752776,
          0,
          594.0162123667636,
          0,
          6574.199600136596,
          6767.4420422260255,
          6767.4420422260255,
          6767.4420422260255,
          0,
          9663.691632691423,
          0,
          5451.3965124317565,
          5451.3965124317565,
          0,
          6849.195427541204,
          6849.195427541204,
          6849.195427541204,
          0,
          513.7201731466429,
          513.7201731466429,
          12612.316307471321,
          19002.320272782006,
          28654.153166236058,
          42503.661443143035
         ],
         "yaxis": "y2"
        },
        {
         "hovertemplate": "%{x}年<br>%{y:.2f}元/克<br>涨幅： %{text:.2%}",
         "mode": "lines",
         "name": "金价",
         "text": [
          "0.0",
          "-0.21627988444198487",
          "-0.12543941161484473",
          "0.09426025629543555",
          "0.20758022022959777",
          "-0.14625780660652132",
          "0.2592858090207928",
          "-0.23711421965067958",
          "0.11635258083947875",
          "0.15139801191877833",
          "-0.1053131444803157",
          "0.20899491295756367",
          "-0.18058789864676472",
          "0.26602072170512114",
          "-0.014109769471788436",
          "0.04754506474474485",
          "0.024745766402121117",
          "0.17933847606806363",
          "-0.20905147445301286",
          "-0.07675941483049364",
          "-0.12742046420538733",
          "-0.12358381930004059",
          "0.06501117490766761",
          "-0.029182296628831428",
          "0.309692971763184",
          "-0.20614620923739024",
          "0.28159271309100076",
          "0.14463618290255864",
          "0.13999491991059654",
          "-0.05185038908862316",
          "0.09987222451159572",
          "0.12197594792492406",
          "0.05220152676626544",
          "-0.2492829229943091",
          "-0.21187740859371207",
          "-0.15258019768091025",
          "0.004186862325394891",
          "-0.009319062580308457",
          "-0.17464463686006804",
          "-0.2304502813374426"
         ],
         "type": "scatter",
         "x": [
          2023,
          2024,
          2025,
          2026,
          2027,
          2028,
          2029,
          2030,
          2031,
          2032,
          2033,
          2034,
          2035,
          2036,
          2037,
          2038,
          2039,
          2040,
          2041,
          2042,
          2043,
          2044,
          2045,
          2046,
          2047,
          2048,
          2049,
          2050,
          2051,
          2052,
          2053,
          2054,
          2055,
          2056,
          2057,
          2058,
          2059,
          2060,
          2061,
          2062
         ],
         "xaxis": "x2",
         "y": [
          475,
          372.2670548900572,
          325.57009456105726,
          356.2584151165117,
          430.2106153850447,
          367.2889543999863,
          462.52176808598784,
          352.85127997482624,
          393.90643705241075,
          453.5430885041552,
          405.7790396964685,
          490.58479477783567,
          401.991117580852,
          508.9290847987585,
          501.7482127347597,
          525.6038639947939,
          538.6103344332613,
          635.2038910050325,
          502.41358101213956,
          463.8486085307549,
          404.74480351074317,
          354.72489485104103,
          377.7859770343061,
          366.7613145902781,
          480.34471603351335,
          381.3234736959939,
          488.70138521933364,
          559.385288156651,
          637.6963867713073,
          604.6315809968058,
          665.0174820009199,
          746.1336197546283,
          785.0829338774599,
          589.3751653275389,
          464.49988260844924,
          393.6263986972925,
          395.27445823627903,
          391.59087082357763,
          323.2016253908761,
          248.71971989082996
         ],
         "yaxis": "y3"
        },
        {
         "hovertemplate": "%{x}年<br>%{y:.2f}克<br>",
         "marker": {
          "color": "#F4D03F",
          "opacity": 0.5
         },
         "name": "黄金持有量",
         "type": "bar",
         "x": [
          2023,
          2024,
          2025,
          2026,
          2027,
          2028,
          2029,
          2030,
          2031,
          2032,
          2033,
          2034,
          2035,
          2036,
          2037,
          2038,
          2039,
          2040,
          2041,
          2042,
          2043,
          2044,
          2045,
          2046,
          2047,
          2048,
          2049,
          2050,
          2051,
          2052,
          2053,
          2054,
          2055,
          2056,
          2057,
          2058,
          2059,
          2060,
          2061,
          2062
         ],
         "xaxis": "x2",
         "y": [
          10.093320889564007,
          70.2734912595316,
          103.89002678064993,
          103.89002678064993,
          0,
          204.5025654678779,
          0,
          338.8201503966919,
          0,
          140.46661329022848,
          188.0562076355996,
          0,
          467.2732364236411,
          0,
          201.2631133504818,
          201.2631133504818,
          201.2631133504818,
          0,
          617.7232569034055,
          975.7346526346339,
          1584.2198786690071,
          1830.317932935034,
          2248.948758169695,
          2464.654140130022,
          0,
          1088.5603505051988,
          0,
          771.2036707470297,
          0,
          179.7407608048932,
          179.7407608048932,
          0,
          1155.0105348752643,
          2779.189788199873,
          4762.07996089219,
          6487.218778090633,
          7550.594515773672,
          8680.955856680866,
          10176.790798627217,
          11753.677920648879
         ],
         "yaxis": "y4"
        }
       ],
       "layout": {
        "annotations": [
         {
          "font": {
           "size": 16
          },
          "showarrow": false,
          "text": " ",
          "x": 0.47,
          "xanchor": "center",
          "xref": "paper",
          "y": 1,
          "yanchor": "bottom",
          "yref": "paper"
         },
         {
          "font": {
           "size": 16
          },
          "showarrow": false,
          "text": "股价走势",
          "x": 0.47,
          "xanchor": "center",
          "xref": "paper",
          "y": 0.6333333333333333,
          "yanchor": "bottom",
          "yref": "paper"
         },
         {
          "font": {
           "size": 16
          },
          "showarrow": false,
          "text": "金价走势",
          "x": 0.47,
          "xanchor": "center",
          "xref": "paper",
          "y": 0.26666666666666666,
          "yanchor": "bottom",
          "yref": "paper"
         }
        ],
        "height": 1100,
        "hovermode": "x",
        "plot_bgcolor": "white",
        "showlegend": false,
        "template": {
         "data": {
          "bar": [
           {
            "error_x": {
             "color": "#2a3f5f"
            },
            "error_y": {
             "color": "#2a3f5f"
            },
            "marker": {
             "line": {
              "color": "#E5ECF6",
              "width": 0.5
             },
             "pattern": {
              "fillmode": "overlay",
              "size": 10,
              "solidity": 0.2
             }
            },
            "type": "bar"
           }
          ],
          "barpolar": [
           {
            "marker": {
             "line": {
              "color": "#E5ECF6",
              "width": 0.5
             },
             "pattern": {
              "fillmode": "overlay",
              "size": 10,
              "solidity": 0.2
             }
            },
            "type": "barpolar"
           }
          ],
          "carpet": [
           {
            "aaxis": {
             "endlinecolor": "#2a3f5f",
             "gridcolor": "white",
             "linecolor": "white",
             "minorgridcolor": "white",
             "startlinecolor": "#2a3f5f"
            },
            "baxis": {
             "endlinecolor": "#2a3f5f",
             "gridcolor": "white",
             "linecolor": "white",
             "minorgridcolor": "white",
             "startlinecolor": "#2a3f5f"
            },
            "type": "carpet"
           }
          ],
          "choropleth": [
           {
            "colorbar": {
             "outlinewidth": 0,
             "ticks": ""
            },
            "type": "choropleth"
           }
          ],
          "contour": [
           {
            "colorbar": {
             "outlinewidth": 0,
             "ticks": ""
            },
            "colorscale": [
             [
              0,
              "#0d0887"
             ],
             [
              0.1111111111111111,
              "#46039f"
             ],
             [
              0.2222222222222222,
              "#7201a8"
             ],
             [
              0.3333333333333333,
              "#9c179e"
             ],
             [
              0.4444444444444444,
              "#bd3786"
             ],
             [
              0.5555555555555556,
              "#d8576b"
             ],
             [
              0.6666666666666666,
              "#ed7953"
             ],
             [
              0.7777777777777778,
              "#fb9f3a"
             ],
             [
              0.8888888888888888,
              "#fdca26"
             ],
             [
              1,
              "#f0f921"
             ]
            ],
            "type": "contour"
           }
          ],
          "contourcarpet": [
           {
            "colorbar": {
             "outlinewidth": 0,
             "ticks": ""
            },
            "type": "contourcarpet"
           }
          ],
          "heatmap": [
           {
            "colorbar": {
             "outlinewidth": 0,
             "ticks": ""
            },
            "colorscale": [
             [
              0,
              "#0d0887"
             ],
             [
              0.1111111111111111,
              "#46039f"
             ],
             [
              0.2222222222222222,
              "#7201a8"
             ],
             [
              0.3333333333333333,
              "#9c179e"
             ],
             [
              0.4444444444444444,
              "#bd3786"
             ],
             [
              0.5555555555555556,
              "#d8576b"
             ],
             [
              0.6666666666666666,
              "#ed7953"
             ],
             [
              0.7777777777777778,
              "#fb9f3a"
             ],
             [
              0.8888888888888888,
              "#fdca26"
             ],
             [
              1,
              "#f0f921"
             ]
            ],
            "type": "heatmap"
           }
          ],
          "heatmapgl": [
           {
            "colorbar": {
             "outlinewidth": 0,
             "ticks": ""
            },
            "colorscale": [
             [
              0,
              "#0d0887"
             ],
             [
              0.1111111111111111,
              "#46039f"
             ],
             [
              0.2222222222222222,
              "#7201a8"
             ],
             [
              0.3333333333333333,
              "#9c179e"
             ],
             [
              0.4444444444444444,
              "#bd3786"
             ],
             [
              0.5555555555555556,
              "#d8576b"
             ],
             [
              0.6666666666666666,
              "#ed7953"
             ],
             [
              0.7777777777777778,
              "#fb9f3a"
             ],
             [
              0.8888888888888888,
              "#fdca26"
             ],
             [
              1,
              "#f0f921"
             ]
            ],
            "type": "heatmapgl"
           }
          ],
          "histogram": [
           {
            "marker": {
             "pattern": {
              "fillmode": "overlay",
              "size": 10,
              "solidity": 0.2
             }
            },
            "type": "histogram"
           }
          ],
          "histogram2d": [
           {
            "colorbar": {
             "outlinewidth": 0,
             "ticks": ""
            },
            "colorscale": [
             [
              0,
              "#0d0887"
             ],
             [
              0.1111111111111111,
              "#46039f"
             ],
             [
              0.2222222222222222,
              "#7201a8"
             ],
             [
              0.3333333333333333,
              "#9c179e"
             ],
             [
              0.4444444444444444,
              "#bd3786"
             ],
             [
              0.5555555555555556,
              "#d8576b"
             ],
             [
              0.6666666666666666,
              "#ed7953"
             ],
             [
              0.7777777777777778,
              "#fb9f3a"
             ],
             [
              0.8888888888888888,
              "#fdca26"
             ],
             [
              1,
              "#f0f921"
             ]
            ],
            "type": "histogram2d"
           }
          ],
          "histogram2dcontour": [
           {
            "colorbar": {
             "outlinewidth": 0,
             "ticks": ""
            },
            "colorscale": [
             [
              0,
              "#0d0887"
             ],
             [
              0.1111111111111111,
              "#46039f"
             ],
             [
              0.2222222222222222,
              "#7201a8"
             ],
             [
              0.3333333333333333,
              "#9c179e"
             ],
             [
              0.4444444444444444,
              "#bd3786"
             ],
             [
              0.5555555555555556,
              "#d8576b"
             ],
             [
              0.6666666666666666,
              "#ed7953"
             ],
             [
              0.7777777777777778,
              "#fb9f3a"
             ],
             [
              0.8888888888888888,
              "#fdca26"
             ],
             [
              1,
              "#f0f921"
             ]
            ],
            "type": "histogram2dcontour"
           }
          ],
          "mesh3d": [
           {
            "colorbar": {
             "outlinewidth": 0,
             "ticks": ""
            },
            "type": "mesh3d"
           }
          ],
          "parcoords": [
           {
            "line": {
             "colorbar": {
              "outlinewidth": 0,
              "ticks": ""
             }
            },
            "type": "parcoords"
           }
          ],
          "pie": [
           {
            "automargin": true,
            "type": "pie"
           }
          ],
          "scatter": [
           {
            "fillpattern": {
             "fillmode": "overlay",
             "size": 10,
             "solidity": 0.2
            },
            "type": "scatter"
           }
          ],
          "scatter3d": [
           {
            "line": {
             "colorbar": {
              "outlinewidth": 0,
              "ticks": ""
             }
            },
            "marker": {
             "colorbar": {
              "outlinewidth": 0,
              "ticks": ""
             }
            },
            "type": "scatter3d"
           }
          ],
          "scattercarpet": [
           {
            "marker": {
             "colorbar": {
              "outlinewidth": 0,
              "ticks": ""
             }
            },
            "type": "scattercarpet"
           }
          ],
          "scattergeo": [
           {
            "marker": {
             "colorbar": {
              "outlinewidth": 0,
              "ticks": ""
             }
            },
            "type": "scattergeo"
           }
          ],
          "scattergl": [
           {
            "marker": {
             "colorbar": {
              "outlinewidth": 0,
              "ticks": ""
             }
            },
            "type": "scattergl"
           }
          ],
          "scattermapbox": [
           {
            "marker": {
             "colorbar": {
              "outlinewidth": 0,
              "ticks": ""
             }
            },
            "type": "scattermapbox"
           }
          ],
          "scatterpolar": [
           {
            "marker": {
             "colorbar": {
              "outlinewidth": 0,
              "ticks": ""
             }
            },
            "type": "scatterpolar"
           }
          ],
          "scatterpolargl": [
           {
            "marker": {
             "colorbar": {
              "outlinewidth": 0,
              "ticks": ""
             }
            },
            "type": "scatterpolargl"
           }
          ],
          "scatterternary": [
           {
            "marker": {
             "colorbar": {
              "outlinewidth": 0,
              "ticks": ""
             }
            },
            "type": "scatterternary"
           }
          ],
          "surface": [
           {
            "colorbar": {
             "outlinewidth": 0,
             "ticks": ""
            },
            "colorscale": [
             [
              0,
              "#0d0887"
             ],
             [
              0.1111111111111111,
              "#46039f"
             ],
             [
              0.2222222222222222,
              "#7201a8"
             ],
             [
              0.3333333333333333,
              "#9c179e"
             ],
             [
              0.4444444444444444,
              "#bd3786"
             ],
             [
              0.5555555555555556,
              "#d8576b"
             ],
             [
              0.6666666666666666,
              "#ed7953"
             ],
             [
              0.7777777777777778,
              "#fb9f3a"
             ],
             [
              0.8888888888888888,
              "#fdca26"
             ],
             [
              1,
              "#f0f921"
             ]
            ],
            "type": "surface"
           }
          ],
          "table": [
           {
            "cells": {
             "fill": {
              "color": "#EBF0F8"
             },
             "line": {
              "color": "white"
             }
            },
            "header": {
             "fill": {
              "color": "#C8D4E3"
             },
             "line": {
              "color": "white"
             }
            },
            "type": "table"
           }
          ]
         },
         "layout": {
          "annotationdefaults": {
           "arrowcolor": "#2a3f5f",
           "arrowhead": 0,
           "arrowwidth": 1
          },
          "autotypenumbers": "strict",
          "coloraxis": {
           "colorbar": {
            "outlinewidth": 0,
            "ticks": ""
           }
          },
          "colorscale": {
           "diverging": [
            [
             0,
             "#8e0152"
            ],
            [
             0.1,
             "#c51b7d"
            ],
            [
             0.2,
             "#de77ae"
            ],
            [
             0.3,
             "#f1b6da"
            ],
            [
             0.4,
             "#fde0ef"
            ],
            [
             0.5,
             "#f7f7f7"
            ],
            [
             0.6,
             "#e6f5d0"
            ],
            [
             0.7,
             "#b8e186"
            ],
            [
             0.8,
             "#7fbc41"
            ],
            [
             0.9,
             "#4d9221"
            ],
            [
             1,
             "#276419"
            ]
           ],
           "sequential": [
            [
             0,
             "#0d0887"
            ],
            [
             0.1111111111111111,
             "#46039f"
            ],
            [
             0.2222222222222222,
             "#7201a8"
            ],
            [
             0.3333333333333333,
             "#9c179e"
            ],
            [
             0.4444444444444444,
             "#bd3786"
            ],
            [
             0.5555555555555556,
             "#d8576b"
            ],
            [
             0.6666666666666666,
             "#ed7953"
            ],
            [
             0.7777777777777778,
             "#fb9f3a"
            ],
            [
             0.8888888888888888,
             "#fdca26"
            ],
            [
             1,
             "#f0f921"
            ]
           ],
           "sequentialminus": [
            [
             0,
             "#0d0887"
            ],
            [
             0.1111111111111111,
             "#46039f"
            ],
            [
             0.2222222222222222,
             "#7201a8"
            ],
            [
             0.3333333333333333,
             "#9c179e"
            ],
            [
             0.4444444444444444,
             "#bd3786"
            ],
            [
             0.5555555555555556,
             "#d8576b"
            ],
            [
             0.6666666666666666,
             "#ed7953"
            ],
            [
             0.7777777777777778,
             "#fb9f3a"
            ],
            [
             0.8888888888888888,
             "#fdca26"
            ],
            [
             1,
             "#f0f921"
            ]
           ]
          },
          "colorway": [
           "#636efa",
           "#EF553B",
           "#00cc96",
           "#ab63fa",
           "#FFA15A",
           "#19d3f3",
           "#FF6692",
           "#B6E880",
           "#FF97FF",
           "#FECB52"
          ],
          "font": {
           "color": "#2a3f5f"
          },
          "geo": {
           "bgcolor": "white",
           "lakecolor": "white",
           "landcolor": "#E5ECF6",
           "showlakes": true,
           "showland": true,
           "subunitcolor": "white"
          },
          "hoverlabel": {
           "align": "left"
          },
          "hovermode": "closest",
          "mapbox": {
           "style": "light"
          },
          "paper_bgcolor": "white",
          "plot_bgcolor": "#E5ECF6",
          "polar": {
           "angularaxis": {
            "gridcolor": "white",
            "linecolor": "white",
            "ticks": ""
           },
           "bgcolor": "#E5ECF6",
           "radialaxis": {
            "gridcolor": "white",
            "linecolor": "white",
            "ticks": ""
           }
          },
          "scene": {
           "xaxis": {
            "backgroundcolor": "#E5ECF6",
            "gridcolor": "white",
            "gridwidth": 2,
            "linecolor": "white",
            "showbackground": true,
            "ticks": "",
            "zerolinecolor": "white"
           },
           "yaxis": {
            "backgroundcolor": "#E5ECF6",
            "gridcolor": "white",
            "gridwidth": 2,
            "linecolor": "white",
            "showbackground": true,
            "ticks": "",
            "zerolinecolor": "white"
           },
           "zaxis": {
            "backgroundcolor": "#E5ECF6",
            "gridcolor": "white",
            "gridwidth": 2,
            "linecolor": "white",
            "showbackground": true,
            "ticks": "",
            "zerolinecolor": "white"
           }
          },
          "shapedefaults": {
           "line": {
            "color": "#2a3f5f"
           }
          },
          "ternary": {
           "aaxis": {
            "gridcolor": "white",
            "linecolor": "white",
            "ticks": ""
           },
           "baxis": {
            "gridcolor": "white",
            "linecolor": "white",
            "ticks": ""
           },
           "bgcolor": "#E5ECF6",
           "caxis": {
            "gridcolor": "white",
            "linecolor": "white",
            "ticks": ""
           }
          },
          "title": {
           "x": 0.05
          },
          "xaxis": {
           "automargin": true,
           "gridcolor": "white",
           "linecolor": "white",
           "ticks": "",
           "title": {
            "standoff": 15
           },
           "zerolinecolor": "white",
           "zerolinewidth": 2
          },
          "yaxis": {
           "automargin": true,
           "gridcolor": "white",
           "linecolor": "white",
           "ticks": "",
           "title": {
            "standoff": 15
           },
           "zerolinecolor": "white",
           "zerolinewidth": 2
          }
         }
        },
        "title": {
         "text": "未来四十年的金价、股价走势图及个人持有量"
        },
        "width": 1000,
        "xaxis": {
         "anchor": "y",
         "domain": [
          0,
          0.94
         ],
         "matches": "x2",
         "showgrid": false,
         "showticklabels": false
        },
        "xaxis2": {
         "anchor": "y3",
         "domain": [
          0,
          0.94
         ],
         "showgrid": false
        },
        "yaxis": {
         "anchor": "x",
         "domain": [
          0.3666666666666667,
          0.6333333333333333
         ],
         "gridcolor": "rgb(204, 204, 204)",
         "title": {
          "text": "股价(元/克)"
         },
         "zerolinecolor": "rgb(204, 204, 204)"
        },
        "yaxis2": {
         "anchor": "x",
         "overlaying": "y",
         "side": "right",
         "title": {
          "text": "股票持有量(股)"
         }
        },
        "yaxis3": {
         "anchor": "x2",
         "domain": [
          0,
          0.26666666666666666
         ],
         "gridcolor": "rgb(204, 204, 204)",
         "title": {
          "text": "金价(元/股)"
         },
         "zerolinecolor": "rgb(204, 204, 204)"
        },
        "yaxis4": {
         "anchor": "x2",
         "overlaying": "y3",
         "side": "right",
         "title": {
          "text": "黄金持有量(克)"
         }
        }
       }
      }
     },
     "metadata": {},
     "output_type": "display_data"
    }
   ],
   "source": [
    "fig = make_subplots(\n",
    "    rows=3, cols=1,\n",
    "    shared_xaxes=True,\n",
    "    vertical_spacing=0.1,\n",
    "    specs=[\n",
    "        [{\"type\": \"table\"}],\n",
    "        [{\"secondary_y\": True}],\n",
    "        [{\"secondary_y\": True}]\n",
    "    ],\n",
    "    subplot_titles=(\" \", \"股价走势\", \"金价走势\"),\n",
    ")\n",
    "\n",
    "fig.add_trace(\n",
    "    go.Table(\n",
    "        header=dict(\n",
    "            values=[\"年份\", \"金价\",\"黄金持有量\", \"股价\", \"股票持有量\"],\n",
    "            font=dict(size=10),\n",
    "            align=\"left\"\n",
    "        ),\n",
    "        cells=dict(\n",
    "            values=[df['year'].values, (df['gold_price']*10000).round(2), df['gold_hold'].round(2), (df['stock_price']*10000).round(2), df['stock_hold'].round(2)],\n",
    "            align = \"left\")\n",
    "    ),\n",
    "    row=1, col=1\n",
    ")\n",
    "\n",
    "fig.add_trace(\n",
    "    go.Scatter(\n",
    "        x=df[\"year\"],\n",
    "        y=df[\"stock_price\"]*10000,\n",
    "        mode=\"lines\",\n",
    "        name=\"股价\",\n",
    "        hovertemplate =\n",
    "        '%{x}年<br>'+\n",
    "        '%{y:.2f}元/股<br>'+\n",
    "        '涨幅： %{text:.2%}',\n",
    "        text =df['stock_price'].pct_change().fillna(0).to_list(),\n",
    "    ),\n",
    "    row=2, col=1, secondary_y=False,\n",
    ")\n",
    "\n",
    "fig.add_trace(\n",
    "    go.Bar(\n",
    "        x=df[\"year\"],\n",
    "        y=df[\"stock_hold\"],\n",
    "        name=\"股票持有量\",\n",
    "        hovertemplate =\n",
    "        '%{x}年<br>'+\n",
    "        '%{y:.2f}股<br>',\n",
    "        marker=dict(color='#448A63', opacity=0.5)\n",
    "    ),\n",
    "    row=2, col=1, secondary_y=True,\n",
    ")\n",
    "\n",
    "fig.add_trace(\n",
    "    go.Scatter(\n",
    "        x=df[\"year\"],\n",
    "        y=df[\"gold_price\"]*10000,\n",
    "        mode=\"lines\",\n",
    "        name=\"金价\",\n",
    "        hovertemplate =\n",
    "        '%{x}年<br>'+\n",
    "        '%{y:.2f}元/克<br>'+\n",
    "        '涨幅： %{text:.2%}',\n",
    "        text =df['gold_price'].pct_change().fillna(0).to_list(),\n",
    "    ),\n",
    "    row=3, col=1, secondary_y=False,\n",
    ")\n",
    "\n",
    "fig.add_trace(\n",
    "    go.Bar(\n",
    "        x=df[\"year\"],\n",
    "        y=df[\"gold_hold\"],\n",
    "        name=\"黄金持有量\",\n",
    "        hovertemplate =\n",
    "        '%{x}年<br>'+\n",
    "        '%{y:.2f}克<br>',\n",
    "        marker=dict(color='#F4D03F', opacity=0.5)\n",
    "    ),\n",
    "    row=3, col=1, secondary_y=True,\n",
    ")\n",
    "\n",
    "\n",
    "fig.update_layout(\n",
    "    height=1100,\n",
    "    width=1000,\n",
    "    showlegend=False,\n",
    "    plot_bgcolor='white',\n",
    "    title_text=\"未来四十年的金价、股价走势图及个人持有量\",\n",
    "    hovermode=\"x\"\n",
    ")\n",
    "fig.update_xaxes(showgrid=False, row=2, col=1)\n",
    "fig.update_yaxes(title_text=\"股价(元/克)\", gridcolor='rgb(204, 204, 204)',zerolinecolor=\"rgb(204, 204, 204)\", secondary_y=False, row=2, col=1)\n",
    "fig.update_yaxes(title_text=\"股票持有量(股)\", secondary_y=True, row=2, col=1)\n",
    "fig.update_xaxes(showgrid=False, row=3, col=1)\n",
    "fig.update_yaxes(title_text=\"金价(元/股)\", gridcolor='rgb(204, 204, 204)',zerolinecolor=\"rgb(204, 204, 204)\", secondary_y=False, row=3, col=1)\n",
    "fig.update_yaxes(title_text=\"黄金持有量(克)\", secondary_y=True, row=3, col=1)\n",
    "\n",
    "fig.show()"
   ]
  },
  {
   "cell_type": "code",
   "execution_count": null,
   "metadata": {},
   "outputs": [],
   "source": []
  },
  {
   "cell_type": "code",
   "execution_count": 237,
   "metadata": {},
   "outputs": [
    {
     "name": "stdout",
     "output_type": "stream",
     "text": [
      "第2026年卖出股票，净利润1.6097774241131655万元\n",
      "第2034年卖出股票，净利润33.02322445539405万元\n",
      "第2036年卖出股票，净利润24.322156054260013万元\n",
      "第2040年卖出股票，净利润7.187424617767566万元\n",
      "第2042年卖出股票，净利润0.22122748287510877万元\n",
      "第2047年卖出股票，净利润8.652467430331312万元\n",
      "第2049年卖出股票，净利润17.390177888647223万元\n",
      "第2052年卖出股票，净利润34.37093039590249万元\n",
      "第2056年卖出股票，净利润43.421354332384844万元\n",
      "\n",
      "第2027年卖出黄金，净利润0.6552631496293926万元\n",
      "第2029年卖出黄金，净利润1.9475354715511743万元\n",
      "第2031年卖出黄金，净利润1.3910314495587万元\n",
      "第2034年卖出黄金，净利润0.9238994513230476万元\n",
      "第2036年卖出黄金，净利润4.996925003847639万元\n",
      "第2040年卖出黄金，净利润2.6859705302975323万元\n",
      "第2047年卖出黄金，净利润13.662436728521664万元\n",
      "第2049年卖出黄金，净利润11.688733700436295万元\n",
      "第2051年卖出黄金，净利润6.039380671185558万元\n",
      "第2054年卖出黄金，净利润2.543368410177448万元\n"
     ]
    }
   ],
   "source": [
    "df_stock = df[['stock_price', 'stock_buy_price', 'stock_hold', 'buy_stock']]\n",
    "df_gold = df[['gold_price', 'gold_buy_price', 'gold_hold', 'buy_gold']]\n",
    "\n",
    "stock_earn = {} \n",
    "gold_earn = {}\n",
    "for i, row in df_stock.iterrows():\n",
    "    if row['buy_stock'] == 2:\n",
    "        stock_buy_price = df_stock.loc[i-1, 'stock_buy_price']\n",
    "        stock_hold = df_stock.loc[i-1, 'stock_hold']\n",
    "        stock_price = row['stock_price']\n",
    "        earn = stock_hold * (stock_price - stock_buy_price)\n",
    "        print(f\"第{i}年卖出股票，净利润{earn}万元\")\n",
    "        stock_earn[i] = earn\n",
    "print()\n",
    "for i, row in df_gold.iterrows():\n",
    "    if row['buy_gold'] == 2:\n",
    "        gold_buy_price = df_gold.loc[i-1, 'gold_buy_price']\n",
    "        gold_hold = df_gold.loc[i-1, 'gold_hold']\n",
    "        gold_price = row['gold_price']\n",
    "        earn = gold_hold * (gold_price - gold_buy_price)\n",
    "        print(f\"第{i}年卖出黄金，净利润{earn}万元\")\n",
    "        gold_earn[i] = earn"
   ]
  },
  {
   "cell_type": "code",
   "execution_count": 238,
   "metadata": {},
   "outputs": [
    {
     "data": {
      "application/vnd.plotly.v1+json": {
       "config": {
        "plotlyServerURL": "https://plot.ly"
       },
       "data": [
        {
         "hovertemplate": "%{x}年<br>%{y:.2f}万元",
         "marker": {
          "color": "#5A92FA"
         },
         "name": "炒黄金净利润",
         "text": [
          "0.66",
          "1.95",
          "1.39",
          "0.92",
          "5.0",
          "2.69",
          "13.66",
          "11.69",
          "6.04",
          "2.54"
         ],
         "textfont": {
          "size": 10
         },
         "type": "bar",
         "x": [
          2027,
          2029,
          2031,
          2034,
          2036,
          2040,
          2047,
          2049,
          2051,
          2054
         ],
         "xaxis": "x",
         "y": [
          0.6552631496293926,
          1.9475354715511743,
          1.3910314495587,
          0.9238994513230476,
          4.996925003847639,
          2.6859705302975323,
          13.662436728521664,
          11.688733700436295,
          6.039380671185558,
          2.543368410177448
         ],
         "yaxis": "y"
        },
        {
         "hovertemplate": "%{x}年<br>%{y:.2f}万元",
         "marker": {
          "color": "#BF665E"
         },
         "name": "炒股净利润",
         "text": [
          "1.61",
          "33.02",
          "24.32",
          "7.19",
          "0.22",
          "8.65",
          "17.39",
          "34.37",
          "43.42"
         ],
         "textfont": {
          "size": 10
         },
         "type": "bar",
         "x": [
          2026,
          2034,
          2036,
          2040,
          2042,
          2047,
          2049,
          2052,
          2056
         ],
         "xaxis": "x3",
         "y": [
          1.6097774241131655,
          33.02322445539405,
          24.322156054260013,
          7.187424617767566,
          0.22122748287510877,
          8.652467430331312,
          17.390177888647223,
          34.37093039590249,
          43.421354332384844
         ],
         "yaxis": "y3"
        },
        {
         "hovertemplate": "%{x}<br>%{y:.2f}万元",
         "marker": {
          "color": [
           "#5A92FA",
           "#BF665E"
          ]
         },
         "name": "总利润",
         "text": [
          "170.2",
          "46.53"
         ],
         "textfont": {
          "size": 14
         },
         "type": "bar",
         "x": [
          "炒股总利润",
          "炒黄金总利润"
         ],
         "xaxis": "x2",
         "y": [
          170.1987400816758,
          46.53454456652845
         ],
         "yaxis": "y2"
        }
       ],
       "layout": {
        "annotations": [
         {
          "font": {
           "size": 16
          },
          "showarrow": false,
          "text": "炒股净利润",
          "x": 0.315,
          "xanchor": "center",
          "xref": "paper",
          "y": 1,
          "yanchor": "bottom",
          "yref": "paper"
         },
         {
          "font": {
           "size": 16
          },
          "showarrow": false,
          "text": "总利润",
          "x": 0.865,
          "xanchor": "center",
          "xref": "paper",
          "y": 1,
          "yanchor": "bottom",
          "yref": "paper"
         },
         {
          "font": {
           "size": 16
          },
          "showarrow": false,
          "text": "炒黄金净利润",
          "x": 0.315,
          "xanchor": "center",
          "xref": "paper",
          "y": 0.375,
          "yanchor": "bottom",
          "yref": "paper"
         }
        ],
        "height": 600,
        "plot_bgcolor": "white",
        "showlegend": false,
        "template": {
         "data": {
          "bar": [
           {
            "error_x": {
             "color": "#2a3f5f"
            },
            "error_y": {
             "color": "#2a3f5f"
            },
            "marker": {
             "line": {
              "color": "#E5ECF6",
              "width": 0.5
             },
             "pattern": {
              "fillmode": "overlay",
              "size": 10,
              "solidity": 0.2
             }
            },
            "type": "bar"
           }
          ],
          "barpolar": [
           {
            "marker": {
             "line": {
              "color": "#E5ECF6",
              "width": 0.5
             },
             "pattern": {
              "fillmode": "overlay",
              "size": 10,
              "solidity": 0.2
             }
            },
            "type": "barpolar"
           }
          ],
          "carpet": [
           {
            "aaxis": {
             "endlinecolor": "#2a3f5f",
             "gridcolor": "white",
             "linecolor": "white",
             "minorgridcolor": "white",
             "startlinecolor": "#2a3f5f"
            },
            "baxis": {
             "endlinecolor": "#2a3f5f",
             "gridcolor": "white",
             "linecolor": "white",
             "minorgridcolor": "white",
             "startlinecolor": "#2a3f5f"
            },
            "type": "carpet"
           }
          ],
          "choropleth": [
           {
            "colorbar": {
             "outlinewidth": 0,
             "ticks": ""
            },
            "type": "choropleth"
           }
          ],
          "contour": [
           {
            "colorbar": {
             "outlinewidth": 0,
             "ticks": ""
            },
            "colorscale": [
             [
              0,
              "#0d0887"
             ],
             [
              0.1111111111111111,
              "#46039f"
             ],
             [
              0.2222222222222222,
              "#7201a8"
             ],
             [
              0.3333333333333333,
              "#9c179e"
             ],
             [
              0.4444444444444444,
              "#bd3786"
             ],
             [
              0.5555555555555556,
              "#d8576b"
             ],
             [
              0.6666666666666666,
              "#ed7953"
             ],
             [
              0.7777777777777778,
              "#fb9f3a"
             ],
             [
              0.8888888888888888,
              "#fdca26"
             ],
             [
              1,
              "#f0f921"
             ]
            ],
            "type": "contour"
           }
          ],
          "contourcarpet": [
           {
            "colorbar": {
             "outlinewidth": 0,
             "ticks": ""
            },
            "type": "contourcarpet"
           }
          ],
          "heatmap": [
           {
            "colorbar": {
             "outlinewidth": 0,
             "ticks": ""
            },
            "colorscale": [
             [
              0,
              "#0d0887"
             ],
             [
              0.1111111111111111,
              "#46039f"
             ],
             [
              0.2222222222222222,
              "#7201a8"
             ],
             [
              0.3333333333333333,
              "#9c179e"
             ],
             [
              0.4444444444444444,
              "#bd3786"
             ],
             [
              0.5555555555555556,
              "#d8576b"
             ],
             [
              0.6666666666666666,
              "#ed7953"
             ],
             [
              0.7777777777777778,
              "#fb9f3a"
             ],
             [
              0.8888888888888888,
              "#fdca26"
             ],
             [
              1,
              "#f0f921"
             ]
            ],
            "type": "heatmap"
           }
          ],
          "heatmapgl": [
           {
            "colorbar": {
             "outlinewidth": 0,
             "ticks": ""
            },
            "colorscale": [
             [
              0,
              "#0d0887"
             ],
             [
              0.1111111111111111,
              "#46039f"
             ],
             [
              0.2222222222222222,
              "#7201a8"
             ],
             [
              0.3333333333333333,
              "#9c179e"
             ],
             [
              0.4444444444444444,
              "#bd3786"
             ],
             [
              0.5555555555555556,
              "#d8576b"
             ],
             [
              0.6666666666666666,
              "#ed7953"
             ],
             [
              0.7777777777777778,
              "#fb9f3a"
             ],
             [
              0.8888888888888888,
              "#fdca26"
             ],
             [
              1,
              "#f0f921"
             ]
            ],
            "type": "heatmapgl"
           }
          ],
          "histogram": [
           {
            "marker": {
             "pattern": {
              "fillmode": "overlay",
              "size": 10,
              "solidity": 0.2
             }
            },
            "type": "histogram"
           }
          ],
          "histogram2d": [
           {
            "colorbar": {
             "outlinewidth": 0,
             "ticks": ""
            },
            "colorscale": [
             [
              0,
              "#0d0887"
             ],
             [
              0.1111111111111111,
              "#46039f"
             ],
             [
              0.2222222222222222,
              "#7201a8"
             ],
             [
              0.3333333333333333,
              "#9c179e"
             ],
             [
              0.4444444444444444,
              "#bd3786"
             ],
             [
              0.5555555555555556,
              "#d8576b"
             ],
             [
              0.6666666666666666,
              "#ed7953"
             ],
             [
              0.7777777777777778,
              "#fb9f3a"
             ],
             [
              0.8888888888888888,
              "#fdca26"
             ],
             [
              1,
              "#f0f921"
             ]
            ],
            "type": "histogram2d"
           }
          ],
          "histogram2dcontour": [
           {
            "colorbar": {
             "outlinewidth": 0,
             "ticks": ""
            },
            "colorscale": [
             [
              0,
              "#0d0887"
             ],
             [
              0.1111111111111111,
              "#46039f"
             ],
             [
              0.2222222222222222,
              "#7201a8"
             ],
             [
              0.3333333333333333,
              "#9c179e"
             ],
             [
              0.4444444444444444,
              "#bd3786"
             ],
             [
              0.5555555555555556,
              "#d8576b"
             ],
             [
              0.6666666666666666,
              "#ed7953"
             ],
             [
              0.7777777777777778,
              "#fb9f3a"
             ],
             [
              0.8888888888888888,
              "#fdca26"
             ],
             [
              1,
              "#f0f921"
             ]
            ],
            "type": "histogram2dcontour"
           }
          ],
          "mesh3d": [
           {
            "colorbar": {
             "outlinewidth": 0,
             "ticks": ""
            },
            "type": "mesh3d"
           }
          ],
          "parcoords": [
           {
            "line": {
             "colorbar": {
              "outlinewidth": 0,
              "ticks": ""
             }
            },
            "type": "parcoords"
           }
          ],
          "pie": [
           {
            "automargin": true,
            "type": "pie"
           }
          ],
          "scatter": [
           {
            "fillpattern": {
             "fillmode": "overlay",
             "size": 10,
             "solidity": 0.2
            },
            "type": "scatter"
           }
          ],
          "scatter3d": [
           {
            "line": {
             "colorbar": {
              "outlinewidth": 0,
              "ticks": ""
             }
            },
            "marker": {
             "colorbar": {
              "outlinewidth": 0,
              "ticks": ""
             }
            },
            "type": "scatter3d"
           }
          ],
          "scattercarpet": [
           {
            "marker": {
             "colorbar": {
              "outlinewidth": 0,
              "ticks": ""
             }
            },
            "type": "scattercarpet"
           }
          ],
          "scattergeo": [
           {
            "marker": {
             "colorbar": {
              "outlinewidth": 0,
              "ticks": ""
             }
            },
            "type": "scattergeo"
           }
          ],
          "scattergl": [
           {
            "marker": {
             "colorbar": {
              "outlinewidth": 0,
              "ticks": ""
             }
            },
            "type": "scattergl"
           }
          ],
          "scattermapbox": [
           {
            "marker": {
             "colorbar": {
              "outlinewidth": 0,
              "ticks": ""
             }
            },
            "type": "scattermapbox"
           }
          ],
          "scatterpolar": [
           {
            "marker": {
             "colorbar": {
              "outlinewidth": 0,
              "ticks": ""
             }
            },
            "type": "scatterpolar"
           }
          ],
          "scatterpolargl": [
           {
            "marker": {
             "colorbar": {
              "outlinewidth": 0,
              "ticks": ""
             }
            },
            "type": "scatterpolargl"
           }
          ],
          "scatterternary": [
           {
            "marker": {
             "colorbar": {
              "outlinewidth": 0,
              "ticks": ""
             }
            },
            "type": "scatterternary"
           }
          ],
          "surface": [
           {
            "colorbar": {
             "outlinewidth": 0,
             "ticks": ""
            },
            "colorscale": [
             [
              0,
              "#0d0887"
             ],
             [
              0.1111111111111111,
              "#46039f"
             ],
             [
              0.2222222222222222,
              "#7201a8"
             ],
             [
              0.3333333333333333,
              "#9c179e"
             ],
             [
              0.4444444444444444,
              "#bd3786"
             ],
             [
              0.5555555555555556,
              "#d8576b"
             ],
             [
              0.6666666666666666,
              "#ed7953"
             ],
             [
              0.7777777777777778,
              "#fb9f3a"
             ],
             [
              0.8888888888888888,
              "#fdca26"
             ],
             [
              1,
              "#f0f921"
             ]
            ],
            "type": "surface"
           }
          ],
          "table": [
           {
            "cells": {
             "fill": {
              "color": "#EBF0F8"
             },
             "line": {
              "color": "white"
             }
            },
            "header": {
             "fill": {
              "color": "#C8D4E3"
             },
             "line": {
              "color": "white"
             }
            },
            "type": "table"
           }
          ]
         },
         "layout": {
          "annotationdefaults": {
           "arrowcolor": "#2a3f5f",
           "arrowhead": 0,
           "arrowwidth": 1
          },
          "autotypenumbers": "strict",
          "coloraxis": {
           "colorbar": {
            "outlinewidth": 0,
            "ticks": ""
           }
          },
          "colorscale": {
           "diverging": [
            [
             0,
             "#8e0152"
            ],
            [
             0.1,
             "#c51b7d"
            ],
            [
             0.2,
             "#de77ae"
            ],
            [
             0.3,
             "#f1b6da"
            ],
            [
             0.4,
             "#fde0ef"
            ],
            [
             0.5,
             "#f7f7f7"
            ],
            [
             0.6,
             "#e6f5d0"
            ],
            [
             0.7,
             "#b8e186"
            ],
            [
             0.8,
             "#7fbc41"
            ],
            [
             0.9,
             "#4d9221"
            ],
            [
             1,
             "#276419"
            ]
           ],
           "sequential": [
            [
             0,
             "#0d0887"
            ],
            [
             0.1111111111111111,
             "#46039f"
            ],
            [
             0.2222222222222222,
             "#7201a8"
            ],
            [
             0.3333333333333333,
             "#9c179e"
            ],
            [
             0.4444444444444444,
             "#bd3786"
            ],
            [
             0.5555555555555556,
             "#d8576b"
            ],
            [
             0.6666666666666666,
             "#ed7953"
            ],
            [
             0.7777777777777778,
             "#fb9f3a"
            ],
            [
             0.8888888888888888,
             "#fdca26"
            ],
            [
             1,
             "#f0f921"
            ]
           ],
           "sequentialminus": [
            [
             0,
             "#0d0887"
            ],
            [
             0.1111111111111111,
             "#46039f"
            ],
            [
             0.2222222222222222,
             "#7201a8"
            ],
            [
             0.3333333333333333,
             "#9c179e"
            ],
            [
             0.4444444444444444,
             "#bd3786"
            ],
            [
             0.5555555555555556,
             "#d8576b"
            ],
            [
             0.6666666666666666,
             "#ed7953"
            ],
            [
             0.7777777777777778,
             "#fb9f3a"
            ],
            [
             0.8888888888888888,
             "#fdca26"
            ],
            [
             1,
             "#f0f921"
            ]
           ]
          },
          "colorway": [
           "#636efa",
           "#EF553B",
           "#00cc96",
           "#ab63fa",
           "#FFA15A",
           "#19d3f3",
           "#FF6692",
           "#B6E880",
           "#FF97FF",
           "#FECB52"
          ],
          "font": {
           "color": "#2a3f5f"
          },
          "geo": {
           "bgcolor": "white",
           "lakecolor": "white",
           "landcolor": "#E5ECF6",
           "showlakes": true,
           "showland": true,
           "subunitcolor": "white"
          },
          "hoverlabel": {
           "align": "left"
          },
          "hovermode": "closest",
          "mapbox": {
           "style": "light"
          },
          "paper_bgcolor": "white",
          "plot_bgcolor": "#E5ECF6",
          "polar": {
           "angularaxis": {
            "gridcolor": "white",
            "linecolor": "white",
            "ticks": ""
           },
           "bgcolor": "#E5ECF6",
           "radialaxis": {
            "gridcolor": "white",
            "linecolor": "white",
            "ticks": ""
           }
          },
          "scene": {
           "xaxis": {
            "backgroundcolor": "#E5ECF6",
            "gridcolor": "white",
            "gridwidth": 2,
            "linecolor": "white",
            "showbackground": true,
            "ticks": "",
            "zerolinecolor": "white"
           },
           "yaxis": {
            "backgroundcolor": "#E5ECF6",
            "gridcolor": "white",
            "gridwidth": 2,
            "linecolor": "white",
            "showbackground": true,
            "ticks": "",
            "zerolinecolor": "white"
           },
           "zaxis": {
            "backgroundcolor": "#E5ECF6",
            "gridcolor": "white",
            "gridwidth": 2,
            "linecolor": "white",
            "showbackground": true,
            "ticks": "",
            "zerolinecolor": "white"
           }
          },
          "shapedefaults": {
           "line": {
            "color": "#2a3f5f"
           }
          },
          "ternary": {
           "aaxis": {
            "gridcolor": "white",
            "linecolor": "white",
            "ticks": ""
           },
           "baxis": {
            "gridcolor": "white",
            "linecolor": "white",
            "ticks": ""
           },
           "bgcolor": "#E5ECF6",
           "caxis": {
            "gridcolor": "white",
            "linecolor": "white",
            "ticks": ""
           }
          },
          "title": {
           "x": 0.05
          },
          "xaxis": {
           "automargin": true,
           "gridcolor": "white",
           "linecolor": "white",
           "ticks": "",
           "title": {
            "standoff": 15
           },
           "zerolinecolor": "white",
           "zerolinewidth": 2
          },
          "yaxis": {
           "automargin": true,
           "gridcolor": "white",
           "linecolor": "white",
           "ticks": "",
           "title": {
            "standoff": 15
           },
           "zerolinecolor": "white",
           "zerolinewidth": 2
          }
         }
        },
        "title": {
         "text": "炒股和炒黄金哪个赚钱？"
        },
        "width": 1000,
        "xaxis": {
         "anchor": "y",
         "domain": [
          0,
          0.63
         ],
         "showgrid": false
        },
        "xaxis2": {
         "anchor": "y2",
         "domain": [
          0.73,
          1
         ],
         "showgrid": false
        },
        "xaxis3": {
         "anchor": "y3",
         "domain": [
          0,
          0.63
         ],
         "showgrid": false
        },
        "yaxis": {
         "anchor": "x",
         "domain": [
          0.625,
          1
         ],
         "gridcolor": "rgb(204, 204, 204)",
         "title": {
          "text": "净利润(万元)"
         },
         "zerolinecolor": "rgb(204, 204, 204)"
        },
        "yaxis2": {
         "anchor": "x2",
         "domain": [
          0,
          1
         ],
         "gridcolor": "rgb(204, 204, 204)",
         "title": {
          "text": "净利润(万元)"
         },
         "zerolinecolor": "rgb(204, 204, 204)"
        },
        "yaxis3": {
         "anchor": "x3",
         "domain": [
          0,
          0.375
         ],
         "gridcolor": "rgb(204, 204, 204)",
         "title": {
          "text": "净利润(万元)"
         },
         "zerolinecolor": "rgb(204, 204, 204)"
        }
       }
      }
     },
     "metadata": {},
     "output_type": "display_data"
    }
   ],
   "source": [
    "from turtle import width\n",
    "\n",
    "\n",
    "fig = make_subplots(rows=2, cols=2, \n",
    "                    subplot_titles=['炒股净利润', '总利润', '炒黄金净利润'],\n",
    "                    specs=[[{}, {\"rowspan\": 2}],\n",
    "                           [{}, None]],\n",
    "                    column_widths=[0.7, 0.3])\n",
    "\n",
    "# 将每个图添加到对应的子图位置\n",
    "fig.add_trace(go.Bar(\n",
    "    x=list(gold_earn.keys()),\n",
    "    y=list(gold_earn.values()),\n",
    "    name='炒黄金净利润',\n",
    "    marker_color='#5A92FA',  # 设置 Bar 的颜色\n",
    "    hovertemplate =\n",
    "        '%{x}年<br>'+\n",
    "        '%{y:.2f}万元',\n",
    "    text=[round(val,2) for val in gold_earn.values()],  # 添加文字\n",
    "    textfont=dict(size=10),  # 设置文字大小\n",
    "), row=1, col=1)\n",
    "\n",
    "fig.add_trace(go.Bar(\n",
    "    x=list(stock_earn.keys()),\n",
    "    y=list(stock_earn.values()),\n",
    "    name='炒股净利润',\n",
    "    marker_color='#BF665E',  # 设置 Bar 的颜色\n",
    "    hovertemplate =\n",
    "        '%{x}年<br>'+\n",
    "        '%{y:.2f}万元',\n",
    "    text=[round(val,2) for val in stock_earn.values()],  # 添加文字\n",
    "    textfont=dict(size=10),  # 设置文字大小\n",
    "), row=2, col=1)\n",
    "\n",
    "# 计算总利润并添加到总利润子图中\n",
    "total_earnings = {'炒股总利润': sum(stock_earn.values()), '炒黄金总利润': sum(gold_earn.values())}\n",
    "fig.add_trace(go.Bar(\n",
    "    x=list(total_earnings.keys()),\n",
    "    y=list(total_earnings.values()),\n",
    "    name='总利润',\n",
    "    marker_color=['#5A92FA', '#BF665E'],  # 设置两个 Bar 的颜色\n",
    "    hovertemplate =\n",
    "        '%{x}<br>'+\n",
    "        '%{y:.2f}万元',\n",
    "    text=[round(val,2) for val in total_earnings.values()],  # 添加文字\n",
    "    textfont=dict(size=14),  # 设置文字大小\n",
    "), row=1, col=2)\n",
    "\n",
    "# 设置布局\n",
    "fig.update_layout(showlegend=False,\n",
    "                  width=1000,\n",
    "                  title='炒股和炒黄金哪个赚钱？',\n",
    "                  plot_bgcolor='white',\n",
    "                  height=600)\n",
    "\n",
    "# 设置 y 轴标签\n",
    "fig.update_yaxes(title_text='净利润(万元)', row=1, col=1)\n",
    "fig.update_yaxes(title_text='净利润(万元)', row=2, col=1)\n",
    "fig.update_yaxes(title_text='净利润(万元)', row=1, col=2)\n",
    "\n",
    "# 隐藏 x 轴网格线\n",
    "fig.update_xaxes(showgrid=False, row=1, col=1)\n",
    "fig.update_xaxes(showgrid=False, row=2, col=1)\n",
    "fig.update_xaxes(showgrid=False, row=1, col=2)\n",
    "\n",
    "# 设置 y 轴网格线颜色\n",
    "fig.update_yaxes(gridcolor='rgb(204, 204, 204)', zerolinecolor=\"rgb(204, 204, 204)\", row=1, col=1)\n",
    "fig.update_yaxes(gridcolor='rgb(204, 204, 204)', zerolinecolor=\"rgb(204, 204, 204)\", row=2, col=1)\n",
    "fig.update_yaxes(gridcolor='rgb(204, 204, 204)', zerolinecolor=\"rgb(204, 204, 204)\", row=1, col=2)\n",
    "\n",
    "# 显示图表\n",
    "fig.show()"
   ]
  },
  {
   "cell_type": "code",
   "execution_count": null,
   "metadata": {},
   "outputs": [],
   "source": []
  },
  {
   "cell_type": "code",
   "execution_count": 239,
   "metadata": {},
   "outputs": [
    {
     "data": {
      "application/vnd.plotly.v1+json": {
       "config": {
        "plotlyServerURL": "https://plot.ly"
       },
       "data": [
        {
         "fill": "tozeroy",
         "hoverinfo": "text",
         "hovertext": [
          "剩余贷款：0.0万元",
          "剩余贷款：0.0万元",
          "剩余贷款：0.0万元",
          "剩余贷款：0.0万元",
          "剩余贷款：0.0万元",
          "剩余贷款：0.0万元",
          "剩余贷款：0.0万元",
          "剩余贷款：0.0万元",
          "剩余贷款：0.0万元",
          "剩余贷款：0.0万元",
          "剩余贷款：0.0万元",
          "剩余贷款：0.0万元",
          "剩余贷款：0.0万元",
          "剩余贷款：0.0万元",
          "剩余贷款：200.0万元",
          "剩余贷款：193.3333万元",
          "剩余贷款：186.6667万元",
          "剩余贷款：180.0万元",
          "剩余贷款：173.3333万元",
          "剩余贷款：166.6667万元",
          "剩余贷款：160.0万元",
          "剩余贷款：153.3333万元",
          "剩余贷款：146.6667万元",
          "剩余贷款：140.0万元",
          "剩余贷款：133.3333万元",
          "剩余贷款：126.6667万元",
          "剩余贷款：120.0万元",
          "剩余贷款：113.3333万元",
          "剩余贷款：106.6667万元",
          "剩余贷款：100.0万元",
          "剩余贷款：93.3333万元",
          "剩余贷款：86.6667万元",
          "剩余贷款：80.0万元",
          "剩余贷款：73.3333万元",
          "剩余贷款：66.6667万元",
          "剩余贷款：60.0万元",
          "剩余贷款：53.3333万元",
          "剩余贷款：46.6667万元",
          "剩余贷款：40.0万元",
          "剩余贷款：33.3333万元"
         ],
         "line": {
          "color": "rgb(222, 90, 241)",
          "width": 0.5
         },
         "mode": "lines",
         "name": "贷款",
         "type": "scatter",
         "x": [
          2023,
          2024,
          2025,
          2026,
          2027,
          2028,
          2029,
          2030,
          2031,
          2032,
          2033,
          2034,
          2035,
          2036,
          2037,
          2038,
          2039,
          2040,
          2041,
          2042,
          2043,
          2044,
          2045,
          2046,
          2047,
          2048,
          2049,
          2050,
          2051,
          2052,
          2053,
          2054,
          2055,
          2056,
          2057,
          2058,
          2059,
          2060,
          2061,
          2062
         ],
         "y": [
          0,
          0,
          0,
          0,
          0,
          0,
          0,
          0,
          0,
          0,
          0,
          0,
          0,
          0,
          -200,
          -193.33333333333334,
          -186.66666666666669,
          -180.00000000000003,
          -173.33333333333337,
          -166.6666666666667,
          -160.00000000000006,
          -153.3333333333334,
          -146.66666666666674,
          -140.00000000000009,
          -133.33333333333343,
          -126.66666666666676,
          -120.00000000000009,
          -113.33333333333341,
          -106.66666666666674,
          -100.00000000000007,
          -93.3333333333334,
          -86.66666666666673,
          -80.00000000000006,
          -73.33333333333339,
          -66.66666666666671,
          -60.00000000000005,
          -53.333333333333385,
          -46.66666666666672,
          -40.00000000000006,
          -33.33333333333339
         ]
        },
        {
         "hoverinfo": "text",
         "hovertext": [
          "持有现金：4.2175万元",
          "持有现金：5.731万元",
          "持有现金：11.2324万元",
          "持有现金：23.6772万元",
          "持有现金：34.5709万元",
          "持有现金：34.7886万元",
          "持有现金：43.3746万元",
          "持有现金：27.6263万元",
          "持有现金：49.5427万元",
          "持有现金：47.4508万元",
          "持有现金：54.9824万元",
          "持有现金：134.0157万元",
          "持有现金：98.7151万元",
          "持有现金：185.6221万元",
          "持有现金：56.1602万元",
          "持有现金：56.3078万元",
          "持有现金：63.6645万元",
          "持有现金：113.7143万元",
          "持有现金：92.2434万元",
          "持有现金：88.3234万元",
          "持有现金：56.9991万元",
          "持有现金：61.6502万元",
          "持有现金：61.1935万元",
          "持有现金：70.1039万元",
          "持有现金：235.6229万元",
          "持有现金：151.8791万元",
          "持有现金：309.0215万元",
          "持有现金：265.4652万元",
          "持有现金：341.7758万元",
          "持有现金：421.3317万元",
          "持有现金：410.5275万元",
          "持有现金：458.1536万元",
          "持有现金：404.1657万元",
          "持有现金：433.2237万元",
          "持有现金：376.8994万元",
          "持有现金：351.0436万元",
          "持有现金：273.8285万元",
          "持有现金：238.1321万元",
          "持有现金：197.2356万元",
          "持有现金：156.9043万元"
         ],
         "line": {
          "color": "rgb(184, 247, 212)",
          "width": 0.5
         },
         "mode": "lines",
         "name": "现金",
         "stackgroup": "one",
         "type": "scatter",
         "x": [
          2023,
          2024,
          2025,
          2026,
          2027,
          2028,
          2029,
          2030,
          2031,
          2032,
          2033,
          2034,
          2035,
          2036,
          2037,
          2038,
          2039,
          2040,
          2041,
          2042,
          2043,
          2044,
          2045,
          2046,
          2047,
          2048,
          2049,
          2050,
          2051,
          2052,
          2053,
          2054,
          2055,
          2056,
          2057,
          2058,
          2059,
          2060,
          2061,
          2062
         ],
         "y": [
          4.217480879283937,
          5.730991771820358,
          11.23244281646782,
          23.677213968518636,
          34.570856892230296,
          34.78856650425967,
          43.37456703565897,
          27.62633819231492,
          49.54272880131052,
          47.45082705954649,
          54.982375648807384,
          134.01573469056177,
          98.71505264054925,
          185.6221329936152,
          56.160237430874226,
          56.30775512498011,
          63.664501296576965,
          113.71426408519737,
          92.24335639687892,
          88.32342285182278,
          56.99909363243573,
          61.65019136715154,
          61.19354685578104,
          70.10394539903956,
          235.6228664021724,
          151.87908483847832,
          309.02150509436456,
          265.4652267004293,
          341.7757782537701,
          421.33171883559777,
          410.5275456335874,
          458.15360401146495,
          404.165748363023,
          433.2236708668638,
          376.8994477423935,
          351.0435685045319,
          273.82848567365664,
          238.13212837522295,
          197.23557777144157,
          156.9042847089232
         ]
        },
        {
         "hoverinfo": "text",
         "hovertext": [
          "持有股票价值：1.3431万元",
          "持有股票价值：3.5829万元",
          "持有股票价值：3.8208万元",
          "持有股票价值：0.0万元",
          "持有股票价值：0.9022万元",
          "持有股票价值：0.8252万元",
          "持有股票价值：9.5287万元",
          "持有股票价值：20.2895万元",
          "持有股票价值：22.359万元",
          "持有股票价值：20.8934万元",
          "持有股票价值：31.7228万元",
          "持有股票价值：0.0万元",
          "持有股票价值：27.6611万元",
          "持有股票价值：0.0万元",
          "持有股票价值：15.3981万元",
          "持有股票价值：18.4319万元",
          "持有股票价值：19.6183万元",
          "持有股票价值：0.0万元",
          "持有股票价值：0.9173万元",
          "持有股票价值：0.0万元",
          "持有股票价值：19.5422万元",
          "持有股票价值：17.5995万元",
          "持有股票价值：23.3658万元",
          "持有股票价值：18.5457万元",
          "持有股票价值：0.0万元",
          "持有股票价值：64.0496万元",
          "持有股票价值：0.0万元",
          "持有股票价值：26.3113万元",
          "持有股票价值：31.0137万元",
          "持有股票价值：0.0万元",
          "持有股票价值：43.2493万元",
          "持有股票价值：39.8677万元",
          "持有股票价值：49.3458万元",
          "持有股票价值：0.0万元",
          "持有股票价值：4.7347万元",
          "持有股票价值：4.4884万元",
          "持有股票价值：82.5373万元",
          "持有股票价值：109.6693万元",
          "持有股票价值：118.7126万元",
          "持有股票价值：155.1719万元"
         ],
         "line": {
          "color": "rgb(111, 231, 219)",
          "width": 0.5
         },
         "mode": "lines",
         "name": "持有股票价值",
         "stackgroup": "one",
         "type": "scatter",
         "x": [
          2023,
          2024,
          2025,
          2026,
          2027,
          2028,
          2029,
          2030,
          2031,
          2032,
          2033,
          2034,
          2035,
          2036,
          2037,
          2038,
          2039,
          2040,
          2041,
          2042,
          2043,
          2044,
          2045,
          2046,
          2047,
          2048,
          2049,
          2050,
          2051,
          2052,
          2053,
          2054,
          2055,
          2056,
          2057,
          2058,
          2059,
          2060,
          2061,
          2062
         ],
         "y": [
          1.3430863784617715,
          3.582946593622015,
          3.820778550165731,
          0,
          0.9022113677092619,
          0.8252468603756894,
          9.52873068046759,
          20.289465197184597,
          22.35904432902968,
          20.89337946222574,
          31.722777065409375,
          0,
          27.661120679201385,
          0,
          15.398057361221241,
          18.431877046465484,
          19.61834707994161,
          0,
          0.9173400808809712,
          0,
          19.542219521165567,
          17.59951154080918,
          23.365788678265965,
          18.545696832862184,
          0,
          64.04960777365615,
          0,
          26.311273847830865,
          31.013720905405652,
          0,
          43.249328129933545,
          39.867714655343214,
          49.34577151097094,
          0,
          4.734693667253964,
          4.488396434654695,
          82.53726012963426,
          109.6692540485102,
          118.71261030604083,
          155.17191842840904
         ]
        },
        {
         "hoverinfo": "text",
         "hovertext": [
          "持有黄金价值：0.4794万元",
          "持有黄金价值：2.6161万元",
          "持有黄金价值：3.3823万元",
          "持有黄金价值：3.7012万元",
          "持有黄金价值：0.0万元",
          "持有黄金价值：7.5112万元",
          "持有黄金价值：0.0万元",
          "持有黄金价值：11.9553万元",
          "持有黄金价值：0.0万元",
          "持有黄金价值：6.3708万元",
          "持有黄金价值：7.6309万元",
          "持有黄金价值：0.0万元",
          "持有黄金价值：18.784万元",
          "持有黄金价值：0.0万元",
          "持有黄金价值：10.0983万元",
          "持有黄金价值：10.5785万元",
          "持有黄金价值：10.8402万元",
          "持有黄金价值：0.0万元",
          "持有黄金价值：31.0353万元",
          "持有黄金价值：45.2593万元",
          "持有黄金价值：64.1205万元",
          "持有黄金价值：64.9259万元",
          "持有黄金价值：84.9621万元",
          "持有黄金价值：90.394万元",
          "持有黄金价值：0.0万元",
          "持有黄金价值：41.5094万元",
          "持有黄金价值：0.0万元",
          "持有黄金价值：43.14万元",
          "持有黄金价值：0.0万元",
          "持有黄金价值：10.8677万元",
          "持有黄金价值：11.9531万元",
          "持有黄金价值：0.0万元",
          "持有黄金价值：90.6779万元",
          "持有黄金价值：163.7985万元",
          "持有黄金价值：221.1986万元",
          "持有黄金价值：255.3541万元",
          "持有黄金价值：298.4557万元",
          "持有黄金价值：339.9383万元",
          "持有黄金价值：328.9155万元",
          "持有黄金价值：292.3371万元"
         ],
         "line": {
          "color": "rgb(127, 166, 238)",
          "width": 0.5
         },
         "mode": "lines",
         "name": "持有黄金价值",
         "stackgroup": "one",
         "type": "scatter",
         "x": [
          2023,
          2024,
          2025,
          2026,
          2027,
          2028,
          2029,
          2030,
          2031,
          2032,
          2033,
          2034,
          2035,
          2036,
          2037,
          2038,
          2039,
          2040,
          2041,
          2042,
          2043,
          2044,
          2045,
          2046,
          2047,
          2048,
          2049,
          2050,
          2051,
          2052,
          2053,
          2054,
          2055,
          2056,
          2057,
          2058,
          2059,
          2060,
          2061,
          2062
         ],
         "y": [
          0.47943274225429033,
          2.6160505628028,
          3.3823485842926972,
          3.70116962872863,
          0,
          7.511153344281162,
          0,
          11.955312374873586,
          0,
          6.370766162336904,
          7.630926734333329,
          0,
          18.783969052556117,
          0,
          10.09834074130376,
          10.578467005663542,
          10.840239279078238,
          0,
          31.03525535753218,
          45.25931609198145,
          64.12047635097007,
          64.92593363043547,
          84.96213039052276,
          90.39397924444583,
          0,
          41.509361418237106,
          0,
          43.13999875882942,
          0,
          10.86769403750313,
          11.953074816339972,
          0,
          90.67790593792468,
          163.79854408969078,
          221.1985582806471,
          255.3540565181266,
          298.4557156584258,
          339.93830634986966,
          328.91553273792283,
          292.3371480110822
         ]
        },
        {
         "hoverinfo": "text",
         "hovertext": [
          "房产价值：0.0万元",
          "房产价值：0.0万元",
          "房产价值：0.0万元",
          "房产价值：0.0万元",
          "房产价值：0.0万元",
          "房产价值：0.0万元",
          "房产价值：0.0万元",
          "房产价值：0.0万元",
          "房产价值：0.0万元",
          "房产价值：0.0万元",
          "房产价值：0.0万元",
          "房产价值：0.0万元",
          "房产价值：0.0万元",
          "房产价值：0.0万元",
          "房产价值：300.0万元",
          "房产价值：312.0万元",
          "房产价值：324.48万元",
          "房产价值：337.4592万元",
          "房产价值：350.9576万元",
          "房产价值：364.9959万元",
          "房产价值：379.5957万元",
          "房产价值：394.7795万元",
          "房产价值：410.5707万元",
          "房产价值：426.9935万元",
          "房产价值：444.0733万元",
          "房产价值：461.8362万元",
          "房产价值：480.3097万元",
          "房产价值：499.5221万元",
          "房产价值：519.5029万元",
          "房产价值：540.2831万元",
          "房产价值：561.8944万元",
          "房产价值：584.3701万元",
          "房产价值：607.745万元",
          "房产价值：632.0548万元",
          "房产价值：657.3369万元",
          "房产价值：683.6304万元",
          "房产价值：710.9756万元",
          "房产价值：739.4147万元",
          "房产价值：768.9912万元",
          "房产价值：799.7509万元"
         ],
         "line": {
          "color": "rgb(131, 90, 241)",
          "width": 0.5
         },
         "mode": "lines",
         "name": "房产价值",
         "stackgroup": "one",
         "type": "scatter",
         "x": [
          2023,
          2024,
          2025,
          2026,
          2027,
          2028,
          2029,
          2030,
          2031,
          2032,
          2033,
          2034,
          2035,
          2036,
          2037,
          2038,
          2039,
          2040,
          2041,
          2042,
          2043,
          2044,
          2045,
          2046,
          2047,
          2048,
          2049,
          2050,
          2051,
          2052,
          2053,
          2054,
          2055,
          2056,
          2057,
          2058,
          2059,
          2060,
          2061,
          2062
         ],
         "y": [
          0,
          0,
          0,
          0,
          0,
          0,
          0,
          0,
          0,
          0,
          0,
          0,
          0,
          0,
          300,
          312,
          324.48,
          337.4592,
          350.95756800000004,
          364.99587072,
          379.5957055488001,
          394.7795337707521,
          410.57071512158217,
          426.99354372644547,
          444.0732854755033,
          461.8362168945235,
          480.30966557030445,
          499.5220521931167,
          519.5029342808413,
          540.283051652075,
          561.894373718158,
          584.3701486668843,
          607.7449546135598,
          632.0547527981022,
          657.3369429100262,
          683.6304206264274,
          710.9756374514844,
          739.4146629495439,
          768.9912494675257,
          799.7508994462266
         ]
        },
        {
         "hoverinfo": "text",
         "hovertext": [
          "总资产价值：6.04万元",
          "总资产价值：11.93万元",
          "总资产价值：18.4356万元",
          "总资产价值：27.3784万元",
          "总资产价值：35.4731万元",
          "总资产价值：43.125万元",
          "总资产价值：52.9033万元",
          "总资产价值：59.8711万元",
          "总资产价值：71.9018万元",
          "总资产价值：74.715万元",
          "总资产价值：94.3361万元",
          "总资产价值：134.0157万元",
          "总资产价值：145.1601万元",
          "总资产价值：185.6221万元",
          "总资产价值：181.6566万元",
          "总资产价值：203.9848万元",
          "总资产价值：231.9364万元",
          "总资产价值：271.1735万元",
          "总资产价值：301.8202万元",
          "总资产价值：331.9119万元",
          "总资产价值：360.2575万元",
          "总资产价值：385.6218万元",
          "总资产价值：433.4255万元",
          "总资产价值：466.0372万元",
          "总资产价值：546.3628万元",
          "总资产价值：592.6076万元",
          "总资产价值：669.3312万元",
          "总资产价值：721.1052万元",
          "总资产价值：785.6258万元",
          "总资产价值：872.4825万元",
          "总资产价值：934.291万元",
          "总资产价值：995.7248万元",
          "总资产价值：1071.9344万元",
          "总资产价值：1155.7436万元",
          "总资产价值：1193.503万元",
          "总资产价值：1234.5164万元",
          "总资产价值：1312.4638万元",
          "总资产价值：1380.4877万元",
          "总资产价值：1373.855万元",
          "总资产价值：1370.8309万元"
         ],
         "line": {
          "color": "rgb(255, 165, 0)"
         },
         "mode": "lines",
         "name": "总资产",
         "type": "scatter",
         "x": [
          2023,
          2024,
          2025,
          2026,
          2027,
          2028,
          2029,
          2030,
          2031,
          2032,
          2033,
          2034,
          2035,
          2036,
          2037,
          2038,
          2039,
          2040,
          2041,
          2042,
          2043,
          2044,
          2045,
          2046,
          2047,
          2048,
          2049,
          2050,
          2051,
          2052,
          2053,
          2054,
          2055,
          2056,
          2057,
          2058,
          2059,
          2060,
          2061,
          2062
         ],
         "y": [
          6.039999999999999,
          11.929988928245173,
          18.435569950926247,
          27.378383597247264,
          35.47306825993956,
          43.124966708916524,
          52.90329771612656,
          59.8711157643731,
          71.90177313034019,
          74.71497268410914,
          94.3360794485501,
          134.01573469056177,
          145.16014237230675,
          185.6221329936152,
          181.65663553339925,
          203.98476584377582,
          231.93642098893014,
          271.17346408519734,
          301.82018650195874,
          331.91194299713754,
          360.25749505337143,
          385.621836975815,
          433.4255143794852,
          466.03716520279295,
          546.3628185443422,
          592.6076042582283,
          669.3311706646689,
          721.1052181668729,
          785.6257667733503,
          872.4824645251757,
          934.2909889646854,
          995.7248006670259,
          1071.9343804254784,
          1155.7436344213233,
          1193.5029759336542,
          1234.5164420837405,
          1312.4637655798674,
          1380.48768505648,
          1373.854970282931,
          1370.8309172613076
         ]
        }
       ],
       "layout": {
        "height": 600,
        "hovermode": "x unified",
        "legend": {
         "title": {
          "text": "类型"
         },
         "x": 0.1,
         "xanchor": "left",
         "y": 0.99,
         "yanchor": "top"
        },
        "plot_bgcolor": "white",
        "template": {
         "data": {
          "bar": [
           {
            "error_x": {
             "color": "#2a3f5f"
            },
            "error_y": {
             "color": "#2a3f5f"
            },
            "marker": {
             "line": {
              "color": "#E5ECF6",
              "width": 0.5
             },
             "pattern": {
              "fillmode": "overlay",
              "size": 10,
              "solidity": 0.2
             }
            },
            "type": "bar"
           }
          ],
          "barpolar": [
           {
            "marker": {
             "line": {
              "color": "#E5ECF6",
              "width": 0.5
             },
             "pattern": {
              "fillmode": "overlay",
              "size": 10,
              "solidity": 0.2
             }
            },
            "type": "barpolar"
           }
          ],
          "carpet": [
           {
            "aaxis": {
             "endlinecolor": "#2a3f5f",
             "gridcolor": "white",
             "linecolor": "white",
             "minorgridcolor": "white",
             "startlinecolor": "#2a3f5f"
            },
            "baxis": {
             "endlinecolor": "#2a3f5f",
             "gridcolor": "white",
             "linecolor": "white",
             "minorgridcolor": "white",
             "startlinecolor": "#2a3f5f"
            },
            "type": "carpet"
           }
          ],
          "choropleth": [
           {
            "colorbar": {
             "outlinewidth": 0,
             "ticks": ""
            },
            "type": "choropleth"
           }
          ],
          "contour": [
           {
            "colorbar": {
             "outlinewidth": 0,
             "ticks": ""
            },
            "colorscale": [
             [
              0,
              "#0d0887"
             ],
             [
              0.1111111111111111,
              "#46039f"
             ],
             [
              0.2222222222222222,
              "#7201a8"
             ],
             [
              0.3333333333333333,
              "#9c179e"
             ],
             [
              0.4444444444444444,
              "#bd3786"
             ],
             [
              0.5555555555555556,
              "#d8576b"
             ],
             [
              0.6666666666666666,
              "#ed7953"
             ],
             [
              0.7777777777777778,
              "#fb9f3a"
             ],
             [
              0.8888888888888888,
              "#fdca26"
             ],
             [
              1,
              "#f0f921"
             ]
            ],
            "type": "contour"
           }
          ],
          "contourcarpet": [
           {
            "colorbar": {
             "outlinewidth": 0,
             "ticks": ""
            },
            "type": "contourcarpet"
           }
          ],
          "heatmap": [
           {
            "colorbar": {
             "outlinewidth": 0,
             "ticks": ""
            },
            "colorscale": [
             [
              0,
              "#0d0887"
             ],
             [
              0.1111111111111111,
              "#46039f"
             ],
             [
              0.2222222222222222,
              "#7201a8"
             ],
             [
              0.3333333333333333,
              "#9c179e"
             ],
             [
              0.4444444444444444,
              "#bd3786"
             ],
             [
              0.5555555555555556,
              "#d8576b"
             ],
             [
              0.6666666666666666,
              "#ed7953"
             ],
             [
              0.7777777777777778,
              "#fb9f3a"
             ],
             [
              0.8888888888888888,
              "#fdca26"
             ],
             [
              1,
              "#f0f921"
             ]
            ],
            "type": "heatmap"
           }
          ],
          "heatmapgl": [
           {
            "colorbar": {
             "outlinewidth": 0,
             "ticks": ""
            },
            "colorscale": [
             [
              0,
              "#0d0887"
             ],
             [
              0.1111111111111111,
              "#46039f"
             ],
             [
              0.2222222222222222,
              "#7201a8"
             ],
             [
              0.3333333333333333,
              "#9c179e"
             ],
             [
              0.4444444444444444,
              "#bd3786"
             ],
             [
              0.5555555555555556,
              "#d8576b"
             ],
             [
              0.6666666666666666,
              "#ed7953"
             ],
             [
              0.7777777777777778,
              "#fb9f3a"
             ],
             [
              0.8888888888888888,
              "#fdca26"
             ],
             [
              1,
              "#f0f921"
             ]
            ],
            "type": "heatmapgl"
           }
          ],
          "histogram": [
           {
            "marker": {
             "pattern": {
              "fillmode": "overlay",
              "size": 10,
              "solidity": 0.2
             }
            },
            "type": "histogram"
           }
          ],
          "histogram2d": [
           {
            "colorbar": {
             "outlinewidth": 0,
             "ticks": ""
            },
            "colorscale": [
             [
              0,
              "#0d0887"
             ],
             [
              0.1111111111111111,
              "#46039f"
             ],
             [
              0.2222222222222222,
              "#7201a8"
             ],
             [
              0.3333333333333333,
              "#9c179e"
             ],
             [
              0.4444444444444444,
              "#bd3786"
             ],
             [
              0.5555555555555556,
              "#d8576b"
             ],
             [
              0.6666666666666666,
              "#ed7953"
             ],
             [
              0.7777777777777778,
              "#fb9f3a"
             ],
             [
              0.8888888888888888,
              "#fdca26"
             ],
             [
              1,
              "#f0f921"
             ]
            ],
            "type": "histogram2d"
           }
          ],
          "histogram2dcontour": [
           {
            "colorbar": {
             "outlinewidth": 0,
             "ticks": ""
            },
            "colorscale": [
             [
              0,
              "#0d0887"
             ],
             [
              0.1111111111111111,
              "#46039f"
             ],
             [
              0.2222222222222222,
              "#7201a8"
             ],
             [
              0.3333333333333333,
              "#9c179e"
             ],
             [
              0.4444444444444444,
              "#bd3786"
             ],
             [
              0.5555555555555556,
              "#d8576b"
             ],
             [
              0.6666666666666666,
              "#ed7953"
             ],
             [
              0.7777777777777778,
              "#fb9f3a"
             ],
             [
              0.8888888888888888,
              "#fdca26"
             ],
             [
              1,
              "#f0f921"
             ]
            ],
            "type": "histogram2dcontour"
           }
          ],
          "mesh3d": [
           {
            "colorbar": {
             "outlinewidth": 0,
             "ticks": ""
            },
            "type": "mesh3d"
           }
          ],
          "parcoords": [
           {
            "line": {
             "colorbar": {
              "outlinewidth": 0,
              "ticks": ""
             }
            },
            "type": "parcoords"
           }
          ],
          "pie": [
           {
            "automargin": true,
            "type": "pie"
           }
          ],
          "scatter": [
           {
            "fillpattern": {
             "fillmode": "overlay",
             "size": 10,
             "solidity": 0.2
            },
            "type": "scatter"
           }
          ],
          "scatter3d": [
           {
            "line": {
             "colorbar": {
              "outlinewidth": 0,
              "ticks": ""
             }
            },
            "marker": {
             "colorbar": {
              "outlinewidth": 0,
              "ticks": ""
             }
            },
            "type": "scatter3d"
           }
          ],
          "scattercarpet": [
           {
            "marker": {
             "colorbar": {
              "outlinewidth": 0,
              "ticks": ""
             }
            },
            "type": "scattercarpet"
           }
          ],
          "scattergeo": [
           {
            "marker": {
             "colorbar": {
              "outlinewidth": 0,
              "ticks": ""
             }
            },
            "type": "scattergeo"
           }
          ],
          "scattergl": [
           {
            "marker": {
             "colorbar": {
              "outlinewidth": 0,
              "ticks": ""
             }
            },
            "type": "scattergl"
           }
          ],
          "scattermapbox": [
           {
            "marker": {
             "colorbar": {
              "outlinewidth": 0,
              "ticks": ""
             }
            },
            "type": "scattermapbox"
           }
          ],
          "scatterpolar": [
           {
            "marker": {
             "colorbar": {
              "outlinewidth": 0,
              "ticks": ""
             }
            },
            "type": "scatterpolar"
           }
          ],
          "scatterpolargl": [
           {
            "marker": {
             "colorbar": {
              "outlinewidth": 0,
              "ticks": ""
             }
            },
            "type": "scatterpolargl"
           }
          ],
          "scatterternary": [
           {
            "marker": {
             "colorbar": {
              "outlinewidth": 0,
              "ticks": ""
             }
            },
            "type": "scatterternary"
           }
          ],
          "surface": [
           {
            "colorbar": {
             "outlinewidth": 0,
             "ticks": ""
            },
            "colorscale": [
             [
              0,
              "#0d0887"
             ],
             [
              0.1111111111111111,
              "#46039f"
             ],
             [
              0.2222222222222222,
              "#7201a8"
             ],
             [
              0.3333333333333333,
              "#9c179e"
             ],
             [
              0.4444444444444444,
              "#bd3786"
             ],
             [
              0.5555555555555556,
              "#d8576b"
             ],
             [
              0.6666666666666666,
              "#ed7953"
             ],
             [
              0.7777777777777778,
              "#fb9f3a"
             ],
             [
              0.8888888888888888,
              "#fdca26"
             ],
             [
              1,
              "#f0f921"
             ]
            ],
            "type": "surface"
           }
          ],
          "table": [
           {
            "cells": {
             "fill": {
              "color": "#EBF0F8"
             },
             "line": {
              "color": "white"
             }
            },
            "header": {
             "fill": {
              "color": "#C8D4E3"
             },
             "line": {
              "color": "white"
             }
            },
            "type": "table"
           }
          ]
         },
         "layout": {
          "annotationdefaults": {
           "arrowcolor": "#2a3f5f",
           "arrowhead": 0,
           "arrowwidth": 1
          },
          "autotypenumbers": "strict",
          "coloraxis": {
           "colorbar": {
            "outlinewidth": 0,
            "ticks": ""
           }
          },
          "colorscale": {
           "diverging": [
            [
             0,
             "#8e0152"
            ],
            [
             0.1,
             "#c51b7d"
            ],
            [
             0.2,
             "#de77ae"
            ],
            [
             0.3,
             "#f1b6da"
            ],
            [
             0.4,
             "#fde0ef"
            ],
            [
             0.5,
             "#f7f7f7"
            ],
            [
             0.6,
             "#e6f5d0"
            ],
            [
             0.7,
             "#b8e186"
            ],
            [
             0.8,
             "#7fbc41"
            ],
            [
             0.9,
             "#4d9221"
            ],
            [
             1,
             "#276419"
            ]
           ],
           "sequential": [
            [
             0,
             "#0d0887"
            ],
            [
             0.1111111111111111,
             "#46039f"
            ],
            [
             0.2222222222222222,
             "#7201a8"
            ],
            [
             0.3333333333333333,
             "#9c179e"
            ],
            [
             0.4444444444444444,
             "#bd3786"
            ],
            [
             0.5555555555555556,
             "#d8576b"
            ],
            [
             0.6666666666666666,
             "#ed7953"
            ],
            [
             0.7777777777777778,
             "#fb9f3a"
            ],
            [
             0.8888888888888888,
             "#fdca26"
            ],
            [
             1,
             "#f0f921"
            ]
           ],
           "sequentialminus": [
            [
             0,
             "#0d0887"
            ],
            [
             0.1111111111111111,
             "#46039f"
            ],
            [
             0.2222222222222222,
             "#7201a8"
            ],
            [
             0.3333333333333333,
             "#9c179e"
            ],
            [
             0.4444444444444444,
             "#bd3786"
            ],
            [
             0.5555555555555556,
             "#d8576b"
            ],
            [
             0.6666666666666666,
             "#ed7953"
            ],
            [
             0.7777777777777778,
             "#fb9f3a"
            ],
            [
             0.8888888888888888,
             "#fdca26"
            ],
            [
             1,
             "#f0f921"
            ]
           ]
          },
          "colorway": [
           "#636efa",
           "#EF553B",
           "#00cc96",
           "#ab63fa",
           "#FFA15A",
           "#19d3f3",
           "#FF6692",
           "#B6E880",
           "#FF97FF",
           "#FECB52"
          ],
          "font": {
           "color": "#2a3f5f"
          },
          "geo": {
           "bgcolor": "white",
           "lakecolor": "white",
           "landcolor": "#E5ECF6",
           "showlakes": true,
           "showland": true,
           "subunitcolor": "white"
          },
          "hoverlabel": {
           "align": "left"
          },
          "hovermode": "closest",
          "mapbox": {
           "style": "light"
          },
          "paper_bgcolor": "white",
          "plot_bgcolor": "#E5ECF6",
          "polar": {
           "angularaxis": {
            "gridcolor": "white",
            "linecolor": "white",
            "ticks": ""
           },
           "bgcolor": "#E5ECF6",
           "radialaxis": {
            "gridcolor": "white",
            "linecolor": "white",
            "ticks": ""
           }
          },
          "scene": {
           "xaxis": {
            "backgroundcolor": "#E5ECF6",
            "gridcolor": "white",
            "gridwidth": 2,
            "linecolor": "white",
            "showbackground": true,
            "ticks": "",
            "zerolinecolor": "white"
           },
           "yaxis": {
            "backgroundcolor": "#E5ECF6",
            "gridcolor": "white",
            "gridwidth": 2,
            "linecolor": "white",
            "showbackground": true,
            "ticks": "",
            "zerolinecolor": "white"
           },
           "zaxis": {
            "backgroundcolor": "#E5ECF6",
            "gridcolor": "white",
            "gridwidth": 2,
            "linecolor": "white",
            "showbackground": true,
            "ticks": "",
            "zerolinecolor": "white"
           }
          },
          "shapedefaults": {
           "line": {
            "color": "#2a3f5f"
           }
          },
          "ternary": {
           "aaxis": {
            "gridcolor": "white",
            "linecolor": "white",
            "ticks": ""
           },
           "baxis": {
            "gridcolor": "white",
            "linecolor": "white",
            "ticks": ""
           },
           "bgcolor": "#E5ECF6",
           "caxis": {
            "gridcolor": "white",
            "linecolor": "white",
            "ticks": ""
           }
          },
          "title": {
           "x": 0.05
          },
          "xaxis": {
           "automargin": true,
           "gridcolor": "white",
           "linecolor": "white",
           "ticks": "",
           "title": {
            "standoff": 15
           },
           "zerolinecolor": "white",
           "zerolinewidth": 2
          },
          "yaxis": {
           "automargin": true,
           "gridcolor": "white",
           "linecolor": "white",
           "ticks": "",
           "title": {
            "standoff": 15
           },
           "zerolinecolor": "white",
           "zerolinewidth": 2
          }
         }
        },
        "title": {
         "text": "各类资产价值"
        },
        "width": 1000,
        "xaxis": {
         "linecolor": "rgb(204, 204, 204)",
         "linewidth": 2,
         "showticklabels": true,
         "tickfont": {
          "color": "rgb(82, 82, 82)",
          "family": "Arial",
          "size": 12
         },
         "ticks": "outside",
         "title": {
          "text": "年份"
         }
        },
        "yaxis": {
         "linecolor": "rgb(82, 82, 82)",
         "side": "right",
         "tickfont": {
          "color": "rgb(82, 82, 82)",
          "family": "Arial",
          "size": 12
         },
         "title": {
          "text": "价值(万元)"
         },
         "zeroline": true,
         "zerolinecolor": "rgb(82, 82, 82)",
         "zerolinewidth": 1
        }
       }
      }
     },
     "metadata": {},
     "output_type": "display_data"
    }
   ],
   "source": [
    "x = df['year']\n",
    "fig = go.Figure()\n",
    "\n",
    "fig.add_trace(go.Scatter(\n",
    "    x=x, \n",
    "    y=-df['loan'],\n",
    "    name='贷款',\n",
    "    mode='lines',\n",
    "    line=dict(width=0.5, color='rgb(222, 90, 241)'),\n",
    "    hovertext=[f\"剩余贷款：{round(v, 4)}万元\" for v in df['loan'].to_list()],\n",
    "    hoverinfo='text',\n",
    "    fill='tozeroy'\n",
    "))\n",
    "\n",
    "fig.add_trace(go.Scatter(\n",
    "    x=x, \n",
    "    y=df['cash'],\n",
    "    name='现金',\n",
    "    mode='lines',\n",
    "    line=dict(width=0.5, color='rgb(184, 247, 212)'),\n",
    "    hovertext=[f\"持有现金：{round(v, 4)}万元\" for v in df['cash'].to_list()],\n",
    "    hoverinfo='text',\n",
    "    stackgroup='one'\n",
    "))\n",
    "\n",
    "fig.add_trace(go.Scatter(\n",
    "    x=x, \n",
    "    y=df['stock_price']*df['stock_hold'],\n",
    "    name='持有股票价值',\n",
    "    mode='lines',\n",
    "    line=dict(width=0.5, color='rgb(111, 231, 219)'),\n",
    "    hovertext=[f\"持有股票价值：{round(v, 4)}万元\" for v in (df['stock_price']*df['stock_hold']).to_list()],\n",
    "    hoverinfo='text',\n",
    "    stackgroup='one'\n",
    "))\n",
    "\n",
    "fig.add_trace(go.Scatter(\n",
    "    x=x, \n",
    "    y=df['gold_price']*df['gold_hold'],\n",
    "    name='持有黄金价值',\n",
    "    mode='lines',\n",
    "    line=dict(width=0.5, color='rgb(127, 166, 238)'),\n",
    "    hovertext=[f\"持有黄金价值：{round(v, 4)}万元\" for v in (df['gold_price']*df['gold_hold']).to_list()],\n",
    "    hoverinfo='text',\n",
    "    stackgroup='one'\n",
    "))\n",
    "\n",
    "fig.add_trace(go.Scatter(\n",
    "    x=x, \n",
    "    y=df['house_value'],\n",
    "    name='房产价值',\n",
    "    mode='lines',\n",
    "    line=dict(width=0.5, color='rgb(131, 90, 241)'),\n",
    "    hovertext=[f\"房产价值：{round(v, 4)}万元\" for v in df['house_value'].to_list()],\n",
    "    hoverinfo='text',\n",
    "    stackgroup='one'\n",
    "))\n",
    "\n",
    "fig.add_trace(go.Scatter(\n",
    "    x=x,\n",
    "    y=df['values'],\n",
    "    name='总资产',\n",
    "    hovertext=[f\"总资产价值：{round(v, 4)}万元\" for v in df['values'].to_list()],\n",
    "    line=dict(color='rgb(255, 165, 0)'),\n",
    "    hoverinfo='text',\n",
    "    mode='lines',\n",
    "))\n",
    "\n",
    "fig.update_layout(title='各类资产价值',\n",
    "                  plot_bgcolor='white',\n",
    "                  hovermode=\"x unified\", \n",
    "                  xaxis_title='年份', \n",
    "                  yaxis_title='价值(万元)', \n",
    "                  yaxis_side=\"right\",\n",
    "                  legend_title='类型',\n",
    "                  legend=dict(\n",
    "                      yanchor=\"top\",\n",
    "                      y=0.99,\n",
    "                      xanchor=\"left\",\n",
    "                      x=0.1\n",
    "                      ),\n",
    "                  xaxis=dict(\n",
    "                        showticklabels=True,\n",
    "                        linecolor='rgb(204, 204, 204)',\n",
    "                        linewidth=2,\n",
    "                        ticks='outside',\n",
    "                        tickfont=dict(\n",
    "                            family='Arial',\n",
    "                            size=12,\n",
    "                            color='rgb(82, 82, 82)',\n",
    "                        ),\n",
    "                    ),\n",
    "                    yaxis=dict(\n",
    "                        zeroline=True,\n",
    "                        zerolinewidth=1,\n",
    "                        zerolinecolor=\"rgb(82, 82, 82)\",\n",
    "                        linecolor='rgb(82, 82, 82)',\n",
    "                        tickfont=dict(\n",
    "                            family='Arial',\n",
    "                            size=12,\n",
    "                            color='rgb(82, 82, 82)',\n",
    "                            ),\n",
    "                        ),\n",
    "                  height=600,\n",
    "                  width=1000)\n",
    "fig.show()\n"
   ]
  },
  {
   "cell_type": "code",
   "execution_count": null,
   "metadata": {},
   "outputs": [],
   "source": []
  },
  {
   "cell_type": "code",
   "execution_count": 240,
   "metadata": {},
   "outputs": [],
   "source": [
    "def get_data(df, year):\n",
    "    row = df.loc[year]\n",
    "    data_dict = {}\n",
    "    if year == 2023:\n",
    "        data_dict['年初现金'] = 0\n",
    "    else:\n",
    "        data_dict['年初现金'] = df.loc[year-1, 'cash']\n",
    "    \n",
    "    data_dict['工资'] = row['salary']\n",
    "    data_dict['生活费'] = -row['living_expense']\n",
    "    if row['rent'] > 0:\n",
    "        data_dict['房租'] = -row['rent']\n",
    "    data_dict['其他费用'] = -row['other_expense']\n",
    "    if row['interest'] > 0:\n",
    "        data_dict['利息'] = row['interest']\n",
    "    if year == 2023:\n",
    "        data_dict['黄金交易'] = -row['gold_hold'] * row['gold_price']\n",
    "        data_dict['股票交易'] = -row['stock_hold'] * row['stock_price']\n",
    "    if row['buy_gold'] == 1 and year != 2023:\n",
    "        data_dict['黄金交易'] = -(row['gold_hold'] - df.loc[year-1,'gold_hold']) * row['gold_price']\n",
    "    elif row['buy_gold'] == 2:\n",
    "        data_dict['黄金交易'] = df.loc[year-1,'gold_hold'] * row['gold_price']\n",
    "    if row['buy_stock'] == 1 and year != 2023:\n",
    "        data_dict['股票交易'] = -(row['stock_hold'] - df.loc[year-1,'stock_hold']) * row['stock_price']\n",
    "    elif row['buy_stock'] == 2:\n",
    "        data_dict['股票交易'] = df.loc[year-1,'stock_hold'] * row['stock_price']\n",
    "    \n",
    "    if year == buy_house_time:\n",
    "        data_dict['买房首付'] = -100\n",
    "\n",
    "    if row['loan'] > 0:\n",
    "        data_dict['还贷款'] = -row['loan_interest'] - row['loan_capital']\n",
    "\n",
    "    data_dict['年末现金'] = row['cash']\n",
    "\n",
    "    x=list(data_dict.keys())\n",
    "    y=list(data_dict.values())\n",
    "    text=[str(round(i,4))+'万元' for i in y]\n",
    "    y[-1]=0\n",
    "    measure=['relative']*len(x)\n",
    "    measure[-1]='total'\n",
    "    measure[0]='absolute'\n",
    "    return x,y,text,measure"
   ]
  },
  {
   "cell_type": "code",
   "execution_count": 241,
   "metadata": {},
   "outputs": [
    {
     "data": {
      "text/html": [
       "\n",
       "        <iframe\n",
       "            width=\"100%\"\n",
       "            height=\"650\"\n",
       "            src=\"http://127.0.0.1:8050/\"\n",
       "            frameborder=\"0\"\n",
       "            allowfullscreen\n",
       "            \n",
       "        ></iframe>\n",
       "        "
      ],
      "text/plain": [
       "<IPython.lib.display.IFrame at 0x267490bb490>"
      ]
     },
     "metadata": {},
     "output_type": "display_data"
    }
   ],
   "source": [
    "from dash import Dash, html, dcc, callback, Output, Input\n",
    "\n",
    "app = Dash(__name__)\n",
    "\n",
    "app.layout = html.Div([\n",
    "    html.H1(children='我的钱都去哪了？', style={'textAlign':'center'}),\n",
    "    dcc.Dropdown(options=df['year'], value=str(2023), id='dropdown-selection'),\n",
    "    dcc.Graph(id='graph-content')\n",
    "])\n",
    "\n",
    "@callback(\n",
    "    Output('graph-content', 'figure'),\n",
    "    Input('dropdown-selection', 'value')\n",
    ")\n",
    "def update_graph(value):\n",
    "    year = int(value)\n",
    "    x,y,text,measure = get_data(df, year)\n",
    "    fig = go.Figure(go.Waterfall(\n",
    "        measure = measure,\n",
    "        x = x,\n",
    "        textposition = \"outside\",\n",
    "        text = text,\n",
    "        y = y\n",
    "    ))\n",
    "\n",
    "    fig.update_layout(\n",
    "            title = f\"{value}年\",\n",
    "            plot_bgcolor='white',\n",
    "            xaxis_title='类型',\n",
    "            yaxis_title='价值(万元)'\n",
    "            \n",
    "    )\n",
    "    fig.update_xaxes(showgrid=False)\n",
    "    fig.update_yaxes(gridcolor='rgb(204, 204, 204)',zerolinecolor=\"rgb(204, 204, 204)\")\n",
    "    return fig\n",
    "\n",
    "if __name__ == '__main__':\n",
    "    app.run(debug=True)\n"
   ]
  },
  {
   "cell_type": "code",
   "execution_count": null,
   "metadata": {},
   "outputs": [],
   "source": []
  },
  {
   "cell_type": "code",
   "execution_count": 242,
   "metadata": {},
   "outputs": [
    {
     "data": {
      "application/vnd.plotly.v1+json": {
       "config": {
        "plotlyServerURL": "https://plot.ly"
       },
       "data": [
        {
         "hovertemplate": "%{y:.4f}万元",
         "line": {
          "color": "rgb(127, 166, 238)",
          "width": 0.5
         },
         "mode": "lines",
         "name": "房贷本金部分",
         "stackgroup": "one",
         "type": "scatter",
         "x": [
          2037,
          2038,
          2039,
          2040,
          2041,
          2042,
          2043,
          2044,
          2045,
          2046,
          2047,
          2048,
          2049,
          2050,
          2051,
          2052,
          2053,
          2054,
          2055,
          2056,
          2057,
          2058,
          2059,
          2060,
          2061,
          2062
         ],
         "y": [
          6.666666666666667,
          6.666666666666667,
          6.666666666666667,
          6.666666666666667,
          6.666666666666667,
          6.666666666666667,
          6.666666666666667,
          6.666666666666667,
          6.666666666666667,
          6.666666666666667,
          6.666666666666667,
          6.666666666666667,
          6.666666666666667,
          6.666666666666667,
          6.666666666666667,
          6.666666666666667,
          6.666666666666667,
          6.666666666666667,
          6.666666666666667,
          6.666666666666667,
          6.666666666666667,
          6.666666666666667,
          6.666666666666667,
          6.666666666666667,
          6.666666666666667,
          6.666666666666667
         ]
        },
        {
         "hovertemplate": "%{y:.4f}万元",
         "line": {
          "color": "rgb(244, 16, 128)",
          "width": 0.5
         },
         "mode": "lines",
         "name": "房贷利息部分",
         "stackgroup": "one",
         "type": "scatter",
         "x": [
          2037,
          2038,
          2039,
          2040,
          2041,
          2042,
          2043,
          2044,
          2045,
          2046,
          2047,
          2048,
          2049,
          2050,
          2051,
          2052,
          2053,
          2054,
          2055,
          2056,
          2057,
          2058,
          2059,
          2060,
          2061,
          2062
         ],
         "y": [
          9.8,
          9.473333333333334,
          9.146666666666668,
          8.820000000000002,
          8.493333333333336,
          8.16666666666667,
          7.840000000000003,
          7.513333333333337,
          7.186666666666671,
          6.860000000000005,
          6.5333333333333385,
          6.206666666666671,
          5.880000000000004,
          5.553333333333337,
          5.226666666666671,
          4.900000000000004,
          4.573333333333337,
          4.24666666666667,
          3.920000000000003,
          3.593333333333336,
          3.2666666666666693,
          2.9400000000000026,
          2.613333333333336,
          2.2866666666666693,
          1.9600000000000029,
          1.6333333333333362
         ]
        }
       ],
       "layout": {
        "height": 500,
        "hovermode": "x unified",
        "legend": {
         "title": {
          "text": "费用类型"
         }
        },
        "plot_bgcolor": "white",
        "template": {
         "data": {
          "bar": [
           {
            "error_x": {
             "color": "#2a3f5f"
            },
            "error_y": {
             "color": "#2a3f5f"
            },
            "marker": {
             "line": {
              "color": "#E5ECF6",
              "width": 0.5
             },
             "pattern": {
              "fillmode": "overlay",
              "size": 10,
              "solidity": 0.2
             }
            },
            "type": "bar"
           }
          ],
          "barpolar": [
           {
            "marker": {
             "line": {
              "color": "#E5ECF6",
              "width": 0.5
             },
             "pattern": {
              "fillmode": "overlay",
              "size": 10,
              "solidity": 0.2
             }
            },
            "type": "barpolar"
           }
          ],
          "carpet": [
           {
            "aaxis": {
             "endlinecolor": "#2a3f5f",
             "gridcolor": "white",
             "linecolor": "white",
             "minorgridcolor": "white",
             "startlinecolor": "#2a3f5f"
            },
            "baxis": {
             "endlinecolor": "#2a3f5f",
             "gridcolor": "white",
             "linecolor": "white",
             "minorgridcolor": "white",
             "startlinecolor": "#2a3f5f"
            },
            "type": "carpet"
           }
          ],
          "choropleth": [
           {
            "colorbar": {
             "outlinewidth": 0,
             "ticks": ""
            },
            "type": "choropleth"
           }
          ],
          "contour": [
           {
            "colorbar": {
             "outlinewidth": 0,
             "ticks": ""
            },
            "colorscale": [
             [
              0,
              "#0d0887"
             ],
             [
              0.1111111111111111,
              "#46039f"
             ],
             [
              0.2222222222222222,
              "#7201a8"
             ],
             [
              0.3333333333333333,
              "#9c179e"
             ],
             [
              0.4444444444444444,
              "#bd3786"
             ],
             [
              0.5555555555555556,
              "#d8576b"
             ],
             [
              0.6666666666666666,
              "#ed7953"
             ],
             [
              0.7777777777777778,
              "#fb9f3a"
             ],
             [
              0.8888888888888888,
              "#fdca26"
             ],
             [
              1,
              "#f0f921"
             ]
            ],
            "type": "contour"
           }
          ],
          "contourcarpet": [
           {
            "colorbar": {
             "outlinewidth": 0,
             "ticks": ""
            },
            "type": "contourcarpet"
           }
          ],
          "heatmap": [
           {
            "colorbar": {
             "outlinewidth": 0,
             "ticks": ""
            },
            "colorscale": [
             [
              0,
              "#0d0887"
             ],
             [
              0.1111111111111111,
              "#46039f"
             ],
             [
              0.2222222222222222,
              "#7201a8"
             ],
             [
              0.3333333333333333,
              "#9c179e"
             ],
             [
              0.4444444444444444,
              "#bd3786"
             ],
             [
              0.5555555555555556,
              "#d8576b"
             ],
             [
              0.6666666666666666,
              "#ed7953"
             ],
             [
              0.7777777777777778,
              "#fb9f3a"
             ],
             [
              0.8888888888888888,
              "#fdca26"
             ],
             [
              1,
              "#f0f921"
             ]
            ],
            "type": "heatmap"
           }
          ],
          "heatmapgl": [
           {
            "colorbar": {
             "outlinewidth": 0,
             "ticks": ""
            },
            "colorscale": [
             [
              0,
              "#0d0887"
             ],
             [
              0.1111111111111111,
              "#46039f"
             ],
             [
              0.2222222222222222,
              "#7201a8"
             ],
             [
              0.3333333333333333,
              "#9c179e"
             ],
             [
              0.4444444444444444,
              "#bd3786"
             ],
             [
              0.5555555555555556,
              "#d8576b"
             ],
             [
              0.6666666666666666,
              "#ed7953"
             ],
             [
              0.7777777777777778,
              "#fb9f3a"
             ],
             [
              0.8888888888888888,
              "#fdca26"
             ],
             [
              1,
              "#f0f921"
             ]
            ],
            "type": "heatmapgl"
           }
          ],
          "histogram": [
           {
            "marker": {
             "pattern": {
              "fillmode": "overlay",
              "size": 10,
              "solidity": 0.2
             }
            },
            "type": "histogram"
           }
          ],
          "histogram2d": [
           {
            "colorbar": {
             "outlinewidth": 0,
             "ticks": ""
            },
            "colorscale": [
             [
              0,
              "#0d0887"
             ],
             [
              0.1111111111111111,
              "#46039f"
             ],
             [
              0.2222222222222222,
              "#7201a8"
             ],
             [
              0.3333333333333333,
              "#9c179e"
             ],
             [
              0.4444444444444444,
              "#bd3786"
             ],
             [
              0.5555555555555556,
              "#d8576b"
             ],
             [
              0.6666666666666666,
              "#ed7953"
             ],
             [
              0.7777777777777778,
              "#fb9f3a"
             ],
             [
              0.8888888888888888,
              "#fdca26"
             ],
             [
              1,
              "#f0f921"
             ]
            ],
            "type": "histogram2d"
           }
          ],
          "histogram2dcontour": [
           {
            "colorbar": {
             "outlinewidth": 0,
             "ticks": ""
            },
            "colorscale": [
             [
              0,
              "#0d0887"
             ],
             [
              0.1111111111111111,
              "#46039f"
             ],
             [
              0.2222222222222222,
              "#7201a8"
             ],
             [
              0.3333333333333333,
              "#9c179e"
             ],
             [
              0.4444444444444444,
              "#bd3786"
             ],
             [
              0.5555555555555556,
              "#d8576b"
             ],
             [
              0.6666666666666666,
              "#ed7953"
             ],
             [
              0.7777777777777778,
              "#fb9f3a"
             ],
             [
              0.8888888888888888,
              "#fdca26"
             ],
             [
              1,
              "#f0f921"
             ]
            ],
            "type": "histogram2dcontour"
           }
          ],
          "mesh3d": [
           {
            "colorbar": {
             "outlinewidth": 0,
             "ticks": ""
            },
            "type": "mesh3d"
           }
          ],
          "parcoords": [
           {
            "line": {
             "colorbar": {
              "outlinewidth": 0,
              "ticks": ""
             }
            },
            "type": "parcoords"
           }
          ],
          "pie": [
           {
            "automargin": true,
            "type": "pie"
           }
          ],
          "scatter": [
           {
            "fillpattern": {
             "fillmode": "overlay",
             "size": 10,
             "solidity": 0.2
            },
            "type": "scatter"
           }
          ],
          "scatter3d": [
           {
            "line": {
             "colorbar": {
              "outlinewidth": 0,
              "ticks": ""
             }
            },
            "marker": {
             "colorbar": {
              "outlinewidth": 0,
              "ticks": ""
             }
            },
            "type": "scatter3d"
           }
          ],
          "scattercarpet": [
           {
            "marker": {
             "colorbar": {
              "outlinewidth": 0,
              "ticks": ""
             }
            },
            "type": "scattercarpet"
           }
          ],
          "scattergeo": [
           {
            "marker": {
             "colorbar": {
              "outlinewidth": 0,
              "ticks": ""
             }
            },
            "type": "scattergeo"
           }
          ],
          "scattergl": [
           {
            "marker": {
             "colorbar": {
              "outlinewidth": 0,
              "ticks": ""
             }
            },
            "type": "scattergl"
           }
          ],
          "scattermapbox": [
           {
            "marker": {
             "colorbar": {
              "outlinewidth": 0,
              "ticks": ""
             }
            },
            "type": "scattermapbox"
           }
          ],
          "scatterpolar": [
           {
            "marker": {
             "colorbar": {
              "outlinewidth": 0,
              "ticks": ""
             }
            },
            "type": "scatterpolar"
           }
          ],
          "scatterpolargl": [
           {
            "marker": {
             "colorbar": {
              "outlinewidth": 0,
              "ticks": ""
             }
            },
            "type": "scatterpolargl"
           }
          ],
          "scatterternary": [
           {
            "marker": {
             "colorbar": {
              "outlinewidth": 0,
              "ticks": ""
             }
            },
            "type": "scatterternary"
           }
          ],
          "surface": [
           {
            "colorbar": {
             "outlinewidth": 0,
             "ticks": ""
            },
            "colorscale": [
             [
              0,
              "#0d0887"
             ],
             [
              0.1111111111111111,
              "#46039f"
             ],
             [
              0.2222222222222222,
              "#7201a8"
             ],
             [
              0.3333333333333333,
              "#9c179e"
             ],
             [
              0.4444444444444444,
              "#bd3786"
             ],
             [
              0.5555555555555556,
              "#d8576b"
             ],
             [
              0.6666666666666666,
              "#ed7953"
             ],
             [
              0.7777777777777778,
              "#fb9f3a"
             ],
             [
              0.8888888888888888,
              "#fdca26"
             ],
             [
              1,
              "#f0f921"
             ]
            ],
            "type": "surface"
           }
          ],
          "table": [
           {
            "cells": {
             "fill": {
              "color": "#EBF0F8"
             },
             "line": {
              "color": "white"
             }
            },
            "header": {
             "fill": {
              "color": "#C8D4E3"
             },
             "line": {
              "color": "white"
             }
            },
            "type": "table"
           }
          ]
         },
         "layout": {
          "annotationdefaults": {
           "arrowcolor": "#2a3f5f",
           "arrowhead": 0,
           "arrowwidth": 1
          },
          "autotypenumbers": "strict",
          "coloraxis": {
           "colorbar": {
            "outlinewidth": 0,
            "ticks": ""
           }
          },
          "colorscale": {
           "diverging": [
            [
             0,
             "#8e0152"
            ],
            [
             0.1,
             "#c51b7d"
            ],
            [
             0.2,
             "#de77ae"
            ],
            [
             0.3,
             "#f1b6da"
            ],
            [
             0.4,
             "#fde0ef"
            ],
            [
             0.5,
             "#f7f7f7"
            ],
            [
             0.6,
             "#e6f5d0"
            ],
            [
             0.7,
             "#b8e186"
            ],
            [
             0.8,
             "#7fbc41"
            ],
            [
             0.9,
             "#4d9221"
            ],
            [
             1,
             "#276419"
            ]
           ],
           "sequential": [
            [
             0,
             "#0d0887"
            ],
            [
             0.1111111111111111,
             "#46039f"
            ],
            [
             0.2222222222222222,
             "#7201a8"
            ],
            [
             0.3333333333333333,
             "#9c179e"
            ],
            [
             0.4444444444444444,
             "#bd3786"
            ],
            [
             0.5555555555555556,
             "#d8576b"
            ],
            [
             0.6666666666666666,
             "#ed7953"
            ],
            [
             0.7777777777777778,
             "#fb9f3a"
            ],
            [
             0.8888888888888888,
             "#fdca26"
            ],
            [
             1,
             "#f0f921"
            ]
           ],
           "sequentialminus": [
            [
             0,
             "#0d0887"
            ],
            [
             0.1111111111111111,
             "#46039f"
            ],
            [
             0.2222222222222222,
             "#7201a8"
            ],
            [
             0.3333333333333333,
             "#9c179e"
            ],
            [
             0.4444444444444444,
             "#bd3786"
            ],
            [
             0.5555555555555556,
             "#d8576b"
            ],
            [
             0.6666666666666666,
             "#ed7953"
            ],
            [
             0.7777777777777778,
             "#fb9f3a"
            ],
            [
             0.8888888888888888,
             "#fdca26"
            ],
            [
             1,
             "#f0f921"
            ]
           ]
          },
          "colorway": [
           "#636efa",
           "#EF553B",
           "#00cc96",
           "#ab63fa",
           "#FFA15A",
           "#19d3f3",
           "#FF6692",
           "#B6E880",
           "#FF97FF",
           "#FECB52"
          ],
          "font": {
           "color": "#2a3f5f"
          },
          "geo": {
           "bgcolor": "white",
           "lakecolor": "white",
           "landcolor": "#E5ECF6",
           "showlakes": true,
           "showland": true,
           "subunitcolor": "white"
          },
          "hoverlabel": {
           "align": "left"
          },
          "hovermode": "closest",
          "mapbox": {
           "style": "light"
          },
          "paper_bgcolor": "white",
          "plot_bgcolor": "#E5ECF6",
          "polar": {
           "angularaxis": {
            "gridcolor": "white",
            "linecolor": "white",
            "ticks": ""
           },
           "bgcolor": "#E5ECF6",
           "radialaxis": {
            "gridcolor": "white",
            "linecolor": "white",
            "ticks": ""
           }
          },
          "scene": {
           "xaxis": {
            "backgroundcolor": "#E5ECF6",
            "gridcolor": "white",
            "gridwidth": 2,
            "linecolor": "white",
            "showbackground": true,
            "ticks": "",
            "zerolinecolor": "white"
           },
           "yaxis": {
            "backgroundcolor": "#E5ECF6",
            "gridcolor": "white",
            "gridwidth": 2,
            "linecolor": "white",
            "showbackground": true,
            "ticks": "",
            "zerolinecolor": "white"
           },
           "zaxis": {
            "backgroundcolor": "#E5ECF6",
            "gridcolor": "white",
            "gridwidth": 2,
            "linecolor": "white",
            "showbackground": true,
            "ticks": "",
            "zerolinecolor": "white"
           }
          },
          "shapedefaults": {
           "line": {
            "color": "#2a3f5f"
           }
          },
          "ternary": {
           "aaxis": {
            "gridcolor": "white",
            "linecolor": "white",
            "ticks": ""
           },
           "baxis": {
            "gridcolor": "white",
            "linecolor": "white",
            "ticks": ""
           },
           "bgcolor": "#E5ECF6",
           "caxis": {
            "gridcolor": "white",
            "linecolor": "white",
            "ticks": ""
           }
          },
          "title": {
           "x": 0.05
          },
          "xaxis": {
           "automargin": true,
           "gridcolor": "white",
           "linecolor": "white",
           "ticks": "",
           "title": {
            "standoff": 15
           },
           "zerolinecolor": "white",
           "zerolinewidth": 2
          },
          "yaxis": {
           "automargin": true,
           "gridcolor": "white",
           "linecolor": "white",
           "ticks": "",
           "title": {
            "standoff": 15
           },
           "zerolinecolor": "white",
           "zerolinewidth": 2
          }
         }
        },
        "title": {
         "text": "我的房贷是如何还的？"
        },
        "width": 800,
        "xaxis": {
         "linecolor": "rgb(204, 204, 204)",
         "linewidth": 2,
         "showticklabels": true,
         "tickfont": {
          "color": "rgb(82, 82, 82)",
          "family": "Arial",
          "size": 12
         },
         "ticks": "outside",
         "title": {
          "text": "年份"
         }
        },
        "yaxis": {
         "linecolor": "rgb(82, 82, 82)",
         "tickfont": {
          "color": "rgb(82, 82, 82)",
          "family": "Arial",
          "size": 12
         },
         "title": {
          "text": "费用(万元)"
         }
        }
       }
      }
     },
     "metadata": {},
     "output_type": "display_data"
    }
   ],
   "source": [
    "fig = go.Figure()\n",
    "\n",
    "fig.add_trace(go.Scatter(\n",
    "    x=df[df['loan_capital'] != 0]['year'], \n",
    "    y=df[df['loan_capital'] != 0]['loan_capital'],\n",
    "    name='房贷本金部分',\n",
    "    mode='lines',\n",
    "    line=dict(width=0.5, color='rgb(127, 166, 238)'),\n",
    "    hovertemplate='%{y:.4f}万元',\n",
    "    stackgroup='one'\n",
    "))\n",
    "\n",
    "fig.add_trace(go.Scatter(\n",
    "    x=df[df['loan_interest'] != 0]['year'], \n",
    "    y=df[df['loan_interest'] != 0]['loan_interest'],\n",
    "    name='房贷利息部分',\n",
    "    mode='lines',\n",
    "    line=dict(width=0.5, color='rgb(244, 16, 128)'),\n",
    "    hovertemplate='%{y:.4f}万元',\n",
    "    stackgroup='one'\n",
    "))\n",
    "\n",
    "fig.update_layout(title='我的房贷是如何还的？', \n",
    "                  xaxis_title='年份', \n",
    "                  yaxis_title='费用(万元)', \n",
    "                  hovermode='x unified',\n",
    "                  plot_bgcolor='white',\n",
    "                  legend_title='费用类型',\n",
    "                  xaxis=dict(\n",
    "                        showticklabels=True,\n",
    "                        linecolor='rgb(204, 204, 204)',\n",
    "                        linewidth=2,\n",
    "                        ticks='outside',\n",
    "                        tickfont=dict(\n",
    "                            family='Arial',\n",
    "                            size=12,\n",
    "                            color='rgb(82, 82, 82)',\n",
    "                        ),\n",
    "                    ),\n",
    "                    yaxis=dict(\n",
    "                        linecolor='rgb(82, 82, 82)',\n",
    "                        tickfont=dict(\n",
    "                            family='Arial',\n",
    "                            size=12,\n",
    "                            color='rgb(82, 82, 82)',\n",
    "                            ),\n",
    "                        ),\n",
    "                  height=500,\n",
    "                  width=800)\n",
    "\n",
    "fig.show()"
   ]
  }
 ],
 "metadata": {
  "kernelspec": {
   "display_name": "py39",
   "language": "python",
   "name": "python3"
  },
  "language_info": {
   "codemirror_mode": {
    "name": "ipython",
    "version": 3
   },
   "file_extension": ".py",
   "mimetype": "text/x-python",
   "name": "python",
   "nbconvert_exporter": "python",
   "pygments_lexer": "ipython3",
   "version": "3.9.16"
  }
 },
 "nbformat": 4,
 "nbformat_minor": 2
}
